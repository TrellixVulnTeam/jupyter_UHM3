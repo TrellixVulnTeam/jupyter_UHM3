{
 "cells": [
  {
   "cell_type": "code",
   "execution_count": 1,
   "metadata": {
    "collapsed": false,
    "deletable": true,
    "editable": true
   },
   "outputs": [],
   "source": [
    "import MeCab\n",
    "import itertools\n",
    "import pprint"
   ]
  },
  {
   "cell_type": "code",
   "execution_count": 2,
   "metadata": {
    "collapsed": false,
    "deletable": true,
    "editable": true
   },
   "outputs": [],
   "source": [
    "class wordvec_lib:\n",
    "    \n",
    "    def _word_attrs(self, txt):\n",
    "        m = MeCab.Tagger(\"mecab-ipadic-neologd\")\n",
    "        line = m.parse(txt).split('\\n')[:-2]\n",
    "        return [l.split('\\t')[1].split(',') for l in line]\n",
    "\n",
    "    def _filter_words(self, word_attrs):\n",
    "        # filter noun and verb\n",
    "        w = word_attrs\n",
    "        w = [m for m in w if m[0] in ['名詞', '動詞']]\n",
    "        return w\n",
    "\n",
    "    def _attr_to_word_vec(self, attrs):\n",
    "        count = len(attrs)\n",
    "        words = [a[6] for a in attrs]\n",
    "        return {g[0] : len(list(g[1]))/count for g in itertools.groupby(sorted(words))}\n",
    "\n",
    "    def get_word_vec(self, txt):\n",
    "        attrs = self._word_attrs(txt)\n",
    "        attrs = self._filter_words(attrs)\n",
    "        return self._attr_to_word_vec(attrs)\n",
    "    \n",
    "    def dot_product(self, v1, v2):\n",
    "        return sum(v1[key]*v2.get(key, 0) for key in v1)"
   ]
  },
  {
   "cell_type": "code",
   "execution_count": 3,
   "metadata": {
    "collapsed": false,
    "deletable": true,
    "editable": true
   },
   "outputs": [],
   "source": [
    "class qa:\n",
    "    \n",
    "    w = wordvec_lib()\n",
    "    \n",
    "    def set_standard_qa(self, qa_list):\n",
    "        self.qa_list = qa_list\n",
    "        self.vec_db = [self.w.get_word_vec(q[0]) for q in qa_list]\n",
    "        pp = pprint.PrettyPrinter(indent=4)\n",
    "        print('=== word count vector ===')\n",
    "        pp.pprint(self.vec_db)\n",
    "\n",
    "    def q(self, q_txt):\n",
    "        self.w = wordvec_lib()\n",
    "        vec_q = self.w.get_word_vec(q_txt)\n",
    "        inner_prods = [self.w.dot_product(v, vec_q) for v in self.vec_db]\n",
    "        max_idx = inner_prods.index(max(inner_prods))\n",
    "        return self.qa_list[max_idx][1]"
   ]
  },
  {
   "cell_type": "code",
   "execution_count": 4,
   "metadata": {
    "collapsed": false
   },
   "outputs": [
    {
     "name": "stdout",
     "output_type": "stream",
     "text": [
      "=== word count vector ===\n",
      "[   {   'つけ': 0.3333333333333333,\n",
      "        '方': 0.3333333333333333,\n",
      "        '照明': 0.3333333333333333},\n",
      "    {   'つけ': 0.3333333333333333,\n",
      "        'エアコン': 0.3333333333333333,\n",
      "        '方': 0.3333333333333333},\n",
      "    {'エアコン': 0.25, '上げ': 0.25, '方': 0.25, '温度': 0.25},\n",
      "    {   'つけ': 0.3333333333333333,\n",
      "        'テレビ': 0.3333333333333333,\n",
      "        '方': 0.3333333333333333}]\n"
     ]
    }
   ],
   "source": [
    "qa_txt = [('照明のつけ方は？',          '照明をつけるにはボタン１を押します'),\n",
    "          ('エアコンのつけ方は？',      'エアコンをつけるにはボタン２を押します'),\n",
    "          ('エアコンの温度の上げ方は？', 'エアコンの温度を上げるにはボタン４を押します'),\n",
    "          ('テレビのつけ方は？',        'テレビをつけるにはボタン３を押します')]\n",
    "qa_elec = qa()\n",
    "qa_elec.set_standard_qa(qa_txt)"
   ]
  },
  {
   "cell_type": "code",
   "execution_count": 5,
   "metadata": {
    "collapsed": false
   },
   "outputs": [
    {
     "data": {
      "text/plain": [
       "'エアコンの温度を上げるにはボタン４を押します'"
      ]
     },
     "execution_count": 5,
     "metadata": {},
     "output_type": "execute_result"
    }
   ],
   "source": [
    "qa_elec.q('エアコンの温度設定はどうやるの？')"
   ]
  },
  {
   "cell_type": "code",
   "execution_count": 6,
   "metadata": {
    "collapsed": false
   },
   "outputs": [
    {
     "data": {
      "text/plain": [
       "'エアコンをつけるにはボタン２を押します'"
      ]
     },
     "execution_count": 6,
     "metadata": {},
     "output_type": "execute_result"
    }
   ],
   "source": [
    "qa_elec.q('エアコンをつけたいんだけど')"
   ]
  },
  {
   "cell_type": "code",
   "execution_count": 7,
   "metadata": {
    "collapsed": false
   },
   "outputs": [
    {
     "data": {
      "text/plain": [
       "'テレビをつけるにはボタン３を押します'"
      ]
     },
     "execution_count": 7,
     "metadata": {},
     "output_type": "execute_result"
    }
   ],
   "source": [
    "qa_elec.q('テレビをつけるには？')"
   ]
  },
  {
   "cell_type": "code",
   "execution_count": 8,
   "metadata": {
    "collapsed": false
   },
   "outputs": [
    {
     "data": {
      "text/plain": [
       "'照明をつけるにはボタン１を押します'"
      ]
     },
     "execution_count": 8,
     "metadata": {},
     "output_type": "execute_result"
    }
   ],
   "source": [
    "qa_elec.q('どうやって照明をつけるの？')"
   ]
  }
 ],
 "metadata": {
  "kernelspec": {
   "display_name": "Python 3",
   "language": "python",
   "name": "python3"
  },
  "language_info": {
   "codemirror_mode": {
    "name": "ipython",
    "version": 3
   },
   "file_extension": ".py",
   "mimetype": "text/x-python",
   "name": "python",
   "nbconvert_exporter": "python",
   "pygments_lexer": "ipython3",
   "version": "3.5.2"
  }
 },
 "nbformat": 4,
 "nbformat_minor": 2
}
