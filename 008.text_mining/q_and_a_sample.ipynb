{
 "cells": [
  {
   "cell_type": "code",
   "execution_count": 50,
   "metadata": {
    "collapsed": false,
    "deletable": true,
    "editable": true
   },
   "outputs": [],
   "source": [
    "import MeCab\n",
    "import itertools\n",
    "import pprint\n",
    "import math"
   ]
  },
  {
   "cell_type": "code",
   "execution_count": 51,
   "metadata": {
    "collapsed": false,
    "deletable": true,
    "editable": true
   },
   "outputs": [
    {
     "data": {
      "text/plain": [
       "[['アプリ', '名詞,一般,*,*,*,*,*'],\n",
       " ['登録', '名詞,サ変接続,*,*,*,*,登録,トウロク,トーロク'],\n",
       " ['し', '動詞,自立,*,*,サ変・スル,連用形,する,シ,シ'],\n",
       " ['て', '助詞,接続助詞,*,*,*,*,て,テ,テ'],\n",
       " ['も', '助詞,係助詞,*,*,*,*,も,モ,モ'],\n",
       " ['電気', '名詞,一般,*,*,*,*,電気,デンキ,デンキ'],\n",
       " ['使用', '名詞,サ変接続,*,*,*,*,使用,シヨウ,シヨー'],\n",
       " ['量', '名詞,接尾,一般,*,*,*,量,リョウ,リョウ'],\n",
       " ['が', '助詞,格助詞,一般,*,*,*,が,ガ,ガ'],\n",
       " ['「', '記号,括弧開,*,*,*,*,「,「,「'],\n",
       " ['-」', '名詞,サ変接続,*,*,*,*,*'],\n",
       " ['と', '助詞,格助詞,一般,*,*,*,と,ト,ト'],\n",
       " ['なっ', '動詞,自立,*,*,五段・ラ行,連用タ接続,なる,ナッ,ナッ'],\n",
       " ['て', '助詞,接続助詞,*,*,*,*,て,テ,テ'],\n",
       " ['い', '動詞,非自立,*,*,一段,連用形,いる,イ,イ'],\n",
       " ['て', '助詞,接続助詞,*,*,*,*,て,テ,テ'],\n",
       " ['、', '記号,読点,*,*,*,*,、,、,、'],\n",
       " ['計測', '名詞,サ変接続,*,*,*,*,計測,ケイソク,ケイソク'],\n",
       " ['値', '名詞,接尾,一般,*,*,*,値,チ,チ'],\n",
       " ['が', '助詞,格助詞,一般,*,*,*,が,ガ,ガ'],\n",
       " ['見れ', '動詞,自立,*,*,一段,連用形,見れる,ミレ,ミレ'],\n",
       " ['ませ', '助動詞,*,*,*,特殊・マス,未然形,ます,マセ,マセ'],\n",
       " ['ん', '助動詞,*,*,*,不変化型,基本形,ん,ン,ン'],\n",
       " ['。', '記号,句点,*,*,*,*,。,。,。'],\n",
       " ['EOS'],\n",
       " ['']]"
      ]
     },
     "execution_count": 51,
     "metadata": {},
     "output_type": "execute_result"
    }
   ],
   "source": [
    "m = MeCab.Tagger(\"mecab-ipadic-neologd\")\n",
    "line = m.parse(\"アプリ登録しても電気使用量が「-」となっていて、計測値が見れません。\")\n",
    "line= line.split('\\n')\n",
    "[l.split('\\t') for l in line]"
   ]
  },
  {
   "cell_type": "code",
   "execution_count": 65,
   "metadata": {
    "collapsed": false,
    "deletable": true,
    "editable": true
   },
   "outputs": [],
   "source": [
    "class wordvec_lib:\n",
    "    \n",
    "    def _word_attrs(self, txt):\n",
    "        m = MeCab.Tagger(\"mecab-ipadic-neologd\")\n",
    "        line = m.parse(txt).split('\\n')[:-2]\n",
    "        return [l.split('\\t')[1].split(',') for l in line]\n",
    "\n",
    "    def _filter_words(self, word_attrs):\n",
    "        # filter noun and verb\n",
    "        w = word_attrs\n",
    "        w = [m for m in w if m[0] in ['名詞', '動詞']]\n",
    "        return w\n",
    "\n",
    "    def _attr_to_word_vec(self, attrs):\n",
    "        words = [a[6] for a in attrs]\n",
    "        return {g[0] : len(list(g[1])) for g in itertools.groupby(sorted(words))}\n",
    "\n",
    "    def get_word_vec(self, txt):\n",
    "        attrs = self._word_attrs(txt)\n",
    "        attrs = self._filter_words(attrs)\n",
    "        return self._attr_to_word_vec(attrs)\n",
    "    \n",
    "    def vec_normalize(self, v):\n",
    "        veclen = math.sqrt(sum([v*v for (k, v) in v.items()]))\n",
    "        return {k: v/veclen for (k, v) in v.items()}\n",
    "    \n",
    "    def dot_product(self, v1, v2):\n",
    "        return sum(v1[key]*v2.get(key, 0) for key in v1)\n",
    "    \n",
    "    def cosine_similarity(self, v1, v2):\n",
    "        v1, v2 = self.vec_normalize(v1), self.vec_normalize(v2)\n",
    "        return self.dot_product(v1, v2)\n",
    "    \n",
    "    def manhattan_distance(self, v1, v2):\n",
    "        return sum"
   ]
  },
  {
   "cell_type": "code",
   "execution_count": 64,
   "metadata": {
    "collapsed": false
   },
   "outputs": [
    {
     "data": {
      "text/plain": [
       "{'向かう': 0.8164965809277261, '私': 0.4082482904638631, '駅': 0.4082482904638631}"
      ]
     },
     "execution_count": 64,
     "metadata": {},
     "output_type": "execute_result"
    }
   ],
   "source": [
    "w = wordvec_lib()\n",
    "vec_q = w.get_word_vec('私は駅に向かって向かいます')\n",
    "w.vec_normalize(vec_q)"
   ]
  },
  {
   "cell_type": "code",
   "execution_count": 62,
   "metadata": {
    "collapsed": false
   },
   "outputs": [
    {
     "data": {
      "text/plain": [
       "{'fefe': 1.5, 'hoge': 1.0}"
      ]
     },
     "execution_count": 62,
     "metadata": {},
     "output_type": "execute_result"
    }
   ],
   "source": [
    "a = {'hoge': 2, 'fefe': 3}\n",
    "{k: v/2.0 for (k, v) in a.items()}"
   ]
  },
  {
   "cell_type": "code",
   "execution_count": 66,
   "metadata": {
    "collapsed": false,
    "deletable": true,
    "editable": true
   },
   "outputs": [],
   "source": [
    "class qa:\n",
    "    \n",
    "    w = wordvec_lib()\n",
    "    \n",
    "    def set_standard_qa(self, qa_list):\n",
    "        self.qa_list = qa_list\n",
    "        self.vec_db = [self.w.get_word_vec(q[0]) for q in qa_list]\n",
    "        pp = pprint.PrettyPrinter(indent=4)\n",
    "        print('=== word count vector ===')\n",
    "        pp.pprint(self.vec_db)\n",
    "\n",
    "    def q(self, q_txt):\n",
    "        self.w = wordvec_lib()\n",
    "        vec_q = self.w.get_word_vec(q_txt)\n",
    "        inner_prods = [self.w.cosine_similarity(v, vec_q) for v in self.vec_db]\n",
    "        max_idx = inner_prods.index(max(inner_prods))\n",
    "        return self.qa_list[max_idx][1]"
   ]
  },
  {
   "cell_type": "markdown",
   "metadata": {},
   "source": [
    "FAQ情報ソース: \n",
    "<a href=\"http://sumai.panasonic.jp/hems/shs/handbook169/faq.html\">スマートHEMS よくあるご質問</a>"
   ]
  },
  {
   "cell_type": "code",
   "execution_count": 67,
   "metadata": {
    "collapsed": false,
    "deletable": true,
    "editable": true
   },
   "outputs": [
    {
     "name": "stdout",
     "output_type": "stream",
     "text": [
      "=== word count vector ===\n",
      "[   {   '*': 2,\n",
      "        'いる': 1,\n",
      "        'する': 1,\n",
      "        'なる': 1,\n",
      "        '使用': 1,\n",
      "        '値': 1,\n",
      "        '登録': 1,\n",
      "        '見れる': 1,\n",
      "        '計測': 1,\n",
      "        '量': 1,\n",
      "        '電気': 1},\n",
      "    {'*': 1, 'できる': 1, '何': 1, '化': 1, '見える': 1},\n",
      "    {   'くださる': 1,\n",
      "        'する': 1,\n",
      "        'れる': 1,\n",
      "        'サービス': 1,\n",
      "        'プッシュ': 1,\n",
      "        '内容': 1,\n",
      "        '教える': 1,\n",
      "        '通知': 1},\n",
      "    {'タイム': 1, 'ライン': 1, '件': 1, '何': 1, '履歴': 1, '残る': 1},\n",
      "    {   'こと': 1,\n",
      "        'さかのぼる': 1,\n",
      "        'する': 1,\n",
      "        'できる': 1,\n",
      "        '何': 1,\n",
      "        '分': 1,\n",
      "        '別': 1,\n",
      "        '回路': 1,\n",
      "        '料金': 1,\n",
      "        '日': 1,\n",
      "        '確認': 1,\n",
      "        '電気': 1},\n",
      "    {   'ある': 1,\n",
      "        'する': 1,\n",
      "        'アドバイス': 1,\n",
      "        'メッセージ': 1,\n",
      "        '何': 1,\n",
      "        '省エネ': 1,\n",
      "        '種類': 1,\n",
      "        '配信': 1},\n",
      "    {'ラ': 1},\n",
      "    {'*': 1},\n",
      "    {'本': 1},\n",
      "    {'電': 1},\n",
      "    {'本': 1},\n",
      "    {'*': 1},\n",
      "    {'太': 1},\n",
      "    {'全': 1},\n",
      "    {'本': 1},\n",
      "    {'瞬': 1},\n",
      "    {'本': 1},\n",
      "    {'対': 1},\n",
      "    {'使': 1},\n",
      "    {'次': 1},\n",
      "    {'*': 1},\n",
      "    {'*': 1},\n",
      "    {'本': 1},\n",
      "    {'本': 1},\n",
      "    {'*': 1},\n",
      "    {'通': 1},\n",
      "    {'*': 1},\n",
      "    {'単': 1},\n",
      "    {},\n",
      "    {},\n",
      "    {'本': 1},\n",
      "    {'*': 1},\n",
      "    {'つけ': 1, 'エアコン': 1, '方': 1},\n",
      "    {'エアコン': 1, '上げ': 1, '方': 1, '温度': 1},\n",
      "    {'つけ': 1, 'テレビ': 1, '方': 1}]\n"
     ]
    }
   ],
   "source": [
    "qa_txt = [('アプリ登録しても電気使用量が「-」となっていて、計測値が見れません。', '計測値の取得はアプリ登録後最大30分かかります。'),\n",
    "          ('本アプリで何が見える化できますか？', '代表的なものとして、電気使用量、電気料金、太陽光やエネファーム発電量・電力収支(発電設備導入家庭のみ)、CO2排出量などが見える化できます。'),\n",
    "          ('プッシュ通知されるサービス内容を教えてください。', '家全体の電気の使いすぎのお知らせ、季節に合わせた省エネアドバイス、目標設定チャレンジ、洗濯機の運転終了情報、エアコンの長時間運転情報、AiSEGのシステムエラー・アップデート、アプリのアップデートなどのご連絡を行います。'),\n",
    "          ('タイムラインに残る履歴は何件くらいですか？', '約200件です。'),\n",
    "          ('回路別電気料金は何日分さかのぼって確認することができますか？', '昨日と今日の2日分です。'),\n",
    "          ('省エネアドバイスで配信するメッセージは何種類ありますか？', '2016年6月現在、下記の2種類を予定しています。 •家電の使い方に関する節電アイデア•家電に限定せず暮らし全般に関する節電アイデア'),\n",
    "          ('ランキング比較対象の世帯はどの様に決めるのですか？'),('AiSEGのサーバーサービス（無料）に登録している世帯で、本アプリの利用者を対象にしています。またオール電化／ガス使用の家庭別に分けております。今後は、世帯別・地域別も検討いたします。'),\n",
    "          ('本アプリで電気使用量などのデータはどの位の期間確認できますか？'),('電気使用量に関する閲覧できるデータは下記の通りです。1日ごとで表示した場合：先々月、先月、今月の本日まで　1時間ごとで表示した場合：6日前から本日まで'),\n",
    "          ('本アプリで表示される金額は、どのように計算された値ですか？'),('AiSEG本体に登録した料金単価を利用時間帯に応じて計算した値です。'),\n",
    "          ('太陽光の全量買取の時の発電表示はできますか？'),('全量買取時の発電量は表示できません。'),\n",
    "          ('本アプリで見れる計測データは、リアルタイムの値ですか？'),('瞬時値ではございません。計測されたデータは30分ごとにAiSEGからインターネット経由でセンターサーバーにアップロードされます。ですので30分ごとに更新された値が本アプリで確認できます。'),\n",
    "          ('本アプリの料金表示は、電力会社の料金プランに合わせ自動的に更新されますか？'),('対応しておりません。'),\n",
    "          ('使いすぎチェックの色区分はどのような基準になっていますか？'),('次の通りです。青……省エネ状態(過去平均と比較して80％未満)黄……注意(80-100％未満) 赤……使いすぎ(100％以上)'),\n",
    "          ('CO2排出量は何を元に算出されていますか？'),('CO2排出の基準値はパナソニックで定めた基準値です。（0.430kgCO2/kWh）'),\n",
    "          ('本アプリで表示される金額は電力会社の請求額と同じですか？'),('本アプリに表示される電気使用量や電気料金は目安です。電力事業者から請求される電気料金とは異なります。'),\n",
    "          ('アプリから通知が届かないのですが。'),('通知が届かない場合は以下の3つをご確認ください。お手持ちのスマートフォンが通信できる状態にしてください。 お手持ちのスマートフォンの設定で本アプリの通知をONにしてください。アプリのメニューにある通知設定から、必要な機能の通知をONにしてください。'),\n",
    "          ('AiSEG本体で単価を変更してもアプリの電気料金、単価が変更されません。'),('単価の変更はアプリに反映するまでに最長2日かかります。'),\n",
    "          ('「おうちの電気使用情報が取得できていません」という通知について'),('「おうちの電気使用情報が取得できていません」のメッセージは、AiSEGとサーバが通信できなくなった場合に通知されます。'),\n",
    "          ('本アプリの動作中にエラーが表示されましたが、どうすればいいですか？'),('以下をご確認ください。通信経路上の遅延等で、一時的なエラーが発生することがあります。再度操作をしてください。■スマートHEMSに関するお問い合わせ〔住宅エネルギーマネージメントシステム　ご相談窓口〕フリーダイヤル　0120-081-701〔受付時間〕365日／9:00～20:00※携帯電話・PHSからもご利用になれます。●上記番号がご利用できない場合　06-6780-2099'),\n",
    "          ('エアコンのつけ方は？',      'エアコンをつけるにはボタン２を押します'),\n",
    "          ('エアコンの温度の上げ方は？', 'エアコンの温度を上げるにはボタン４を押します'),\n",
    "          ('テレビのつけ方は？',        'テレビをつけるにはボタン３を押します')]\n",
    "qa_elec = qa()\n",
    "qa_elec.set_standard_qa(qa_txt)"
   ]
  },
  {
   "cell_type": "code",
   "execution_count": 68,
   "metadata": {
    "collapsed": false,
    "deletable": true,
    "editable": true
   },
   "outputs": [
    {
     "data": {
      "text/plain": [
       "'エアコンの温度を上げるにはボタン４を押します'"
      ]
     },
     "execution_count": 68,
     "metadata": {},
     "output_type": "execute_result"
    }
   ],
   "source": [
    "qa_elec.q('エアコンの温度設定はどうやるの？')"
   ]
  },
  {
   "cell_type": "code",
   "execution_count": 69,
   "metadata": {
    "collapsed": false,
    "deletable": true,
    "editable": true
   },
   "outputs": [
    {
     "data": {
      "text/plain": [
       "'エアコンの温度を上げるにはボタン４を押します'"
      ]
     },
     "execution_count": 69,
     "metadata": {},
     "output_type": "execute_result"
    }
   ],
   "source": [
    "qa_elec.q('エアコンの温度設定はどうやるの？')"
   ]
  },
  {
   "cell_type": "code",
   "execution_count": 70,
   "metadata": {
    "collapsed": false,
    "deletable": true,
    "editable": true,
    "scrolled": true
   },
   "outputs": [
    {
     "data": {
      "text/plain": [
       "'エアコンをつけるにはボタン２を押します'"
      ]
     },
     "execution_count": 70,
     "metadata": {},
     "output_type": "execute_result"
    }
   ],
   "source": [
    "qa_elec.q('エアコンをつけたいんだけど')"
   ]
  },
  {
   "cell_type": "code",
   "execution_count": 71,
   "metadata": {
    "collapsed": false,
    "deletable": true,
    "editable": true
   },
   "outputs": [
    {
     "data": {
      "text/plain": [
       "'エアコンをつけるにはボタン２を押します'"
      ]
     },
     "execution_count": 71,
     "metadata": {},
     "output_type": "execute_result"
    }
   ],
   "source": [
    "qa_elec.q('エアコンをつけたいんだけど')"
   ]
  },
  {
   "cell_type": "code",
   "execution_count": 72,
   "metadata": {
    "collapsed": false,
    "deletable": true,
    "editable": true,
    "scrolled": true
   },
   "outputs": [
    {
     "data": {
      "text/plain": [
       "'テレビをつけるにはボタン３を押します'"
      ]
     },
     "execution_count": 72,
     "metadata": {},
     "output_type": "execute_result"
    }
   ],
   "source": [
    "qa_elec.q('テレビをつけるには？')"
   ]
  },
  {
   "cell_type": "code",
   "execution_count": 73,
   "metadata": {
    "collapsed": false,
    "deletable": true,
    "editable": true
   },
   "outputs": [
    {
     "data": {
      "text/plain": [
       "'テレビをつけるにはボタン３を押します'"
      ]
     },
     "execution_count": 73,
     "metadata": {},
     "output_type": "execute_result"
    }
   ],
   "source": [
    "qa_elec.q('テレビをつけるには？')"
   ]
  },
  {
   "cell_type": "code",
   "execution_count": 74,
   "metadata": {
    "collapsed": false,
    "deletable": true,
    "editable": true,
    "scrolled": false
   },
   "outputs": [
    {
     "data": {
      "text/plain": [
       "'計測値の取得はアプリ登録後最大30分かかります。'"
      ]
     },
     "execution_count": 74,
     "metadata": {},
     "output_type": "execute_result"
    }
   ],
   "source": [
    "qa_elec.q('どうやって照明をつけるの？')"
   ]
  },
  {
   "cell_type": "code",
   "execution_count": 75,
   "metadata": {
    "collapsed": false,
    "deletable": true,
    "editable": true
   },
   "outputs": [
    {
     "data": {
      "text/plain": [
       "'計測値の取得はアプリ登録後最大30分かかります。'"
      ]
     },
     "execution_count": 75,
     "metadata": {},
     "output_type": "execute_result"
    }
   ],
   "source": [
    "qa_elec.q('どうやって照明をつけるの？')"
   ]
  },
  {
   "cell_type": "code",
   "execution_count": 76,
   "metadata": {
    "collapsed": false,
    "deletable": true,
    "editable": true
   },
   "outputs": [
    {
     "data": {
      "text/plain": [
       "'約200件です。'"
      ]
     },
     "execution_count": 76,
     "metadata": {},
     "output_type": "execute_result"
    }
   ],
   "source": [
    "qa_elec.q('タイムラインに残る履歴は何件くらいですか')"
   ]
  },
  {
   "cell_type": "code",
   "execution_count": 77,
   "metadata": {
    "collapsed": false,
    "deletable": true,
    "editable": true
   },
   "outputs": [
    {
     "data": {
      "text/plain": [
       "'約200件です。'"
      ]
     },
     "execution_count": 77,
     "metadata": {},
     "output_type": "execute_result"
    }
   ],
   "source": [
    "qa_elec.q('タイムラインに残る履歴は何件くらいですか')"
   ]
  },
  {
   "cell_type": "code",
   "execution_count": 78,
   "metadata": {
    "collapsed": false,
    "deletable": true,
    "editable": true
   },
   "outputs": [
    {
     "data": {
      "text/plain": [
       "'計測値の取得はアプリ登録後最大30分かかります。'"
      ]
     },
     "execution_count": 78,
     "metadata": {},
     "output_type": "execute_result"
    }
   ],
   "source": [
    "qa_elec.q('アプリで計測値を見るには？')"
   ]
  },
  {
   "cell_type": "code",
   "execution_count": 79,
   "metadata": {
    "collapsed": false,
    "deletable": true,
    "editable": true
   },
   "outputs": [
    {
     "data": {
      "text/plain": [
       "'計測値の取得はアプリ登録後最大30分かかります。'"
      ]
     },
     "execution_count": 79,
     "metadata": {},
     "output_type": "execute_result"
    }
   ],
   "source": [
    "qa_elec.q('アプリで計測値を見るには？')"
   ]
  },
  {
   "cell_type": "code",
   "execution_count": 80,
   "metadata": {
    "collapsed": false,
    "deletable": true,
    "editable": true
   },
   "outputs": [
    {
     "data": {
      "text/plain": [
       "'2016年6月現在、下記の2種類を予定しています。 •家電の使い方に関する節電アイデア•家電に限定せず暮らし全般に関する節電アイデア'"
      ]
     },
     "execution_count": 80,
     "metadata": {},
     "output_type": "execute_result"
    }
   ],
   "source": [
    "qa_elec.q('省エネアドバイス')"
   ]
  },
  {
   "cell_type": "code",
   "execution_count": null,
   "metadata": {
    "collapsed": true
   },
   "outputs": [],
   "source": []
  }
 ],
 "metadata": {
  "kernelspec": {
   "display_name": "Python 3",
   "language": "python",
   "name": "python3"
  },
  "language_info": {
   "codemirror_mode": {
    "name": "ipython",
    "version": 3
   },
   "file_extension": ".py",
   "mimetype": "text/x-python",
   "name": "python",
   "nbconvert_exporter": "python",
   "pygments_lexer": "ipython3",
   "version": "3.5.2"
  }
 },
 "nbformat": 4,
 "nbformat_minor": 2
}
