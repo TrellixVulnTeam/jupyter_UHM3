{
 "cells": [
  {
   "cell_type": "code",
   "execution_count": 15,
   "metadata": {
    "collapsed": false,
    "deletable": true,
    "editable": true
   },
   "outputs": [],
   "source": [
    "import MeCab\n",
    "import itertools\n",
    "import pprint"
   ]
  },
  {
   "cell_type": "code",
   "execution_count": 16,
   "metadata": {
    "collapsed": false,
    "deletable": true,
    "editable": true
   },
   "outputs": [],
   "source": [
    "class wordvec_lib:\n",
    "    \n",
    "    def _word_attrs(self, txt):\n",
    "        m = MeCab.Tagger(\"mecab-ipadic-neologd\")\n",
    "        line = m.parse(txt).split('\\n')[:-2]\n",
    "        return [l.split('\\t')[1].split(',') for l in line]\n",
    "\n",
    "    def _filter_words(self, word_attrs):\n",
    "        # filter noun and verb\n",
    "        w = word_attrs\n",
    "        w = [m for m in w if m[0] in ['名詞', '動詞']]\n",
    "        return w\n",
    "\n",
    "    def _attr_to_word_vec(self, attrs):\n",
    "        count = len(attrs)\n",
    "        words = [a[6] for a in attrs]\n",
    "        return {g[0] : len(list(g[1]))/count for g in itertools.groupby(sorted(words))}\n",
    "\n",
    "    def get_word_vec(self, txt):\n",
    "        attrs = self._word_attrs(txt)\n",
    "        attrs = self._filter_words(attrs)\n",
    "        return self._attr_to_word_vec(attrs)\n",
    "    \n",
    "    def dot_product(self, v1, v2):\n",
    "        return sum(v1[key]*v2.get(key, 0) for key in v1)"
   ]
  },
  {
   "cell_type": "code",
   "execution_count": 17,
   "metadata": {
    "collapsed": false,
    "deletable": true,
    "editable": true
   },
   "outputs": [
    {
     "name": "stdout",
     "output_type": "stream",
     "text": [
      "0.15\n",
      "0.03125\n"
     ]
    }
   ],
   "source": [
    "t1 = \"照明はボタン１で、エアコンはボタン２で操作します\"\n",
    "t2 = \"照明はボタン１で操作します\"\n",
    "t3 = \"エアコンはオンになっています\"\n",
    "w = wordvec_lib()\n",
    "v1 = w.get_word_vec(t1)\n",
    "v2 = w.get_word_vec(t2)\n",
    "v3 = w.get_word_vec(t3)\n",
    "print(w.dot_product(v1, v2))\n",
    "print(w.dot_product(v1, v3))"
   ]
  },
  {
   "cell_type": "code",
   "execution_count": 21,
   "metadata": {
    "collapsed": false,
    "deletable": true,
    "editable": true
   },
   "outputs": [
    {
     "name": "stdout",
     "output_type": "stream",
     "text": [
      "[0.0, 0.08333333333333333, 0.125, 0.0]\n",
      "{'温度': 0.25, 'エアコン': 0.25, '設定': 0.25, 'やる': 0.25}\n",
      "--\n",
      "[   {   'つけ': 0.3333333333333333,\n",
      "        '方': 0.3333333333333333,\n",
      "        '照明': 0.3333333333333333},\n",
      "    {   'つけ': 0.3333333333333333,\n",
      "        'エアコン': 0.3333333333333333,\n",
      "        '方': 0.3333333333333333},\n",
      "    {'エアコン': 0.25, '上げ': 0.25, '方': 0.25, '温度': 0.25},\n",
      "    {   'つけ': 0.3333333333333333,\n",
      "        'テレビ': 0.3333333333333333,\n",
      "        '方': 0.3333333333333333}]\n"
     ]
    },
    {
     "ename": "NameError",
     "evalue": "name 'self' is not defined",
     "output_type": "error",
     "traceback": [
      "\u001b[0;31m---------------------------------------------------------------------------\u001b[0m",
      "\u001b[0;31mNameError\u001b[0m                                 Traceback (most recent call last)",
      "\u001b[0;32m<ipython-input-21-30ef09d792bb>\u001b[0m in \u001b[0;36m<module>\u001b[0;34m()\u001b[0m\n\u001b[1;32m     28\u001b[0m \u001b[0mqa_elec\u001b[0m \u001b[0;34m=\u001b[0m \u001b[0mqa\u001b[0m\u001b[0;34m(\u001b[0m\u001b[0;34m)\u001b[0m\u001b[0;34m\u001b[0m\u001b[0m\n\u001b[1;32m     29\u001b[0m \u001b[0mqa_elec\u001b[0m\u001b[0;34m.\u001b[0m\u001b[0mset_standard_qa\u001b[0m\u001b[0;34m(\u001b[0m\u001b[0mqa_txt\u001b[0m\u001b[0;34m)\u001b[0m\u001b[0;34m\u001b[0m\u001b[0m\n\u001b[0;32m---> 30\u001b[0;31m \u001b[0mqa\u001b[0m\u001b[0;34m.\u001b[0m\u001b[0mq\u001b[0m\u001b[0;34m(\u001b[0m\u001b[0mq_txt\u001b[0m\u001b[0;34m)\u001b[0m\u001b[0;34m\u001b[0m\u001b[0m\n\u001b[0m",
      "\u001b[0;32m<ipython-input-21-30ef09d792bb>\u001b[0m in \u001b[0;36mq\u001b[0;34m(q_txt)\u001b[0m\n\u001b[1;32m     10\u001b[0m \u001b[0;34m\u001b[0m\u001b[0m\n\u001b[1;32m     11\u001b[0m     \u001b[0;32mdef\u001b[0m \u001b[0mq\u001b[0m\u001b[0;34m(\u001b[0m\u001b[0mq_txt\u001b[0m\u001b[0;34m)\u001b[0m\u001b[0;34m:\u001b[0m\u001b[0;34m\u001b[0m\u001b[0m\n\u001b[0;32m---> 12\u001b[0;31m         \u001b[0mself\u001b[0m\u001b[0;34m.\u001b[0m\u001b[0mw\u001b[0m \u001b[0;34m=\u001b[0m \u001b[0mwordvec_lib\u001b[0m\u001b[0;34m(\u001b[0m\u001b[0;34m)\u001b[0m\u001b[0;34m\u001b[0m\u001b[0m\n\u001b[0m\u001b[1;32m     13\u001b[0m         \u001b[0mvec_q\u001b[0m \u001b[0;34m=\u001b[0m \u001b[0mself\u001b[0m\u001b[0;34m.\u001b[0m\u001b[0mw\u001b[0m\u001b[0;34m.\u001b[0m\u001b[0mget_word_vec\u001b[0m\u001b[0;34m(\u001b[0m\u001b[0mq\u001b[0m\u001b[0;34m)\u001b[0m\u001b[0;34m\u001b[0m\u001b[0m\n\u001b[1;32m     14\u001b[0m         \u001b[0minner_prods\u001b[0m \u001b[0;34m=\u001b[0m \u001b[0;34m[\u001b[0m\u001b[0mself\u001b[0m\u001b[0;34m.\u001b[0m\u001b[0mw\u001b[0m\u001b[0;34m.\u001b[0m\u001b[0mdot_product\u001b[0m\u001b[0;34m(\u001b[0m\u001b[0mv\u001b[0m\u001b[0;34m,\u001b[0m \u001b[0mvec_q\u001b[0m\u001b[0;34m)\u001b[0m \u001b[0;32mfor\u001b[0m \u001b[0mv\u001b[0m \u001b[0;32min\u001b[0m \u001b[0mself\u001b[0m\u001b[0;34m.\u001b[0m\u001b[0mvec_db\u001b[0m\u001b[0;34m]\u001b[0m\u001b[0;34m\u001b[0m\u001b[0m\n",
      "\u001b[0;31mNameError\u001b[0m: name 'self' is not defined"
     ]
    }
   ],
   "source": [
    "class qa:\n",
    "    \n",
    "    w = wordvec_lib()\n",
    "    \n",
    "    def set_standard_qa(self, qa_list):\n",
    "        self.qa_list = qa_list\n",
    "        self.vec_db = [self.w.get_word_vec(q[0]) for q in qa_list]\n",
    "        pp = pprint.PrettyPrinter(indent=4)\n",
    "        pp.pprint(word_vec_db)\n",
    "\n",
    "    def q(q_txt):\n",
    "        self.w = wordvec_lib()\n",
    "        vec_q = self.w.get_word_vec(q)\n",
    "        inner_prods = [self.w.dot_product(v, vec_q) for v in self.vec_db]\n",
    "    \n",
    "\n",
    "    \n",
    "qa_txt = [('照明のつけ方は？', '照明をつけるにはボタン１を押します'),\n",
    "          ('エアコンのつけ方は？', 'エアコンをつけるにはボタン２を押します'),\n",
    "          ('エアコンの温度の上げ方は？', 'エアコンの温度を上げるにはボタン４を押します'),\n",
    "          ('テレビのつけ方は？', 'テレビをつけるにはボタン３を押します')]\n",
    "q_txt = 'エアコンの温度設定はどうやるの？'\n",
    "    \n",
    "print(inner_prods)\n",
    "print(word_vec_q)\n",
    "print(\"--\")\n",
    "\n",
    "qa_elec = qa()\n",
    "qa_elec.set_standard_qa(qa_txt)\n",
    "qa.q(q_txt)"
   ]
  },
  {
   "cell_type": "code",
   "execution_count": null,
   "metadata": {
    "collapsed": true,
    "deletable": true,
    "editable": true
   },
   "outputs": [],
   "source": []
  }
 ],
 "metadata": {
  "kernelspec": {
   "display_name": "Python 3",
   "language": "python",
   "name": "python3"
  },
  "language_info": {
   "codemirror_mode": {
    "name": "ipython",
    "version": 3
   },
   "file_extension": ".py",
   "mimetype": "text/x-python",
   "name": "python",
   "nbconvert_exporter": "python",
   "pygments_lexer": "ipython3",
   "version": "3.5.2"
  }
 },
 "nbformat": 4,
 "nbformat_minor": 2
}
