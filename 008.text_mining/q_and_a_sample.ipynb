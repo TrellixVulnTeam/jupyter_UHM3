{
 "cells": [
  {
   "cell_type": "code",
   "execution_count": 2,
   "metadata": {
    "collapsed": false,
    "deletable": true,
    "editable": true
   },
   "outputs": [
    {
     "name": "stdout",
     "output_type": "stream",
     "text": [
      "これ\tコレ\tこれ\t名詞-代名詞-一般\t\t\n",
      "は\tハ\tは\t助詞-係助詞\t\t\n",
      "テスト\tテスト\tテスト\t名詞-サ変接続\t\t\n",
      "で\tデ\tで\t助詞-格助詞-一般\t\t\n",
      "は\tハ\tは\t助詞-係助詞\t\t\n",
      "あり\tアリ\tある\t動詞-自立\t五段・ラ行\t連用形\n",
      "ませ\tマセ\tます\t助動詞\t特殊・マス\t未然形\n",
      "ん\tン\tん\t助動詞\t不変化型\t基本形\n",
      "でし\tデシ\tです\t助動詞\t特殊・デス\t連用形\n",
      "た\tタ\tた\t助動詞\t特殊・タ\t基本形\n",
      "EOS\n",
      "\n",
      "これ\t名詞,代名詞,一般,*,*,*,これ,コレ,コレ\n",
      "は\t助詞,係助詞,*,*,*,*,は,ハ,ワ\n",
      "テスト\t名詞,サ変接続,*,*,*,*,テスト,テスト,テスト\n",
      "で\t助詞,格助詞,一般,*,*,*,で,デ,デ\n",
      "は\t助詞,係助詞,*,*,*,*,は,ハ,ワ\n",
      "あり\t動詞,自立,*,*,五段・ラ行,連用形,ある,アリ,アリ\n",
      "ませ\t助動詞,*,*,*,特殊・マス,未然形,ます,マセ,マセ\n",
      "ん\t助動詞,*,*,*,不変化型,基本形,ん,ン,ン\n",
      "でし\t助動詞,*,*,*,特殊・デス,連用形,です,デシ,デシ\n",
      "た\t助動詞,*,*,*,特殊・タ,基本形,た,タ,タ\n",
      "EOS\n",
      "\n",
      "これ\t名詞,代名詞,一般,*,*,*,これ,コレ,コレ\n",
      "は\t助詞,係助詞,*,*,*,*,は,ハ,ワ\n",
      "テスト\t名詞,サ変接続,*,*,*,*,テスト,テスト,テスト\n",
      "で\t助詞,格助詞,一般,*,*,*,で,デ,デ\n",
      "は\t助詞,係助詞,*,*,*,*,は,ハ,ワ\n",
      "あり\t動詞,自立,*,*,五段・ラ行,連用形,ある,アリ,アリ\n",
      "ませ\t助動詞,*,*,*,特殊・マス,未然形,ます,マセ,マセ\n",
      "ん\t助動詞,*,*,*,不変化型,基本形,ん,ン,ン\n",
      "でし\t助動詞,*,*,*,特殊・デス,連用形,です,デシ,デシ\n",
      "た\t助動詞,*,*,*,特殊・タ,基本形,た,タ,タ\n",
      "EOS\n",
      "\n"
     ]
    }
   ],
   "source": [
    "import MeCab\n",
    "txt = \"これはテストではありませんでした\"\n",
    "m = MeCab.Tagger(\"-Ochasen\")\n",
    "print(m.parse(txt))\n",
    "m2 = MeCab.Tagger(\"mecabrc\")\n",
    "print(m2.parse(txt))\n",
    "m3 = MeCab.Tagger(\"mecab-ipadic-neologd\")\n",
    "print(m3.parse(txt))"
   ]
  },
  {
   "cell_type": "code",
   "execution_count": 31,
   "metadata": {
    "collapsed": false
   },
   "outputs": [
    {
     "data": {
      "text/plain": [
       "[['名詞', '代名詞', '一般', '*', '*', '*', 'これ', 'コレ', 'コレ'],\n",
       " ['助詞', '係助詞', '*', '*', '*', '*', 'は', 'ハ', 'ワ'],\n",
       " ['名詞', 'サ変接続', '*', '*', '*', '*', 'テスト', 'テスト', 'テスト'],\n",
       " ['助詞', '格助詞', '一般', '*', '*', '*', 'で', 'デ', 'デ'],\n",
       " ['助詞', '係助詞', '*', '*', '*', '*', 'は', 'ハ', 'ワ'],\n",
       " ['動詞', '自立', '*', '*', '五段・ラ行', '連用形', 'ある', 'アリ', 'アリ'],\n",
       " ['助動詞', '*', '*', '*', '特殊・マス', '未然形', 'ます', 'マセ', 'マセ'],\n",
       " ['助動詞', '*', '*', '*', '不変化型', '基本形', 'ん', 'ン', 'ン'],\n",
       " ['助動詞', '*', '*', '*', '特殊・デス', '連用形', 'です', 'デシ', 'デシ'],\n",
       " ['助動詞', '*', '*', '*', '特殊・タ', '基本形', 'た', 'タ', 'タ']]"
      ]
     },
     "execution_count": 31,
     "metadata": {},
     "output_type": "execute_result"
    }
   ],
   "source": [
    "def mecab(txt):\n",
    "    m = MeCab.Tagger(\"mecab-ipadic-neologd\")\n",
    "    line = m3.parse(txt).split('\\n')[:-2]\n",
    "    words = [l.split('\\t')[1].split(',') for l in line]\n",
    "    return words\n",
    "\n",
    "mecab(\"これはテストではありませんでした\")"
   ]
  },
  {
   "cell_type": "code",
   "execution_count": 33,
   "metadata": {
    "collapsed": false
   },
   "outputs": [
    {
     "data": {
      "text/plain": [
       "[['名詞', '代名詞', '一般', '*', '*', '*', 'これ', 'コレ', 'コレ'],\n",
       " ['名詞', 'サ変接続', '*', '*', '*', '*', 'テスト', 'テスト', 'テスト'],\n",
       " ['動詞', '自立', '*', '*', '五段・ラ行', '連用形', 'ある', 'アリ', 'アリ']]"
      ]
     },
     "execution_count": 33,
     "metadata": {},
     "output_type": "execute_result"
    }
   ],
   "source": [
    "words = mecab(\"これはテストではありませんでした\")\n",
    "# filter noun and verb\n",
    "[m for m in words if m[0] in ['名詞', '動詞']]"
   ]
  },
  {
   "cell_type": "code",
   "execution_count": null,
   "metadata": {
    "collapsed": true
   },
   "outputs": [],
   "source": []
  }
 ],
 "metadata": {
  "kernelspec": {
   "display_name": "Python 3",
   "language": "python",
   "name": "python3"
  },
  "language_info": {
   "codemirror_mode": {
    "name": "ipython",
    "version": 3
   },
   "file_extension": ".py",
   "mimetype": "text/x-python",
   "name": "python",
   "nbconvert_exporter": "python",
   "pygments_lexer": "ipython3",
   "version": "3.5.2"
  }
 },
 "nbformat": 4,
 "nbformat_minor": 2
}
