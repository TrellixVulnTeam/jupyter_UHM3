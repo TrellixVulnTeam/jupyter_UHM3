{
 "cells": [
  {
   "cell_type": "code",
   "execution_count": 1,
   "metadata": {
    "collapsed": false
   },
   "outputs": [],
   "source": [
    "import MeCab\n",
    "import itertools"
   ]
  },
  {
   "cell_type": "code",
   "execution_count": 5,
   "metadata": {
    "collapsed": false
   },
   "outputs": [],
   "source": [
    "def word_attrs(txt):\n",
    "    m = MeCab.Tagger(\"mecab-ipadic-neologd\")\n",
    "    line = m.parse(txt).split('\\n')[:-2]\n",
    "    return [l.split('\\t')[1].split(',') for l in line]\n",
    "\n",
    "def filter_words(word_attrs):\n",
    "    # filter noun and verb\n",
    "    w = word_attrs\n",
    "    w = [m for m in w if m[0] in ['名詞', '動詞']]\n",
    "    return w\n",
    "\n",
    "def attr_to_word_vec(attrs):\n",
    "    count = len(attrs)\n",
    "    words = [a[6] for a in attrs]\n",
    "    return {g[0] : len(list(g[1]))/count for g in itertools.groupby(sorted(words))}\n",
    "\n",
    "def get_word_vec(txt):\n",
    "    attrs = word_attrs(txt)\n",
    "    attrs = filter_words(attrs)\n",
    "    return attr_to_word_vec(attrs)"
   ]
  },
  {
   "cell_type": "code",
   "execution_count": 6,
   "metadata": {
    "collapsed": false
   },
   "outputs": [],
   "source": [
    "def dot_product(v1, v2):\n",
    "    return sum(v1[key]*v2.get(key, 0) for key in v1)"
   ]
  },
  {
   "cell_type": "code",
   "execution_count": 7,
   "metadata": {
    "collapsed": false
   },
   "outputs": [
    {
     "name": "stdout",
     "output_type": "stream",
     "text": [
      "0.15\n",
      "0.03125\n"
     ]
    }
   ],
   "source": [
    "t1 = \"照明はボタン１で、エアコンはボタン２で操作します\"\n",
    "t2 = \"照明はボタン１で操作します\"\n",
    "t3 = \"エアコンはオンになっています\"\n",
    "v1 = get_word_vec(t1)\n",
    "v2 = get_word_vec(t2)\n",
    "v3 = get_word_vec(t3)\n",
    "print(dot_product(v1, v2))\n",
    "print(dot_product(v1, v3))"
   ]
  }
 ],
 "metadata": {
  "kernelspec": {
   "display_name": "Python 3",
   "language": "python",
   "name": "python3"
  },
  "language_info": {
   "codemirror_mode": {
    "name": "ipython",
    "version": 3
   },
   "file_extension": ".py",
   "mimetype": "text/x-python",
   "name": "python",
   "nbconvert_exporter": "python",
   "pygments_lexer": "ipython3",
   "version": "3.5.2"
  }
 },
 "nbformat": 4,
 "nbformat_minor": 2
}
