{
 "cells": [
  {
   "cell_type": "code",
   "execution_count": 5,
   "metadata": {
    "collapsed": true
   },
   "outputs": [],
   "source": [
    "# predict the next char\n",
    "import tensorflow as tf\n",
    "import numpy as np\n",
    "import random\n",
    "import pandas as pd\n",
    "%matplotlib inline"
   ]
  },
  {
   "cell_type": "code",
   "execution_count": 6,
   "metadata": {
    "collapsed": true
   },
   "outputs": [],
   "source": [
    "def make_mini_batch(train_data, size_of_mini_batch, length_of_sequences):\n",
    "    inputs  = np.empty(0)\n",
    "    outputs = np.empty(0)\n",
    "    for _ in range(size_of_mini_batch):\n",
    "        index   = random.randint(0, len(train_data) - length_of_sequences - 1)\n",
    "        inputs  = np.append(inputs, train_data[index:index + length_of_sequences])\n",
    "        outputs = np.append(outputs, train_data[index + length_of_sequences + 1])\n",
    "    inputs  = inputs.reshape(-1, length_of_sequences, 256)\n",
    "    outputs = outputs.reshape(-1, 256)\n",
    "    return (inputs, outputs)"
   ]
  },
  {
   "cell_type": "code",
   "execution_count": 9,
   "metadata": {
    "collapsed": false
   },
   "outputs": [],
   "source": [
    "def make_prediction_initial(train_data, index, length_of_sequences):\n",
    "    return train_data[index:index + length_of_sequences], train_data[index + length_of_sequences + 1]\n",
    "#inputs, _  = make_prediction_initial(train_data, 0, length_of_initial_sequences)\n",
    "#inputs.shape"
   ]
  },
  {
   "cell_type": "code",
   "execution_count": 48,
   "metadata": {
    "collapsed": true
   },
   "outputs": [],
   "source": [
    "train_data_path             = \"./char_rnn.ipynb\"\n",
    "num_of_char                 = 256\n",
    "num_of_input_nodes          = 256\n",
    "num_of_hidden_nodes         = 20\n",
    "num_of_output_nodes         = 256\n",
    "length_of_sequences         = 30\n",
    "num_of_training_epochs      = 400\n",
    "length_of_initial_sequences = 30\n",
    "num_of_prediction_epochs    = 100\n",
    "size_of_mini_batch          = 100\n",
    "learning_rate               = 0.1\n",
    "forget_bias                 = 1.0"
   ]
  },
  {
   "cell_type": "code",
   "execution_count": 49,
   "metadata": {
    "collapsed": false
   },
   "outputs": [],
   "source": [
    "#train_data = np.load(train_data_path)\n",
    "f = open(train_data_path)\n",
    "text = f.read()\n",
    "f.close()\n",
    "train_data = np.eye(num_of_char)[[ord(x) for x in text]]"
   ]
  },
  {
   "cell_type": "code",
   "execution_count": 50,
   "metadata": {
    "collapsed": false
   },
   "outputs": [
    {
     "data": {
      "text/plain": [
       "(100, 256)"
      ]
     },
     "execution_count": 50,
     "metadata": {},
     "output_type": "execute_result"
    }
   ],
   "source": [
    "a, b = make_mini_batch(train_data, size_of_mini_batch, length_of_sequences)\n",
    "a.shape\n",
    "b.shape"
   ]
  },
  {
   "cell_type": "code",
   "execution_count": 52,
   "metadata": {
    "collapsed": false,
    "scrolled": false
   },
   "outputs": [
    {
     "name": "stdout",
     "output_type": "stream",
     "text": [
      "train#10, train loss: 5.291904e+00\n",
      "train#20, train loss: 5.281867e+00\n",
      "train#30, train loss: 5.301867e+00\n",
      "train#40, train loss: 5.281867e+00\n",
      "train#50, train loss: 5.291866e+00\n",
      "train#60, train loss: 5.351866e+00\n",
      "train#70, train loss: 5.321867e+00\n",
      "train#80, train loss: 5.221867e+00\n",
      "train#90, train loss: 5.271866e+00\n",
      "train#100, train loss: 5.271866e+00\n",
      "train#110, train loss: 5.291866e+00\n",
      "train#120, train loss: 5.391867e+00\n",
      "train#130, train loss: 5.311866e+00\n",
      "train#140, train loss: 5.331866e+00\n",
      "train#150, train loss: 5.201867e+00\n",
      "train#160, train loss: 5.391867e+00\n",
      "train#170, train loss: 5.301867e+00\n",
      "train#180, train loss: 5.351866e+00\n",
      "train#190, train loss: 5.251866e+00\n",
      "train#200, train loss: 5.281867e+00\n",
      "train#210, train loss: 5.311866e+00\n",
      "train#220, train loss: 5.321867e+00\n",
      "train#230, train loss: 5.221867e+00\n",
      "train#240, train loss: 5.251866e+00\n",
      "train#250, train loss: 5.361866e+00\n",
      "train#260, train loss: 5.301867e+00\n",
      "train#270, train loss: 5.301867e+00\n",
      "train#280, train loss: 5.301867e+00\n",
      "train#290, train loss: 5.281867e+00\n",
      "train#300, train loss: 5.351866e+00\n",
      "train#310, train loss: 5.191866e+00\n",
      "train#320, train loss: 5.261867e+00\n",
      "train#330, train loss: 5.321867e+00\n",
      "train#340, train loss: 5.341866e+00\n",
      "train#350, train loss: 5.291866e+00\n",
      "train#360, train loss: 5.311866e+00\n",
      "train#370, train loss: 5.321867e+00\n",
      "train#380, train loss: 5.311866e+00\n",
      "train#390, train loss: 5.261867e+00\n",
      "train#400, train loss: 5.301867e+00\n",
      " -- 30 (30, 256)\n",
      "prediction: \n",
      "('outputs:', [' ', ' ', ' ', ' ', ' ', ' ', ' ', ' ', ' ', ' ', ' ', ' ', ' ', ' ', ' ', ' ', ' ', ' ', ' ', ' ', ' ', ' ', ' ', ' ', ' ', ' ', ' ', ' ', ' ', ' ', ' ', ' ', ' ', ' ', ' ', ' ', ' ', ' ', ' ', ' ', ' ', ' ', ' ', ' ', ' ', ' ', ' ', ' ', ' ', ' ', ' ', ' ', ' ', ' ', ' ', ' ', ' ', ' ', ' ', ' ', ' ', ' ', ' ', ' ', ' ', ' ', ' ', ' ', ' ', ' ', ' ', ' ', ' ', ' ', ' ', ' ', ' ', ' ', ' ', ' ', ' ', ' ', ' ', ' ', ' ', ' ', ' ', ' ', ' ', ' ', ' ', ' ', ' ', ' ', ' ', ' ', ' ', ' ', ' ', ' '])\n"
     ]
    }
   ],
   "source": [
    "#optimizer = tf.train.GradientDescentOptimizer(learning_rate=learning_rate)\n",
    "#optimizer = tf.train.AdagradOptimizer(learning_rate=learning_rate)\n",
    "optimizer = tf.train.AdamOptimizer(learning_rate=learning_rate)\n",
    "\n",
    "with tf.Graph().as_default():\n",
    "    input_ph      = tf.placeholder(tf.float32, [None, length_of_sequences, num_of_input_nodes], name=\"input\")\n",
    "    supervisor_ph = tf.placeholder(tf.float32, [None, num_of_output_nodes], name=\"supervisor\")\n",
    "\n",
    "    with tf.name_scope(\"inference\") as scope:\n",
    "        weight1_var = tf.Variable(tf.truncated_normal([num_of_input_nodes, num_of_hidden_nodes], stddev=0.1), name=\"weight1\")\n",
    "        weight2_var = tf.Variable(tf.truncated_normal([num_of_hidden_nodes, num_of_output_nodes], stddev=0.1), name=\"weight2\")\n",
    "        bias1_var   = tf.Variable(tf.truncated_normal([num_of_hidden_nodes], stddev=0.1), name=\"bias1\")\n",
    "        bias2_var   = tf.Variable(tf.truncated_normal([num_of_output_nodes], stddev=0.1), name=\"bias2\")\n",
    "\n",
    "        weight1_hist = tf.histogram_summary(\"layer1/weights\", weight1_var)\n",
    "        weight2_hist = tf.histogram_summary(\"layer2/weights\", weight2_var)\n",
    "        bias1_hist = tf.histogram_summary(\"layer1/biases\", bias1_var)\n",
    "        bias2_hist = tf.histogram_summary(\"layer2/biases\", bias2_var)\n",
    "        \n",
    "        # pre rnn\n",
    "        in1 = tf.transpose(input_ph, [1, 0, 2])         # (batch, sequence, data) -> (sequence, batch, data)\n",
    "        in2 = tf.reshape(in1, [-1, num_of_input_nodes]) # (sequence, batch, data) -> (sequence * batch, data)\n",
    "        in3 = tf.matmul(in2, weight1_var) + bias1_var\n",
    "        in4 = tf.split(0, length_of_sequences, in3)     # sequence * (batch, data)\n",
    "\n",
    "        _cell = tf.nn.rnn_cell.BasicLSTMCell(num_of_hidden_nodes, forget_bias=forget_bias, state_is_tuple=True)\n",
    "        cell = tf.nn.rnn_cell.MultiRNNCell([_cell] * 2, state_is_tuple=True)\n",
    "        istate_ph = cell.zero_state(size_of_mini_batch, tf.float32)\n",
    "        rnn_output, states_op = tf.nn.rnn(cell, in4, dtype=tf.float32)\n",
    "        \n",
    "        # post rnn\n",
    "        #output_op = tf.matmul(rnn_output[-1], weight2_var) + bias2_var\n",
    "        out1 = tf.matmul(rnn_output[-1], weight2_var) + bias2_var\n",
    "        out2 = tf.nn.softmax(out1)\n",
    "        output_op = out2\n",
    "        #output_argmax = tf.argmax(out1, 0)\n",
    "\n",
    "    with tf.name_scope(\"loss\") as scope:\n",
    "#        square_error = tf.reduce_mean(tf.square(output_op - supervisor_ph))\n",
    "#        loss_op      = square_error\n",
    "        cross_entropy = tf.reduce_mean(tf.nn.softmax_cross_entropy_with_logits(output_op, supervisor_ph))\n",
    "        loss_op = cross_entropy\n",
    "        tf.scalar_summary(\"loss\", loss_op)\n",
    "\n",
    "    with tf.name_scope(\"training\") as scope:\n",
    "        training_op = optimizer.minimize(loss_op)\n",
    "\n",
    "    summary_op = tf.merge_all_summaries()\n",
    "    init = tf.initialize_all_variables()\n",
    "\n",
    "    with tf.Session() as sess:\n",
    "        saver = tf.train.Saver()\n",
    "        summary_writer = tf.train.SummaryWriter(\"data\", graph=sess.graph)\n",
    "        # random seed fix\n",
    "        random.seed(0)\n",
    "        np.random.seed(0)\n",
    "        tf.set_random_seed(0)\n",
    "        # init variables\n",
    "        sess.run(init)\n",
    "\n",
    "        for epoch in range(num_of_training_epochs):\n",
    "            inputs, supervisors = make_mini_batch(train_data, size_of_mini_batch, length_of_sequences)\n",
    "            state = sess.run(istate_ph)\n",
    "\n",
    "            train_dict = {\n",
    "                input_ph:      inputs,\n",
    "                supervisor_ph: supervisors,\n",
    "            }\n",
    "            sess.run(training_op, feed_dict=train_dict)\n",
    "\n",
    "            if (epoch + 1) % 10 == 0:\n",
    "                summary_str, train_loss = sess.run([summary_op, loss_op], feed_dict=train_dict)\n",
    "                summary_writer.add_summary(summary_str, epoch)\n",
    "                print(\"train#%d, train loss: %e\" % (epoch + 1, train_loss))\n",
    "\n",
    "        inputs, _  = make_prediction_initial(train_data, 0, length_of_initial_sequences)\n",
    "        print(\" -- {} {}\".format(length_of_initial_sequences, inputs.shape))\n",
    "        outputs = np.empty(0)\n",
    "\n",
    "#        print(\"initial:\", inputs)\n",
    "#        np.save(\"initial.npy\", inputs)\n",
    "\n",
    "        istate_ph = cell.zero_state(1, tf.float32)\n",
    "        sess.run(istate_ph)\n",
    "\n",
    "        print(\"prediction: \")\n",
    "        for epoch in range(num_of_prediction_epochs):\n",
    "            pred_dict = {\n",
    "#                input_ph:  inputs.reshape((1, length_of_sequences, 1)),\n",
    "                input_ph:  [inputs]\n",
    "            }\n",
    "#            print(\" 1) inputs {} {}\".format(epoch, inputs.shape))\n",
    "            output, states = sess.run([output_op, states_op], feed_dict=pred_dict)\n",
    "#            print(\"prediction#%d, output: %f\" % (epoch + 1, output))\n",
    "\n",
    "            inputs  = np.delete(inputs, 0, 0)\n",
    "#            print(\" 2) inputs {} {}\".format(epoch, inputs.shape))\n",
    "            inputs  = np.append(inputs, output, 0)\n",
    "#            print(\" 3) inputs {} {}\".format(epoch, inputs.shape))\n",
    "#            print(\" 4) output {} {}\".format(epoch, output.shape))\n",
    "            outputs = np.append(outputs, output)\n",
    "#            print(\" 5) outputs {} {}\".format(epoch, outputs.shape))\n",
    "        \n",
    "        #print(\"outputs:\", outputs)\n",
    "        #np.save(\"output.npy\", outputs)\n",
    "        #print(\"outputs:\", outputs)\n",
    "        # tf.where 2016/11/18 このへんに各\n",
    "        \n",
    "        output_ascii = np.argmax(outputs.reshape(num_of_prediction_epochs, num_of_output_nodes), axis=1)\n",
    "        print(\"outputs:\", [chr(x) for x in output_ascii])\n",
    "\n",
    "        #saver.save(sess, \"data/model\")"
   ]
  },
  {
   "cell_type": "code",
   "execution_count": 46,
   "metadata": {
    "collapsed": false
   },
   "outputs": [
    {
     "data": {
      "text/plain": [
       "array([32, 32, 32, 32, 32])"
      ]
     },
     "execution_count": 46,
     "metadata": {},
     "output_type": "execute_result"
    }
   ],
   "source": [
    "np.argmax(outputs.reshape(5, 256), axis=1)"
   ]
  }
 ],
 "metadata": {
  "kernelspec": {
   "display_name": "Python 2",
   "language": "python",
   "name": "python2"
  },
  "language_info": {
   "codemirror_mode": {
    "name": "ipython",
    "version": 2
   },
   "file_extension": ".py",
   "mimetype": "text/x-python",
   "name": "python",
   "nbconvert_exporter": "python",
   "pygments_lexer": "ipython2",
   "version": "2.7.12"
  }
 },
 "nbformat": 4,
 "nbformat_minor": 1
}
