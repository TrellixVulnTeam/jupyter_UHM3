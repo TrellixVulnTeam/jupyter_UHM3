{
 "cells": [
  {
   "cell_type": "code",
   "execution_count": 1,
   "metadata": {
    "collapsed": true
   },
   "outputs": [],
   "source": [
    "# predict the next char\n",
    "import tensorflow as tf\n",
    "import numpy as np\n",
    "import random\n",
    "import pandas as pd\n",
    "%matplotlib inline"
   ]
  },
  {
   "cell_type": "code",
   "execution_count": 12,
   "metadata": {
    "collapsed": true
   },
   "outputs": [],
   "source": [
    "def make_mini_batch(train_data, size_of_mini_batch, length_of_sequences):\n",
    "    inputs  = np.empty(0)\n",
    "    outputs = np.empty(0)\n",
    "    for _ in range(size_of_mini_batch):\n",
    "        index   = random.randint(0, len(train_data) - length_of_sequences - 1)\n",
    "        inputs  = np.append(inputs, train_data[index:index + length_of_sequences])\n",
    "        outputs = np.append(outputs, train_data[index + length_of_sequences])\n",
    "    inputs  = inputs.reshape(-1, length_of_sequences, 128)\n",
    "    outputs = outputs.reshape(-1, 128)\n",
    "    return (inputs, outputs)"
   ]
  },
  {
   "cell_type": "code",
   "execution_count": 13,
   "metadata": {
    "collapsed": false
   },
   "outputs": [],
   "source": [
    "def make_prediction_initial(train_data, index, length_of_sequences):\n",
    "    return train_data[index:index + length_of_sequences], train_data[index + length_of_sequences + 1]\n",
    "#inputs, _  = make_prediction_initial(train_data, 0, length_of_initial_sequences)\n",
    "#inputs.shape"
   ]
  },
  {
   "cell_type": "code",
   "execution_count": 14,
   "metadata": {
    "collapsed": true
   },
   "outputs": [],
   "source": [
    "train_data_path             = \"./blog.txt\"\n",
    "num_of_char                 = 128\n",
    "num_of_input_nodes          = 128\n",
    "num_of_hidden_nodes         = 64\n",
    "num_of_output_nodes         = 128\n",
    "length_of_sequences         = 30\n",
    "num_of_training_epochs      = 0\n",
    "length_of_initial_sequences = 30\n",
    "num_of_prediction_epochs    = 100\n",
    "size_of_mini_batch          = 4\n",
    "learning_rate               = 0.001\n",
    "forget_bias                 = 1.0"
   ]
  },
  {
   "cell_type": "code",
   "execution_count": 15,
   "metadata": {
    "collapsed": false
   },
   "outputs": [],
   "source": [
    "#train_data = np.load(train_data_path)\n",
    "f = open(train_data_path)\n",
    "text = f.read()\n",
    "f.close()\n",
    "train_data = np.eye(num_of_char)[[ord(x) for x in text if ord(x) < 128]]"
   ]
  },
  {
   "cell_type": "code",
   "execution_count": 17,
   "metadata": {
    "collapsed": true
   },
   "outputs": [],
   "source": [
    "def inference(input_ph, size_of_mini_batch_ph):\n",
    "    with tf.name_scope(\"inference\") as scope:\n",
    "        weight1_var = tf.Variable(tf.truncated_normal([num_of_input_nodes, num_of_hidden_nodes], stddev=0.1), name=\"weight1\")\n",
    "        weight2_var = tf.Variable(tf.truncated_normal([num_of_hidden_nodes, num_of_output_nodes], stddev=0.1), name=\"weight2\")\n",
    "        bias1_var   = tf.Variable(tf.truncated_normal([num_of_hidden_nodes], stddev=0.1), name=\"bias1\")\n",
    "        bias2_var   = tf.Variable(tf.truncated_normal([num_of_output_nodes], stddev=0.1), name=\"bias2\")\n",
    "\n",
    "        weight1_hist = tf.histogram_summary(\"layer1/weights\", weight1_var)\n",
    "        weight2_hist = tf.histogram_summary(\"layer2/weights\", weight2_var)\n",
    "        bias1_hist = tf.histogram_summary(\"layer1/biases\", bias1_var)\n",
    "        bias2_hist = tf.histogram_summary(\"layer2/biases\", bias2_var)\n",
    "        \n",
    "        # pre rnn\n",
    "        in1 = tf.transpose(input_ph, [1, 0, 2])         # (batch, sequence, data) -> (sequence, batch, data)\n",
    "        in2 = tf.reshape(in1, [-1, num_of_input_nodes]) # (sequence, batch, data) -> (sequence * batch, data)\n",
    "        in3 = tf.matmul(in2, weight1_var) + bias1_var\n",
    "        in4 = tf.split(0, length_of_sequences, in3)     # sequence * (batch, data)\n",
    "\n",
    "        cell = tf.nn.rnn_cell.BasicLSTMCell(num_of_hidden_nodes, forget_bias=forget_bias, state_is_tuple=True)\n",
    "        #cell = tf.nn.rnn_cell.MultiRNNCell([_cell] * 1, state_is_tuple=True)\n",
    "        initial_state = cell.zero_state(size_of_mini_batch_ph, tf.float32)\n",
    "        rnn_output, states_op = tf.nn.rnn(cell, in4, initial_state=initial_state, dtype=tf.float32)\n",
    "        \n",
    "        # post rnn\n",
    "        #output_op = tf.matmul(rnn_output[-1], weight2_var) + bias2_var\n",
    "        out1 = tf.matmul(rnn_output[-1], weight2_var) + bias2_var\n",
    "        output_op = out1\n",
    "        #output_argmax = tf.argmax(out1, 0)\n",
    "\n",
    "    return output_op, rnn_output"
   ]
  },
  {
   "cell_type": "code",
   "execution_count": 18,
   "metadata": {
    "collapsed": true
   },
   "outputs": [],
   "source": [
    "def loss(output_op):\n",
    "    with tf.name_scope(\"loss\") as scope:\n",
    "        cross_entropy = tf.reduce_mean(tf.nn.softmax_cross_entropy_with_logits(output_op, supervisor_ph))\n",
    "        loss_op = cross_entropy\n",
    "        tf.scalar_summary(\"loss\", loss_op)\n",
    "    return loss_op"
   ]
  },
  {
   "cell_type": "code",
   "execution_count": 19,
   "metadata": {
    "collapsed": true
   },
   "outputs": [],
   "source": [
    "def train(loss_op):\n",
    "    with tf.name_scope(\"training\") as scope:\n",
    "        #optimizer = tf.train.GradientDescentOptimizer(learning_rate=learning_rate)\n",
    "        #optimizer = tf.train.AdagradOptimizer(learning_rate=learning_rate)\n",
    "        optimizer = tf.train.AdamOptimizer(learning_rate=learning_rate)\n",
    "        training_op = optimizer.minimize(loss_op)\n",
    "    return training_op"
   ]
  },
  {
   "cell_type": "code",
   "execution_count": 20,
   "metadata": {
    "collapsed": false,
    "scrolled": false
   },
   "outputs": [
    {
     "name": "stdout",
     "output_type": "stream",
     "text": [
      "prediction: \n",
      "('asciis: ', array([ 8,  8,  8, 74, 74, 74, 74,  8,  8,  8,  8,  8, 21, 21, 21, 21, 21,\n",
      "       21, 21, 21, 21, 21, 21,  8,  8,  8,  8,  8,  8,  8,  8,  8,  8,  8,\n",
      "        8,  8,  8,  8,  8,  8,  8,  8,  8,  8,  8,  8,  8,  8,  8,  8,  8,\n",
      "        8,  8,  8,  8,  8,  8,  8,  8,  8,  8,  8,  8,  8,  8,  8,  8,  8,\n",
      "        8,  8,  8,  8,  8,  8,  8,  8,  8,  8,  8,  8,  8,  8,  8,  8,  8,\n",
      "        8,  8,  8,  8,  8,  8,  8,  8,  8,  8,  8,  8,  8,  8,  8]))\n",
      "('outputs:', ['\\x08', '\\x08', '\\x08', 'J', 'J', 'J', 'J', '\\x08', '\\x08', '\\x08', '\\x08', '\\x08', '\\x15', '\\x15', '\\x15', '\\x15', '\\x15', '\\x15', '\\x15', '\\x15', '\\x15', '\\x15', '\\x15', '\\x08', '\\x08', '\\x08', '\\x08', '\\x08', '\\x08', '\\x08', '\\x08', '\\x08', '\\x08', '\\x08', '\\x08', '\\x08', '\\x08', '\\x08', '\\x08', '\\x08', '\\x08', '\\x08', '\\x08', '\\x08', '\\x08', '\\x08', '\\x08', '\\x08', '\\x08', '\\x08', '\\x08', '\\x08', '\\x08', '\\x08', '\\x08', '\\x08', '\\x08', '\\x08', '\\x08', '\\x08', '\\x08', '\\x08', '\\x08', '\\x08', '\\x08', '\\x08', '\\x08', '\\x08', '\\x08', '\\x08', '\\x08', '\\x08', '\\x08', '\\x08', '\\x08', '\\x08', '\\x08', '\\x08', '\\x08', '\\x08', '\\x08', '\\x08', '\\x08', '\\x08', '\\x08', '\\x08', '\\x08', '\\x08', '\\x08', '\\x08', '\\x08', '\\x08', '\\x08', '\\x08', '\\x08', '\\x08', '\\x08', '\\x08', '\\x08', '\\x08'])\n"
     ]
    }
   ],
   "source": [
    "with tf.Graph().as_default():\n",
    "    input_ph      = tf.placeholder(tf.float32, [None, length_of_sequences, num_of_input_nodes], name=\"input\")\n",
    "    supervisor_ph = tf.placeholder(tf.float32, [None, num_of_output_nodes], name=\"supervisor\")\n",
    "    size_of_mini_batch_ph = tf.placeholder(tf.int32, name=\"size_of_mini_batch\")\n",
    "\n",
    "    output_op, rnn_output = inference(input_ph, size_of_mini_batch_ph)\n",
    "    loss_op = loss(output_op)\n",
    "    training_op = train(loss_op)\n",
    "\n",
    "    summary_op = tf.merge_all_summaries()\n",
    "    init = tf.initialize_all_variables()\n",
    "    #istate_ph = cell.zero_state(size_of_mini_batch, tf.float32)\n",
    "\n",
    "    with tf.Session() as sess:\n",
    "        saver = tf.train.Saver()\n",
    "        summary_writer = tf.train.SummaryWriter(\"data\", graph=sess.graph)\n",
    "        # random seed fix\n",
    "        random.seed(0)\n",
    "        np.random.seed(0)\n",
    "        tf.set_random_seed(0)\n",
    "        # init variables\n",
    "        sess.run(init)\n",
    "\n",
    "        for epoch in range(num_of_training_epochs):\n",
    "            inputs, supervisors = make_mini_batch(train_data, size_of_mini_batch, length_of_sequences)\n",
    "            #state = sess.run(istate_ph)\n",
    "\n",
    "            train_dict = {\n",
    "                input_ph:      inputs,\n",
    "                supervisor_ph: supervisors,\n",
    "                size_of_mini_batch_ph: size_of_mini_batch,\n",
    "            }\n",
    "            rnnout, _ = sess.run([rnn_output, training_op], feed_dict=train_dict)\n",
    "#            print(\"rnnout: {}\".format(rnnout[-1]))\n",
    "\n",
    "            if (epoch + 1) % 10 == 0:\n",
    "                summary_str, train_loss = sess.run([summary_op, loss_op], feed_dict=train_dict)\n",
    "                summary_writer.add_summary(summary_str, epoch)\n",
    "                print(\"train#%d, train loss: %e\" % (epoch + 1, train_loss))\n",
    "\n",
    "        inputs, _  = make_prediction_initial(train_data, 0, length_of_initial_sequences)\n",
    "        outputs = np.empty(0)\n",
    "\n",
    "#        istate_ph = cell.zero_state(1, tf.float32)\n",
    "#        sess.run(istate_ph)\n",
    "\n",
    "        print(\"prediction: \")\n",
    "        for epoch in range(num_of_prediction_epochs):\n",
    "            pred_dict = {\n",
    "                input_ph:  [inputs],\n",
    "                size_of_mini_batch_ph: 1\n",
    "            }\n",
    "#            output, states = sess.run([output_op, states_op], feed_dict=pred_dict)\n",
    "            output = sess.run(output_op, feed_dict=pred_dict)\n",
    "            inputs  = np.delete(inputs, 0, 0)\n",
    "            inputs  = np.append(inputs, output, 0)\n",
    "            outputs = np.append(outputs, output)\n",
    "        \n",
    "        output_ascii = np.argmax(outputs.reshape(num_of_prediction_epochs, num_of_output_nodes), axis=1)\n",
    "        print(\"asciis: \", output_ascii)\n",
    "        print(\"outputs:\", [chr(x) for x in output_ascii])\n",
    "        #saver.save(sess, \"data/model\")"
   ]
  },
  {
   "cell_type": "code",
   "execution_count": null,
   "metadata": {
    "collapsed": true
   },
   "outputs": [],
   "source": []
  }
 ],
 "metadata": {
  "kernelspec": {
   "display_name": "Python 2",
   "language": "python",
   "name": "python2"
  },
  "language_info": {
   "codemirror_mode": {
    "name": "ipython",
    "version": 2
   },
   "file_extension": ".py",
   "mimetype": "text/x-python",
   "name": "python",
   "nbconvert_exporter": "python",
   "pygments_lexer": "ipython2",
   "version": "2.7.12"
  }
 },
 "nbformat": 4,
 "nbformat_minor": 1
}
