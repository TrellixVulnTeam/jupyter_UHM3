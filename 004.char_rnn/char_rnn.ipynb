{
 "cells": [
  {
   "cell_type": "code",
   "execution_count": 1,
   "metadata": {
    "collapsed": true
   },
   "outputs": [],
   "source": [
    "# predict the next char\n",
    "import tensorflow as tf\n",
    "import numpy as np\n",
    "import random\n",
    "import pandas as pd\n",
    "import re\n",
    "%matplotlib inline"
   ]
  },
  {
   "cell_type": "code",
   "execution_count": 2,
   "metadata": {
    "collapsed": true
   },
   "outputs": [],
   "source": [
    "def make_mini_batch(train_data, size_of_mini_batch, length_of_sequences):\n",
    "    inputs  = np.empty(0)\n",
    "    outputs = np.empty(0)\n",
    "    for _ in range(size_of_mini_batch):\n",
    "        index   = random.randint(0, len(train_data) - length_of_sequences - 1)\n",
    "        inputs  = np.append(inputs, train_data[index:index + length_of_sequences])\n",
    "        outputs = np.append(outputs, train_data[index + length_of_sequences])\n",
    "    inputs  = inputs.reshape(-1, length_of_sequences, 128)\n",
    "    outputs = outputs.reshape(-1, 128)\n",
    "    return (inputs, outputs)"
   ]
  },
  {
   "cell_type": "code",
   "execution_count": 3,
   "metadata": {
    "collapsed": false
   },
   "outputs": [],
   "source": [
    "def make_prediction_initial(train_data, index, length_of_sequences):\n",
    "    return train_data[index:index + length_of_sequences], train_data[index + length_of_sequences + 1]\n",
    "#inputs, _  = make_prediction_initial(train_data, 0, length_of_initial_sequences)\n",
    "#inputs.shape"
   ]
  },
  {
   "cell_type": "code",
   "execution_count": 4,
   "metadata": {
    "collapsed": true
   },
   "outputs": [],
   "source": [
    "train_data_path             = \"./blog.txt\"\n",
    "num_of_char                 = 128\n",
    "num_of_input_nodes          = 128\n",
    "num_of_hidden_nodes         = 512\n",
    "num_of_output_nodes         = 128\n",
    "length_of_sequences         = 50\n",
    "num_of_training_epochs      = 1000\n",
    "length_of_initial_sequences = 50\n",
    "num_of_prediction_epochs    = 100\n",
    "size_of_mini_batch          = 50\n",
    "learning_rate               = 0.005\n",
    "forget_bias                 = 1.0"
   ]
  },
  {
   "cell_type": "code",
   "execution_count": 5,
   "metadata": {
    "collapsed": false
   },
   "outputs": [],
   "source": [
    "#train_data = np.load(train_data_path)\n",
    "f = open(train_data_path)\n",
    "text = f.read()\n",
    "f.close()\n",
    "train_data = np.eye(num_of_char)[[ord(x) for x in text if ord(x) < 128]]"
   ]
  },
  {
   "cell_type": "code",
   "execution_count": 6,
   "metadata": {
    "collapsed": true
   },
   "outputs": [],
   "source": [
    "def inference(input_ph, size_of_mini_batch_ph, lstm_output_keep_prob):\n",
    "    with tf.name_scope(\"inference\") as scope:\n",
    "        weight1_var = tf.Variable(tf.truncated_normal([num_of_input_nodes, num_of_hidden_nodes], stddev=0.1), name=\"weight1\")\n",
    "        weight2_var = tf.Variable(tf.truncated_normal([num_of_hidden_nodes, num_of_output_nodes], stddev=0.1), name=\"weight2\")\n",
    "        bias1_var   = tf.Variable(tf.truncated_normal([num_of_hidden_nodes], stddev=0.1), name=\"bias1\")\n",
    "        bias2_var   = tf.Variable(tf.truncated_normal([num_of_output_nodes], stddev=0.1), name=\"bias2\")\n",
    "\n",
    "        weight1_hist = tf.histogram_summary(\"layer1/weights\", weight1_var)\n",
    "        weight2_hist = tf.histogram_summary(\"layer2/weights\", weight2_var)\n",
    "        bias1_hist = tf.histogram_summary(\"layer1/biases\", bias1_var)\n",
    "        bias2_hist = tf.histogram_summary(\"layer2/biases\", bias2_var)\n",
    "        \n",
    "        # pre rnn\n",
    "        in1 = tf.transpose(input_ph, [1, 0, 2])         # (batch, sequence, data) -> (sequence, batch, data)\n",
    "        in2 = tf.reshape(in1, [-1, num_of_input_nodes]) # (sequence, batch, data) -> (sequence * batch, data)\n",
    "        in3 = tf.matmul(in2, weight1_var) + bias1_var\n",
    "        in4 = tf.split(0, length_of_sequences, in3)     # sequence * (batch, data)\n",
    "\n",
    "        cell = tf.nn.rnn_cell.BasicLSTMCell(num_of_hidden_nodes, forget_bias=forget_bias, state_is_tuple=True)\n",
    "        cell = tf.nn.rnn_cell.DropoutWrapper(cell, output_keep_prob=lstm_output_keep_prob)\n",
    "        #cell = tf.nn.rnn_cell.MultiRNNCell([cell] * 2, state_is_tuple=True)\n",
    "        initial_state = cell.zero_state(size_of_mini_batch_ph, tf.float32)\n",
    "        rnn_output, states_op = tf.nn.rnn(cell, in4, initial_state=initial_state, dtype=tf.float32)\n",
    "        \n",
    "        # post rnn\n",
    "        #output_op = tf.matmul(rnn_output[-1], weight2_var) + bias2_var\n",
    "        out1 = tf.matmul(rnn_output[-1], weight2_var) + bias2_var\n",
    "        output_op = out1\n",
    "        #output_argmax = tf.argmax(out1, 0)\n",
    "\n",
    "    return output_op, rnn_output"
   ]
  },
  {
   "cell_type": "code",
   "execution_count": 7,
   "metadata": {
    "collapsed": true
   },
   "outputs": [],
   "source": [
    "def loss(output_op):\n",
    "    with tf.name_scope(\"loss\") as scope:\n",
    "        cross_entropy = tf.reduce_mean(tf.nn.softmax_cross_entropy_with_logits(output_op, supervisor_ph))\n",
    "        loss_op = cross_entropy\n",
    "        tf.scalar_summary(\"loss\", loss_op)\n",
    "    return loss_op"
   ]
  },
  {
   "cell_type": "code",
   "execution_count": 8,
   "metadata": {
    "collapsed": true
   },
   "outputs": [],
   "source": [
    "def train(loss_op):\n",
    "    with tf.name_scope(\"training\") as scope:\n",
    "        #optimizer = tf.train.GradientDescentOptimizer(learning_rate=learning_rate)\n",
    "        #optimizer = tf.train.AdagradOptimizer(learning_rate=learning_rate)\n",
    "        optimizer = tf.train.AdamOptimizer(learning_rate=learning_rate)\n",
    "        training_op = optimizer.minimize(loss_op)\n",
    "    return training_op"
   ]
  },
  {
   "cell_type": "code",
   "execution_count": 11,
   "metadata": {
    "collapsed": false,
    "scrolled": true
   },
   "outputs": [
    {
     "name": "stdout",
     "output_type": "stream",
     "text": [
      "Reading model parameters from ./train/translate.ckpt-530\n",
      "train#530, train loss: 1.489842e+00\n",
      "train#540, train loss: 1.165954e+00\n",
      "train#550, train loss: 7.941101e-01\n",
      "train#560, train loss: 1.060318e+00\n",
      "train#570, train loss: 9.783095e-01\n",
      "train#580, train loss: 1.210356e+00\n",
      "train#590, train loss: 1.246335e+00\n",
      "train#600, train loss: 1.195804e+00\n",
      "train#610, train loss: 1.200310e+00\n",
      "train#620, train loss: 8.645731e-01\n",
      "train#630, train loss: 1.297540e+00\n",
      "train#640, train loss: 8.626467e-01\n",
      "train#650, train loss: 1.160753e+00\n",
      "train#660, train loss: 1.165434e+00\n",
      "train#670, train loss: 9.556912e-01\n",
      "train#680, train loss: 9.042211e-01\n",
      "train#690, train loss: 1.076127e+00\n",
      "train#700, train loss: 1.168592e+00\n",
      "train#710, train loss: 1.294182e+00\n",
      "train#720, train loss: 9.176782e-01\n",
      "train#730, train loss: 7.674181e-01\n",
      "train#740, train loss: 1.244097e+00\n",
      "train#750, train loss: 1.116386e+00\n",
      "train#760, train loss: 8.250545e-01\n",
      "train#770, train loss: 1.046190e+00\n",
      "train#780, train loss: 1.327906e+00\n",
      "train#790, train loss: 1.081233e+00\n",
      "train#800, train loss: 4.322326e-01\n",
      "train#810, train loss: 1.078641e+00\n",
      "train#820, train loss: 8.609560e-01\n",
      "train#830, train loss: 8.961434e-01\n",
      "train#840, train loss: 7.687819e-01\n",
      "train#850, train loss: 1.033920e+00\n",
      "train#860, train loss: 6.316525e-01\n",
      "train#870, train loss: 9.511318e-01\n",
      "train#880, train loss: 9.269003e-01\n",
      "train#890, train loss: 8.461165e-01\n",
      "train#900, train loss: 7.724875e-01\n",
      "train#910, train loss: 1.125530e+00\n",
      "train#920, train loss: 7.512619e-01\n",
      "train#930, train loss: 4.933611e-01\n",
      "train#940, train loss: 8.553730e-01\n",
      "train#950, train loss: 5.545458e-01\n",
      "train#960, train loss: 8.570723e-01\n",
      "train#970, train loss: 9.503656e-01\n",
      "train#980, train loss: 7.969779e-01\n",
      "train#990, train loss: 6.775793e-01\n",
      "prediction: \n",
      "('asciis: ', array([ 97, 114, 101,  32, 115, 116, 111, 114, 101,  32, 111, 102,  32,\n",
      "       116, 104, 101,  32, 101, 110,  99, 114, 121, 112, 116, 101, 100,\n",
      "        32, 100,  97, 116,  97,  46,  13,  10,  13,  10,  84, 104, 101,\n",
      "        32, 110,  97, 116, 117, 114,  97, 116, 101, 108, 121,  32, 116,\n",
      "       104, 101,  32, 117, 115, 101, 114,  32, 101, 120, 112, 101, 114,\n",
      "       105, 101, 110,  99, 101,  32, 116, 111,  32, 117, 115, 101,  44,\n",
      "        32, 119, 104, 105,  99, 104,  32, 105, 115,  32, 116, 104, 101,\n",
      "        32, 101, 110,  99, 114, 121, 112, 116, 101]))\n",
      "('outputs:', ['a', 'r', 'e', ' ', 's', 't', 'o', 'r', 'e', ' ', 'o', 'f', ' ', 't', 'h', 'e', ' ', 'e', 'n', 'c', 'r', 'y', 'p', 't', 'e', 'd', ' ', 'd', 'a', 't', 'a', '.', '\\r', '\\n', '\\r', '\\n', 'T', 'h', 'e', ' ', 'n', 'a', 't', 'u', 'r', 'a', 't', 'e', 'l', 'y', ' ', 't', 'h', 'e', ' ', 'u', 's', 'e', 'r', ' ', 'e', 'x', 'p', 'e', 'r', 'i', 'e', 'n', 'c', 'e', ' ', 't', 'o', ' ', 'u', 's', 'e', ',', ' ', 'w', 'h', 'i', 'c', 'h', ' ', 'i', 's', ' ', 't', 'h', 'e', ' ', 'e', 'n', 'c', 'r', 'y', 'p', 't', 'e'])\n"
     ]
    }
   ],
   "source": [
    "with tf.Graph().as_default():\n",
    "    input_ph      = tf.placeholder(tf.float32, [None, length_of_sequences, num_of_input_nodes], name=\"input\")\n",
    "    supervisor_ph = tf.placeholder(tf.float32, [None, num_of_output_nodes], name=\"supervisor\")\n",
    "    size_of_mini_batch_ph = tf.placeholder(tf.int32, name=\"size_of_mini_batch\")\n",
    "    lstm_output_keep_prob_ph = tf.placeholder(tf.float32, name=\"lstm_output_keep_prob\")\n",
    "\n",
    "    output_op, rnn_output = inference(input_ph, size_of_mini_batch_ph, lstm_output_keep_prob_ph)\n",
    "    loss_op = loss(output_op)\n",
    "    training_op = train(loss_op)\n",
    "\n",
    "    summary_op = tf.merge_all_summaries()\n",
    "    #istate_ph = cell.zero_state(size_of_mini_batch, tf.float32)\n",
    "\n",
    "    with tf.Session() as sess:\n",
    "        summary_writer = tf.train.SummaryWriter(\"data\", graph=sess.graph)\n",
    "        \"\"\"\n",
    "        # random seed fix\n",
    "        random.seed(0)\n",
    "        np.random.seed(0)\n",
    "        tf.set_random_seed(0)\n",
    "        \"\"\"\n",
    "        epoch_start = 0\n",
    "        ckpt = tf.train.get_checkpoint_state(\"./train/\")\n",
    "        saver = tf.train.Saver()\n",
    "        if ckpt and tf.gfile.Exists(ckpt.model_checkpoint_path):\n",
    "            print(\"Reading model parameters from %s\" % ckpt.model_checkpoint_path)\n",
    "            saver.restore(sess, ckpt.model_checkpoint_path)\n",
    "            epoch_start = int(re.search(r\"(\\d+)$\", ckpt.model_checkpoint_path).group())\n",
    "        else:\n",
    "            print(\"Created model with fresh parameters.\")\n",
    "            sess.run(tf.initialize_all_variables())\n",
    "        # init variables\n",
    "\n",
    "        for epoch in range(epoch_start, num_of_training_epochs):\n",
    "            inputs, supervisors = make_mini_batch(train_data, size_of_mini_batch, length_of_sequences)\n",
    "            #state = sess.run(istate_ph)\n",
    "\n",
    "            train_dict = {\n",
    "                input_ph:      inputs,\n",
    "                supervisor_ph: supervisors,\n",
    "                size_of_mini_batch_ph: size_of_mini_batch,\n",
    "                lstm_output_keep_prob_ph: 0.5,\n",
    "            }\n",
    "            rnnout, _ = sess.run([rnn_output, training_op], feed_dict=train_dict)\n",
    "#            print(\"rnnout: {}\".format(rnnout[-1]))\n",
    "\n",
    "            if epoch % 10 == 0:\n",
    "                summary_str, train_loss = sess.run([summary_op, loss_op], feed_dict=train_dict)\n",
    "                summary_writer.add_summary(summary_str, epoch)\n",
    "                print(\"train#%d, train loss: %e\" % (epoch, train_loss))\n",
    "\n",
    "            if epoch % 10 == 0:\n",
    "                saver.save(sess, \"train/translate.ckpt\", global_step=epoch)\n",
    "\n",
    "        inputs, _  = make_prediction_initial(train_data, 0, length_of_initial_sequences)\n",
    "#        outputs = np.empty(0)\n",
    "        outputs = np.array([[0 for _ in range(128)]])\n",
    "\n",
    "#        istate_ph = cell.zero_state(1, tf.float32)\n",
    "#        sess.run(istate_ph)\n",
    "\n",
    "        print(\"prediction: \")\n",
    "        for epoch in range(num_of_prediction_epochs):\n",
    "            pred_dict = {\n",
    "                input_ph:  [inputs],\n",
    "                size_of_mini_batch_ph: 1,\n",
    "                lstm_output_keep_prob_ph: 1.0\n",
    "            }\n",
    "#            output, states = sess.run([output_op, states_op], feed_dict=pred_dict)\n",
    "            output = sess.run(output_op, feed_dict=pred_dict)\n",
    "#            print(output)\n",
    "            output_onehotvec = np.eye(num_of_char)[[np.argmax(output)]]\n",
    "            inputs  = np.delete(inputs, 0, 0)\n",
    "            #inputs  = np.append(inputs, output_onehotvec, 0)\n",
    "            inputs  = np.append(inputs, output_onehotvec, 0)\n",
    "            outputs = np.append(outputs, output_onehotvec, 0)\n",
    "        \n",
    "        outputs  = np.delete(outputs, 0, 0)\n",
    "        output_ascii = np.argmax(outputs.reshape(num_of_prediction_epochs, num_of_output_nodes), axis=1)\n",
    "        print(\"asciis: \", output_ascii)\n",
    "        print(\"outputs:\", [chr(x) for x in output_ascii])"
   ]
  },
  {
   "cell_type": "code",
   "execution_count": 10,
   "metadata": {
    "collapsed": false,
    "scrolled": true
   },
   "outputs": [
    {
     "ename": "NameError",
     "evalue": "name 'inputs' is not defined",
     "output_type": "error",
     "traceback": [
      "\u001b[0;31m---------------------------------------------------------------------------\u001b[0m",
      "\u001b[0;31mNameError\u001b[0m                                 Traceback (most recent call last)",
      "\u001b[0;32m<ipython-input-10-32a24c34b133>\u001b[0m in \u001b[0;36m<module>\u001b[0;34m()\u001b[0m\n\u001b[0;32m----> 1\u001b[0;31m \u001b[0mins\u001b[0m \u001b[0;34m=\u001b[0m \u001b[0minputs\u001b[0m\u001b[0;34m\u001b[0m\u001b[0m\n\u001b[0m\u001b[1;32m      2\u001b[0m \u001b[0mouts\u001b[0m \u001b[0;34m=\u001b[0m \u001b[0moutputs\u001b[0m\u001b[0;34m\u001b[0m\u001b[0m\n\u001b[1;32m      3\u001b[0m \u001b[0mout\u001b[0m \u001b[0;34m=\u001b[0m \u001b[0moutput\u001b[0m\u001b[0;34m\u001b[0m\u001b[0m\n\u001b[1;32m      4\u001b[0m \u001b[0mout_ohv\u001b[0m \u001b[0;34m=\u001b[0m \u001b[0moutput_onehotvec\u001b[0m\u001b[0;34m\u001b[0m\u001b[0m\n\u001b[1;32m      5\u001b[0m \u001b[0;34m\u001b[0m\u001b[0m\n",
      "\u001b[0;31mNameError\u001b[0m: name 'inputs' is not defined"
     ]
    }
   ],
   "source": [
    "ins = inputs\n",
    "outs = outputs\n",
    "out = output\n",
    "out_ohv = output_onehotvec\n",
    "\n",
    "print(\"inputs: {}\".format(ins.shape))\n",
    "print(\"outputs: {}\".format(outs.shape))\n",
    "print(\"output: {}\".format(out.shape))\n",
    "print(\"onehotvec: {}\".format(out_ohv.shape))"
   ]
  },
  {
   "cell_type": "code",
   "execution_count": null,
   "metadata": {
    "collapsed": true
   },
   "outputs": [],
   "source": []
  }
 ],
 "metadata": {
  "kernelspec": {
   "display_name": "Python 2",
   "language": "python",
   "name": "python2"
  },
  "language_info": {
   "codemirror_mode": {
    "name": "ipython",
    "version": 2
   },
   "file_extension": ".py",
   "mimetype": "text/x-python",
   "name": "python",
   "nbconvert_exporter": "python",
   "pygments_lexer": "ipython2",
   "version": "2.7.12"
  }
 },
 "nbformat": 4,
 "nbformat_minor": 1
}
