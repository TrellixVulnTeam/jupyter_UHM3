{
 "cells": [
  {
   "cell_type": "code",
   "execution_count": 1,
   "metadata": {
    "collapsed": false
   },
   "outputs": [],
   "source": [
    "import tensorflow as tf\n",
    "import numpy as np\n",
    "import random\n",
    "import pandas as pd\n",
    "%matplotlib inline"
   ]
  },
  {
   "cell_type": "code",
   "execution_count": 2,
   "metadata": {
    "collapsed": true,
    "slideshow": {
     "slide_type": "slide"
    }
   },
   "outputs": [],
   "source": [
    "def make_mini_batch(train_data, size_of_mini_batch, length_of_sequences):\n",
    "    inputs  = np.empty(0)\n",
    "    outputs = np.empty(0)\n",
    "    for _ in range(size_of_mini_batch):\n",
    "        index   = random.randint(0, len(train_data) - length_of_sequences)\n",
    "        part    = train_data[index:index + length_of_sequences]\n",
    "        inputs  = np.append(inputs, part[:, 0])\n",
    "        outputs = np.append(outputs, part[-1, 1])\n",
    "    inputs  = inputs.reshape(-1, length_of_sequences, 1)\n",
    "    outputs = outputs.reshape(-1, 1)\n",
    "    return (inputs, outputs)"
   ]
  },
  {
   "cell_type": "code",
   "execution_count": 3,
   "metadata": {
    "collapsed": true
   },
   "outputs": [],
   "source": [
    "def make_prediction_initial(train_data, index, length_of_sequences):\n",
    "    return train_data[index:index + length_of_sequences, 0]"
   ]
  },
  {
   "cell_type": "code",
   "execution_count": 4,
   "metadata": {
    "collapsed": true
   },
   "outputs": [],
   "source": [
    "train_data_path             = \"./sin.npy\"\n",
    "num_of_input_nodes          = 1\n",
    "num_of_hidden_nodes         = 10\n",
    "num_of_output_nodes         = 1\n",
    "length_of_sequences         = 50\n",
    "num_of_training_epochs      = 800\n",
    "length_of_initial_sequences = 50\n",
    "num_of_prediction_epochs    = 100\n",
    "size_of_mini_batch          = 100\n",
    "learning_rate               = 0.1\n",
    "forget_bias                 = 1.0"
   ]
  },
  {
   "cell_type": "code",
   "execution_count": 5,
   "metadata": {
    "collapsed": false,
    "scrolled": false
   },
   "outputs": [
    {
     "name": "stdout",
     "output_type": "stream",
     "text": [
      "('train_data:', array([[  0.00000000e+00,   1.25333234e-01],\n",
      "       [  1.25333234e-01,   2.48689887e-01],\n",
      "       [  2.48689887e-01,   3.68124553e-01],\n",
      "       ..., \n",
      "       [ -3.68124553e-01,  -2.48689887e-01],\n",
      "       [ -2.48689887e-01,  -1.25333234e-01],\n",
      "       [ -1.25333234e-01,   3.92877345e-15]]))\n"
     ]
    }
   ],
   "source": [
    "train_data = np.load(train_data_path)\n",
    "print(\"train_data:\", train_data)"
   ]
  },
  {
   "cell_type": "code",
   "execution_count": 6,
   "metadata": {
    "collapsed": true
   },
   "outputs": [],
   "source": [
    "# random seed fix\n",
    "random.seed(0)\n",
    "np.random.seed(0)\n",
    "tf.set_random_seed(0)"
   ]
  },
  {
   "cell_type": "code",
   "execution_count": 7,
   "metadata": {
    "collapsed": true
   },
   "outputs": [],
   "source": [
    "optimizer = tf.train.GradientDescentOptimizer(learning_rate=learning_rate)"
   ]
  },
  {
   "cell_type": "code",
   "execution_count": 8,
   "metadata": {
    "collapsed": false
   },
   "outputs": [
    {
     "name": "stderr",
     "output_type": "stream",
     "text": [
      "WARNING:tensorflow:<tensorflow.python.ops.rnn_cell.BasicLSTMCell object at 0x7fe26eb29d50>: Using a concatenated state is slower and will soon be deprecated.  Use state_is_tuple=True.\n"
     ]
    },
    {
     "name": "stdout",
     "output_type": "stream",
     "text": [
      "train#10, train loss: 3.462875e-01\n",
      "train#20, train loss: 1.849673e-01\n",
      "train#30, train loss: 7.396790e-02\n",
      "train#40, train loss: 1.960554e-02\n",
      "train#50, train loss: 6.614456e-03\n",
      "train#60, train loss: 1.936948e-03\n",
      "train#70, train loss: 1.230469e-03\n",
      "train#80, train loss: 8.871231e-04\n",
      "train#90, train loss: 8.806281e-04\n",
      "train#100, train loss: 6.973635e-04\n",
      "train#110, train loss: 6.276588e-04\n",
      "train#120, train loss: 5.662793e-04\n",
      "train#130, train loss: 5.330117e-04\n",
      "train#140, train loss: 4.113732e-04\n",
      "train#150, train loss: 3.267646e-04\n",
      "train#160, train loss: 3.363406e-04\n",
      "train#170, train loss: 2.817944e-04\n",
      "train#180, train loss: 2.353333e-04\n",
      "train#190, train loss: 2.201950e-04\n",
      "train#200, train loss: 1.977441e-04\n",
      "train#210, train loss: 2.026007e-04\n",
      "train#220, train loss: 1.413028e-04\n",
      "train#230, train loss: 1.187093e-04\n",
      "train#240, train loss: 1.081451e-04\n",
      "train#250, train loss: 9.073570e-05\n",
      "train#260, train loss: 7.524189e-05\n",
      "train#270, train loss: 6.676393e-05\n",
      "train#280, train loss: 5.636833e-05\n",
      "train#290, train loss: 5.474631e-05\n",
      "train#300, train loss: 4.310867e-05\n",
      "train#310, train loss: 3.458225e-05\n",
      "train#320, train loss: 3.380478e-05\n",
      "train#330, train loss: 3.181457e-05\n",
      "train#340, train loss: 2.451445e-05\n",
      "train#350, train loss: 2.562388e-05\n",
      "train#360, train loss: 2.146642e-05\n",
      "train#370, train loss: 2.119111e-05\n",
      "train#380, train loss: 1.735127e-05\n",
      "train#390, train loss: 1.933629e-05\n",
      "train#400, train loss: 1.343236e-05\n",
      "train#410, train loss: 8.819034e-06\n",
      "train#420, train loss: 1.283476e-05\n",
      "train#430, train loss: 1.131878e-05\n",
      "train#440, train loss: 1.560972e-05\n",
      "train#450, train loss: 1.118577e-05\n",
      "train#460, train loss: 1.267863e-05\n",
      "train#470, train loss: 8.846501e-06\n",
      "train#480, train loss: 1.070663e-05\n",
      "train#490, train loss: 1.336831e-05\n",
      "train#500, train loss: 1.092802e-05\n",
      "train#510, train loss: 8.935976e-06\n",
      "train#520, train loss: 9.331567e-06\n",
      "train#530, train loss: 8.355830e-06\n",
      "train#540, train loss: 7.250082e-06\n",
      "train#550, train loss: 1.006101e-05\n",
      "train#560, train loss: 8.243918e-06\n",
      "train#570, train loss: 6.738339e-06\n",
      "train#580, train loss: 7.028642e-06\n",
      "train#590, train loss: 8.816680e-06\n",
      "train#600, train loss: 8.194187e-06\n",
      "train#610, train loss: 7.689040e-06\n",
      "train#620, train loss: 8.975208e-06\n",
      "train#630, train loss: 5.041933e-06\n",
      "train#640, train loss: 9.397044e-06\n",
      "train#650, train loss: 5.684756e-06\n",
      "train#660, train loss: 6.046683e-06\n",
      "train#670, train loss: 7.357283e-06\n",
      "train#680, train loss: 7.240020e-06\n",
      "train#690, train loss: 7.513972e-06\n",
      "train#700, train loss: 5.663243e-06\n",
      "train#710, train loss: 6.072264e-06\n",
      "train#720, train loss: 6.966699e-06\n",
      "train#730, train loss: 5.945547e-06\n",
      "train#740, train loss: 6.470014e-06\n",
      "train#750, train loss: 8.428632e-06\n",
      "train#760, train loss: 6.599911e-06\n",
      "train#770, train loss: 7.162116e-06\n",
      "train#780, train loss: 6.928602e-06\n",
      "train#790, train loss: 5.842006e-06\n",
      "train#800, train loss: 7.849553e-06\n",
      "('initial:', array([  0.00000000e+00,   1.25333234e-01,   2.48689887e-01,\n",
      "         3.68124553e-01,   4.81753674e-01,   5.87785252e-01,\n",
      "         6.84547106e-01,   7.70513243e-01,   8.44327926e-01,\n",
      "         9.04827052e-01,   9.51056516e-01,   9.82287251e-01,\n",
      "         9.98026728e-01,   9.98026728e-01,   9.82287251e-01,\n",
      "         9.51056516e-01,   9.04827052e-01,   8.44327926e-01,\n",
      "         7.70513243e-01,   6.84547106e-01,   5.87785252e-01,\n",
      "         4.81753674e-01,   3.68124553e-01,   2.48689887e-01,\n",
      "         1.25333234e-01,  -3.21624530e-16,  -1.25333234e-01,\n",
      "        -2.48689887e-01,  -3.68124553e-01,  -4.81753674e-01,\n",
      "        -5.87785252e-01,  -6.84547106e-01,  -7.70513243e-01,\n",
      "        -8.44327926e-01,  -9.04827052e-01,  -9.51056516e-01,\n",
      "        -9.82287251e-01,  -9.98026728e-01,  -9.98026728e-01,\n",
      "        -9.82287251e-01,  -9.51056516e-01,  -9.04827052e-01,\n",
      "        -8.44327926e-01,  -7.70513243e-01,  -6.84547106e-01,\n",
      "        -5.87785252e-01,  -4.81753674e-01,  -3.68124553e-01,\n",
      "        -2.48689887e-01,  -1.25333234e-01]))\n",
      "prediction#1, output: 0.000673\n",
      "prediction#2, output: 0.123550\n",
      "prediction#3, output: 0.247117\n",
      "prediction#4, output: 0.366926\n",
      "prediction#5, output: 0.480827\n",
      "prediction#6, output: 0.586883\n",
      "prediction#7, output: 0.683483\n",
      "prediction#8, output: 0.769329\n",
      "prediction#9, output: 0.843281\n",
      "prediction#10, output: 0.904189\n",
      "prediction#11, output: 0.950831\n",
      "prediction#12, output: 0.982079\n",
      "prediction#13, output: 0.997226\n",
      "prediction#14, output: 0.996213\n",
      "prediction#15, output: 0.979556\n",
      "prediction#16, output: 0.948025\n",
      "prediction#17, output: 0.902333\n",
      "prediction#18, output: 0.842986\n",
      "prediction#19, output: 0.770334\n",
      "prediction#20, output: 0.684805\n",
      "prediction#21, output: 0.587253\n",
      "prediction#22, output: 0.479261\n",
      "prediction#23, output: 0.363152\n",
      "prediction#24, output: 0.241600\n",
      "prediction#25, output: 0.117070\n",
      "prediction#26, output: -0.008435\n",
      "prediction#27, output: -0.133170\n",
      "prediction#28, output: -0.255345\n",
      "prediction#29, output: -0.373060\n",
      "prediction#30, output: -0.484493\n",
      "prediction#31, output: -0.588151\n",
      "prediction#32, output: -0.683074\n",
      "prediction#33, output: -0.768762\n",
      "prediction#34, output: -0.844539\n",
      "prediction#35, output: -0.908637\n",
      "prediction#36, output: -0.958079\n",
      "prediction#37, output: -0.990019\n",
      "prediction#38, output: -1.003386\n",
      "prediction#39, output: -0.999144\n",
      "prediction#40, output: -0.979220\n",
      "prediction#41, output: -0.945363\n",
      "prediction#42, output: -0.898632\n",
      "prediction#43, output: -0.839454\n",
      "prediction#44, output: -0.767940\n",
      "prediction#45, output: -0.684282\n",
      "prediction#46, output: -0.589127\n",
      "prediction#47, output: -0.483805\n",
      "prediction#48, output: -0.370293\n",
      "prediction#49, output: -0.250875\n",
      "prediction#50, output: -0.127712\n",
      "prediction#51, output: -0.002652\n",
      "prediction#52, output: 0.122591\n",
      "prediction#53, output: 0.246163\n",
      "prediction#54, output: 0.365983\n",
      "prediction#55, output: 0.479919\n",
      "prediction#56, output: 0.586032\n",
      "prediction#57, output: 0.682711\n",
      "prediction#58, output: 0.768653\n",
      "prediction#59, output: 0.842718\n",
      "prediction#60, output: 0.903755\n",
      "prediction#61, output: 0.950543\n",
      "prediction#62, output: 0.981949\n",
      "prediction#63, output: 0.997260\n",
      "prediction#64, output: 0.996411\n",
      "prediction#65, output: 0.979912\n",
      "prediction#66, output: 0.948534\n",
      "prediction#67, output: 0.902990\n",
      "prediction#68, output: 0.843788\n",
      "prediction#69, output: 0.771280\n",
      "prediction#70, output: 0.685890\n",
      "prediction#71, output: 0.588464\n",
      "prediction#72, output: 0.480576\n",
      "prediction#73, output: 0.364542\n",
      "prediction#74, output: 0.243034\n",
      "prediction#75, output: 0.118523\n",
      "prediction#76, output: -0.006982\n",
      "prediction#77, output: -0.131737\n",
      "prediction#78, output: -0.253953\n",
      "prediction#79, output: -0.371732\n",
      "prediction#80, output: -0.483247\n",
      "prediction#81, output: -0.587001\n",
      "prediction#82, output: -0.682028\n",
      "prediction#83, output: -0.767826\n",
      "prediction#84, output: -0.843726\n",
      "prediction#85, output: -0.907975\n",
      "prediction#86, output: -0.957605\n",
      "prediction#87, output: -0.989760\n",
      "prediction#88, output: -1.003341\n",
      "prediction#89, output: -0.999293\n",
      "prediction#90, output: -0.979541\n",
      "prediction#91, output: -0.945839\n",
      "prediction#92, output: -0.899256\n",
      "prediction#93, output: -0.840224\n",
      "prediction#94, output: -0.768855\n",
      "prediction#95, output: -0.685339\n",
      "prediction#96, output: -0.590313\n",
      "prediction#97, output: -0.485099\n",
      "prediction#98, output: -0.371671\n",
      "prediction#99, output: -0.252309\n",
      "prediction#100, output: -0.129178\n",
      "('outputs:', array([  6.72712922e-04,   1.23549886e-01,   2.47117206e-01,\n",
      "         3.66926491e-01,   4.80827212e-01,   5.86882591e-01,\n",
      "         6.83483243e-01,   7.69328773e-01,   8.43280852e-01,\n",
      "         9.04188991e-01,   9.50830996e-01,   9.82079148e-01,\n",
      "         9.97225761e-01,   9.96213198e-01,   9.79555845e-01,\n",
      "         9.48024631e-01,   9.02332962e-01,   8.42985809e-01,\n",
      "         7.70333529e-01,   6.84804738e-01,   5.87253332e-01,\n",
      "         4.79260802e-01,   3.63151848e-01,   2.41599932e-01,\n",
      "         1.17069751e-01,  -8.43467563e-03,  -1.33169755e-01,\n",
      "        -2.55344748e-01,  -3.73060226e-01,  -4.84493375e-01,\n",
      "        -5.88150859e-01,  -6.83073640e-01,  -7.68761873e-01,\n",
      "        -8.44539404e-01,  -9.08637464e-01,  -9.58078802e-01,\n",
      "        -9.90018785e-01,  -1.00338638e+00,  -9.99144018e-01,\n",
      "        -9.79220450e-01,  -9.45362747e-01,  -8.98631632e-01,\n",
      "        -8.39453518e-01,  -7.67939687e-01,  -6.84282184e-01,\n",
      "        -5.89126885e-01,  -4.83804524e-01,  -3.70292604e-01,\n",
      "        -2.50875056e-01,  -1.27711594e-01,  -2.65242159e-03,\n",
      "         1.22591116e-01,   2.46163279e-01,   3.65982652e-01,\n",
      "         4.79918540e-01,   5.86031795e-01,   6.82710826e-01,\n",
      "         7.68652737e-01,   8.42718005e-01,   9.03755486e-01,\n",
      "         9.50542688e-01,   9.81948674e-01,   9.97259736e-01,\n",
      "         9.96410787e-01,   9.79912102e-01,   9.48533535e-01,\n",
      "         9.02989805e-01,   8.43788445e-01,   7.71279871e-01,\n",
      "         6.85889721e-01,   5.88464320e-01,   4.80575860e-01,\n",
      "         3.64541590e-01,   2.43034258e-01,   1.18523434e-01,\n",
      "        -6.98190928e-03,  -1.31737277e-01,  -2.53953338e-01,\n",
      "        -3.71731758e-01,  -4.83247042e-01,  -5.87001085e-01,\n",
      "        -6.82028234e-01,  -7.67825842e-01,  -8.43725681e-01,\n",
      "        -9.07974780e-01,  -9.57605183e-01,  -9.89759505e-01,\n",
      "        -1.00334084e+00,  -9.99293268e-01,  -9.79541123e-01,\n",
      "        -9.45838988e-01,  -8.99255693e-01,  -8.40223551e-01,\n",
      "        -7.68854916e-01,  -6.85338616e-01,  -5.90312600e-01,\n",
      "        -4.85099494e-01,  -3.71670783e-01,  -2.52309382e-01,\n",
      "        -1.29178494e-01]))\n"
     ]
    }
   ],
   "source": [
    "with tf.Graph().as_default():\n",
    "    input_ph      = tf.placeholder(tf.float32, [None, length_of_sequences, num_of_input_nodes], name=\"input\")\n",
    "    supervisor_ph = tf.placeholder(tf.float32, [None, num_of_output_nodes], name=\"supervisor\")\n",
    "    istate_ph     = tf.placeholder(tf.float32, [None, num_of_hidden_nodes * 2], name=\"istate\")\n",
    "\n",
    "    with tf.name_scope(\"inference\") as scope:\n",
    "        weight1_var = tf.Variable(tf.truncated_normal([num_of_input_nodes, num_of_hidden_nodes], stddev=0.1), name=\"weight1\")\n",
    "        weight2_var = tf.Variable(tf.truncated_normal([num_of_hidden_nodes, num_of_output_nodes], stddev=0.1), name=\"weight2\")\n",
    "        bias1_var   = tf.Variable(tf.truncated_normal([num_of_hidden_nodes], stddev=0.1), name=\"bias1\")\n",
    "        bias2_var   = tf.Variable(tf.truncated_normal([num_of_output_nodes], stddev=0.1), name=\"bias2\")\n",
    "        \n",
    "        weight1_hist = tf.histogram_summary(\"layer1/weights\", weight1_var)\n",
    "        weight2_hist = tf.histogram_summary(\"layer2/weights\", weight2_var)\n",
    "        bias1_hist = tf.histogram_summary(\"layer1/biases\", bias1_var)\n",
    "        bias2_hist = tf.histogram_summary(\"layer2/biases\", bias2_var)\n",
    "        \n",
    "        in1 = tf.transpose(input_ph, [1, 0, 2])         # (batch, sequence, data) -> (sequence, batch, data)\n",
    "        in2 = tf.reshape(in1, [-1, num_of_input_nodes]) # (sequence, batch, data) -> (sequence * batch, data)\n",
    "        in3 = tf.matmul(in2, weight1_var) + bias1_var\n",
    "        in4 = tf.split(0, length_of_sequences, in3)     # sequence * (batch, data)\n",
    "\n",
    "        cell = tf.nn.rnn_cell.BasicLSTMCell(num_of_hidden_nodes, forget_bias=forget_bias)\n",
    "        rnn_output, states_op = tf.nn.rnn(cell, in4, initial_state=istate_ph)\n",
    "        output_op = tf.matmul(rnn_output[-1], weight2_var) + bias2_var\n",
    "\n",
    "    with tf.name_scope(\"loss\") as scope:\n",
    "        square_error = tf.reduce_mean(tf.square(output_op - supervisor_ph))\n",
    "        loss_op      = square_error\n",
    "        tf.scalar_summary(\"loss\", loss_op)\n",
    "\n",
    "    with tf.name_scope(\"training\") as scope:\n",
    "        training_op = optimizer.minimize(loss_op)\n",
    "\n",
    "    summary_op = tf.merge_all_summaries()\n",
    "    init = tf.initialize_all_variables()\n",
    "\n",
    "    with tf.Session() as sess:\n",
    "        saver = tf.train.Saver()\n",
    "        summary_writer = tf.train.SummaryWriter(\"data\", graph=sess.graph)\n",
    "        sess.run(init)\n",
    "\n",
    "        for epoch in range(num_of_training_epochs):\n",
    "            inputs, supervisors = make_mini_batch(train_data, size_of_mini_batch, length_of_sequences)\n",
    "            #print(inputs)\n",
    "            #print(supervisors)\n",
    "\n",
    "            train_dict = {\n",
    "                input_ph:      inputs,\n",
    "                supervisor_ph: supervisors,\n",
    "                istate_ph:     np.zeros((size_of_mini_batch, num_of_hidden_nodes * 2)),\n",
    "            }\n",
    "            sess.run(training_op, feed_dict=train_dict)\n",
    "\n",
    "            if (epoch + 1) % 10 == 0:\n",
    "                summary_str, train_loss = sess.run([summary_op, loss_op], feed_dict=train_dict)\n",
    "                summary_writer.add_summary(summary_str, epoch)\n",
    "                print(\"train#%d, train loss: %e\" % (epoch + 1, train_loss))\n",
    "\n",
    "        inputs  = make_prediction_initial(train_data, 0, length_of_initial_sequences)\n",
    "        outputs = np.empty(0)\n",
    "        states  = np.zeros((num_of_hidden_nodes * 2)),\n",
    "\n",
    "        print(\"initial:\", inputs)\n",
    "        np.save(\"initial.npy\", inputs)\n",
    "\n",
    "        for epoch in range(num_of_prediction_epochs):\n",
    "            pred_dict = {\n",
    "                input_ph:  inputs.reshape((1, length_of_sequences, 1)),\n",
    "                istate_ph: states,\n",
    "            }\n",
    "            output, states = sess.run([output_op, states_op], feed_dict=pred_dict)\n",
    "            print(\"prediction#%d, output: %f\" % (epoch + 1, output))\n",
    "\n",
    "            inputs  = np.delete(inputs, 0)\n",
    "            inputs  = np.append(inputs, output)\n",
    "            outputs = np.append(outputs, output)\n",
    "\n",
    "        print(\"outputs:\", outputs)\n",
    "        np.save(\"output.npy\", outputs)\n",
    "\n",
    "        saver.save(sess, \"data/model\")"
   ]
  },
  {
   "cell_type": "code",
   "execution_count": 9,
   "metadata": {
    "collapsed": false
   },
   "outputs": [
    {
     "data": {
      "text/plain": [
       "<matplotlib.axes._subplots.AxesSubplot at 0x7fe26ebbc410>"
      ]
     },
     "execution_count": 9,
     "metadata": {},
     "output_type": "execute_result"
    },
    {
     "data": {
      "image/png": "[encoded data removed]",
      "text/plain": [
       "<matplotlib.figure.Figure at 0x7fe26ee5e990>"
      ]
     },
     "metadata": {},
     "output_type": "display_data"
    }
   ],
   "source": [
    "pred = np.load('output.npy')\n",
    "df = pd.DataFrame({'supervisor': train_data[0:len(pred),0], 'prediction': pred})\n",
    "df.plot()"
   ]
  },
  {
   "cell_type": "code",
   "execution_count": 10,
   "metadata": {
    "collapsed": false
   },
   "outputs": [
    {
     "data": {
      "text/plain": [
       "<matplotlib.axes._subplots.AxesSubplot at 0x7fe2518ce950>"
      ]
     },
     "execution_count": 10,
     "metadata": {},
     "output_type": "execute_result"
    },
    {
     "data": {
      "image/png": "[encoded data removed]",
      "text/plain": [
       "<matplotlib.figure.Figure at 0x7fe24912e590>"
      ]
     },
     "metadata": {},
     "output_type": "display_data"
    }
   ],
   "source": [
    "df = pd.DataFrame({'t': train_data[0:len(pred),0], 's': train_data[0:len(pred),1]})\n",
    "df.head(600).plot()"
   ]
  }
 ],
 "metadata": {
  "kernelspec": {
   "display_name": "Python 2",
   "language": "python",
   "name": "python2"
  },
  "language_info": {
   "codemirror_mode": {
    "name": "ipython",
    "version": 2
   },
   "file_extension": ".py",
   "mimetype": "text/x-python",
   "name": "python",
   "nbconvert_exporter": "python",
   "pygments_lexer": "ipython2",
   "version": "2.7.9"
  }
 },
 "nbformat": 4,
 "nbformat_minor": 1
}
