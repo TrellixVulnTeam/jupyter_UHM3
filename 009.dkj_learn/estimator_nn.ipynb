{
 "cells": [
  {
   "cell_type": "code",
   "execution_count": 1,
   "metadata": {
    "collapsed": false,
    "deletable": true,
    "editable": true
   },
   "outputs": [],
   "source": [
    "import sys\n",
    "import notebookutil as nbu\n",
    "sys.meta_path.append(nbu.NotebookFinder())\n",
    "import datasets\n",
    "import tensorflow as tf\n",
    "import numpy as np\n",
    "import random\n",
    "import pandas as pd\n",
    "import glob\n",
    "import os\n",
    "from tensorflow.contrib.tensorboard.plugins import projector\n",
    "import matplotlib\n",
    "import matplotlib.pyplot as plt\n",
    "%matplotlib inline\n",
    "import roc_auc\n",
    "from sklearn.base import BaseEstimator"
   ]
  },
  {
   "cell_type": "code",
   "execution_count": null,
   "metadata": {
    "collapsed": true,
    "deletable": true,
    "editable": true
   },
   "outputs": [],
   "source": []
  },
  {
   "cell_type": "code",
   "execution_count": 2,
   "metadata": {
    "collapsed": true,
    "deletable": true,
    "editable": true
   },
   "outputs": [],
   "source": [
    "def fit(sess, _train_data, param, graph=False):\n",
    "    num_of_sequence_length = len(_train_data[0])\n",
    "    num_of_hidden_nodes = param['num_of_hidden_nodes']\n",
    "    num_of_training_epochs = param['num_of_training_epochs']\n",
    "    size_of_mini_batch = param['size_of_mini_batch']\n",
    "    size_of_test_batch = param['size_of_test_batch']\n",
    "    learning_rate = param['learning_rate']\n",
    "\n",
    "    random.seed(0)\n",
    "    np.random.seed(0)\n",
    "    tf.set_random_seed(0)\n",
    "\n",
    "    input_ph      = tf.placeholder(tf.float32, [None, num_of_sequence_length], name=\"input\")\n",
    "    supervisor_ph = tf.placeholder(tf.float32, [None, num_of_sequence_length], name=\"supervisor\")\n",
    "    batch_size_ph = tf.placeholder(tf.int32, name=\"batch_size\")\n",
    "\n",
    "    optimizer = tf.train.AdamOptimizer(learning_rate=learning_rate)\n",
    "\n",
    "    with tf.name_scope(\"inference\") as scope:\n",
    "        weight_var = tf.Variable(tf.truncated_normal([num_of_sequence_length, num_of_hidden_nodes], stddev=0.1), name=\"weight\")\n",
    "        bias1_var   = tf.Variable(tf.truncated_normal([num_of_hidden_nodes], stddev=0.1), name=\"bias1\")\n",
    "        bias2_var   = tf.Variable(tf.truncated_normal([num_of_sequence_length], stddev=0.1), name=\"bias2\")\n",
    "        hidden = tf.sigmoid(tf.matmul(input_ph, weight_var) + bias1_var)\n",
    "        output_op = tf.sigmoid(tf.matmul(hidden, tf.transpose(weight_var) + bias2_var))\n",
    "\n",
    "    with tf.name_scope(\"loss\") as scope:\n",
    "        square_error = tf.reduce_mean(tf.square(output_op - supervisor_ph))\n",
    "        loss_op      = square_error\n",
    "\n",
    "    with tf.name_scope(\"training\") as scope:\n",
    "        training_op = optimizer.minimize(loss_op)\n",
    "\n",
    "    init = tf.global_variables_initializer()\n",
    "\n",
    "    sess.run(init)\n",
    "    accuracy_results = []\n",
    "\n",
    "    for epoch in range(num_of_training_epochs):\n",
    "        train_dict = {\n",
    "            input_ph: _train_data,\n",
    "            supervisor_ph: _train_data,\n",
    "            batch_size_ph: size_of_mini_batch,\n",
    "        }\n",
    "        sess.run(training_op, feed_dict=train_dict)\n",
    "\n",
    "        if (epoch + 1) % 10 == 0:\n",
    "            train_loss = sess.run(loss_op, feed_dict=train_dict)\n",
    "\n",
    "            # eval accuracy\n",
    "            pred_dict = {\n",
    "                input_ph: _train_data,\n",
    "                supervisor_ph: _train_data,\n",
    "                batch_size_ph: size_of_test_batch,\n",
    "            }\n",
    "            accuracy_results.append([epoch, train_loss])\n",
    "            preddata = sess.run(output_op, feed_dict=pred_dict)\n",
    "            #print(\"train#%d, train loss: %e\" % (epoch + 1, train_loss))\n",
    "    \n",
    "    if graph == True:\n",
    "        df = pd.DataFrame({\n",
    "            'epoch': [x[0] for x in accuracy_results],\n",
    "            'train_loss': [x[1] for x in accuracy_results]\n",
    "        })\n",
    "        df.plot(x='epoch', y='train_loss')\n",
    "        df.head()\n",
    "    \n",
    "    return (input_ph, supervisor_ph, batch_size_ph), loss_op"
   ]
  },
  {
   "cell_type": "code",
   "execution_count": 3,
   "metadata": {
    "collapsed": true,
    "deletable": true,
    "editable": true
   },
   "outputs": [],
   "source": [
    "def decision_function(sess, data, ph, loss):\n",
    "    num_of_sequence_length = len(data[0])\n",
    "    \n",
    "    input_ph,  supervisor_ph, batch_size_ph = ph\n",
    "    loss_op = loss\n",
    "    \n",
    "    _train_data = data\n",
    "    \n",
    "    scores = []\n",
    "    \n",
    "    for epoch in range(len(_train_data)):\n",
    "        data = _train_data[epoch].reshape(-1, num_of_sequence_length)\n",
    "\n",
    "        train_dict = {\n",
    "            input_ph: data,\n",
    "            supervisor_ph: data,\n",
    "            batch_size_ph: 1,\n",
    "        }\n",
    "\n",
    "        train_loss = sess.run(loss_op, feed_dict=train_dict)\n",
    "        scores.append(train_loss)\n",
    "        #print('test w/ train #.%d %f' % (epoch, train_loss))\n",
    "        \n",
    "    return scores"
   ]
  },
  {
   "cell_type": "code",
   "execution_count": 4,
   "metadata": {
    "collapsed": false,
    "deletable": true,
    "editable": true
   },
   "outputs": [],
   "source": [
    "class EstimatorNN(BaseEstimator):\n",
    "    def __init__(self, num_of_hidden_nodes=20, num_of_training_epochs=100, size_of_mini_batch=10,\n",
    "                 size_of_test_batch=10, learning_rate=0.02):\n",
    "        self.param = {}\n",
    "        self.param['num_of_hidden_nodes'] = num_of_hidden_nodes\n",
    "        self.param['num_of_training_epochs'] = num_of_training_epochs\n",
    "        self.param['size_of_mini_batch'] = size_of_mini_batch\n",
    "        self.param['size_of_test_batch'] = size_of_test_batch\n",
    "        self.param['learning_rate'] = learning_rate\n",
    "        self.g = tf.Graph()\n",
    "        self.g.as_default()\n",
    "        self.sess = tf.Session()\n",
    "    \n",
    "    def fit(self, x, graph=False):\n",
    "        self.ph, self.loss = fit(self.sess, x, self.param, graph=graph)\n",
    "        return self \n",
    "\n",
    "    def predict(self, x):\n",
    "        return [1.0]*len(x) \n",
    "    \n",
    "    def decision_function(self, x, y=None):\n",
    "        data = decision_function(self.sess, x, self.ph, self.loss)\n",
    "        return data\n",
    "\n",
    "    def score(self, x, y=None):\n",
    "        scores = self.decision_function(x)\n",
    "        return sum(scores)/len(scores)\n",
    "\n",
    "    def get_params(self, deep=True):\n",
    "        return self.param\n",
    "\n",
    "    def set_params(self, **parameters):\n",
    "        for parameter, value in parameters.items():\n",
    "            setattr(self,parameter, value)\n",
    "        return self\n",
    "    \n",
    "    def get_type(self):\n",
    "        return 'NN'\n",
    "    \n",
    "    def __del__(self):\n",
    "        if hasattr(self, 'sess'):\n",
    "            self.sess.close()\n",
    "            del self.sess\n",
    "            del self.g\n",
    "            tf.reset_default_graph()"
   ]
  },
  {
   "cell_type": "code",
   "execution_count": 12,
   "metadata": {
    "collapsed": false,
    "deletable": true,
    "editable": true,
    "scrolled": false
   },
   "outputs": [
    {
     "name": "stdout",
     "output_type": "stream",
     "text": [
      "[[-50. -50. -50. -51. -49. -47. -45. -44. -45. -49.]\n",
      " [-53. -53. -53. -53. -51. -50. -50. -51. -52. -52.]\n",
      " [-54. -54. -54. -53. -52. -50. -48. -48. -47. -46.]\n",
      " [-49. -47. -46. -45. -44. -44. -42. -41. -41. -41.]]\n",
      "[[-63. -63. -64. -64. -63. -63. -63. -63. -63. -62.]\n",
      " [-58. -59. -59. -59. -61. -61. -59. -56. -55. -54.]\n",
      " [-65. -62. -62. -62. -61. -61. -60. -59. -60. -60.]\n",
      " [-61. -61. -62. -62. -62. -61. -60. -61. -60. -60.]]\n",
      "[0.00014519862, 0.0011018638, 0.00049376197, 0.0018677022]\n",
      "[0.018546242, 0.008342701, 0.013882798, 0.013572408]\n",
      "dell\n"
     ]
    }
   ],
   "source": [
    "#''' pred area judgement from rssi\n",
    "def test():\n",
    "    train_data = np.array([[-50., -50., -50., -51., -49., -47., -45., -44., -45., -49.],\n",
    "                           [-53., -53., -53., -53., -51., -50., -50., -51., -52., -52.],\n",
    "                           [-54., -54., -54., -53., -52., -50., -48., -48., -47., -46.],\n",
    "                           [-49., -47., -46., -45., -44., -44., -42., -41., -41., -41.]])\n",
    "    test_data = np.array([[-63., -63., -64., -64., -63., -63., -63., -63., -63., -62.],\n",
    "                          [-58., -59., -59., -59., -61., -61., -59., -56., -55., -54.],\n",
    "                          [-65., -62., -62., -62., -61., -61., -60., -59., -60., -60.],\n",
    "                          [-61., -61., -62., -62., -62., -61., -60., -61., -60., -60.]])\n",
    "    print(train_data)\n",
    "    print(test_data)\n",
    "    train_data *= -0.01\n",
    "    test_data *= -0.01\n",
    "\n",
    "    nn = EstimatorNN()\n",
    "    nn.fit(train_data)\n",
    "    print(nn.decision_function(train_data))\n",
    "    print(nn.decision_function(test_data))\n",
    "    del nn\n",
    "#test()"
   ]
  },
  {
   "cell_type": "code",
   "execution_count": null,
   "metadata": {
    "collapsed": true,
    "deletable": true,
    "editable": true
   },
   "outputs": [],
   "source": []
  },
  {
   "cell_type": "code",
   "execution_count": 13,
   "metadata": {
    "collapsed": false,
    "deletable": true,
    "editable": true,
    "scrolled": true
   },
   "outputs": [
    {
     "name": "stdout",
     "output_type": "stream",
     "text": [
      "path = data/raw/02_1[14]_0*\n",
      "data/raw/02_11_01_エネマネハウス_iphone_胸ポケット_裏上_正常_まっすぐ帰宅\n",
      "..............................\n",
      "data/raw/02_11_02_エネマネハウス_iphone_カバン_裏上_正常_まっすぐ帰宅\n",
      "..............................\n",
      "data/raw/02_11_03_エネマネハウス_iphone_胸ポケット_裏上_正常_5秒後まっすぐ帰宅\n",
      "..............................\n",
      "data/raw/02_11_04_エネマネハウス_iphone_カバン_裏上_正常_5秒後まっすぐ帰宅\n",
      "..............................\n",
      "data/raw/02_14_01_エネマネハウス_iphone_胸ポケット_裏上_異常_エリア境界で静止\n",
      "..............................\n",
      "data/raw/02_14_02_エネマネハウス_iphone_カバン_裏上_異常_エリア境界で静止\n",
      "..............................\n"
     ]
    }
   ],
   "source": [
    "#ds = datasets.load('data/raw/02_1[14]_0*')"
   ]
  },
  {
   "cell_type": "code",
   "execution_count": 14,
   "metadata": {
    "collapsed": false,
    "deletable": true,
    "editable": true,
    "scrolled": false
   },
   "outputs": [
    {
     "name": "stdout",
     "output_type": "stream",
     "text": [
      "--normal score\n",
      "[0.74277574, 0.1716288, 0.018319754, 0.072699964, 0.35226375, 1.1866078, 0.67375702, 0.087310635, 0.057898201, 0.085829169, 0.082264081, 0.3299188, 0.03827424, 0.069428198, 0.13222364, 0.59145159, 0.1272009, 0.29831728, 0.36719108, 0.11972061, 0.71719086, 0.13774481, 0.41871861, 0.50631744, 0.40549052, 0.14777869, 0.14354432, 0.31417131, 0.55242693, 0.31975976, 0.0043935734, 0.93256611, 0.1266873, 0.04588002, 0.054072421, 0.010129485, 0.0078850295, 0.30179632, 0.013726502, 0.018869575, 0.011095747, 0.023695109, 0.099793352, 0.011642997, 0.0060508866, 0.211373, 0.026495358, 0.0043935734, 0.086181954, 0.0071011055, 0.024241418, 0.054432191, 0.05906203, 0.024569962, 0.15982486, 0.16522488, 0.063372366, 0.0043879095, 0.006776188, 0.0080629578, 0.038656641, 0.21327005, 0.082264081, 0.053922322, 0.2847873, 0.26049191, 0.26800939, 0.5216915, 0.12940632, 0.048418455, 0.12541728, 0.16729912, 0.56053162, 0.27052206, 0.12226295, 0.33367777, 1.077445, 0.062761299, 0.62475193, 0.067690089, 0.13506353, 0.16883612, 0.31994811, 0.1066191, 0.35993063, 0.35242924, 0.029272154, 0.3480565, 0.28774151, 0.23555429, 0.013029546, 0.042580359, 0.033746485, 0.10500947, 0.033750184, 0.17611659, 0.023869554, 0.057474479, 0.0058511994, 0.010437298, 0.080483831, 1.0101626, 0.034623444, 0.026987793, 0.11348739, 0.10878554, 0.10626059, 0.037959293, 1.0106469, 0.65107626, 0.027936785, 0.0089731896, 0.010202326, 0.11233677, 0.012701583, 0.016746119, 0.040607296, 0.015233459, 0.036654137, 0.098251522]\n",
      "--anomaly score\n",
      "[0.050773237, 0.7438851, 0.04791839, 0.32233319, 0.035309233, 0.08552365, 0.10693039, 0.033810258, 0.0041752281, 0.17572276, 0.0090890452, 0.098599374, 0.043507215, 0.17273788, 0.09529382, 0.021178957, 2.6428685, 0.17623757, 0.0043879095, 0.06224246, 0.028758764, 0.054935679, 0.067201987, 0.055841759, 0.21315563, 0.11521111, 0.044354293, 0.0072297156, 0.049624264, 0.043319713, 0.0043879095, 0.012456933, 0.0049940133, 0.057898201, 0.10307138, 0.0068171611, 0.10990982, 1.3008871, 0.10042463, 0.038656641, 0.019035317, 0.049307264, 0.059533782, 0.0068171611, 0.016502107, 1.2945869, 0.033500724, 0.03490369, 0.053244542, 0.0011974175, 0.031543769, 0.26095361, 0.018412065, 0.038656641, 0.057898201, 0.023440335, 0.049389038, 0.0043879095, 0.40542346, 0.0028737343]\n"
     ]
    },
    {
     "data": {
      "image/png": "[encoded data removed]",
      "text/plain": [
       "<matplotlib.figure.Figure at 0x7f4407ed0da0>"
      ]
     },
     "metadata": {},
     "output_type": "display_data"
    },
    {
     "data": {
      "image/png": "[encoded data removed]",
      "text/plain": [
       "<matplotlib.figure.Figure at 0x7f4407e71e80>"
      ]
     },
     "metadata": {},
     "output_type": "display_data"
    },
    {
     "name": "stdout",
     "output_type": "stream",
     "text": [
      "auc 0.37160\n"
     ]
    }
   ],
   "source": [
    "def eval01():\n",
    "    sensor_type = ['rssi.a','rssi.b', ['linear_accel[0]','linear_accel[1]','linear_accel[2]']]\n",
    "    #sensor_type = ['rssi.a','rssi.b', ['gyro.rotation.x','gyro.rotation.y','gyro.rotation.z']]\n",
    "    #sensor_type = ['rssi.a','rssi.b', ['gyro.rotationRate.x','gyro.rotationRate.y','gyro.rotationRate.z']]\n",
    "    sensor_type = ['rssi.a','rssi.b']\n",
    "    n_record = 0\n",
    "    n_record_after = 1\n",
    "    drop_interval = 1\n",
    "    ma_window = 1\n",
    "    n_train = 1\n",
    "    normalize = True\n",
    "    \n",
    "    # get data\n",
    "    dfl_b = datasets.get_data(ds, title='02_11_01', before=n_record, after=n_record_after,\n",
    "                              column=sensor_type, drop_interval=drop_interval)[:(n_train + 1)]\n",
    "    dfl_n = datasets.get_data(ds, title='02_11', before=n_record, after=n_record_after,\n",
    "                              column=sensor_type, drop_interval=drop_interval)\n",
    "    dfl_o = datasets.get_data(ds, title='02_14', before=n_record, after=n_record_after,\n",
    "                              column=sensor_type, drop_interval=drop_interval)\n",
    "\n",
    "    # moving average\n",
    "    dfl_b = datasets.moving_average(dfl_b, window=ma_window, min_periods=ma_window)\n",
    "    dfl_n = datasets.moving_average(dfl_n, window=ma_window, min_periods=ma_window)\n",
    "    dfl_o = datasets.moving_average(dfl_o, window=ma_window, min_periods=ma_window)\n",
    "    \n",
    "    # normalize\n",
    "    if normalize == True:\n",
    "        dfl_b_n = datasets.normalize_by_base_data(dfl_b, dfl_b, sensor_type)\n",
    "        dfl_n_n = datasets.normalize_by_base_data(dfl_b, dfl_n, sensor_type)\n",
    "        dfl_o_n = datasets.normalize_by_base_data(dfl_b, dfl_o, sensor_type)\n",
    "\n",
    "    # get numpy array\n",
    "    data_2d_b = [df.as_matrix() for df in dfl_b_n]\n",
    "    data_2d_n = [df.as_matrix() for df in dfl_n_n]\n",
    "    data_2d_o = [df.as_matrix() for df in dfl_o_n]\n",
    "\n",
    "    # to list of numpy.array\n",
    "    data_b = [d.ravel() for d in data_2d_b]\n",
    "    data_n = [d.ravel() for d in data_2d_n]\n",
    "    data_o = [d.ravel() for d in data_2d_o]\n",
    "\n",
    "    model = EstimatorNN(num_of_hidden_nodes=8, num_of_training_epochs=100, size_of_mini_batch=10)\n",
    "    model.fit(data_b, graph=True)\n",
    "    score_n = model.decision_function(data_n)\n",
    "    score_o = model.decision_function(data_o)\n",
    "    \n",
    "    print('--normal score')\n",
    "    print(score_n)\n",
    "    print('--anomaly score')\n",
    "    print(score_o)\n",
    "    \n",
    "    auc = roc_auc.get_auc_from_normal_outlier(score_n, score_o, graph=True)\n",
    "\n",
    "    print('auc %.05f' % (auc))\n",
    "\n",
    "#eval01()"
   ]
  },
  {
   "cell_type": "code",
   "execution_count": null,
   "metadata": {
    "collapsed": true
   },
   "outputs": [],
   "source": []
  }
 ],
 "metadata": {
  "kernelspec": {
   "display_name": "Python 3",
   "language": "python",
   "name": "python3"
  },
  "language_info": {
   "codemirror_mode": {
    "name": "ipython",
    "version": 3
   },
   "file_extension": ".py",
   "mimetype": "text/x-python",
   "name": "python",
   "nbconvert_exporter": "python",
   "pygments_lexer": "ipython3",
   "version": "3.5.2"
  }
 },
 "nbformat": 4,
 "nbformat_minor": 2
}
