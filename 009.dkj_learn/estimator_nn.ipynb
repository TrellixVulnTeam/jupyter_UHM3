{
 "cells": [
  {
   "cell_type": "code",
   "execution_count": 161,
   "metadata": {
    "collapsed": true,
    "deletable": true,
    "editable": true
   },
   "outputs": [],
   "source": [
    "import datasets\n",
    "import roc_auc\n",
    "from sklearn.neighbors import NearestNeighbors\n",
    "from sklearn.base import BaseEstimator"
   ]
  },
  {
   "cell_type": "code",
   "execution_count": 43,
   "metadata": {
    "collapsed": false,
    "deletable": true,
    "editable": true
   },
   "outputs": [],
   "source": [
    "class EstimatorKNN(BaseEstimator):\n",
    "    def __init__(self, n_neighbors=3, algorithm='ball_tree'):\n",
    "        self.param = {}\n",
    "        self.param['n_neighbors'] = n_neighbors\n",
    "        self.param['algorithm'] = algorithm\n",
    "        self.estimator = NearestNeighbors(n_neighbors=n_neighbors, algorithm=algorithm)\n",
    "\n",
    "    def fit(self, x):\n",
    "        self.estimator.fit(x)\n",
    "        return self \n",
    "\n",
    "    def predict(self, x):\n",
    "        return [1.0]*len(x) \n",
    "    \n",
    "    def decision_function(self, x, y=None):\n",
    "        distances, indices = self.estimator.kneighbors(x)\n",
    "        outlier_level = distances[:,-1]\n",
    "        return outlier_level\n",
    "\n",
    "    def score(self, x, y=None):\n",
    "        scores = self.decision_function(x)\n",
    "        return sum(scores)/len(scores)\n",
    "\n",
    "    def get_params(self, deep=True):\n",
    "        #return self.estimator.get_params(deep)\n",
    "        return self.param\n",
    "\n",
    "    def set_params(self, **parameters):\n",
    "        for parameter, value in parameters.items():\n",
    "            setattr(self,parameter, value)\n",
    "        return self\n",
    "    \n",
    "    def get_type(self):\n",
    "        return 'kNN'"
   ]
  },
  {
   "cell_type": "code",
   "execution_count": 164,
   "metadata": {
    "collapsed": false,
    "deletable": true,
    "editable": true
   },
   "outputs": [
    {
     "data": {
      "text/plain": [
       "<module 'roc_auc' from 'roc_auc.ipynb'>"
      ]
     },
     "execution_count": 164,
     "metadata": {},
     "output_type": "execute_result"
    }
   ],
   "source": [
    "importlib.reload(roc_auc)"
   ]
  },
  {
   "cell_type": "code",
   "execution_count": 163,
   "metadata": {
    "collapsed": false,
    "deletable": true,
    "editable": true,
    "scrolled": false
   },
   "outputs": [
    {
     "data": {
      "image/png": "[encoded data removed]",
      "text/plain": [
       "<matplotlib.figure.Figure at 0x7fe124c262e8>"
      ]
     },
     "metadata": {},
     "output_type": "display_data"
    },
    {
     "name": "stdout",
     "output_type": "stream",
     "text": [
      "auc 1.00000\n"
     ]
    }
   ],
   "source": [
    "import importlib\n",
    "#importlib.reload(roc_auc)\n",
    "import roc_auc\n",
    "import datasets\n",
    "\n",
    "def eval01():\n",
    "    sensor_type = ['rssi.a','rssi.b', ['linear_accel[0]','linear_accel[1]','linear_accel[2]']]\n",
    "    n_record = 10\n",
    "    drop_interval = 2\n",
    "    ma_window = 2\n",
    "    normalize = True\n",
    "    \n",
    "    # get data\n",
    "    dfl_b = datasets.get_data(ds, title='01_01_01', before=n_record,\n",
    "                              column=sensor_type, drop_interval=drop_interval)[:3]\n",
    "    dfl_n = datasets.get_data(ds, title='01_01_02', before=n_record,\n",
    "                              column=sensor_type, drop_interval=drop_interval)\n",
    "    dfl_o = datasets.get_data(ds, title='01_02_02', before=n_record,\n",
    "                              column=sensor_type, drop_interval=drop_interval)\n",
    "\n",
    "    # moving average\n",
    "    dfl_b = datasets.moving_average(dfl_b, window=ma_window, min_periods=ma_window)\n",
    "    dfl_n = datasets.moving_average(dfl_n, window=ma_window, min_periods=ma_window)\n",
    "    dfl_o = datasets.moving_average(dfl_o, window=ma_window, min_periods=ma_window)\n",
    "    \n",
    "    # normalize\n",
    "    if normalize == True:\n",
    "        dfl_b_n = datasets.normalize_by_base_data(dfl_b, dfl_b, sensor_type)\n",
    "        dfl_n_n = datasets.normalize_by_base_data(dfl_b, dfl_n, sensor_type)\n",
    "        dfl_o_n = datasets.normalize_by_base_data(dfl_b, dfl_o, sensor_type)\n",
    "\n",
    "    # get numpy array\n",
    "    data_2d_b = [df.as_matrix() for df in dfl_b_n]\n",
    "    data_2d_n = [df.as_matrix() for df in dfl_n_n]\n",
    "    data_2d_o = [df.as_matrix() for df in dfl_o_n]\n",
    "\n",
    "    # to list of numpy.array\n",
    "    data_b = [d.ravel() for d in data_2d_b]\n",
    "    data_n = [d.ravel() for d in data_2d_n]\n",
    "    data_o = [d.ravel() for d in data_2d_o]\n",
    "\n",
    "    model = EstimatorKNN()\n",
    "    model.fit(data_b)\n",
    "    score_n = model.decision_function(data_n)\n",
    "    score_o = model.decision_function(data_o)\n",
    "    \n",
    "    auc = roc_auc.get_auc_from_normal_outlier(score_n, score_o, graph=True)\n",
    "#    auc = roc_auc.get_auc_from_normal_outlier(score_n, score_o, graph=False)\n",
    "\n",
    "    print('auc %.05f' % (auc))\n",
    "    \n",
    "eval01()"
   ]
  },
  {
   "cell_type": "code",
   "execution_count": null,
   "metadata": {
    "collapsed": true,
    "deletable": true,
    "editable": true
   },
   "outputs": [],
   "source": []
  },
  {
   "cell_type": "code",
   "execution_count": 1,
   "metadata": {
    "collapsed": true
   },
   "outputs": [],
   "source": [
    "# predict the next rssi value from current time value\n",
    "import tensorflow as tf\n",
    "import numpy as np\n",
    "import random\n",
    "import pandas as pd\n",
    "import glob\n",
    "import os\n",
    "from tensorflow.contrib.tensorboard.plugins import projector\n",
    "%matplotlib inline"
   ]
  },
  {
   "cell_type": "code",
   "execution_count": 2,
   "metadata": {
    "collapsed": false
   },
   "outputs": [
    {
     "name": "stdout",
     "output_type": "stream",
     "text": [
      "[[-50. -50. -50. -51. -49. -47. -45. -44. -45. -49.]\n",
      " [-53. -53. -53. -53. -51. -50. -50. -51. -52. -52.]\n",
      " [-54. -54. -54. -53. -52. -50. -48. -48. -47. -46.]\n",
      " [-49. -47. -46. -45. -44. -44. -42. -41. -41. -41.]]\n",
      "[[-63. -63. -64. -64. -63. -63. -63. -63. -63. -62.]\n",
      " [-58. -59. -59. -59. -61. -61. -59. -56. -55. -54.]\n",
      " [-65. -62. -62. -62. -61. -61. -60. -59. -60. -60.]\n",
      " [-61. -61. -62. -62. -62. -61. -60. -61. -60. -60.]]\n"
     ]
    }
   ],
   "source": [
    "def make_mini_batch(train_data, size_of_mini_batch, length_of_sequences):\n",
    "    inputs  = np.empty(0)\n",
    "    for _ in range(size_of_mini_batch):\n",
    "        d = random.choice(train_data)\n",
    "        inputs  = np.append(inputs, d)\n",
    "    inputs  = inputs.reshape(-1, length_of_sequences)\n",
    "    return inputs\n",
    "\n",
    "#''' pred area judgement from rssi\n",
    "num_of_sequence_length      = 10\n",
    "num_of_hidden_nodes         = 20\n",
    "num_of_training_epochs      = 100\n",
    "size_of_mini_batch          = 10\n",
    "size_of_test_batch          = 4\n",
    "learning_rate               = 0.02\n",
    "\n",
    "train_data = np.array([[-50., -50., -50., -51., -49., -47., -45., -44., -45., -49.],\n",
    "                       [-53., -53., -53., -53., -51., -50., -50., -51., -52., -52.],\n",
    "                       [-54., -54., -54., -53., -52., -50., -48., -48., -47., -46.],\n",
    "                       [-49., -47., -46., -45., -44., -44., -42., -41., -41., -41.]])\n",
    "test_data = np.array([[-63., -63., -64., -64., -63., -63., -63., -63., -63., -62.],\n",
    "                      [-58., -59., -59., -59., -61., -61., -59., -56., -55., -54.],\n",
    "                      [-65., -62., -62., -62., -61., -61., -60., -59., -60., -60.],\n",
    "                      [-61., -61., -62., -62., -62., -61., -60., -61., -60., -60.]])\n",
    "print(train_data)\n",
    "print(test_data)\n",
    "train_data *= -0.01\n",
    "test_data *= -0.01"
   ]
  },
  {
   "cell_type": "code",
   "execution_count": 3,
   "metadata": {
    "collapsed": false
   },
   "outputs": [
    {
     "name": "stdout",
     "output_type": "stream",
     "text": [
      "WARNING:tensorflow:From <ipython-input-3-cae2891d4e65>:25: initialize_all_variables (from tensorflow.python.ops.variables) is deprecated and will be removed after 2017-03-02.\n",
      "Instructions for updating:\n",
      "Use `tf.global_variables_initializer` instead.\n",
      "train#10, train loss: 4.906903e-03\n",
      "train#20, train loss: 2.365159e-03\n",
      "train#30, train loss: 1.930469e-03\n",
      "train#40, train loss: 9.021150e-04\n",
      "train#50, train loss: 8.029121e-04\n",
      "train#60, train loss: 1.203034e-03\n",
      "train#70, train loss: 6.294088e-04\n",
      "train#80, train loss: 1.131384e-03\n",
      "train#90, train loss: 8.698995e-04\n",
      "train#100, train loss: 8.216888e-04\n",
      "test w/ train #.0 0.000203\n",
      "test w/ train #.1 0.001362\n",
      "test w/ train #.2 0.000789\n",
      "test w/ train #.3 0.001832\n",
      "test w/ test  #.0 0.020119\n",
      "test w/ test  #.1 0.009266\n",
      "test w/ test  #.2 0.015106\n",
      "test w/ test  #.3 0.014873\n"
     ]
    }
   ],
   "source": [
    "# random seed fix\n",
    "random.seed(0)\n",
    "np.random.seed(0)\n",
    "tf.set_random_seed(0)\n",
    "\n",
    "optimizer = tf.train.AdamOptimizer(learning_rate=learning_rate)\n",
    "input_ph      = tf.placeholder(tf.float32, [None, num_of_sequence_length], name=\"input\")\n",
    "supervisor_ph = tf.placeholder(tf.float32, [None, num_of_sequence_length], name=\"supervisor\")\n",
    "batch_size_ph = tf.placeholder(tf.int32, name=\"batch_size\")\n",
    "\n",
    "with tf.name_scope(\"inference\") as scope:\n",
    "    weight_var = tf.Variable(tf.truncated_normal([num_of_sequence_length, num_of_hidden_nodes], stddev=0.1), name=\"weight\")\n",
    "    bias1_var   = tf.Variable(tf.truncated_normal([num_of_hidden_nodes], stddev=0.1), name=\"bias1\")\n",
    "    bias2_var   = tf.Variable(tf.truncated_normal([num_of_sequence_length], stddev=0.1), name=\"bias2\")\n",
    "    hidden = tf.sigmoid(tf.matmul(input_ph, weight_var) + bias1_var)\n",
    "    output_op = tf.sigmoid(tf.matmul(hidden, tf.transpose(weight_var) + bias2_var))\n",
    "\n",
    "with tf.name_scope(\"loss\") as scope:\n",
    "    square_error = tf.reduce_mean(tf.square(output_op - supervisor_ph))\n",
    "    loss_op      = square_error\n",
    "\n",
    "with tf.name_scope(\"training\") as scope:\n",
    "    training_op = optimizer.minimize(loss_op)\n",
    "\n",
    "init = tf.initialize_all_variables()\n",
    "\n",
    "sess = tf.Session()\n",
    "saver = tf.train.Saver()\n",
    "sess.run(init)\n",
    "accuracy_results = []\n",
    "\n",
    "for epoch in range(num_of_training_epochs):\n",
    "    data = make_mini_batch(train_data, size_of_mini_batch, num_of_sequence_length)\n",
    "\n",
    "    train_dict = {\n",
    "        input_ph:      data,\n",
    "        supervisor_ph: data,\n",
    "        batch_size_ph: size_of_mini_batch,\n",
    "    }\n",
    "    sess.run(training_op, feed_dict=train_dict)\n",
    "\n",
    "    if (epoch + 1) % 10 == 0:\n",
    "        train_loss = sess.run(loss_op, feed_dict=train_dict)\n",
    "\n",
    "        # eval accuracy\n",
    "        data = make_mini_batch(train_data, size_of_mini_batch, num_of_sequence_length)\n",
    "        pred_dict = {\n",
    "            input_ph:      data,\n",
    "            supervisor_ph: data,\n",
    "            batch_size_ph: size_of_test_batch,\n",
    "        }\n",
    "        accuracy_results.append([epoch, train_loss])\n",
    "        preddata = sess.run(output_op, feed_dict=pred_dict)\n",
    "        print(\"train#%d, train loss: %e\" % (epoch + 1, train_loss))\n",
    "\n",
    "for epoch in range(len(train_data)):\n",
    "    data = train_data[epoch].reshape(-1, num_of_sequence_length)\n",
    "\n",
    "    train_dict = {\n",
    "        input_ph:      data,\n",
    "        supervisor_ph: data,\n",
    "        batch_size_ph: 1,\n",
    "    }\n",
    "\n",
    "    train_loss = sess.run(loss_op, feed_dict=train_dict)\n",
    "    print('test w/ train #.%d %f' % (epoch, train_loss))\n",
    "\n",
    "for epoch in range(len(test_data)):\n",
    "    data = test_data[epoch].reshape(-1, num_of_sequence_length)\n",
    "\n",
    "    train_dict = {\n",
    "        input_ph:      data,\n",
    "        supervisor_ph: data,\n",
    "        batch_size_ph: 1,\n",
    "    }\n",
    "\n",
    "    train_loss = sess.run(loss_op, feed_dict=train_dict)\n",
    "    print('test w/ test  #.%d %f' % (epoch, train_loss))"
   ]
  },
  {
   "cell_type": "code",
   "execution_count": 4,
   "metadata": {
    "collapsed": false
   },
   "outputs": [
    {
     "data": {
      "text/html": [
       "<div>\n",
       "<table border=\"1\" class=\"dataframe\">\n",
       "  <thead>\n",
       "    <tr style=\"text-align: right;\">\n",
       "      <th></th>\n",
       "      <th>epoch</th>\n",
       "      <th>train_loss</th>\n",
       "    </tr>\n",
       "  </thead>\n",
       "  <tbody>\n",
       "    <tr>\n",
       "      <th>0</th>\n",
       "      <td>9</td>\n",
       "      <td>0.004907</td>\n",
       "    </tr>\n",
       "    <tr>\n",
       "      <th>1</th>\n",
       "      <td>19</td>\n",
       "      <td>0.002365</td>\n",
       "    </tr>\n",
       "    <tr>\n",
       "      <th>2</th>\n",
       "      <td>29</td>\n",
       "      <td>0.001930</td>\n",
       "    </tr>\n",
       "    <tr>\n",
       "      <th>3</th>\n",
       "      <td>39</td>\n",
       "      <td>0.000902</td>\n",
       "    </tr>\n",
       "    <tr>\n",
       "      <th>4</th>\n",
       "      <td>49</td>\n",
       "      <td>0.000803</td>\n",
       "    </tr>\n",
       "  </tbody>\n",
       "</table>\n",
       "</div>"
      ],
      "text/plain": [
       "   epoch  train_loss\n",
       "0      9    0.004907\n",
       "1     19    0.002365\n",
       "2     29    0.001930\n",
       "3     39    0.000902\n",
       "4     49    0.000803"
      ]
     },
     "execution_count": 4,
     "metadata": {},
     "output_type": "execute_result"
    },
    {
     "data": {
      "image/png": "[encoded data removed]",
      "text/plain": [
       "<matplotlib.figure.Figure at 0x7f7ea08d3940>"
      ]
     },
     "metadata": {},
     "output_type": "display_data"
    }
   ],
   "source": [
    "## result graph　\n",
    "import matplotlib\n",
    "import matplotlib.pyplot as plt\n",
    "\n",
    "df = pd.DataFrame({\n",
    "        'epoch': [x[0] for x in accuracy_results],\n",
    "        'train_loss': [x[1] for x in accuracy_results]\n",
    "    })\n",
    "#        'epoch': range(10, 5010, 10)})\n",
    "df.plot(x='epoch', y='train_loss')\n",
    "df.head()"
   ]
  }
 ],
 "metadata": {
  "kernelspec": {
   "display_name": "Python 3",
   "language": "python",
   "name": "python3"
  },
  "language_info": {
   "codemirror_mode": {
    "name": "ipython",
    "version": 3
   },
   "file_extension": ".py",
   "mimetype": "text/x-python",
   "name": "python",
   "nbconvert_exporter": "python",
   "pygments_lexer": "ipython3",
   "version": "3.5.2"
  }
 },
 "nbformat": 4,
 "nbformat_minor": 2
}
