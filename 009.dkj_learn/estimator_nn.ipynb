{
 "cells": [
  {
   "cell_type": "code",
   "execution_count": 1,
   "metadata": {
    "collapsed": false,
    "deletable": true,
    "editable": true
   },
   "outputs": [],
   "source": [
    "import sys\n",
    "import notebookutil as nbu\n",
    "sys.meta_path.append(nbu.NotebookFinder())\n",
    "import datasets\n",
    "import tensorflow as tf\n",
    "import numpy as np\n",
    "import random\n",
    "import pandas as pd\n",
    "import glob\n",
    "import os\n",
    "from tensorflow.contrib.tensorboard.plugins import projector\n",
    "import matplotlib\n",
    "import matplotlib.pyplot as plt\n",
    "%matplotlib inline\n",
    "import roc_auc\n",
    "from sklearn.base import BaseEstimator"
   ]
  },
  {
   "cell_type": "code",
   "execution_count": null,
   "metadata": {
    "collapsed": true,
    "deletable": true,
    "editable": true
   },
   "outputs": [],
   "source": []
  },
  {
   "cell_type": "code",
   "execution_count": 47,
   "metadata": {
    "collapsed": true,
    "deletable": true,
    "editable": true
   },
   "outputs": [],
   "source": [
    "def fit(sess, _train_data, param, graph=False):\n",
    "    num_of_sequence_length = len(_train_data[0])\n",
    "    num_of_hidden_nodes = param['num_of_hidden_nodes']\n",
    "    num_of_training_epochs = param['num_of_training_epochs']\n",
    "    size_of_mini_batch = param['size_of_mini_batch']\n",
    "    size_of_test_batch = param['size_of_test_batch']\n",
    "    learning_rate = param['learning_rate']\n",
    "    \n",
    "    random.seed(0)\n",
    "    np.random.seed(0)\n",
    "    tf.set_random_seed(0)\n",
    "\n",
    "    input_ph      = tf.placeholder(tf.float32, [None, num_of_sequence_length], name=\"input\")\n",
    "    supervisor_ph = tf.placeholder(tf.float32, [None, num_of_sequence_length], name=\"supervisor\")\n",
    "    batch_size_ph = tf.placeholder(tf.int32, name=\"batch_size\")\n",
    "\n",
    "    optimizer = tf.train.AdamOptimizer(learning_rate=learning_rate)\n",
    "\n",
    "    with tf.name_scope(\"inference\") as scope:\n",
    "        weight_var = tf.Variable(tf.truncated_normal([num_of_sequence_length, num_of_hidden_nodes], stddev=0.1), name=\"weight\")\n",
    "        bias1_var   = tf.Variable(tf.truncated_normal([num_of_hidden_nodes], stddev=0.1), name=\"bias1\")\n",
    "        bias2_var   = tf.Variable(tf.truncated_normal([num_of_sequence_length], stddev=0.1), name=\"bias2\")\n",
    "        hidden = tf.sigmoid(tf.matmul(input_ph, weight_var) + bias1_var)\n",
    "        output_op = tf.sigmoid(tf.matmul(hidden, tf.transpose(weight_var) + bias2_var))\n",
    "\n",
    "    with tf.name_scope(\"loss\") as scope:\n",
    "        square_error = tf.reduce_mean(tf.square(output_op - supervisor_ph))\n",
    "        loss_op      = square_error\n",
    "\n",
    "    with tf.name_scope(\"training\") as scope:\n",
    "        training_op = optimizer.minimize(loss_op)\n",
    "\n",
    "    init = tf.global_variables_initializer()\n",
    "\n",
    "    sess.run(init)\n",
    "    accuracy_results = []\n",
    "\n",
    "    for epoch in range(num_of_training_epochs):\n",
    "        train_dict = {\n",
    "            input_ph: _train_data,\n",
    "            supervisor_ph: _train_data,\n",
    "            batch_size_ph: size_of_mini_batch,\n",
    "        }\n",
    "        sess.run(training_op, feed_dict=train_dict)\n",
    "\n",
    "        if (epoch + 1) % 10 == 0:\n",
    "            train_loss = sess.run(loss_op, feed_dict=train_dict)\n",
    "\n",
    "            # eval accuracy\n",
    "            pred_dict = {\n",
    "                input_ph: _train_data,\n",
    "                supervisor_ph: _train_data,\n",
    "                batch_size_ph: size_of_test_batch,\n",
    "            }\n",
    "            accuracy_results.append([epoch, train_loss])\n",
    "            preddata = sess.run(output_op, feed_dict=pred_dict)\n",
    "            #print(\"train#%d, train loss: %e\" % (epoch + 1, train_loss))\n",
    "    \n",
    "    if graph == True:\n",
    "        df = pd.DataFrame({\n",
    "            'epoch': [x[0] for x in accuracy_results],\n",
    "            'train_loss': [x[1] for x in accuracy_results]\n",
    "        })\n",
    "        df.plot(x='epoch', y='train_loss')\n",
    "        df.head()\n",
    "    \n",
    "    return (input_ph, supervisor_ph, batch_size_ph), loss_op"
   ]
  },
  {
   "cell_type": "code",
   "execution_count": 3,
   "metadata": {
    "collapsed": true,
    "deletable": true,
    "editable": true
   },
   "outputs": [],
   "source": [
    "def decision_function(sess, data, ph, loss):\n",
    "    num_of_sequence_length = len(data[0])\n",
    "    \n",
    "    input_ph,  supervisor_ph, batch_size_ph = ph\n",
    "    loss_op = loss\n",
    "    \n",
    "    _train_data = data\n",
    "    \n",
    "    scores = []\n",
    "    \n",
    "    for epoch in range(len(_train_data)):\n",
    "        data = _train_data[epoch].reshape(-1, num_of_sequence_length)\n",
    "\n",
    "        train_dict = {\n",
    "            input_ph: data,\n",
    "            supervisor_ph: data,\n",
    "            batch_size_ph: 1,\n",
    "        }\n",
    "\n",
    "        train_loss = sess.run(loss_op, feed_dict=train_dict)\n",
    "        scores.append(train_loss)\n",
    "        #print('test w/ train #.%d %f' % (epoch, train_loss))\n",
    "        \n",
    "    return scores"
   ]
  },
  {
   "cell_type": "code",
   "execution_count": 4,
   "metadata": {
    "collapsed": false,
    "deletable": true,
    "editable": true
   },
   "outputs": [],
   "source": [
    "class EstimatorNN(BaseEstimator):\n",
    "    def __init__(self, num_of_hidden_nodes=20, num_of_training_epochs=100, size_of_mini_batch=10,\n",
    "                 size_of_test_batch=10, learning_rate=0.02):\n",
    "        self.param = {}\n",
    "        self.param['num_of_hidden_nodes'] = num_of_hidden_nodes\n",
    "        self.param['num_of_training_epochs'] = num_of_training_epochs\n",
    "        self.param['size_of_mini_batch'] = size_of_mini_batch\n",
    "        self.param['size_of_test_batch'] = size_of_test_batch\n",
    "        self.param['learning_rate'] = learning_rate\n",
    "        self.g = tf.Graph()\n",
    "        self.g.as_default()\n",
    "        self.sess = tf.Session()\n",
    "    \n",
    "    def fit(self, x, graph=False):\n",
    "        self.ph, self.loss = fit(self.sess, x, self.param, graph=graph)\n",
    "        return self \n",
    "\n",
    "    def predict(self, x):\n",
    "        return [1.0]*len(x) \n",
    "    \n",
    "    def decision_function(self, x, y=None):\n",
    "        data = decision_function(self.sess, x, self.ph, self.loss)\n",
    "        return data\n",
    "\n",
    "    def score(self, x, y=None):\n",
    "        scores = self.decision_function(x)\n",
    "        return sum(scores)/len(scores)\n",
    "\n",
    "    def get_params(self, deep=True):\n",
    "        return self.param\n",
    "\n",
    "    def set_params(self, **parameters):\n",
    "        for parameter, value in parameters.items():\n",
    "            setattr(self,parameter, value)\n",
    "        return self\n",
    "    \n",
    "    def get_type(self):\n",
    "        return 'NN'\n",
    "    \n",
    "    def __del__(self):\n",
    "        if hasattr(self, 'sess'):\n",
    "            self.sess.close()\n",
    "            del self.sess\n",
    "            del self.g\n",
    "            tf.reset_default_graph()"
   ]
  },
  {
   "cell_type": "code",
   "execution_count": 12,
   "metadata": {
    "collapsed": false,
    "deletable": true,
    "editable": true,
    "scrolled": false
   },
   "outputs": [
    {
     "name": "stdout",
     "output_type": "stream",
     "text": [
      "[[-50. -50. -50. -51. -49. -47. -45. -44. -45. -49.]\n",
      " [-53. -53. -53. -53. -51. -50. -50. -51. -52. -52.]\n",
      " [-54. -54. -54. -53. -52. -50. -48. -48. -47. -46.]\n",
      " [-49. -47. -46. -45. -44. -44. -42. -41. -41. -41.]]\n",
      "[[-63. -63. -64. -64. -63. -63. -63. -63. -63. -62.]\n",
      " [-58. -59. -59. -59. -61. -61. -59. -56. -55. -54.]\n",
      " [-65. -62. -62. -62. -61. -61. -60. -59. -60. -60.]\n",
      " [-61. -61. -62. -62. -62. -61. -60. -61. -60. -60.]]\n",
      "[0.00014519862, 0.0011018638, 0.00049376197, 0.0018677022]\n",
      "[0.018546242, 0.008342701, 0.013882798, 0.013572408]\n",
      "dell\n"
     ]
    }
   ],
   "source": [
    "#''' pred area judgement from rssi\n",
    "def test():\n",
    "    train_data = np.array([[-50., -50., -50., -51., -49., -47., -45., -44., -45., -49.],\n",
    "                           [-53., -53., -53., -53., -51., -50., -50., -51., -52., -52.],\n",
    "                           [-54., -54., -54., -53., -52., -50., -48., -48., -47., -46.],\n",
    "                           [-49., -47., -46., -45., -44., -44., -42., -41., -41., -41.]])\n",
    "    test_data = np.array([[-63., -63., -64., -64., -63., -63., -63., -63., -63., -62.],\n",
    "                          [-58., -59., -59., -59., -61., -61., -59., -56., -55., -54.],\n",
    "                          [-65., -62., -62., -62., -61., -61., -60., -59., -60., -60.],\n",
    "                          [-61., -61., -62., -62., -62., -61., -60., -61., -60., -60.]])\n",
    "    print(train_data)\n",
    "    print(test_data)\n",
    "    train_data *= -0.01\n",
    "    test_data *= -0.01\n",
    "\n",
    "    nn = EstimatorNN()\n",
    "    nn.fit(train_data)\n",
    "    print(nn.decision_function(train_data))\n",
    "    print(nn.decision_function(test_data))\n",
    "    del nn\n",
    "#test()"
   ]
  },
  {
   "cell_type": "code",
   "execution_count": null,
   "metadata": {
    "collapsed": true,
    "deletable": true,
    "editable": true
   },
   "outputs": [],
   "source": []
  },
  {
   "cell_type": "code",
   "execution_count": 31,
   "metadata": {
    "collapsed": false,
    "deletable": true,
    "editable": true,
    "scrolled": true
   },
   "outputs": [
    {
     "name": "stdout",
     "output_type": "stream",
     "text": [
      "path = data/raw/02_1[14]_0*\n",
      "data/raw/02_11_01_エネマネハウス_iphone_胸ポケット_裏上_正常_まっすぐ帰宅\n",
      "..............................\n",
      "data/raw/02_11_02_エネマネハウス_iphone_カバン_裏上_正常_まっすぐ帰宅\n",
      "..............................\n",
      "data/raw/02_11_03_エネマネハウス_iphone_胸ポケット_裏上_正常_5秒後まっすぐ帰宅\n",
      "..............................\n",
      "data/raw/02_11_04_エネマネハウス_iphone_カバン_裏上_正常_5秒後まっすぐ帰宅\n",
      "..............................\n",
      "data/raw/02_14_01_エネマネハウス_iphone_胸ポケット_裏上_異常_エリア境界で静止\n",
      "..............................\n",
      "data/raw/02_14_02_エネマネハウス_iphone_カバン_裏上_異常_エリア境界で静止\n",
      "..............................\n"
     ]
    }
   ],
   "source": [
    "ds = datasets.load('data/raw/02_1[14]_0*')"
   ]
  },
  {
   "cell_type": "code",
   "execution_count": 53,
   "metadata": {
    "collapsed": false,
    "deletable": true,
    "editable": true,
    "scrolled": false
   },
   "outputs": [
    {
     "name": "stdout",
     "output_type": "stream",
     "text": [
      "n hidden: 2\n",
      "--normal score\n",
      "[2.0271249, 0.17197292, 0.015961748, 0.33186942, 0.0034121468, 2.1723421, 0.65468496, 0.061213691, 0.66339427, 0.13800541, 0.055455912, 0.7012856, 0.050562155, 0.083376855, 1.0826982, 2.1302102, 0.17266971, 0.083491392, 0.065945856, 0.034978453, 0.68356466, 0.21420936, 0.85278386, 0.36405632, 0.43124232, 0.52047962, 0.31242216, 0.50461811, 0.73267907, 0.10132289, 0.11897439, 1.6769689, 0.38194811, 0.59327602, 0.23920612, 1.9485213, 0.20074947, 0.55816489, 0.098865867, 0.42881683, 0.93384451, 0.07863488, 0.26120192, 0.67900079, 0.30651361, 0.53766268, 1.284983, 0.95332813, 0.11059004, 0.1821899, 0.65583271, 0.26472563, 0.63668293, 0.93954188, 2.0451801, 0.57177097, 0.56855011, 0.74699831, 0.29334834, 1.8857213, 0.11494819, 0.011838225, 0.054858942, 0.81001973, 0.4222931, 0.057364911, 0.1164507, 0.38616583, 0.078431375, 0.093252577, 0.074633956, 0.48021689, 1.2247287, 0.030830704, 0.013318305, 0.097118378, 1.1305293, 0.060596455, 0.50334102, 0.090788089, 0.056663919, 0.92615175, 0.12536629, 0.03674905, 0.11783306, 0.15231693, 0.19926913, 0.41026869, 0.47356987, 0.086640693, 0.085549749, 0.20627004, 0.098139763, 0.12676334, 0.50542074, 0.90463656, 0.23423815, 0.30818292, 0.48831272, 0.13573427, 0.30559385, 1.6186495, 0.41391817, 0.35480842, 4.5711479, 0.57318228, 0.15172084, 0.49534702, 1.0765344, 1.0455993, 0.50052476, 0.33782396, 0.11787218, 0.34936222, 0.97102934, 0.14846806, 0.26570544, 0.50925452, 0.33552966, 0.63904291]\n",
      "--anomaly score\n",
      "[0.59388155, 0.32009807, 0.24882841, 0.18967623, 0.19646263, 0.24490701, 0.21156679, 0.25542688, 0.33964357, 0.50093991, 0.16673557, 0.5626772, 0.20903201, 3.3600209, 0.12896843, 0.14959951, 0.43489715, 0.087976515, 0.39722797, 0.27218056, 0.061337743, 0.33084676, 3.5957806, 0.46109316, 0.12085668, 0.19922404, 0.53861308, 0.91370267, 0.166135, 0.11023211]\n"
     ]
    },
    {
     "data": {
      "image/png": "[encoded data removed]",
      "text/plain": [
       "<matplotlib.figure.Figure at 0x7f4407ca0080>"
      ]
     },
     "metadata": {},
     "output_type": "display_data"
    },
    {
     "data": {
      "image/png": "[encoded data removed]",
      "text/plain": [
       "<matplotlib.figure.Figure at 0x7f441a842d30>"
      ]
     },
     "metadata": {},
     "output_type": "display_data"
    },
    {
     "name": "stdout",
     "output_type": "stream",
     "text": [
      "auc 0.48194\n"
     ]
    }
   ],
   "source": [
    "def eval01():\n",
    "    #sensor_type = ['rssi.a','rssi.b', ['linear_accel[0]','linear_accel[1]','linear_accel[2]']]\n",
    "    \n",
    "    #sensor_type = ['rssi.a','rssi.b', ['gyro.rotation.x','gyro.rotation.y','gyro.rotation.z']]\n",
    "    #sensor_type = ['rssi.a','rssi.b', ['gyro.rotationRate.x','gyro.rotationRate.y','gyro.rotationRate.z']]\n",
    "    #sensor_type = ['rssi.a','rssi.b', ['userAcceleration.x','userAcceleration.y','userAcceleration.z']]\n",
    "    #sensor_type = [['attitude.roll', 'attitude.pitch', 'attitude.yaw'], ['magneticField.x', 'magneticField.y', 'magneticField.z']]\n",
    "\n",
    "    #sensor_type = [['magneticField.x', 'magneticField.y', 'magneticField.z']]\n",
    "\n",
    "    sensor_type = ['rssi.a','rssi.b']\n",
    "    n_record = 0\n",
    "    n_record_after = 5\n",
    "    drop_interval = 1\n",
    "    ma_window = 1\n",
    "    n_train = 5\n",
    "    normalize = True\n",
    "    \n",
    "    # get data\n",
    "    dfl_b = datasets.get_data(ds, title='02_11_01', before=n_record, after=n_record_after,\n",
    "                              column=sensor_type, drop_interval=drop_interval)[:(n_train + 1)]\n",
    "    dfl_n = datasets.get_data(ds, title='02_11', before=n_record, after=n_record_after,\n",
    "                              column=sensor_type, drop_interval=drop_interval)\n",
    "    dfl_o = datasets.get_data(ds, title='02_14_02', before=n_record, after=n_record_after,\n",
    "                              column=sensor_type, drop_interval=drop_interval)\n",
    "    \n",
    "    #dfl_o = dfl_o[:1]\n",
    "    \n",
    "    #print(dfl_o)\n",
    "    #print(dfl_n)\n",
    "\n",
    "    # moving average\n",
    "    dfl_b = datasets.moving_average(dfl_b, window=ma_window, min_periods=ma_window)\n",
    "    dfl_n = datasets.moving_average(dfl_n, window=ma_window, min_periods=ma_window)\n",
    "    dfl_o = datasets.moving_average(dfl_o, window=ma_window, min_periods=ma_window)\n",
    "    \n",
    "    # normalize\n",
    "    if normalize == True:\n",
    "        dfl_b_n = datasets.normalize_by_base_data(dfl_b, dfl_b, sensor_type)\n",
    "        dfl_n_n = datasets.normalize_by_base_data(dfl_b, dfl_n, sensor_type)\n",
    "        dfl_o_n = datasets.normalize_by_base_data(dfl_b, dfl_o, sensor_type)\n",
    "\n",
    "    # get numpy array\n",
    "    data_2d_b = [df.as_matrix() for df in dfl_b_n]\n",
    "    data_2d_n = [df.as_matrix() for df in dfl_n_n]\n",
    "    data_2d_o = [df.as_matrix() for df in dfl_o_n]\n",
    "\n",
    "    # to list of numpy.array\n",
    "    data_b = [d.ravel() for d in data_2d_b]\n",
    "    data_n = [d.ravel() for d in data_2d_n]\n",
    "    data_o = [d.ravel() for d in data_2d_o]\n",
    "\n",
    "    model = EstimatorNN(num_of_hidden_nodes=2, num_of_training_epochs=4000, size_of_mini_batch=10)\n",
    "    model.fit(data_b, graph=True)\n",
    "    score_n = model.decision_function(data_n)\n",
    "    score_o = model.decision_function(data_o)\n",
    "    \n",
    "    print('--normal score')\n",
    "    print(score_n)\n",
    "    print('--anomaly score')\n",
    "    print(score_o)\n",
    "    \n",
    "    auc = roc_auc.get_auc_from_normal_outlier(score_n, score_o, graph=True)\n",
    "\n",
    "    print('auc %.05f' % (auc))\n",
    "\n",
    "eval01()"
   ]
  },
  {
   "cell_type": "code",
   "execution_count": null,
   "metadata": {
    "collapsed": true,
    "deletable": true,
    "editable": true
   },
   "outputs": [],
   "source": []
  }
 ],
 "metadata": {
  "kernelspec": {
   "display_name": "Python 3",
   "language": "python",
   "name": "python3"
  },
  "language_info": {
   "codemirror_mode": {
    "name": "ipython",
    "version": 3
   },
   "file_extension": ".py",
   "mimetype": "text/x-python",
   "name": "python",
   "nbconvert_exporter": "python",
   "pygments_lexer": "ipython3",
   "version": "3.5.2"
  }
 },
 "nbformat": 4,
 "nbformat_minor": 2
}
