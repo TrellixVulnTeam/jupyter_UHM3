{
 "cells": [
  {
   "cell_type": "code",
   "execution_count": 9,
   "metadata": {
    "collapsed": false,
    "deletable": true,
    "editable": true
   },
   "outputs": [],
   "source": [
    "import sys\n",
    "import notebookutil as nbu\n",
    "sys.meta_path.append(nbu.NotebookFinder())\n",
    "import datasets\n",
    "import tensorflow as tf\n",
    "import numpy as np\n",
    "import random\n",
    "import pandas as pd\n",
    "import glob\n",
    "import os\n",
    "from tensorflow.contrib.tensorboard.plugins import projector\n",
    "import matplotlib\n",
    "import matplotlib.pyplot as plt\n",
    "%matplotlib inline\n",
    "import roc_auc\n",
    "from sklearn.base import BaseEstimator"
   ]
  },
  {
   "cell_type": "code",
   "execution_count": 2,
   "metadata": {
    "collapsed": true,
    "deletable": true,
    "editable": true
   },
   "outputs": [],
   "source": [
    "def fit(sess, _train_data, param, graph=False):\n",
    "    num_of_sequence_length = len(_train_data[0])\n",
    "    num_of_hidden_nodes = param['num_of_hidden_nodes']\n",
    "    num_of_training_epochs = param['num_of_training_epochs']\n",
    "    size_of_mini_batch = param['size_of_mini_batch']\n",
    "    size_of_test_batch = param['size_of_test_batch']\n",
    "    learning_rate = param['learning_rate']\n",
    "\n",
    "    random.seed(0)\n",
    "    np.random.seed(0)\n",
    "    tf.set_random_seed(0)\n",
    "\n",
    "    input_ph      = tf.placeholder(tf.float32, [None, num_of_sequence_length], name=\"input\")\n",
    "    supervisor_ph = tf.placeholder(tf.float32, [None, num_of_sequence_length], name=\"supervisor\")\n",
    "    batch_size_ph = tf.placeholder(tf.int32, name=\"batch_size\")\n",
    "\n",
    "    optimizer = tf.train.AdamOptimizer(learning_rate=learning_rate)\n",
    "\n",
    "    with tf.name_scope(\"inference\") as scope:\n",
    "        weight_var = tf.Variable(tf.truncated_normal([num_of_sequence_length, num_of_hidden_nodes], stddev=0.1), name=\"weight\")\n",
    "        bias1_var   = tf.Variable(tf.truncated_normal([num_of_hidden_nodes], stddev=0.1), name=\"bias1\")\n",
    "        bias2_var   = tf.Variable(tf.truncated_normal([num_of_sequence_length], stddev=0.1), name=\"bias2\")\n",
    "        hidden = tf.sigmoid(tf.matmul(input_ph, weight_var) + bias1_var)\n",
    "        output_op = tf.sigmoid(tf.matmul(hidden, tf.transpose(weight_var) + bias2_var))\n",
    "\n",
    "    with tf.name_scope(\"loss\") as scope:\n",
    "        square_error = tf.reduce_mean(tf.square(output_op - supervisor_ph))\n",
    "        loss_op      = square_error\n",
    "\n",
    "    with tf.name_scope(\"training\") as scope:\n",
    "        training_op = optimizer.minimize(loss_op)\n",
    "\n",
    "    init = tf.global_variables_initializer()\n",
    "\n",
    "    saver = tf.train.Saver()\n",
    "    sess.run(init)\n",
    "    accuracy_results = []\n",
    "\n",
    "    for epoch in range(num_of_training_epochs):\n",
    "        train_dict = {\n",
    "            input_ph: _train_data,\n",
    "            supervisor_ph: _train_data,\n",
    "            batch_size_ph: size_of_mini_batch,\n",
    "        }\n",
    "        sess.run(training_op, feed_dict=train_dict)\n",
    "\n",
    "        if (epoch + 1) % 10 == 0:\n",
    "            train_loss = sess.run(loss_op, feed_dict=train_dict)\n",
    "\n",
    "            # eval accuracy\n",
    "            pred_dict = {\n",
    "                input_ph: _train_data,\n",
    "                supervisor_ph: _train_data,\n",
    "                batch_size_ph: size_of_test_batch,\n",
    "            }\n",
    "            accuracy_results.append([epoch, train_loss])\n",
    "            preddata = sess.run(output_op, feed_dict=pred_dict)\n",
    "            #print(\"train#%d, train loss: %e\" % (epoch + 1, train_loss))\n",
    "    \n",
    "    if graph == True:\n",
    "        df = pd.DataFrame({\n",
    "            'epoch': [x[0] for x in accuracy_results],\n",
    "            'train_loss': [x[1] for x in accuracy_results]\n",
    "        })\n",
    "        df.plot(x='epoch', y='train_loss')\n",
    "        df.head()\n",
    "    \n",
    "    return (input_ph, supervisor_ph, batch_size_ph), loss_op"
   ]
  },
  {
   "cell_type": "code",
   "execution_count": 3,
   "metadata": {
    "collapsed": true,
    "deletable": true,
    "editable": true
   },
   "outputs": [],
   "source": [
    "def decision_function(sess, data, ph, loss):\n",
    "    num_of_sequence_length = len(data[0])\n",
    "    \n",
    "    input_ph,  supervisor_ph, batch_size_ph = ph\n",
    "    loss_op = loss\n",
    "    \n",
    "    _train_data = data\n",
    "    \n",
    "    scores = []\n",
    "    \n",
    "    for epoch in range(len(_train_data)):\n",
    "        data = _train_data[epoch].reshape(-1, num_of_sequence_length)\n",
    "\n",
    "        train_dict = {\n",
    "            input_ph: data,\n",
    "            supervisor_ph: data,\n",
    "            batch_size_ph: 1,\n",
    "        }\n",
    "\n",
    "        train_loss = sess.run(loss_op, feed_dict=train_dict)\n",
    "        scores.append(train_loss)\n",
    "        #print('test w/ train #.%d %f' % (epoch, train_loss))\n",
    "        \n",
    "    return scores"
   ]
  },
  {
   "cell_type": "code",
   "execution_count": 4,
   "metadata": {
    "collapsed": false,
    "deletable": true,
    "editable": true
   },
   "outputs": [],
   "source": [
    "class EstimatorNN(BaseEstimator):\n",
    "    def __init__(self, num_of_hidden_nodes=20, num_of_training_epochs=100, size_of_mini_batch=10,\n",
    "                 size_of_test_batch=10, learning_rate=0.02):\n",
    "        self.param = {}\n",
    "        self.param['num_of_hidden_nodes'] = num_of_hidden_nodes\n",
    "        self.param['num_of_training_epochs'] = num_of_training_epochs\n",
    "        self.param['size_of_mini_batch'] = size_of_mini_batch\n",
    "        self.param['size_of_test_batch'] = size_of_test_batch\n",
    "        self.param['learning_rate'] = learning_rate\n",
    "    \n",
    "    def fit(self, x, graph=False):\n",
    "        self.sess = tf.Session()\n",
    "        self.ph, self.loss = fit(self.sess, x, self.param, graph=graph)\n",
    "        return self \n",
    "\n",
    "    def predict(self, x):\n",
    "        return [1.0]*len(x) \n",
    "    \n",
    "    def decision_function(self, x, y=None):\n",
    "        data = decision_function(self.sess, x, self.ph, self.loss)\n",
    "        return data\n",
    "\n",
    "    def score(self, x, y=None):\n",
    "        scores = self.decision_function(x)\n",
    "        return sum(scores)/len(scores)\n",
    "\n",
    "    def get_params(self, deep=True):\n",
    "        return self.param\n",
    "\n",
    "    def set_params(self, **parameters):\n",
    "        for parameter, value in parameters.items():\n",
    "            setattr(self,parameter, value)\n",
    "        return self\n",
    "    \n",
    "    def get_type(self):\n",
    "        return 'NN'"
   ]
  },
  {
   "cell_type": "code",
   "execution_count": 8,
   "metadata": {
    "collapsed": false,
    "deletable": true,
    "editable": true,
    "scrolled": false
   },
   "outputs": [
    {
     "name": "stdout",
     "output_type": "stream",
     "text": [
      "[[-50. -50. -50. -51. -49. -47. -45. -44. -45. -49.]\n",
      " [-53. -53. -53. -53. -51. -50. -50. -51. -52. -52.]\n",
      " [-54. -54. -54. -53. -52. -50. -48. -48. -47. -46.]\n",
      " [-49. -47. -46. -45. -44. -44. -42. -41. -41. -41.]]\n",
      "[[-63. -63. -64. -64. -63. -63. -63. -63. -63. -62.]\n",
      " [-58. -59. -59. -59. -61. -61. -59. -56. -55. -54.]\n",
      " [-65. -62. -62. -62. -61. -61. -60. -59. -60. -60.]\n",
      " [-61. -61. -62. -62. -62. -61. -60. -61. -60. -60.]]\n",
      "[0.00014859156, 0.0011827826, 0.0005273454, 0.0020678472]\n",
      "[0.020247836, 0.0091146156, 0.015116723, 0.014846465]\n"
     ]
    }
   ],
   "source": [
    "#''' pred area judgement from rssi\n",
    "def test():\n",
    "    train_data = np.array([[-50., -50., -50., -51., -49., -47., -45., -44., -45., -49.],\n",
    "                           [-53., -53., -53., -53., -51., -50., -50., -51., -52., -52.],\n",
    "                           [-54., -54., -54., -53., -52., -50., -48., -48., -47., -46.],\n",
    "                           [-49., -47., -46., -45., -44., -44., -42., -41., -41., -41.]])\n",
    "    test_data = np.array([[-63., -63., -64., -64., -63., -63., -63., -63., -63., -62.],\n",
    "                          [-58., -59., -59., -59., -61., -61., -59., -56., -55., -54.],\n",
    "                          [-65., -62., -62., -62., -61., -61., -60., -59., -60., -60.],\n",
    "                          [-61., -61., -62., -62., -62., -61., -60., -61., -60., -60.]])\n",
    "    print(train_data)\n",
    "    print(test_data)\n",
    "    train_data *= -0.01\n",
    "    test_data *= -0.01\n",
    "\n",
    "    nn = EstimatorNN()\n",
    "    nn.fit(train_data)\n",
    "    print(nn.decision_function(train_data))\n",
    "    print(nn.decision_function(test_data))\n",
    "#test()"
   ]
  },
  {
   "cell_type": "code",
   "execution_count": null,
   "metadata": {
    "collapsed": true,
    "deletable": true,
    "editable": true
   },
   "outputs": [],
   "source": []
  },
  {
   "cell_type": "code",
   "execution_count": 11,
   "metadata": {
    "collapsed": false,
    "deletable": true,
    "editable": true,
    "scrolled": true
   },
   "outputs": [
    {
     "name": "stdout",
     "output_type": "stream",
     "text": [
      "path = data/raw/02_0[12]_01*\n",
      "data/raw/02_01_01_4F実験室_iphone_胸ポケット_裏上_正常_まっすぐ帰宅\n",
      "..............................\n",
      "data/raw/02_02_01_4F実験室_iphone_胸ポケット_裏上_異常_まっすぐ外出\n",
      "..............................\n"
     ]
    }
   ],
   "source": [
    "ds = datasets.load('data/raw/02_0[12]_01*')"
   ]
  },
  {
   "cell_type": "code",
   "execution_count": 20,
   "metadata": {
    "collapsed": false,
    "deletable": true,
    "editable": true,
    "scrolled": false
   },
   "outputs": [
    {
     "name": "stdout",
     "output_type": "stream",
     "text": [
      "--normal score\n",
      "[0.065977246, 0.0029728347, 0.011778139, 0.6051507, 0.063529283, 0.48887831, 4.6913481, 0.0093116248, 0.0037318098, 0.0045124311, 1.3377521, 0.01933194, 0.022650875, 0.0076264841, 0.052333202, 0.057554893, 0.020703906, 0.036972031, 0.017802285, 0.0029728347, 0.29355365, 3.6121223, 0.21786526, 0.28739268, 0.0049196905, 1.7469203, 0.10600062, 0.037331741, 0.042817689, 0.14829791]\n",
      "--anomaly score\n",
      "[8.543787, 5.0916967, 6.9708624, 7.3515339, 3.3417883, 9.199029, 10.639156, 6.2518554, 6.8063416, 9.3484631, 5.4652419, 9.4064627, 7.4587498, 6.3571754, 10.241352, 4.1990728, 9.6049061, 9.5920467, 6.3774939, 5.9048834, 10.222426, 9.821682, 15.740853, 12.616342, 17.050816, 3.6587462, 3.6571054, 8.9862995, 6.7777014, 5.0667868]\n"
     ]
    },
    {
     "data": {
      "image/png": "[encoded data removed]",
      "text/plain": [
       "<matplotlib.figure.Figure at 0x7fe95ac4a160>"
      ]
     },
     "metadata": {},
     "output_type": "display_data"
    },
    {
     "data": {
      "image/png": "[encoded data removed]",
      "text/plain": [
       "<matplotlib.figure.Figure at 0x7fe96a44fc18>"
      ]
     },
     "metadata": {},
     "output_type": "display_data"
    },
    {
     "name": "stdout",
     "output_type": "stream",
     "text": [
      "auc 0.99444\n"
     ]
    }
   ],
   "source": [
    "def eval01():\n",
    "    #sensor_type = ['rssi.a','rssi.b', ['linear_accel[0]','linear_accel[1]','linear_accel[2]']]\n",
    "    sensor_type = ['rssi.a','rssi.b', ['gyro.rotation.x','gyro.rotation.y','gyro.rotation.z']]\n",
    "    sensor_type = ['rssi.a','rssi.b']\n",
    "    n_record = 1\n",
    "    drop_interval = 1\n",
    "    ma_window = 1\n",
    "    n_train = 10\n",
    "    normalize = True\n",
    "    \n",
    "    # get data\n",
    "    dfl_b = datasets.get_data(ds, title='02_01_01', before=n_record,\n",
    "                              column=sensor_type, drop_interval=drop_interval)[:(n_train + 1)]\n",
    "    dfl_n = datasets.get_data(ds, title='02_01_01', before=n_record,\n",
    "                              column=sensor_type, drop_interval=drop_interval)\n",
    "    dfl_o = datasets.get_data(ds, title='02_02_01', before=n_record,\n",
    "                              column=sensor_type, drop_interval=drop_interval)\n",
    "\n",
    "    # moving average\n",
    "    dfl_b = datasets.moving_average(dfl_b, window=ma_window, min_periods=ma_window)\n",
    "    dfl_n = datasets.moving_average(dfl_n, window=ma_window, min_periods=ma_window)\n",
    "    dfl_o = datasets.moving_average(dfl_o, window=ma_window, min_periods=ma_window)\n",
    "    \n",
    "    # normalize\n",
    "    if normalize == True:\n",
    "        dfl_b_n = datasets.normalize_by_base_data(dfl_b, dfl_b, sensor_type)\n",
    "        dfl_n_n = datasets.normalize_by_base_data(dfl_b, dfl_n, sensor_type)\n",
    "        dfl_o_n = datasets.normalize_by_base_data(dfl_b, dfl_o, sensor_type)\n",
    "\n",
    "    # get numpy array\n",
    "    data_2d_b = [df.as_matrix() for df in dfl_b_n]\n",
    "    data_2d_n = [df.as_matrix() for df in dfl_n_n]\n",
    "    data_2d_o = [df.as_matrix() for df in dfl_o_n]\n",
    "\n",
    "    # to list of numpy.array\n",
    "    data_b = [d.ravel() for d in data_2d_b]\n",
    "    data_n = [d.ravel() for d in data_2d_n]\n",
    "    data_o = [d.ravel() for d in data_2d_o]\n",
    "\n",
    "    model = EstimatorNN(num_of_hidden_nodes=32, num_of_training_epochs=300)\n",
    "    model.fit(data_b, graph=True)\n",
    "    score_n = model.decision_function(data_n)\n",
    "    score_o = model.decision_function(data_o)\n",
    "    \n",
    "    print('--normal score')\n",
    "    print(score_n)\n",
    "    print('--anomaly score')\n",
    "    print(score_o)\n",
    "    \n",
    "    auc = roc_auc.get_auc_from_normal_outlier(score_n, score_o, graph=True)\n",
    "\n",
    "    print('auc %.05f' % (auc))\n",
    "    \n",
    "#eval01()"
   ]
  }
 ],
 "metadata": {
  "kernelspec": {
   "display_name": "Python 3",
   "language": "python",
   "name": "python3"
  },
  "language_info": {
   "codemirror_mode": {
    "name": "ipython",
    "version": 3
   },
   "file_extension": ".py",
   "mimetype": "text/x-python",
   "name": "python",
   "nbconvert_exporter": "python",
   "pygments_lexer": "ipython3",
   "version": "3.5.2"
  }
 },
 "nbformat": 4,
 "nbformat_minor": 2
}
