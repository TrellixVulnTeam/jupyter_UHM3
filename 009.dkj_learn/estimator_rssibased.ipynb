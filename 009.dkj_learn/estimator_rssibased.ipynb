{
 "cells": [
  {
   "cell_type": "code",
   "execution_count": 1,
   "metadata": {
    "collapsed": true,
    "deletable": true,
    "editable": true
   },
   "outputs": [],
   "source": [
    "from sklearn.neighbors import NearestNeighbors\n",
    "from sklearn.base import BaseEstimator\n",
    "import numpy as np"
   ]
  },
  {
   "cell_type": "code",
   "execution_count": 2,
   "metadata": {
    "collapsed": false,
    "deletable": true,
    "editable": true
   },
   "outputs": [],
   "source": [
    "class EstimatorRssiBased(BaseEstimator):\n",
    "    def __init__(self):\n",
    "        return None\n",
    "\n",
    "    def fit(self, x):\n",
    "        return self \n",
    "\n",
    "    def predict(self, x):\n",
    "        return [1.0]*len(x) \n",
    "    \n",
    "    def decision_function(self, x, y=None):\n",
    "        #x : [[rssi.a, rssi.b], [rssi.a, rssi.b], ...]\n",
    "        values = [-np.max(x) for x in x]\n",
    "        return values\n",
    "\n",
    "    def score(self, x, y=None):\n",
    "        scores = self.decision_function(x)\n",
    "        return sum(scores)/len(scores)\n",
    "\n",
    "    def get_params(self, deep=True):\n",
    "        #return self.estimator.get_params(deep)\n",
    "        return {}\n",
    "\n",
    "    def set_params(self, **parameters):\n",
    "        for parameter, value in parameters.items():\n",
    "            setattr(self,parameter, value)\n",
    "        return self\n",
    "    \n",
    "    def get_type(self):\n",
    "        return 'rssi_based'"
   ]
  },
  {
   "cell_type": "code",
   "execution_count": 7,
   "metadata": {
    "collapsed": false,
    "deletable": true,
    "editable": true
   },
   "outputs": [],
   "source": [
    "#import estimator_knn as knn\n",
    "import sys\n",
    "import notebookutil as nbu\n",
    "sys.meta_path.append(nbu.NotebookFinder())\n",
    "import datasets\n",
    "import pandas as pd\n",
    "import numpy as np\n",
    "import roc_auc\n",
    "\n",
    "#ds = datasets.load('data/raw/01_0[123]_0*_*')"
   ]
  },
  {
   "cell_type": "code",
   "execution_count": 4,
   "metadata": {
    "collapsed": false,
    "deletable": true,
    "editable": true
   },
   "outputs": [
    {
     "name": "stdout",
     "output_type": "stream",
     "text": [
      "path = data/raw/02_1[1234]_0*\n",
      "data/raw/02_11_01_エネマネハウス_iphone_胸ポケット_裏上_正常_まっすぐ帰宅\n",
      "..............................\n",
      "data/raw/02_11_02_エネマネハウス_iphone_カバン_裏上_正常_まっすぐ帰宅\n",
      "..............................\n",
      "data/raw/02_11_03_エネマネハウス_iphone_胸ポケット_裏上_正常_5秒後まっすぐ帰宅\n",
      "..............................\n",
      "data/raw/02_11_04_エネマネハウス_iphone_カバン_裏上_正常_5秒後まっすぐ帰宅\n",
      "..............................\n",
      "data/raw/02_12_01_エネマネハウス_iphone_胸ポケット_裏上_異常_まっすぐ外出\n",
      "..............................\n",
      "data/raw/02_12_02_エネマネハウス_iphone_ズボン_裏上_異常_まっすぐ外出\n",
      "..............................\n",
      "data/raw/02_12_03_エネマネハウス_iphone_カバン_裏上_異常_まっすぐ外出\n",
      "..............................\n",
      "data/raw/02_13_01_エネマネハウス_iphone_胸ポケット_裏上_異常_まっすぐ帰宅\n",
      "..............................\n",
      "data/raw/02_13_02_エネマネハウス_iphone_ズボン_裏上_異常_まっすぐ帰宅\n",
      "..............................\n",
      "data/raw/02_13_03_エネマネハウス_iphone_カバン_裏上_異常_まっすぐ帰宅\n",
      "..............................\n",
      "data/raw/02_14_01_エネマネハウス_iphone_胸ポケット_裏上_異常_エリア境界で静止\n",
      "..............................\n",
      "data/raw/02_14_02_エネマネハウス_iphone_カバン_裏上_異常_エリア境界で静止\n",
      "..............................\n"
     ]
    }
   ],
   "source": [
    "#ds = datasets.load('data/raw/02_1[1234]_0*')"
   ]
  },
  {
   "cell_type": "code",
   "execution_count": 11,
   "metadata": {
    "collapsed": false,
    "deletable": true,
    "editable": true
   },
   "outputs": [
    {
     "name": "stdout",
     "output_type": "stream",
     "text": [
      "--normal score\n",
      "[-1.1538143456850964, -0.72793454169117622, -0.077439844860763635, -1.0996457970228406, -0.91379016935700841, -0.64415402121069809, -0.64415402121069809, -0.89898418344789721, -1.7908897512780941, -1.0263992645664968, -0.63500672785826018, -1.2812294268036959, -0.63500672785826018, -0.63500672785826018, -1.7908897512780941, -1.4086445079222956, -1.4086445079222956, -0.64415402121069809, -1.0263992645664968, -1.1538143456850964, -2.3005500757524926, -2.427965156871092, -1.1538143456850964, -1.6634746701594947, -1.536059589040895, -1.9183048323966938, -1.536059589040895, -1.0263992645664968, -1.536059589040895, -1.2812294268036959, -0.0070786156177001774, 0.38719922430381681, 0.38719922430381681, 0.015487968972152462, 0.015487968972152462, 0.573054851969649, -0.26190877785489936, 0.015487968972152462, 0.10841578280506856, -0.077439844860763635, 0.20134359663798465, -0.0070786156177001774, -0.26190877785489936, 0.12033646550089939, -0.2632954725265958, 0.20134359663798465, 0.38719922430381681, -0.077439844860763635, -0.2632954725265958, -0.077439844860763635, -0.44915110019242799, -0.38932385897349892, -0.64415402121069809, -0.17036765869367973, -0.51673894009209853, 0.10841578280506856, 0.62999678997529773, -0.077439844860763635, 0.10841578280506856, 0.015487968972152462, -0.91379016935700841, -0.82086235552409237, -0.26190877785489936, -0.54207891402534403, -1.0263992645664968, -0.77156910232929765, -1.1538143456850964, -1.9183048323966938, -0.89898418344789721, -0.51673894009209853, -1.0067179831899244, -1.1538143456850964, -0.51673894009209853, -1.4086445079222956, -1.0996457970228406, -1.1538143456850964, -1.2812294268036959, -0.64415402121069809, -1.9183048323966938, -0.64415402121069809, -0.77156910232929765, -0.89898418344789721, -1.1538143456850964, -1.1538143456850964, -1.536059589040895, -1.4086445079222956, -1.536059589040895, -1.1538143456850964, -1.536059589040895, -1.0263992645664968, -0.44915110019242799, -0.26190877785489936, -0.2632954725265958, -0.54207891402534403, -0.17036765869367973, -0.077439844860763635, -0.64415402121069809, -0.2632954725265958, 0.20134359663798465, 0.10841578280506856, 0.015487968972152462, 0.015487968972152462, -0.077439844860763635, -0.077439844860763635, -0.2632954725265958, -0.2632954725265958, -0.38932385897349892, -0.17036765869367973, -0.38932385897349892, -0.2632954725265958, -0.0070786156177001774, -0.077439844860763635, -0.64415402121069809, -0.17036765869367973, -0.0070786156177001774, 0.015487968972152462, -0.26190877785489936, -0.17036765869367973, 0.015487968972152462, 0.015487968972152462]\n",
      "--anomaly score\n",
      "[1.0376939211342295, 1.0376939211342295, 1.3164773626329778, 1.2235495488000616, 0.94476610730131338, 1.2235495488000616, 1.3164773626329778, 0.573054851969649, 0.573054851969649, 0.66598266580256504, 0.85183829346839723, 1.1306217349671455, 0.75891047963548119, 1.2235495488000616, 1.4094051764658939, 0.37516662773809856, 1.3164773626329778, 1.3164773626329778, 0.66598266580256504, 1.3164773626329778, 1.1306217349671455, 1.1306217349671455, 1.2235495488000616, 1.3164773626329778, 1.3164773626329778, 1.2235495488000616, 1.1306217349671455, 0.75891047963548119, 1.0376939211342295, 1.2235495488000616, 0.10841578280506856, -0.35622328635951189, 0.24775154661949897, -0.38932385897349892, -0.64415402121069809, -0.2632954725265958, -0.26190877785489936, -0.51673894009209853, 0.015487968972152462, -0.2632954725265958, -0.077439844860763635, -0.35622328635951189, -0.26190877785489936, -0.17036765869367973, 0.015487968972152462, -0.38932385897349892, -0.077439844860763635, -0.2632954725265958, 0.48012703813673291, -0.17036765869367973, 0.015487968972152462, 0.20134359663798465, -0.077439844860763635, -0.077439844860763635, -0.077439844860763635, 0.29427141047090072, 0.20134359663798465, -0.2632954725265958, -0.2632954725265958, -0.17036765869367973]\n"
     ]
    },
    {
     "data": {
      "image/png": "[encoded data removed]",
      "text/plain": [
       "<matplotlib.figure.Figure at 0x7fb3232f31d0>"
      ]
     },
     "metadata": {},
     "output_type": "display_data"
    },
    {
     "name": "stdout",
     "output_type": "stream",
     "text": [
      "auc 0.85729\n"
     ]
    }
   ],
   "source": [
    "def eval01():\n",
    "    #sensor_type = ['rssi.a','rssi.b', ['linear_accel[0]','linear_accel[1]','linear_accel[2]']]\n",
    "    \n",
    "    #sensor_type = ['rssi.a','rssi.b', ['gyro.rotation.x','gyro.rotation.y','gyro.rotation.z']]\n",
    "    #sensor_type = ['rssi.a','rssi.b', ['gyro.rotationRate.x','gyro.rotationRate.y','gyro.rotationRate.z']]\n",
    "    #sensor_type = ['rssi.a','rssi.b', ['userAcceleration.x','userAcceleration.y','userAcceleration.z']]\n",
    "    #sensor_type = [['attitude.roll', 'attitude.pitch', 'attitude.yaw'], ['magneticField.x', 'magneticField.y', 'magneticField.z']]\n",
    "\n",
    "    #sensor_type = [['magneticField.x', 'magneticField.y', 'magneticField.z']]\n",
    "\n",
    "    sensor_type = ['rssi.a','rssi.b']\n",
    "    n_record = 0\n",
    "    n_record_after = 5\n",
    "    drop_interval = 5\n",
    "    ma_window = 1\n",
    "    n_train = 5\n",
    "    normalize = True\n",
    "    \n",
    "    # get data\n",
    "    dfl_b = datasets.get_data(ds, title='02_11_01', before=n_record, after=n_record_after,\n",
    "                              column=sensor_type, drop_interval=drop_interval)[:(n_train + 1)]\n",
    "    dfl_n = datasets.get_data(ds, title='02_11', before=n_record, after=n_record_after,\n",
    "                              column=sensor_type, drop_interval=drop_interval)\n",
    "    dfl_o = datasets.get_data(ds, title='02_14', before=n_record, after=n_record_after,\n",
    "                              column=sensor_type, drop_interval=drop_interval)\n",
    "    \n",
    "    # moving average\n",
    "    dfl_b = datasets.moving_average(dfl_b, window=ma_window, min_periods=ma_window)\n",
    "    dfl_n = datasets.moving_average(dfl_n, window=ma_window, min_periods=ma_window)\n",
    "    dfl_o = datasets.moving_average(dfl_o, window=ma_window, min_periods=ma_window)\n",
    "    \n",
    "    # normalize\n",
    "    if normalize == True:\n",
    "        dfl_b_n = datasets.normalize_by_base_data(dfl_b, dfl_b, sensor_type)\n",
    "        dfl_n_n = datasets.normalize_by_base_data(dfl_b, dfl_n, sensor_type)\n",
    "        dfl_o_n = datasets.normalize_by_base_data(dfl_b, dfl_o, sensor_type)\n",
    "\n",
    "    # get numpy array\n",
    "    data_2d_b = [df.as_matrix() for df in dfl_b_n]\n",
    "    data_2d_n = [df.as_matrix() for df in dfl_n_n]\n",
    "    data_2d_o = [df.as_matrix() for df in dfl_o_n]\n",
    "\n",
    "    # to list of numpy.array\n",
    "    data_b = [d.ravel() for d in data_2d_b]\n",
    "    data_n = [d.ravel() for d in data_2d_n]\n",
    "    data_o = [d.ravel() for d in data_2d_o]\n",
    "\n",
    "    model = EstimatorRssiBased()\n",
    "    #model.fit(data_b, graph=True)\n",
    "    model.fit(data_b)\n",
    "    score_n = model.decision_function(data_n)\n",
    "    score_o = model.decision_function(data_o)\n",
    "    \n",
    "    print('--normal score')\n",
    "    print(score_n)\n",
    "    print('--anomaly score')\n",
    "    print(score_o)\n",
    "    \n",
    "    auc = roc_auc.get_auc_from_normal_outlier(score_n, score_o, graph=True)\n",
    "\n",
    "    print('auc %.05f' % (auc))\n",
    "\n",
    "#eval01()"
   ]
  }
 ],
 "metadata": {
  "kernelspec": {
   "display_name": "Python 3",
   "language": "python",
   "name": "python3"
  },
  "language_info": {
   "codemirror_mode": {
    "name": "ipython",
    "version": 3
   },
   "file_extension": ".py",
   "mimetype": "text/x-python",
   "name": "python",
   "nbconvert_exporter": "python",
   "pygments_lexer": "ipython3",
   "version": "3.5.2"
  }
 },
 "nbformat": 4,
 "nbformat_minor": 2
}
