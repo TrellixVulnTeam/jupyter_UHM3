{
 "cells": [
  {
   "cell_type": "code",
   "execution_count": 491,
   "metadata": {
    "collapsed": false,
    "deletable": true,
    "editable": true,
    "scrolled": false
   },
   "outputs": [],
   "source": [
    "import sys\n",
    "import notebookutil as nbu\n",
    "sys.meta_path.append(nbu.NotebookFinder())\n",
    "import datasets\n",
    "import pandas as pd\n",
    "import numpy as np\n",
    "import roc_auc\n",
    "import estimator_knn as knn\n",
    "import estimator_rssibased as rssie\n",
    "import json"
   ]
  },
  {
   "cell_type": "code",
   "execution_count": 233,
   "metadata": {
    "collapsed": false,
    "deletable": true,
    "editable": true,
    "scrolled": false
   },
   "outputs": [
    {
     "name": "stdout",
     "output_type": "stream",
     "text": [
      "path = data/raw/0[12]_[01][123]_0[1234]*_*\n",
      "data/raw/01_01_01_4F実験室_XperiaZ3_胸ポケット_裏上_正常_まっすぐ帰宅\n",
      "..............................\n",
      "data/raw/01_01_02_4F実験室_XperiaZ3_カバン_裏上_正常_まっすぐ帰宅\n",
      "...x..........................\n",
      "data/raw/01_01_03_4F実験室_XperiaZ3_胸ポケット_裏上_正常_5秒後まっすぐ帰宅\n",
      ".........................x....\n",
      "data/raw/01_01_04_4F実験室_XperiaZ3_カバン_裏上_正常_5秒後まっすぐ帰宅\n",
      ".....................x........\n",
      "data/raw/01_02_01_4F実験室_XperiaZ3_胸ポケット_裏上_異常_まっすぐ外出\n",
      "..............................\n",
      "data/raw/01_02_02_4F実験室_XperiaZ3_ズボン_裏上_異常_まっすぐ外出\n",
      "..............................\n",
      "data/raw/01_02_03_4F実験室_XperiaZ3_カバン_裏上_異常_まっすぐ外出\n",
      "..............................\n",
      "data/raw/01_03_01_4F実験室_XperiaZ3_胸ポケット_裏上_異常_まっすぐ帰宅\n",
      "..............................\n",
      "data/raw/01_03_02_4F実験室_XperiaZ3_ズボン_裏上_異常_まっすぐ帰宅\n",
      "..............................\n",
      "data/raw/01_03_03_4F実験室_XperiaZ3_カバン_裏上_異常_まっすぐ帰宅\n",
      "..............................\n",
      "data/raw/01_11_01_エネマネハウス_XperiaZ3_胸ポケット_裏上_正常_まっすぐ帰宅\n",
      "..............................\n",
      "data/raw/01_11_02_エネマネハウス_XperiaZ3_カバン_裏上_正常_まっすぐ帰宅\n",
      "..............................\n",
      "data/raw/01_11_03_エネマネハウス_XperiaZ3_胸ポケット_裏上_正常_5秒後まっすぐ帰宅\n",
      "..............................\n",
      "data/raw/01_11_04_エネマネハウス_XperiaZ3_カバン_裏上_正常_5秒後まっすぐ帰宅\n",
      "..............................\n",
      "data/raw/01_12_01_エネマネハウス_XperiaZ3_胸ポケット_裏上_異常_まっすぐ外出\n",
      "..............................\n",
      "data/raw/01_12_02_エネマネハウス_XperiaZ3_ズボン_裏上_異常_まっすぐ外出\n",
      "..............................\n",
      "data/raw/01_12_03_エネマネハウス_XperiaZ3_カバン_裏上_異常_まっすぐ外出\n",
      "..............................\n",
      "data/raw/01_13_01_エネマネハウス_XperiaZ3_胸ポケット_裏上_異常_まっすぐ帰宅\n",
      "..............................\n",
      "data/raw/01_13_02_エネマネハウス_XperiaZ3_ズボン_裏上_異常_まっすぐ帰宅\n",
      "..............................\n",
      "data/raw/01_13_03_エネマネハウス_XperiaZ3_カバン_裏上_異常_まっすぐ帰宅\n",
      "..............................\n",
      "data/raw/02_01_01_4F実験室_iphone_胸ポケット_裏上_正常_まっすぐ帰宅\n",
      "..............................\n",
      "data/raw/02_01_02_4F実験室_iphone_カバン_裏上_正常_まっすぐ帰宅\n",
      "..............................\n",
      "data/raw/02_01_03_4F実験室_iphone_胸ポケット_裏上_正常_5秒後まっすぐ帰宅\n",
      "..............................\n",
      "data/raw/02_01_04_4F実験室_iphone_カバン_裏上_正常_5秒後まっすぐ帰宅\n",
      "..............................\n",
      "data/raw/02_02_01_4F実験室_iphone_胸ポケット_裏上_異常_まっすぐ外出\n",
      "..............................\n",
      "data/raw/02_02_02_4F実験室_iphone_ズボン_裏上_異常_まっすぐ外出\n",
      "..............................\n",
      "data/raw/02_02_03_4F実験室_iphone_カバン_裏上_異常_まっすぐ外出\n",
      "..............................\n",
      "data/raw/02_03_01_4F実験室_iphone_胸ポケット_裏上_異常_まっすぐ帰宅\n",
      "..............................\n",
      "data/raw/02_03_02_4F実験室_iphone_ズボン_裏上_異常_まっすぐ帰宅\n",
      "..............................\n",
      "data/raw/02_03_03_4F実験室_iphone_カバン_裏上_異常_まっすぐ帰宅\n",
      "..............................\n",
      "data/raw/02_11_01_エネマネハウス_iphone_胸ポケット_裏上_正常_まっすぐ帰宅\n",
      "..............................\n",
      "data/raw/02_11_02_エネマネハウス_iphone_カバン_裏上_正常_まっすぐ帰宅\n",
      "..............................\n",
      "data/raw/02_11_03_エネマネハウス_iphone_胸ポケット_裏上_正常_5秒後まっすぐ帰宅\n",
      "..............................\n",
      "data/raw/02_11_04_エネマネハウス_iphone_カバン_裏上_正常_5秒後まっすぐ帰宅\n",
      "..............................\n",
      "data/raw/02_12_01_エネマネハウス_iphone_胸ポケット_裏上_異常_まっすぐ外出\n",
      "..............................\n",
      "data/raw/02_12_02_エネマネハウス_iphone_ズボン_裏上_異常_まっすぐ外出\n",
      "..............................\n",
      "data/raw/02_12_03_エネマネハウス_iphone_カバン_裏上_異常_まっすぐ外出\n",
      "..............................\n",
      "data/raw/02_13_01_エネマネハウス_iphone_胸ポケット_裏上_異常_まっすぐ帰宅\n",
      "..............................\n",
      "data/raw/02_13_02_エネマネハウス_iphone_ズボン_裏上_異常_まっすぐ帰宅\n",
      "..............................\n",
      "data/raw/02_13_03_エネマネハウス_iphone_カバン_裏上_異常_まっすぐ帰宅\n",
      "..............................\n"
     ]
    }
   ],
   "source": [
    "# data loader\n",
    "ds = datasets.load('data/raw/0[12]_[01][123]_0[1234]*_*')"
   ]
  },
  {
   "cell_type": "code",
   "execution_count": null,
   "metadata": {
    "collapsed": true,
    "deletable": true,
    "editable": true
   },
   "outputs": [],
   "source": [
    "def knn_combinations"
   ]
  },
  {
   "cell_type": "code",
   "execution_count": 531,
   "metadata": {
    "collapsed": false,
    "deletable": true,
    "editable": true
   },
   "outputs": [
    {
     "data": {
      "text/plain": [
       "0     True\n",
       "1    False\n",
       "2    False\n",
       "dtype: bool"
      ]
     },
     "execution_count": 531,
     "metadata": {},
     "output_type": "execute_result"
    }
   ],
   "source": [
    "def hoge():\n",
    "    df = pd.DataFrame([[1,2,3],[1,np.nan,2],[4,5,np.nan]])\n",
    "    df[1]\n",
    "    return df[1] < df[2]\n",
    "hoge()"
   ]
  },
  {
   "cell_type": "code",
   "execution_count": 590,
   "metadata": {
    "collapsed": false,
    "deletable": true,
    "editable": true,
    "scrolled": false
   },
   "outputs": [
    {
     "data": {
      "image/png": "[encoded data removed]",
      "text/plain": [
       "<matplotlib.figure.Figure at 0x7fb8b2e615f8>"
      ]
     },
     "metadata": {},
     "output_type": "display_data"
    },
    {
     "name": "stdout",
     "output_type": "stream",
     "text": [
      "auc 0.89542\n"
     ]
    },
    {
     "data": {
      "image/png": "[encoded data removed]",
      "text/plain": [
       "<matplotlib.figure.Figure at 0x7fb8b5a0ba90>"
      ]
     },
     "metadata": {},
     "output_type": "display_data"
    },
    {
     "name": "stdout",
     "output_type": "stream",
     "text": [
      "auc 0.97741\n"
     ]
    },
    {
     "data": {
      "text/html": [
       "<div>\n",
       "<table border=\"1\" class=\"dataframe\">\n",
       "  <thead>\n",
       "    <tr style=\"text-align: right;\">\n",
       "      <th></th>\n",
       "      <th>algorithm</th>\n",
       "      <th>auc</th>\n",
       "      <th>ma_window</th>\n",
       "      <th>model_idx</th>\n",
       "      <th>ms_interval</th>\n",
       "      <th>n_neighbors</th>\n",
       "      <th>n_record</th>\n",
       "      <th>n_train</th>\n",
       "      <th>sensor_type</th>\n",
       "      <th>type</th>\n",
       "    </tr>\n",
       "  </thead>\n",
       "  <tbody>\n",
       "    <tr>\n",
       "      <th>5</th>\n",
       "      <td>ball_tree</td>\n",
       "      <td>0.895417</td>\n",
       "      <td>1</td>\n",
       "      <td>0</td>\n",
       "      <td>100</td>\n",
       "      <td>1.0</td>\n",
       "      <td>1</td>\n",
       "      <td>1</td>\n",
       "      <td>[[linear_accel[0], linear_accel[1], linear_acc...</td>\n",
       "      <td>kNN</td>\n",
       "    </tr>\n",
       "    <tr>\n",
       "      <th>6</th>\n",
       "      <td>NaN</td>\n",
       "      <td>0.977407</td>\n",
       "      <td>1</td>\n",
       "      <td>1</td>\n",
       "      <td>20</td>\n",
       "      <td>NaN</td>\n",
       "      <td>1</td>\n",
       "      <td>1</td>\n",
       "      <td>[rssi.a, rssi.b]</td>\n",
       "      <td>rssi_based</td>\n",
       "    </tr>\n",
       "  </tbody>\n",
       "</table>\n",
       "</div>"
      ],
      "text/plain": [
       "   algorithm       auc  ma_window  model_idx  ms_interval  n_neighbors  \\\n",
       "5  ball_tree  0.895417          1          0          100          1.0   \n",
       "6        NaN  0.977407          1          1           20          NaN   \n",
       "\n",
       "   n_record  n_train                                        sensor_type  \\\n",
       "5         1        1  [[linear_accel[0], linear_accel[1], linear_acc...   \n",
       "6         1        1                                   [rssi.a, rssi.b]   \n",
       "\n",
       "         type  \n",
       "5         kNN  \n",
       "6  rssi_based  "
      ]
     },
     "execution_count": 590,
     "metadata": {},
     "output_type": "execute_result"
    }
   ],
   "source": [
    "# grid search implementation (under test)\n",
    "def _get_estimator_models():\n",
    "    # knn parameters\n",
    "    range_n_neighbors = np.arange(1, 5, 5)\n",
    "    \n",
    "    # create estimator list\n",
    "    models = []\n",
    "    mesh_data = np.meshgrid(range_n_neighbors)\n",
    "    for n_neighbors, in zip(mesh_data[0].ravel()):\n",
    "        models.append(knn.EstimatorKNN(n_neighbors=n_neighbors))\n",
    "    models.append(rssie.EstimatorRssiBased())\n",
    "    return models\n",
    "\n",
    "def _get_grid_test_case(models):\n",
    "    # other  parameters\n",
    "    sensor_type_master = [\n",
    "        ['rssi.a', 'rssi.b'],\n",
    "        [['linear_accel[0]', 'linear_accel[1]', 'linear_accel[2]']]\n",
    "    ]\n",
    "    range_n_record = np.arange(1, 10, 10)\n",
    "    range_n_train = np.arange(1, 20, 20)\n",
    "    range_ms_interval = np.array([20, 40, 100])\n",
    "    range_ma_window = np.arange(1, 4, 4)\n",
    "    range_sensor_type = sensor_type_master # to be combinationable\n",
    "    \n",
    "    mesh_data = np.meshgrid(range(len(models)), range_n_record, range_n_train,\n",
    "                            range_ms_interval, range_ma_window, range_sensor_type)\n",
    "\n",
    "    # create grid test case\n",
    "    test_case = []\n",
    "    for model_idx, n_record, n_train, ms_interval, ma_window, sensor_type in zip(mesh_data[0].ravel(), mesh_data[1].ravel(), mesh_data[2].ravel(),\n",
    "               mesh_data[3].ravel(), mesh_data[4].ravel(), mesh_data[5].ravel()):\n",
    "        model = models[model_idx]\n",
    "                            \n",
    "        # save test case and result\n",
    "        _t = {'model_idx': model_idx, 'n_record': n_record, 'n_train': n_train,\n",
    "              'ms_interval': ms_interval, 'ma_window': ma_window, 'sensor_type': sensor_type}\n",
    "        _t.update(model.get_params())\n",
    "        _t['type'] = model.get_type()\n",
    "        _t['auc'] = np.nan\n",
    "        test_case.append(_t)\n",
    "    \n",
    "    # create df for test case\n",
    "    df = pd.DataFrame(test_case)\n",
    "    return df\n",
    "\n",
    "def _remove_unavailable_test_case(df):\n",
    "    # remove unavailable test case\n",
    "    df = df[~(df['n_train'] < df['n_neighbors'])]\n",
    "    df = df[~((df['type'] == 'rssi_based') & (~df['sensor_type'].apply(lambda x: 'rssi.a' in x)))]\n",
    "    #df = df[~((df.neighbor == 3) & (df['sample'] == 10))]\n",
    "    return df\n",
    "\n",
    "def _run_test(df, models):\n",
    "    # set the data title\n",
    "    base = '01_11_01'\n",
    "    normal = '^01_11'\n",
    "    anomaly = '^01_1[23]'\n",
    "\n",
    "    # run test\n",
    "    for k, t in df.iterrows():\n",
    "        auc = eval_estimator(models[t['model_idx']], base=base, normal=normal, anomaly=anomaly,\n",
    "                             n_train=t['n_train'], sensor_type=t['sensor_type'], n_record=t['n_record'],\n",
    "                             ms_interval=t['ms_interval'], ma_window=t['ma_window'])\n",
    "        df.loc[[k], 'auc'] = auc\n",
    "    \n",
    "    return df\n",
    "\n",
    "def test():\n",
    "    models = _get_estimator_models()\n",
    "    df = _get_grid_test_case(models)\n",
    "    df = _remove_unavailable_test_case(df)\n",
    "    df = df[5:7]\n",
    "    df = _run_test(df, models)\n",
    "    df.to_csv('test_record.csv')\n",
    "    \n",
    "    return df\n",
    "\n",
    "test()"
   ]
  },
  {
   "cell_type": "code",
   "execution_count": 453,
   "metadata": {
    "collapsed": false,
    "deletable": true,
    "editable": true
   },
   "outputs": [
    {
     "data": {
      "text/html": [
       "<div>\n",
       "<table border=\"1\" class=\"dataframe\">\n",
       "  <thead>\n",
       "    <tr style=\"text-align: right;\">\n",
       "      <th></th>\n",
       "      <th>ma_window</th>\n",
       "      <th>ms_interval</th>\n",
       "      <th>n_neighbor</th>\n",
       "      <th>n_record</th>\n",
       "      <th>n_train</th>\n",
       "      <th>sensor_type</th>\n",
       "      <th>auc</th>\n",
       "    </tr>\n",
       "  </thead>\n",
       "  <tbody>\n",
       "    <tr>\n",
       "      <th>0</th>\n",
       "      <td>1</td>\n",
       "      <td>20</td>\n",
       "      <td>1</td>\n",
       "      <td>1</td>\n",
       "      <td>1</td>\n",
       "      <td>[rssi.a, rssi.b]</td>\n",
       "      <td>0.928981</td>\n",
       "    </tr>\n",
       "    <tr>\n",
       "      <th>1</th>\n",
       "      <td>1</td>\n",
       "      <td>20</td>\n",
       "      <td>1</td>\n",
       "      <td>1</td>\n",
       "      <td>1</td>\n",
       "      <td>[[linear_accel[0], linear_accel[1], linear_acc...</td>\n",
       "      <td>0.990231</td>\n",
       "    </tr>\n",
       "  </tbody>\n",
       "</table>\n",
       "</div>"
      ],
      "text/plain": [
       "   ma_window  ms_interval  n_neighbor  n_record  n_train  \\\n",
       "0          1           20           1         1        1   \n",
       "1          1           20           1         1        1   \n",
       "\n",
       "                                         sensor_type       auc  \n",
       "0                                   [rssi.a, rssi.b]  0.928981  \n",
       "1  [[linear_accel[0], linear_accel[1], linear_acc...  0.990231  "
      ]
     },
     "execution_count": 453,
     "metadata": {},
     "output_type": "execute_result"
    }
   ],
   "source": [
    "def read_csv():\n",
    "    f = lambda x : json.loads(x.replace(\"'\",\"\\\"\"))\n",
    "    df = pd.read_csv('test_record.csv', converters={'sensor_type': f}, index_col=0)\n",
    "    return df\n",
    "#read_csv()"
   ]
  },
  {
   "cell_type": "code",
   "execution_count": 490,
   "metadata": {
    "collapsed": false,
    "deletable": true,
    "editable": true
   },
   "outputs": [
    {
     "data": {
      "text/plain": [
       "<module 'estimator_rssibased' from 'estimator_rssibased.ipynb'>"
      ]
     },
     "execution_count": 490,
     "metadata": {},
     "output_type": "execute_result"
    }
   ],
   "source": [
    "importlib.reload(rssie)"
   ]
  },
  {
   "cell_type": "code",
   "execution_count": 589,
   "metadata": {
    "collapsed": false,
    "deletable": true,
    "editable": true
   },
   "outputs": [],
   "source": [
    "# general estimator test\n",
    "def eval_estimator(\n",
    "    model,\n",
    "    sensor_type = ['rssi.a','rssi.b', ['linear_accel[0]','linear_accel[1]','linear_accel[2]']],\n",
    "    n_record = 3,\n",
    "    base = '01_11_01',\n",
    "    normal = '^01_11',\n",
    "    anomaly = '^01_1[23]',\n",
    "    ms_interval = 20,\n",
    "    ma_window = 3,\n",
    "    n_train = 3,\n",
    "    normalize = True):\n",
    "    \n",
    "    # recalc input\n",
    "    drop_interval = int(ms_interval / 20)\n",
    "    \n",
    "    # get data\n",
    "    dfl_t = datasets.get_data(ds, title=base, before=n_record,\n",
    "                              column=sensor_type, drop_interval=drop_interval)[:n_train]\n",
    "    dfl_n = datasets.get_data(ds, title=normal, before=n_record,\n",
    "                              column=sensor_type, drop_interval=drop_interval)\n",
    "    dfl_o = datasets.get_data(ds, title=anomaly, before=n_record,\n",
    "                              column=sensor_type, drop_interval=drop_interval)\n",
    "\n",
    "    # moving average\n",
    "    dfl_t = datasets.moving_average(dfl_t, window=ma_window, min_periods=ma_window)\n",
    "    dfl_n = datasets.moving_average(dfl_n, window=ma_window, min_periods=ma_window)\n",
    "    dfl_o = datasets.moving_average(dfl_o, window=ma_window, min_periods=ma_window)\n",
    "    \n",
    "    # normalize\n",
    "    if normalize == True:\n",
    "        dfl_t_n = datasets.normalize_by_base_data(dfl_t, dfl_t, sensor_type)\n",
    "        dfl_n_n = datasets.normalize_by_base_data(dfl_t, dfl_n, sensor_type)\n",
    "        dfl_o_n = datasets.normalize_by_base_data(dfl_t, dfl_o, sensor_type)\n",
    "\n",
    "    # get numpy array\n",
    "    data_2d_t = [df.as_matrix() for df in dfl_t_n]\n",
    "    data_2d_n = [df.as_matrix() for df in dfl_n_n]\n",
    "    data_2d_o = [df.as_matrix() for df in dfl_o_n]\n",
    "\n",
    "    # to list of numpy.array\n",
    "    data_t = [d.ravel() for d in data_2d_t]\n",
    "    data_n = [d.ravel() for d in data_2d_n]\n",
    "    data_o = [d.ravel() for d in data_2d_o]\n",
    "\n",
    "    model.fit(data_t)\n",
    "    score_n = model.decision_function(data_n)\n",
    "    score_o = model.decision_function(data_o)\n",
    "    auc = roc_auc.get_auc_from_normal_outlier(score_n, score_o, graph=True)\n",
    "    print('auc %.5f'%(auc))\n",
    "    \n",
    "    return auc\n",
    "\n",
    "#eval_estimator()"
   ]
  }
 ],
 "metadata": {
  "kernelspec": {
   "display_name": "Python 3",
   "language": "python",
   "name": "python3"
  },
  "language_info": {
   "codemirror_mode": {
    "name": "ipython",
    "version": 3
   },
   "file_extension": ".py",
   "mimetype": "text/x-python",
   "name": "python",
   "nbconvert_exporter": "python",
   "pygments_lexer": "ipython3",
   "version": "3.5.2"
  }
 },
 "nbformat": 4,
 "nbformat_minor": 2
}
