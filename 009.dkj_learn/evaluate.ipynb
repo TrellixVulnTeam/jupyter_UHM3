{
 "cells": [
  {
   "cell_type": "code",
   "execution_count": 2,
   "metadata": {
    "collapsed": false,
    "deletable": true,
    "editable": true,
    "scrolled": false
   },
   "outputs": [],
   "source": [
    "import sys\n",
    "import notebookutil as nbu\n",
    "sys.meta_path.append(nbu.NotebookFinder())\n",
    "import datasets\n",
    "import pandas as pd\n",
    "import numpy as np"
   ]
  },
  {
   "cell_type": "code",
   "execution_count": 4,
   "metadata": {
    "collapsed": false,
    "deletable": true,
    "editable": true
   },
   "outputs": [],
   "source": [
    "def eval00():\n",
    "    # load dataset\n",
    "    ds_nml = ds.dataset('data/raw/01_01_01_4F実験室_XperiaZ3_胸ポケット_裏上_正常_まっすぐ帰宅')\n",
    "    ds_out = ds.dataset('data/raw/01_02_01_4F実験室_XperiaZ3_胸ポケット_裏上_異常_まっすぐ外出')\n",
    "\n",
    "    # set column\n",
    "    column = ['rssi.a','rssi.b',['linear_accel[0]','linear_accel[1]','linear_accel[2]']]\n",
    "\n",
    "    # get around button pushed time\n",
    "    dfl_nml = ds_nml.get_data(before=6, after=0, column=ds.list_flatten(column))\n",
    "    dfl_out = ds_out.get_data(before=6, after=0, column=ds.list_flatten(column))\n",
    "\n",
    "    # normalize\n",
    "    mean_std = ds.get_mean_std(dfl_nml, column)\n",
    "    dfl_nml_n = ds.normalize(dfl_nml, mean_std)\n",
    "    dfl_out_n = ds.normalize(dfl_out, mean_std)\n",
    "    #dfl_nml_n,ds.normalize(dfl_nml, dfl_out)\n",
    "\n",
    "    # plot graph\n",
    "    dfl_nml[1].plot()\n",
    "    dfl_out[1].plot()\n",
    "    dfl_nml_n[1].plot()\n",
    "    dfl_out_n[1].plot()\n",
    "\n",
    "    # calc k-NN distance\n",
    "    from sklearn.neighbors import NearestNeighbors\n",
    "    X_nml = [d.values.flatten() for d in dfl_nml_n]\n",
    "    X_out = [d.values.flatten() for d in dfl_out_n]\n",
    "    nbrs = NearestNeighbors(n_neighbors=3, algorithm='ball_tree')\n",
    "    nbrs.fit(X_nml)\n",
    "\n",
    "    distances, indices = nbrs.kneighbors(X_nml)\n",
    "    print(distances)\n",
    "    distances, indices = nbrs.kneighbors(X_out)\n",
    "    print(distances)\n",
    "\n",
    "    df_result = pd.DataFrame([[]])"
   ]
  },
  {
   "cell_type": "code",
   "execution_count": 6,
   "metadata": {
    "collapsed": false,
    "deletable": true,
    "editable": true,
    "scrolled": false
   },
   "outputs": [
    {
     "name": "stdout",
     "output_type": "stream",
     "text": [
      "path = data/raw/01_0[12]_01_*\n",
      "data/raw/01_02_01_4F実験室_XperiaZ3_胸ポケット_裏上_異常_まっすぐ外出\n",
      "...\n",
      "data/raw/01_01_01_4F実験室_XperiaZ3_胸ポケット_裏上_正常_まっすぐ帰宅\n",
      "...\n",
      "extracted 3 dataframes\n",
      "extracted 3 dataframes\n",
      "1 10\n",
      "[ 0.  0.  0.]\n",
      "[ 213.03142723  175.89596252  193.03871568]\n",
      "extracted 3 dataframes\n",
      "extracted 3 dataframes\n",
      "3 10\n",
      "[ 10.76833816   8.5003724   10.76833816]\n",
      "[ 216.11176133  178.37824257  195.45995085]\n",
      "extracted 3 dataframes\n",
      "extracted 3 dataframes\n",
      "1 20\n",
      "[ 0.  0.  0.]\n",
      "[ 213.03142723  175.89596252  193.03871568]\n",
      "extracted 3 dataframes\n",
      "extracted 3 dataframes\n",
      "3 20\n",
      "[ 10.76833816   8.5003724   10.76833816]\n",
      "[ 216.11176133  178.37824257  195.45995085]\n",
      "extracted 3 dataframes\n",
      "extracted 3 dataframes\n",
      "1 30\n",
      "[ 0.  0.  0.]\n",
      "[ 213.03142723  175.89596252  193.03871568]\n",
      "extracted 3 dataframes\n",
      "extracted 3 dataframes\n",
      "3 30\n",
      "[ 10.76833816   8.5003724   10.76833816]\n",
      "[ 216.11176133  178.37824257  195.45995085]\n",
      "extracted 3 dataframes\n",
      "extracted 3 dataframes\n",
      "1 40\n",
      "[ 0.  0.  0.]\n",
      "[ 213.03142723  175.89596252  193.03871568]\n",
      "extracted 3 dataframes\n",
      "extracted 3 dataframes\n",
      "3 40\n",
      "[ 10.76833816   8.5003724   10.76833816]\n",
      "[ 216.11176133  178.37824257  195.45995085]\n"
     ]
    }
   ],
   "source": [
    "import estimator_knn as knn\n",
    "\n",
    "def eval01():\n",
    "    ds = datasets.load('data/raw/01_0[12]_01_*')\n",
    "    column = ['rssi.a','rssi.b',['linear_accel[0]','linear_accel[1]','linear_accel[2]']]\n",
    "\n",
    "    n_neighbors_range = np.arange(1, 5, 2)\n",
    "    n_sample_range = np.arange(10, 50, 10)\n",
    "    \n",
    "    n_neighbors, n_samples = np.meshgrid(n_neighbors_range, n_sample_range)\n",
    "    \n",
    "    for n_neighbors, n_samples in np.c_[n_neighbors.ravel(), n_samples.ravel()]:\n",
    "        data_n_2d, data_o_2d = datasets.get_normalized_data(ds,\n",
    "                                                      title_n='01_01_01_4F実験室_XperiaZ3_胸ポケット_裏上_正常_まっすぐ帰宅',\n",
    "                                                      title_o ='01_02_01_4F実験室_XperiaZ3_胸ポケット_裏上_異常_まっすぐ外出',\n",
    "                                                      before=6, after=0, column=column)\n",
    "        data_n = [d.ravel() for d in data_n_2d]\n",
    "        data_o = [d.ravel() for d in data_o_2d]\n",
    "\n",
    "        print(n_neighbors, n_samples)\n",
    "        estimator = knn.EstimatorKNN(n_neighbors=n_neighbors)\n",
    "        estimator.fit(data_n)\n",
    "        value_n = estimator.decision_function(data_n)\n",
    "        value_o = estimator.decision_function(data_o)\n",
    "        \n",
    "        print(value_n)\n",
    "        print(value_o)\n",
    "\n",
    "eval01()"
   ]
  },
  {
   "cell_type": "code",
   "execution_count": null,
   "metadata": {
    "collapsed": true
   },
   "outputs": [],
   "source": []
  }
 ],
 "metadata": {
  "kernelspec": {
   "display_name": "Python 3",
   "language": "python",
   "name": "python3"
  },
  "language_info": {
   "codemirror_mode": {
    "name": "ipython",
    "version": 3
   },
   "file_extension": ".py",
   "mimetype": "text/x-python",
   "name": "python",
   "nbconvert_exporter": "python",
   "pygments_lexer": "ipython3",
   "version": "3.5.2"
  }
 },
 "nbformat": 4,
 "nbformat_minor": 2
}
