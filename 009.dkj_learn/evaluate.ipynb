{
 "cells": [
  {
   "cell_type": "code",
   "execution_count": 454,
   "metadata": {
    "collapsed": false,
    "deletable": true,
    "editable": true,
    "scrolled": false
   },
   "outputs": [],
   "source": [
    "import sys\n",
    "import notebookutil as nbu\n",
    "sys.meta_path.append(nbu.NotebookFinder())\n",
    "import datasets\n",
    "import pandas as pd\n",
    "import numpy as np\n",
    "import roc_auc\n",
    "import estimator_knn as knn\n",
    "import estimator_rssibased as rssie\n",
    "import json"
   ]
  },
  {
   "cell_type": "code",
   "execution_count": 233,
   "metadata": {
    "collapsed": false,
    "deletable": true,
    "editable": true,
    "scrolled": false
   },
   "outputs": [
    {
     "name": "stdout",
     "output_type": "stream",
     "text": [
      "path = data/raw/0[12]_[01][123]_0[1234]*_*\n",
      "data/raw/01_01_01_4F実験室_XperiaZ3_胸ポケット_裏上_正常_まっすぐ帰宅\n",
      "..............................\n",
      "data/raw/01_01_02_4F実験室_XperiaZ3_カバン_裏上_正常_まっすぐ帰宅\n",
      "...x..........................\n",
      "data/raw/01_01_03_4F実験室_XperiaZ3_胸ポケット_裏上_正常_5秒後まっすぐ帰宅\n",
      ".........................x....\n",
      "data/raw/01_01_04_4F実験室_XperiaZ3_カバン_裏上_正常_5秒後まっすぐ帰宅\n",
      ".....................x........\n",
      "data/raw/01_02_01_4F実験室_XperiaZ3_胸ポケット_裏上_異常_まっすぐ外出\n",
      "..............................\n",
      "data/raw/01_02_02_4F実験室_XperiaZ3_ズボン_裏上_異常_まっすぐ外出\n",
      "..............................\n",
      "data/raw/01_02_03_4F実験室_XperiaZ3_カバン_裏上_異常_まっすぐ外出\n",
      "..............................\n",
      "data/raw/01_03_01_4F実験室_XperiaZ3_胸ポケット_裏上_異常_まっすぐ帰宅\n",
      "..............................\n",
      "data/raw/01_03_02_4F実験室_XperiaZ3_ズボン_裏上_異常_まっすぐ帰宅\n",
      "..............................\n",
      "data/raw/01_03_03_4F実験室_XperiaZ3_カバン_裏上_異常_まっすぐ帰宅\n",
      "..............................\n",
      "data/raw/01_11_01_エネマネハウス_XperiaZ3_胸ポケット_裏上_正常_まっすぐ帰宅\n",
      "..............................\n",
      "data/raw/01_11_02_エネマネハウス_XperiaZ3_カバン_裏上_正常_まっすぐ帰宅\n",
      "..............................\n",
      "data/raw/01_11_03_エネマネハウス_XperiaZ3_胸ポケット_裏上_正常_5秒後まっすぐ帰宅\n",
      "..............................\n",
      "data/raw/01_11_04_エネマネハウス_XperiaZ3_カバン_裏上_正常_5秒後まっすぐ帰宅\n",
      "..............................\n",
      "data/raw/01_12_01_エネマネハウス_XperiaZ3_胸ポケット_裏上_異常_まっすぐ外出\n",
      "..............................\n",
      "data/raw/01_12_02_エネマネハウス_XperiaZ3_ズボン_裏上_異常_まっすぐ外出\n",
      "..............................\n",
      "data/raw/01_12_03_エネマネハウス_XperiaZ3_カバン_裏上_異常_まっすぐ外出\n",
      "..............................\n",
      "data/raw/01_13_01_エネマネハウス_XperiaZ3_胸ポケット_裏上_異常_まっすぐ帰宅\n",
      "..............................\n",
      "data/raw/01_13_02_エネマネハウス_XperiaZ3_ズボン_裏上_異常_まっすぐ帰宅\n",
      "..............................\n",
      "data/raw/01_13_03_エネマネハウス_XperiaZ3_カバン_裏上_異常_まっすぐ帰宅\n",
      "..............................\n",
      "data/raw/02_01_01_4F実験室_iphone_胸ポケット_裏上_正常_まっすぐ帰宅\n",
      "..............................\n",
      "data/raw/02_01_02_4F実験室_iphone_カバン_裏上_正常_まっすぐ帰宅\n",
      "..............................\n",
      "data/raw/02_01_03_4F実験室_iphone_胸ポケット_裏上_正常_5秒後まっすぐ帰宅\n",
      "..............................\n",
      "data/raw/02_01_04_4F実験室_iphone_カバン_裏上_正常_5秒後まっすぐ帰宅\n",
      "..............................\n",
      "data/raw/02_02_01_4F実験室_iphone_胸ポケット_裏上_異常_まっすぐ外出\n",
      "..............................\n",
      "data/raw/02_02_02_4F実験室_iphone_ズボン_裏上_異常_まっすぐ外出\n",
      "..............................\n",
      "data/raw/02_02_03_4F実験室_iphone_カバン_裏上_異常_まっすぐ外出\n",
      "..............................\n",
      "data/raw/02_03_01_4F実験室_iphone_胸ポケット_裏上_異常_まっすぐ帰宅\n",
      "..............................\n",
      "data/raw/02_03_02_4F実験室_iphone_ズボン_裏上_異常_まっすぐ帰宅\n",
      "..............................\n",
      "data/raw/02_03_03_4F実験室_iphone_カバン_裏上_異常_まっすぐ帰宅\n",
      "..............................\n",
      "data/raw/02_11_01_エネマネハウス_iphone_胸ポケット_裏上_正常_まっすぐ帰宅\n",
      "..............................\n",
      "data/raw/02_11_02_エネマネハウス_iphone_カバン_裏上_正常_まっすぐ帰宅\n",
      "..............................\n",
      "data/raw/02_11_03_エネマネハウス_iphone_胸ポケット_裏上_正常_5秒後まっすぐ帰宅\n",
      "..............................\n",
      "data/raw/02_11_04_エネマネハウス_iphone_カバン_裏上_正常_5秒後まっすぐ帰宅\n",
      "..............................\n",
      "data/raw/02_12_01_エネマネハウス_iphone_胸ポケット_裏上_異常_まっすぐ外出\n",
      "..............................\n",
      "data/raw/02_12_02_エネマネハウス_iphone_ズボン_裏上_異常_まっすぐ外出\n",
      "..............................\n",
      "data/raw/02_12_03_エネマネハウス_iphone_カバン_裏上_異常_まっすぐ外出\n",
      "..............................\n",
      "data/raw/02_13_01_エネマネハウス_iphone_胸ポケット_裏上_異常_まっすぐ帰宅\n",
      "..............................\n",
      "data/raw/02_13_02_エネマネハウス_iphone_ズボン_裏上_異常_まっすぐ帰宅\n",
      "..............................\n",
      "data/raw/02_13_03_エネマネハウス_iphone_カバン_裏上_異常_まっすぐ帰宅\n",
      "..............................\n"
     ]
    }
   ],
   "source": [
    "# data loader\n",
    "ds = datasets.load('data/raw/0[12]_[01][123]_0[1234]*_*')"
   ]
  },
  {
   "cell_type": "code",
   "execution_count": null,
   "metadata": {
    "collapsed": true
   },
   "outputs": [],
   "source": [
    "def knn_combinations"
   ]
  },
  {
   "cell_type": "code",
   "execution_count": 409,
   "metadata": {
    "collapsed": false,
    "scrolled": false
   },
   "outputs": [
    {
     "name": "stdout",
     "output_type": "stream",
     "text": [
      "ma_window                     1\n",
      "ms_interval                  20\n",
      "n_neighbor                    1\n",
      "n_record                      1\n",
      "n_train                       1\n",
      "sensor_type    [rssi.a, rssi.b]\n",
      "Name: 0, dtype: object\n"
     ]
    },
    {
     "data": {
      "image/png": "[encoded data removed]",
      "text/plain": [
       "<matplotlib.figure.Figure at 0x7fb8b2dc7c50>"
      ]
     },
     "metadata": {},
     "output_type": "display_data"
    },
    {
     "name": "stdout",
     "output_type": "stream",
     "text": [
      "auc 0.92898\n",
      "ma_window                                                      1\n",
      "ms_interval                                                   20\n",
      "n_neighbor                                                     1\n",
      "n_record                                                       1\n",
      "n_train                                                        1\n",
      "sensor_type    [[linear_accel[0], linear_accel[1], linear_acc...\n",
      "Name: 1, dtype: object\n"
     ]
    },
    {
     "data": {
      "image/png": "[encoded data removed]",
      "text/plain": [
       "<matplotlib.figure.Figure at 0x7fb8b9676748>"
      ]
     },
     "metadata": {},
     "output_type": "display_data"
    },
    {
     "name": "stdout",
     "output_type": "stream",
     "text": [
      "auc 0.99023\n"
     ]
    },
    {
     "data": {
      "text/html": [
       "<div>\n",
       "<table border=\"1\" class=\"dataframe\">\n",
       "  <thead>\n",
       "    <tr style=\"text-align: right;\">\n",
       "      <th></th>\n",
       "      <th>ma_window</th>\n",
       "      <th>ms_interval</th>\n",
       "      <th>n_neighbor</th>\n",
       "      <th>n_record</th>\n",
       "      <th>n_train</th>\n",
       "      <th>sensor_type</th>\n",
       "      <th>auc</th>\n",
       "    </tr>\n",
       "  </thead>\n",
       "  <tbody>\n",
       "    <tr>\n",
       "      <th>0</th>\n",
       "      <td>1</td>\n",
       "      <td>20</td>\n",
       "      <td>1</td>\n",
       "      <td>1</td>\n",
       "      <td>1</td>\n",
       "      <td>[rssi.a, rssi.b]</td>\n",
       "      <td>0.928981</td>\n",
       "    </tr>\n",
       "    <tr>\n",
       "      <th>1</th>\n",
       "      <td>1</td>\n",
       "      <td>20</td>\n",
       "      <td>1</td>\n",
       "      <td>1</td>\n",
       "      <td>1</td>\n",
       "      <td>[[linear_accel[0], linear_accel[1], linear_acc...</td>\n",
       "      <td>0.990231</td>\n",
       "    </tr>\n",
       "  </tbody>\n",
       "</table>\n",
       "</div>"
      ],
      "text/plain": [
       "   ma_window  ms_interval  n_neighbor  n_record  n_train  \\\n",
       "0          1           20           1         1        1   \n",
       "1          1           20           1         1        1   \n",
       "\n",
       "                                         sensor_type       auc  \n",
       "0                                   [rssi.a, rssi.b]  0.928981  \n",
       "1  [[linear_accel[0], linear_accel[1], linear_acc...  0.990231  "
      ]
     },
     "execution_count": 409,
     "metadata": {},
     "output_type": "execute_result"
    }
   ],
   "source": [
    "# grid search implementation (under test)\n",
    "def test():\n",
    "    # knn parameters\n",
    "    range_n_neighbors = np.arange(1, 5, 2)\n",
    "    \n",
    "    # other  parameters\n",
    "    sensor_type_master = [\n",
    "        ['rssi.a', 'rssi.b'],\n",
    "        [['linear_accel[0]', 'linear_accel[1]', 'linear_accel[2]']]\n",
    "    ]\n",
    "    range_n_record = np.arange(1, 10, 10)\n",
    "    range_n_train = np.arange(1, 20, 20)\n",
    "    range_ms_interval = np.array([20, 40, 100])\n",
    "    range_ma_window = np.arange(1, 4, 4)\n",
    "    range_sensor_type = sensor_type_master # to be combinationable\n",
    "    \n",
    "    mesh_data = np.meshgrid(range_n_neighbors, range_n_record, range_n_train,\n",
    "                            range_ms_interval, range_ma_window, range_sensor_type)\n",
    "\n",
    "    # create grid test case\n",
    "    test_records = []\n",
    "    for n_neighbor, n_record, n_train, ms_interval, ma_window, sensor_type   in zip(mesh_data[0].ravel(), mesh_data[1].ravel(), mesh_data[2].ravel(),\n",
    "               mesh_data[3].ravel(), mesh_data[4].ravel(), mesh_data[5].ravel()):\n",
    "        \n",
    "        # save test case and result\n",
    "        test_case = {'n_neighbor': n_neighbor, 'n_record': n_record, 'n_train': n_train,\n",
    "                     'ms_interval': ms_interval, 'ma_window': ma_window, 'sensor_type': sensor_type}\n",
    "        test_records.append(test_case)\n",
    "\n",
    "    # remove unavailable test case\n",
    "    df = pd.DataFrame(test_records)\n",
    "    #df = df[~((df.neighbor == 3) & (df['sample'] == 10))]\n",
    "    df = df[:2]\n",
    "\n",
    "    base = '01_11_01'\n",
    "    normal = '^01_11'\n",
    "    anomaly = '^01_1[23]'\n",
    "\n",
    "    # execute test\n",
    "    auc_list = []\n",
    "    for k, t in df.iterrows():\n",
    "        print(t)\n",
    "        auc = eval_knn(base=base, normal=normal, anomaly=anomaly,\n",
    "                       n_train=t['n_train'], sensor_type=t['sensor_type'], n_record=t['n_record'],\n",
    "                       ms_interval=t['ms_interval'], ma_window=t['ma_window'])\n",
    "        auc_list.append(auc)\n",
    "    \n",
    "    df['auc'] = auc_list\n",
    "    \n",
    "    # output as csv\n",
    "    df.to_csv('test_record.csv')\n",
    "    \n",
    "    return df\n",
    "\n",
    "test()"
   ]
  },
  {
   "cell_type": "code",
   "execution_count": 453,
   "metadata": {
    "collapsed": false
   },
   "outputs": [
    {
     "data": {
      "text/html": [
       "<div>\n",
       "<table border=\"1\" class=\"dataframe\">\n",
       "  <thead>\n",
       "    <tr style=\"text-align: right;\">\n",
       "      <th></th>\n",
       "      <th>ma_window</th>\n",
       "      <th>ms_interval</th>\n",
       "      <th>n_neighbor</th>\n",
       "      <th>n_record</th>\n",
       "      <th>n_train</th>\n",
       "      <th>sensor_type</th>\n",
       "      <th>auc</th>\n",
       "    </tr>\n",
       "  </thead>\n",
       "  <tbody>\n",
       "    <tr>\n",
       "      <th>0</th>\n",
       "      <td>1</td>\n",
       "      <td>20</td>\n",
       "      <td>1</td>\n",
       "      <td>1</td>\n",
       "      <td>1</td>\n",
       "      <td>[rssi.a, rssi.b]</td>\n",
       "      <td>0.928981</td>\n",
       "    </tr>\n",
       "    <tr>\n",
       "      <th>1</th>\n",
       "      <td>1</td>\n",
       "      <td>20</td>\n",
       "      <td>1</td>\n",
       "      <td>1</td>\n",
       "      <td>1</td>\n",
       "      <td>[[linear_accel[0], linear_accel[1], linear_acc...</td>\n",
       "      <td>0.990231</td>\n",
       "    </tr>\n",
       "  </tbody>\n",
       "</table>\n",
       "</div>"
      ],
      "text/plain": [
       "   ma_window  ms_interval  n_neighbor  n_record  n_train  \\\n",
       "0          1           20           1         1        1   \n",
       "1          1           20           1         1        1   \n",
       "\n",
       "                                         sensor_type       auc  \n",
       "0                                   [rssi.a, rssi.b]  0.928981  \n",
       "1  [[linear_accel[0], linear_accel[1], linear_acc...  0.990231  "
      ]
     },
     "execution_count": 453,
     "metadata": {},
     "output_type": "execute_result"
    }
   ],
   "source": [
    "def read_csv():\n",
    "    f = lambda x : json.loads(x.replace(\"'\",\"\\\"\"))\n",
    "    df = pd.read_csv('test_record.csv', converters={'sensor_type': f}, index_col=0)\n",
    "    return df\n",
    "#read_csv()"
   ]
  },
  {
   "cell_type": "code",
   "execution_count": 407,
   "metadata": {
    "collapsed": false,
    "deletable": true,
    "editable": true
   },
   "outputs": [
    {
     "data": {
      "text/plain": [
       "<module 'roc_auc' from 'roc_auc.ipynb'>"
      ]
     },
     "execution_count": 407,
     "metadata": {},
     "output_type": "execute_result"
    }
   ],
   "source": [
    "importlib.reload(roc_auc)"
   ]
  },
  {
   "cell_type": "code",
   "execution_count": 399,
   "metadata": {
    "collapsed": false,
    "deletable": true,
    "editable": true
   },
   "outputs": [
    {
     "data": {
      "image/png": "[encoded data removed]",
      "text/plain": [
       "<matplotlib.figure.Figure at 0x7fb8bdfae358>"
      ]
     },
     "metadata": {},
     "output_type": "display_data"
    },
    {
     "name": "stdout",
     "output_type": "stream",
     "text": [
      "auc 0.99648\n"
     ]
    },
    {
     "data": {
      "text/plain": [
       "0.99648148148148141"
      ]
     },
     "execution_count": 399,
     "metadata": {},
     "output_type": "execute_result"
    }
   ],
   "source": [
    "#  knn based algorithm test\n",
    "\n",
    "def eval_knn(\n",
    "    sensor_type = ['rssi.a','rssi.b', ['linear_accel[0]','linear_accel[1]','linear_accel[2]']],\n",
    "    n_record = 3,\n",
    "    base = '01_11_01',\n",
    "    normal = '^01_11',\n",
    "    anomaly = '^01_1[23]',\n",
    "    ms_interval = 20,\n",
    "    ma_window = 3,\n",
    "    n_train = 3,\n",
    "    normalize = True):\n",
    "    \n",
    "    # recalc input\n",
    "    drop_interval = int(ms_interval / 20)\n",
    "    \n",
    "    # get data\n",
    "    dfl_b = datasets.get_data(ds, title=base, before=n_record,\n",
    "                              column=sensor_type, drop_interval=drop_interval)[:n_train]\n",
    "    dfl_n = datasets.get_data(ds, title=normal, before=n_record,\n",
    "                              column=sensor_type, drop_interval=drop_interval)\n",
    "    dfl_o = datasets.get_data(ds, title=anomaly, before=n_record,\n",
    "                              column=sensor_type, drop_interval=drop_interval)\n",
    "\n",
    "    # moving average\n",
    "    dfl_b = datasets.moving_average(dfl_b, window=ma_window, min_periods=ma_window)\n",
    "    dfl_n = datasets.moving_average(dfl_n, window=ma_window, min_periods=ma_window)\n",
    "    dfl_o = datasets.moving_average(dfl_o, window=ma_window, min_periods=ma_window)\n",
    "    \n",
    "    # normalize\n",
    "    if normalize == True:\n",
    "        dfl_b_n = datasets.normalize_by_base_data(dfl_b, dfl_b, sensor_type)\n",
    "        dfl_n_n = datasets.normalize_by_base_data(dfl_b, dfl_n, sensor_type)\n",
    "        dfl_o_n = datasets.normalize_by_base_data(dfl_b, dfl_o, sensor_type)\n",
    "\n",
    "    # get numpy array\n",
    "    data_2d_b = [df.as_matrix() for df in dfl_b_n]\n",
    "    data_2d_n = [df.as_matrix() for df in dfl_n_n]\n",
    "    data_2d_o = [df.as_matrix() for df in dfl_o_n]\n",
    "\n",
    "    # to list of numpy.array\n",
    "    data_b = [d.ravel() for d in data_2d_b]\n",
    "    data_n = [d.ravel() for d in data_2d_n]\n",
    "    data_o = [d.ravel() for d in data_2d_o]\n",
    "\n",
    "    model = knn.EstimatorKNN()\n",
    "    model.fit(data_n)\n",
    "    score_n = model.decision_function(data_n)\n",
    "    score_o = model.decision_function(data_o)\n",
    "    auc = roc_auc.get_auc_from_normal_outlier(score_n, score_o, graph=True)\n",
    "    print('auc %.5f'%(auc))\n",
    "    \n",
    "    return auc\n",
    "\n",
    "eval_knn()"
   ]
  },
  {
   "cell_type": "code",
   "execution_count": 400,
   "metadata": {
    "collapsed": false,
    "deletable": true,
    "editable": true,
    "scrolled": false
   },
   "outputs": [
    {
     "data": {
      "image/png": "[encoded data removed]",
      "text/plain": [
       "<matplotlib.figure.Figure at 0x7fb8c9a5e518>"
      ]
     },
     "metadata": {},
     "output_type": "display_data"
    },
    {
     "name": "stdout",
     "output_type": "stream",
     "text": [
      "auc 0.94995\n"
     ]
    }
   ],
   "source": [
    "# rssi based method test\n",
    "\n",
    "def eval_rssibased(\n",
    "    sensor_type = ['rssi.a','rssi.b'],\n",
    "    n_record = 3,\n",
    "    base = '01_11_01',\n",
    "    normal = '^01_11',\n",
    "    anomaly = '^01_1[23]',\n",
    "    ms_interval = 20,\n",
    "    ma_window = 3,\n",
    "    n_train = 3,\n",
    "    normalize = False):\n",
    "    \n",
    "    # recalc input\n",
    "    drop_interval = int(ms_interval / 20)\n",
    "    \n",
    "    # get data\n",
    "    dfl_b = datasets.get_data(ds, title=base, before=n_record,\n",
    "                              column=sensor_type, drop_interval=drop_interval)[:n_train]\n",
    "    dfl_n = datasets.get_data(ds, title=normal, before=n_record,\n",
    "                              column=sensor_type, drop_interval=drop_interval)\n",
    "    dfl_o = datasets.get_data(ds, title=anomaly, before=n_record,\n",
    "                              column=sensor_type, drop_interval=drop_interval)\n",
    "\n",
    "    # moving average\n",
    "    dfl_b = datasets.moving_average(dfl_b, window=ma_window, min_periods=ma_window)\n",
    "    dfl_n = datasets.moving_average(dfl_n, window=ma_window, min_periods=ma_window)\n",
    "    dfl_o = datasets.moving_average(dfl_o, window=ma_window, min_periods=ma_window)\n",
    "\n",
    "    # normalize data\n",
    "    if normalize == True:\n",
    "        dfl_b = datasets.normalize_by_base_data(dfl_b, dfl_b, sensor_type)\n",
    "        dfl_n = datasets.normalize_by_base_data(dfl_b, dfl_n, sensor_type)\n",
    "        dfl_o = datasets.normalize_by_base_data(dfl_b, dfl_o, sensor_type)\n",
    "    \n",
    "    # to numpy array\n",
    "    data_2d_b = [df.as_matrix() for df in dfl_b]\n",
    "    data_2d_n = [df.as_matrix() for df in dfl_n]\n",
    "    data_2d_o = [df.as_matrix() for df in dfl_o]\n",
    "\n",
    "    # to list of numpy.array\n",
    "    data_n = [d.ravel() for d in data_2d_n]\n",
    "    data_o = [d.ravel() for d in data_2d_o]\n",
    "\n",
    "    model = rssie.EstimatorRssiBased()\n",
    "    model.fit(data_n)\n",
    "    score_n = model.decision_function(data_n)\n",
    "    score_o = model.decision_function(data_o)\n",
    "    auc = roc_auc.get_auc_from_normal_outlier(score_n, score_o, graph=True)\n",
    "    print('auc %.5f'%(auc))\n",
    "\n",
    "eval_rssibased()"
   ]
  }
 ],
 "metadata": {
  "kernelspec": {
   "display_name": "Python 3",
   "language": "python",
   "name": "python3"
  },
  "language_info": {
   "codemirror_mode": {
    "name": "ipython",
    "version": 3
   },
   "file_extension": ".py",
   "mimetype": "text/x-python",
   "name": "python",
   "nbconvert_exporter": "python",
   "pygments_lexer": "ipython3",
   "version": "3.5.2"
  }
 },
 "nbformat": 4,
 "nbformat_minor": 2
}
