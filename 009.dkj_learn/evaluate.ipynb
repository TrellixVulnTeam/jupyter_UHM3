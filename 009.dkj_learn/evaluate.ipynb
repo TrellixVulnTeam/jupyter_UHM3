{
 "cells": [
  {
   "cell_type": "code",
   "execution_count": 6,
   "metadata": {
    "collapsed": false,
    "deletable": true,
    "editable": true,
    "scrolled": false
   },
   "outputs": [],
   "source": [
    "import sys\n",
    "import notebookutil as nbu\n",
    "sys.meta_path.append(nbu.NotebookFinder())\n",
    "import datasets\n",
    "import pandas as pd\n",
    "import numpy as np"
   ]
  },
  {
   "cell_type": "code",
   "execution_count": 3,
   "metadata": {
    "collapsed": false,
    "deletable": true,
    "editable": true
   },
   "outputs": [],
   "source": [
    "def eval00():\n",
    "    # load dataset\n",
    "    ds_nml = ds.dataset('data/raw/01_01_01_4F実験室_XperiaZ3_胸ポケット_裏上_正常_まっすぐ帰宅')\n",
    "    ds_out = ds.dataset('data/raw/01_02_01_4F実験室_XperiaZ3_胸ポケット_裏上_異常_まっすぐ外出')\n",
    "\n",
    "    # set column\n",
    "    column = ['rssi.a','rssi.b',['linear_accel[0]','linear_accel[1]','linear_accel[2]']]\n",
    "\n",
    "    # get around button pushed time\n",
    "    dfl_nml = ds_nml.get_data(before=6, after=0, column=ds.list_flatten(column))\n",
    "    dfl_out = ds_out.get_data(before=6, after=0, column=ds.list_flatten(column))\n",
    "\n",
    "    # normalize\n",
    "    mean_std = ds.get_mean_std(dfl_nml, column)\n",
    "    dfl_nml_n = ds.normalize(dfl_nml, mean_std)\n",
    "    dfl_out_n = ds.normalize(dfl_out, mean_std)\n",
    "    #dfl_nml_n,ds.normalize(dfl_nml, dfl_out)\n",
    "\n",
    "    # plot graph\n",
    "    dfl_nml[1].plot()\n",
    "    dfl_out[1].plot()\n",
    "    dfl_nml_n[1].plot()\n",
    "    dfl_out_n[1].plot()\n",
    "\n",
    "    # calc k-NN distance\n",
    "    from sklearn.neighbors import NearestNeighbors\n",
    "    X_nml = [d.values.flatten() for d in dfl_nml_n]\n",
    "    X_out = [d.values.flatten() for d in dfl_out_n]\n",
    "    nbrs = NearestNeighbors(n_neighbors=3, algorithm='ball_tree')\n",
    "    nbrs.fit(X_nml)\n",
    "\n",
    "    distances, indices = nbrs.kneighbors(X_nml)\n",
    "    print(distances)\n",
    "    distances, indices = nbrs.kneighbors(X_out)\n",
    "    print(distances)\n",
    "\n",
    "    df_result = pd.DataFrame([[]])"
   ]
  },
  {
   "cell_type": "code",
   "execution_count": 9,
   "metadata": {
    "collapsed": false,
    "deletable": true,
    "editable": true
   },
   "outputs": [
    {
     "name": "stdout",
     "output_type": "stream",
     "text": [
      "path = data/raw/01_0[12]_01_*\n",
      "data/raw/01_02_01_4F実験室_XperiaZ3_胸ポケット_裏上_異常_まっすぐ外出\n",
      "...\n",
      "data/raw/01_01_01_4F実験室_XperiaZ3_胸ポケット_裏上_正常_まっすぐ帰宅\n",
      "...\n",
      "extracted 3 dataframes\n",
      "extracted 3 dataframes\n"
     ]
    },
    {
     "data": {
      "text/plain": [
       "([array([[-2.24882957, -2.24217501,  0.00802648, -0.7490215 ,  1.44447268],\n",
       "         [-1.24403338, -0.7354334 ,  1.02520122, -0.62894129,  1.79696902],\n",
       "         [-1.24403338,  0.7713082 , -0.53462343, -0.53184433,  1.3007043 ],\n",
       "         [-1.24403338,  0.0179374 , -1.60522978,  0.33470862,  1.03984435],\n",
       "         [-0.23923719, -0.7354334 , -2.5055322 ,  0.67976104,  1.81882993],\n",
       "         [ 0.765559  ,  0.3946228 , -1.08216668,  1.41345932,  1.01605427],\n",
       "         [ 0.765559  ,  1.52467901, -1.48594976,  1.14948776,  2.05003314]]),\n",
       "  array([[-1.24403338, -1.48880421,  1.16665714, -0.38218257, -1.69154676],\n",
       "         [-0.23923719, -1.48880421,  0.44751188,  0.00509458, -0.26397428],\n",
       "         [ 0.765559  , -0.358748  ,  0.23274656,  0.15451044, -0.22493233],\n",
       "         [ 0.765559  ,  0.7713082 , -0.29003271, -0.0280197 , -0.30244299],\n",
       "         [ 0.765559  ,  1.14799361, -0.89150241, -0.03218764, -0.97027548],\n",
       "         [ 0.765559  ,  1.52467901, -0.28830427, -0.03464665, -1.01404227],\n",
       "         [ 0.765559  ,  0.7713082 ,  0.18472574,  0.08428605, -0.73710726]]),\n",
       "  array([[ 0.765559  ,  0.0179374 ,  1.95283064, -0.11807165, -2.80122167],\n",
       "         [ 0.765559  ,  0.0179374 ,  1.87046916, -0.93134672, -2.50004984],\n",
       "         [ 0.765559  , -0.358748  ,  1.74144393, -0.96607982, -1.90509896],\n",
       "         [ 0.765559  , -0.7354334 ,  0.41189969, -0.0875639 ,  0.00363196],\n",
       "         [ 0.765559  ,  0.0179374 ,  0.3942729 , -0.08301482,  0.02543493],\n",
       "         [-0.23923719,  0.7713082 , -0.41294281,  0.35187231,  0.90188534],\n",
       "         [-1.24403338,  0.3946228 , -0.33950127,  0.39974048,  1.01283192]])],\n",
       " [array([[-72.58456291, -33.13037795,  -3.81357262,  -0.30563862,   0.3108022 ],\n",
       "         [-73.5893591 , -27.10341153,  -0.15628978,  -4.4480087 ,\n",
       "            5.47999266],\n",
       "         [-79.61813624, -21.0764451 ,   0.44417484,  -3.79691565,\n",
       "            5.95391375],\n",
       "         [-85.64691339, -23.71324291,   3.01822048,   0.12697803,\n",
       "            5.85510452],\n",
       "         [-78.61334005, -26.35004072,   4.18182639,   1.00826029,   5.2734653 ],\n",
       "         [-71.57976672, -28.23346773,   5.06698957,   4.13019843,\n",
       "            4.46144524],\n",
       "         [-69.57017434, -30.11689474,   9.69528298,   9.81252572,\n",
       "            4.78971609]]),\n",
       "  array([[-62.536601  , -24.84329912,   1.59724311,  -5.19925606,\n",
       "           -9.55122274],\n",
       "         [-61.53180481, -23.33655751,   2.16840179,  -5.46614571,\n",
       "           -7.81889381],\n",
       "         [-62.536601  , -21.8298159 ,   2.57286107,  -3.57940655,\n",
       "           -5.46563472],\n",
       "         [-63.5413972 , -21.0764451 ,   0.51529368,  -0.36276073,\n",
       "           -3.35203235],\n",
       "         [-64.54619339, -23.33655751,  -0.57947931,   0.47560411,\n",
       "           -2.59754175],\n",
       "         [-65.55098958, -25.59666992,  -0.43709821,  11.16238696,\n",
       "           -1.16466482],\n",
       "         [-55.50302767, -23.33655751,  -3.14559663,   9.2473966 ,  -1.1037615 ]]),\n",
       "  array([[-77.60854386, -27.10341153,  -3.44205578,  -0.83665138,\n",
       "            2.91749799],\n",
       "         [-61.53180481, -31.62363635,  -1.04631282,  -2.3259453 ,\n",
       "            1.20405403],\n",
       "         [-60.52700862, -28.86127673,  -1.21717227,  -3.99328572,\n",
       "           -0.97447522],\n",
       "         [-59.52221243, -26.09891712,  -0.61665848,  -5.67458497,\n",
       "           -0.97420729],\n",
       "         [-67.56058196, -23.33655751,  -0.35285238,  -6.89813289,  -0.7337446 ],\n",
       "         [-75.59895148, -26.35004072,   0.08844193,  -6.63324754,\n",
       "           -0.74311332],\n",
       "         [-70.57497053, -29.36352394,   0.7267737 ,  -5.5835944 ,\n",
       "           -0.26313415]])])"
      ]
     },
     "execution_count": 9,
     "metadata": {},
     "output_type": "execute_result"
    }
   ],
   "source": [
    "def eval01():\n",
    "    ds = datasets.load('data/raw/01_0[12]_01_*')\n",
    "    column = ['rssi.a','rssi.b',['linear_accel[0]','linear_accel[1]','linear_accel[2]','btn_push']]\n",
    "    data_n, data_o = datasets.get_normalized_data(ds,\n",
    "                                                  title_n='01_01_01_4F実験室_XperiaZ3_胸ポケット_裏上_正常_まっすぐ帰宅',\n",
    "                                                  title_o ='01_02_01_4F実験室_XperiaZ3_胸ポケット_裏上_異常_まっすぐ外出',\n",
    "                                                  before=6, after=0, column=column)\n",
    "    return data_n, data_o\n",
    "\n",
    "eval01()"
   ]
  }
 ],
 "metadata": {
  "kernelspec": {
   "display_name": "Python 3",
   "language": "python",
   "name": "python3"
  },
  "language_info": {
   "codemirror_mode": {
    "name": "ipython",
    "version": 3
   },
   "file_extension": ".py",
   "mimetype": "text/x-python",
   "name": "python",
   "nbconvert_exporter": "python",
   "pygments_lexer": "ipython3",
   "version": "3.5.2"
  }
 },
 "nbformat": 4,
 "nbformat_minor": 2
}
