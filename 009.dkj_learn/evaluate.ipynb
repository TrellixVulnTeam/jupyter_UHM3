{
 "cells": [
  {
   "cell_type": "code",
   "execution_count": 2,
   "metadata": {
    "collapsed": false,
    "deletable": true,
    "editable": true,
    "scrolled": false
   },
   "outputs": [],
   "source": [
    "import sys\n",
    "import notebookutil as nbu\n",
    "sys.meta_path.append(nbu.NotebookFinder())\n",
    "import datasets\n",
    "import pandas as pd\n",
    "import numpy as np"
   ]
  },
  {
   "cell_type": "code",
   "execution_count": 3,
   "metadata": {
    "collapsed": false,
    "deletable": true,
    "editable": true
   },
   "outputs": [],
   "source": [
    "def eval00():\n",
    "    # load dataset\n",
    "    ds_nml = ds.dataset('data/raw/01_01_01_4F実験室_XperiaZ3_胸ポケット_裏上_正常_まっすぐ帰宅')\n",
    "    ds_out = ds.dataset('data/raw/01_02_01_4F実験室_XperiaZ3_胸ポケット_裏上_異常_まっすぐ外出')\n",
    "\n",
    "    # set column\n",
    "    column = ['rssi.a','rssi.b',['linear_accel[0]','linear_accel[1]','linear_accel[2]']]\n",
    "\n",
    "    # get around button pushed time\n",
    "    dfl_nml = ds_nml.get_data(before=6, after=0, column=ds.list_flatten(column))\n",
    "    dfl_out = ds_out.get_data(before=6, after=0, column=ds.list_flatten(column))\n",
    "\n",
    "    # normalize\n",
    "    mean_std = ds.get_mean_std(dfl_nml, column)\n",
    "    dfl_nml_n = ds.normalize(dfl_nml, mean_std)\n",
    "    dfl_out_n = ds.normalize(dfl_out, mean_std)\n",
    "    #dfl_nml_n,ds.normalize(dfl_nml, dfl_out)\n",
    "\n",
    "    # plot graph\n",
    "    dfl_nml[1].plot()\n",
    "    dfl_out[1].plot()\n",
    "    dfl_nml_n[1].plot()\n",
    "    dfl_out_n[1].plot()\n",
    "\n",
    "    # calc k-NN distance\n",
    "    from sklearn.neighbors import NearestNeighbors\n",
    "    X_nml = [d.values.flatten() for d in dfl_nml_n]\n",
    "    X_out = [d.values.flatten() for d in dfl_out_n]\n",
    "    nbrs = NearestNeighbors(n_neighbors=3, algorithm='ball_tree')\n",
    "    nbrs.fit(X_nml)\n",
    "\n",
    "    distances, indices = nbrs.kneighbors(X_nml)\n",
    "    print(distances)\n",
    "    distances, indices = nbrs.kneighbors(X_out)\n",
    "    print(distances)\n",
    "\n",
    "    df_result = pd.DataFrame([[]])"
   ]
  },
  {
   "cell_type": "code",
   "execution_count": 14,
   "metadata": {
    "collapsed": false,
    "deletable": true,
    "editable": true
   },
   "outputs": [
    {
     "name": "stdout",
     "output_type": "stream",
     "text": [
      "path = data/raw/01_0[12]_01_*\n",
      "data/raw/01_02_01_4F実験室_XperiaZ3_胸ポケット_裏上_異常_まっすぐ外出\n",
      "...\n",
      "data/raw/01_01_01_4F実験室_XperiaZ3_胸ポケット_裏上_正常_まっすぐ帰宅\n",
      "...\n",
      "extracted 3 dataframes\n",
      "extracted 3 dataframes\n",
      "[ 10.76833816   8.5003724   10.76833816]\n",
      "[ 216.11176133  178.37824257  195.45995085]\n"
     ]
    }
   ],
   "source": [
    "import predictor_knn as knn\n",
    "\n",
    "def eval01():\n",
    "    ds = datasets.load('data/raw/01_0[12]_01_*')\n",
    "    column = ['rssi.a','rssi.b',['linear_accel[0]','linear_accel[1]','linear_accel[2]']]\n",
    "    data_n, data_o = datasets.get_normalized_data(ds,\n",
    "                                                  title_n='01_01_01_4F実験室_XperiaZ3_胸ポケット_裏上_正常_まっすぐ帰宅',\n",
    "                                                  title_o ='01_02_01_4F実験室_XperiaZ3_胸ポケット_裏上_異常_まっすぐ外出',\n",
    "                                                  before=6, after=0, column=column)\n",
    "\n",
    "    data_n = [d.flatten() for d in data_n]\n",
    "    data_o = [d.flatten() for d in data_o]\n",
    "    \n",
    "    m = knn.fit(data_n, 3)\n",
    "    score = knn.score(m, data_n)\n",
    "    print(score)\n",
    "    score = knn.score(m, data_o)\n",
    "    print(score)\n",
    "\n",
    "eval01()"
   ]
  }
 ],
 "metadata": {
  "kernelspec": {
   "display_name": "Python 3",
   "language": "python",
   "name": "python3"
  },
  "language_info": {
   "codemirror_mode": {
    "name": "ipython",
    "version": 3
   },
   "file_extension": ".py",
   "mimetype": "text/x-python",
   "name": "python",
   "nbconvert_exporter": "python",
   "pygments_lexer": "ipython3",
   "version": "3.5.2"
  }
 },
 "nbformat": 4,
 "nbformat_minor": 2
}
