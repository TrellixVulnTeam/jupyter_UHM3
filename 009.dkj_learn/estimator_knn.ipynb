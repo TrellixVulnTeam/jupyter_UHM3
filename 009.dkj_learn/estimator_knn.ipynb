{
 "cells": [
  {
   "cell_type": "code",
   "execution_count": 1,
   "metadata": {
    "collapsed": true,
    "deletable": true,
    "editable": true
   },
   "outputs": [],
   "source": [
    "from sklearn.neighbors import NearestNeighbors\n",
    "from sklearn.base import BaseEstimator"
   ]
  },
  {
   "cell_type": "code",
   "execution_count": 43,
   "metadata": {
    "collapsed": false,
    "deletable": true,
    "editable": true
   },
   "outputs": [],
   "source": [
    "class EstimatorKNN(BaseEstimator):\n",
    "    def __init__(self, n_neighbors=3):\n",
    "        self.estimator = NearestNeighbors(n_neighbors=n_neighbors, algorithm='ball_tree')\n",
    "\n",
    "    def fit(self, x):\n",
    "        self.estimator.fit(x)\n",
    "        return self \n",
    "\n",
    "    def predict(self, x):\n",
    "        return [1.0]*len(x) \n",
    "    \n",
    "    def decision_function(self, x, y=None):\n",
    "        distances, indices = self.estimator.kneighbors(x)\n",
    "        outlier_level = distances[:,-1]\n",
    "        return outlier_level\n",
    "\n",
    "    def score(self, x, y=None):\n",
    "        scores = self.decision_function(x)\n",
    "        return sum(scores)/len(scores)\n",
    "\n",
    "    def get_params(self, deep=True):\n",
    "        return self.estimator.get_params(deep)\n",
    "\n",
    "    def set_params(self, **parameters):\n",
    "        for parameter, value in parameters.items():\n",
    "            setattr(self,parameter, value)\n",
    "        return self"
   ]
  },
  {
   "cell_type": "code",
   "execution_count": 40,
   "metadata": {
    "collapsed": false,
    "deletable": true,
    "editable": true
   },
   "outputs": [
    {
     "data": {
      "text/plain": [
       "[1, 2, 6]"
      ]
     },
     "execution_count": 40,
     "metadata": {},
     "output_type": "execute_result"
    }
   ],
   "source": [
    "a = [[1,1],[2,1],[3,0],[4,0],[5,0],[6,1]]\n",
    "[_a[0] for _a in a if _a[1] == 1]"
   ]
  },
  {
   "cell_type": "code",
   "execution_count": 41,
   "metadata": {
    "collapsed": false,
    "deletable": true,
    "editable": true,
    "scrolled": true
   },
   "outputs": [
    {
     "name": "stdout",
     "output_type": "stream",
     "text": [
      "path = data/raw/01_0[12]_01_*\n",
      "data/raw/01_02_01_4F実験室_XperiaZ3_胸ポケット_裏上_異常_まっすぐ外出\n",
      "...\n",
      "data/raw/01_01_01_4F実験室_XperiaZ3_胸ポケット_裏上_正常_まっすぐ帰宅\n",
      "...\n",
      "extracted 3 dataframes\n",
      "extracted 3 dataframes\n",
      "7.33426069735\n",
      "196.530315749\n",
      "{'n_jobs': 1, 'radius': 1.0, 'algorithm': 'ball_tree', 'n_neighbors': 2, 'leaf_size': 30, 'p': 2, 'metric': 'minkowski', 'metric_params': None}\n"
     ]
    }
   ],
   "source": [
    "#import estimator_knn as knn\n",
    "import sys\n",
    "import notebookutil as nbu\n",
    "sys.meta_path.append(nbu.NotebookFinder())\n",
    "import datasets\n",
    "import pandas as pd\n",
    "import numpy as np\n",
    "\n",
    "def eval01():\n",
    "    ds = datasets.load('data/raw/01_0[12]_01_*')\n",
    "    column = ['rssi.a','rssi.b',['linear_accel[0]','linear_accel[1]','linear_accel[2]']]\n",
    "    data_n, data_o = datasets.get_normalized_data(ds,\n",
    "                                                  title_n='01_01_01_4F実験室_XperiaZ3_胸ポケット_裏上_正常_まっすぐ帰宅',\n",
    "                                                  title_o ='01_02_01_4F実験室_XperiaZ3_胸ポケット_裏上_異常_まっすぐ外出',\n",
    "                                                  before=6, after=0, column=column)\n",
    "    \n",
    "    knnModel = EstimatorKNN(n_neighbors=2)\n",
    "\n",
    "    data_n = [d.flatten() for d in data_n]\n",
    "    data_o = [d.flatten() for d in data_o]\n",
    "    \n",
    "    knnModel.fit(data_n)\n",
    "    score = knnModel.score(data_n)\n",
    "    print(score)\n",
    "    score = knnModel.score(data_o)\n",
    "    print(score)\n",
    "    \n",
    "    print(knnModel.get_params())\n",
    "\n",
    "eval01()"
   ]
  },
  {
   "cell_type": "code",
   "execution_count": null,
   "metadata": {
    "collapsed": true
   },
   "outputs": [],
   "source": []
  },
  {
   "cell_type": "code",
   "execution_count": 97,
   "metadata": {
    "collapsed": false
   },
   "outputs": [
    {
     "name": "stdout",
     "output_type": "stream",
     "text": [
      "path = data/raw/01_0*_01_*\n",
      "data/raw/01_02_01_4F実験室_XperiaZ3_胸ポケット_裏上_異常_まっすぐ外出\n",
      "....................\n",
      "data/raw/01_01_01_4F実験室_XperiaZ3_胸ポケット_裏上_正常_まっすぐ帰宅\n",
      "....................\n",
      "data/raw/01_03_01_4F実験室_XperiaZ3_胸ポケット_裏上_異常_まっすぐ帰宅\n",
      "....................\n",
      "['01_02_01_4F実験室_XperiaZ3_胸ポケット_裏上_異常_まっすぐ外出'\n",
      " '01_01_01_4F実験室_XperiaZ3_胸ポケット_裏上_正常_まっすぐ帰宅'\n",
      " '01_03_01_4F実験室_XperiaZ3_胸ポケット_裏上_異常_まっすぐ帰宅']\n",
      "extracted 60 dataframes\n",
      "['01_02_01_4F実験室_XperiaZ3_胸ポケット_裏上_異常_まっすぐ外出']\n",
      "extracted 20 dataframes\n"
     ]
    },
    {
     "data": {
      "text/plain": [
       "<module 'roc_auc' from 'roc_auc.ipynb'>"
      ]
     },
     "execution_count": 97,
     "metadata": {},
     "output_type": "execute_result"
    }
   ],
   "source": [
    "import importlib\n",
    "import datasets\n",
    "importlib.reload(datasets)\n",
    "importlib.reload(roc_auc)"
   ]
  },
  {
   "cell_type": "code",
   "execution_count": null,
   "metadata": {
    "collapsed": true
   },
   "outputs": [],
   "source": []
  },
  {
   "cell_type": "code",
   "execution_count": 55,
   "metadata": {
    "collapsed": false,
    "scrolled": false
   },
   "outputs": [
    {
     "name": "stdout",
     "output_type": "stream",
     "text": [
      "path = data/raw/01_0[123]_0*_*\n",
      "data/raw/01_01_02_4F実験室_XperiaZ3_カバン_裏上_正常_まっすぐ帰宅\n",
      "...x................\n",
      "data/raw/01_02_03_4F実験室_XperiaZ3_カバン_裏上_異常_まっすぐ外出\n",
      "....................\n",
      "data/raw/01_01_03_4F実験室_XperiaZ3_胸ポケット_裏上_正常_5秒後まっすぐ帰宅\n",
      "....................\n",
      "data/raw/01_02_02_4F実験室_XperiaZ3_ズボン_裏上_異常_まっすぐ外出\n",
      "....................\n",
      "data/raw/01_01_04_4F実験室_XperiaZ3_カバン_裏上_正常_5秒後まっすぐ帰宅\n",
      "....................\n",
      "data/raw/01_03_03_4F実験室_XperiaZ3_カバン_裏上_異常_まっすぐ帰宅\n",
      "....................\n",
      "data/raw/01_02_01_4F実験室_XperiaZ3_胸ポケット_裏上_異常_まっすぐ外出\n",
      "....................\n",
      "data/raw/01_01_01_4F実験室_XperiaZ3_胸ポケット_裏上_正常_まっすぐ帰宅\n",
      "....................\n",
      "data/raw/01_03_01_4F実験室_XperiaZ3_胸ポケット_裏上_異常_まっすぐ帰宅\n",
      "....................\n",
      "data/raw/01_03_02_4F実験室_XperiaZ3_ズボン_裏上_異常_まっすぐ帰宅\n",
      "....................\n"
     ]
    }
   ],
   "source": [
    "#import estimator_knn as knn\n",
    "import sys\n",
    "import notebookutil as nbu\n",
    "sys.meta_path.append(nbu.NotebookFinder())\n",
    "import datasets\n",
    "import pandas as pd\n",
    "import numpy as np\n",
    "\n",
    "ds = datasets.load('data/raw/01_0[123]_0*_*')"
   ]
  },
  {
   "cell_type": "code",
   "execution_count": 104,
   "metadata": {
    "collapsed": false
   },
   "outputs": [
    {
     "name": "stdout",
     "output_type": "stream",
     "text": [
      "path = data/raw/01_0*_01_*\n",
      "data/raw/01_02_01_4F実験室_XperiaZ3_胸ポケット_裏上_異常_まっすぐ外出\n",
      "....................\n",
      "data/raw/01_01_01_4F実験室_XperiaZ3_胸ポケット_裏上_正常_まっすぐ帰宅\n",
      "....................\n",
      "data/raw/01_03_01_4F実験室_XperiaZ3_胸ポケット_裏上_異常_まっすぐ帰宅\n",
      "....................\n",
      "['01_02_01_4F実験室_XperiaZ3_胸ポケット_裏上_異常_まっすぐ外出'\n",
      " '01_01_01_4F実験室_XperiaZ3_胸ポケット_裏上_正常_まっすぐ帰宅'\n",
      " '01_03_01_4F実験室_XperiaZ3_胸ポケット_裏上_異常_まっすぐ帰宅']\n",
      "extracted 60 dataframes\n",
      "['01_02_01_4F実験室_XperiaZ3_胸ポケット_裏上_異常_まっすぐ外出']\n",
      "extracted 20 dataframes\n"
     ]
    },
    {
     "data": {
      "text/plain": [
       "<module 'datasets' from 'datasets.ipynb'>"
      ]
     },
     "execution_count": 104,
     "metadata": {},
     "output_type": "execute_result"
    }
   ],
   "source": [
    "import importlib\n",
    "importlib.reload(datasets)"
   ]
  },
  {
   "cell_type": "code",
   "execution_count": 102,
   "metadata": {
    "collapsed": true
   },
   "outputs": [],
   "source": [
    "import datasets"
   ]
  },
  {
   "cell_type": "code",
   "execution_count": 107,
   "metadata": {
    "collapsed": false,
    "deletable": true,
    "editable": true,
    "scrolled": false
   },
   "outputs": [
    {
     "name": "stdout",
     "output_type": "stream",
     "text": [
      "['01_01_02_4F実験室_XperiaZ3_カバン_裏上_正常_まっすぐ帰宅']\n",
      "extracted 19 dataframes\n",
      "['01_01_02_4F実験室_XperiaZ3_カバン_裏上_正常_まっすぐ帰宅'\n",
      " '01_02_03_4F実験室_XperiaZ3_カバン_裏上_異常_まっすぐ外出'\n",
      " '01_01_03_4F実験室_XperiaZ3_胸ポケット_裏上_正常_5秒後まっすぐ帰宅'\n",
      " '01_02_02_4F実験室_XperiaZ3_ズボン_裏上_異常_まっすぐ外出'\n",
      " '01_03_03_4F実験室_XperiaZ3_カバン_裏上_異常_まっすぐ帰宅'\n",
      " '01_02_01_4F実験室_XperiaZ3_胸ポケット_裏上_異常_まっすぐ外出'\n",
      " '01_03_01_4F実験室_XperiaZ3_胸ポケット_裏上_異常_まっすぐ帰宅'\n",
      " '01_03_02_4F実験室_XperiaZ3_ズボン_裏上_異常_まっすぐ帰宅']\n",
      "extracted 159 dataframes\n",
      "['01_01_02_4F実験室_XperiaZ3_カバン_裏上_正常_まっすぐ帰宅']\n",
      "extracted 19 dataframes\n",
      "['01_01_03_4F実験室_XperiaZ3_胸ポケット_裏上_正常_5秒後まっすぐ帰宅'\n",
      " '01_02_01_4F実験室_XperiaZ3_胸ポケット_裏上_異常_まっすぐ外出'\n",
      " '01_01_01_4F実験室_XperiaZ3_胸ポケット_裏上_正常_まっすぐ帰宅'\n",
      " '01_03_01_4F実験室_XperiaZ3_胸ポケット_裏上_異常_まっすぐ帰宅']\n",
      "extracted 80 dataframes\n"
     ]
    },
    {
     "data": {
      "image/png": "[encoded data removed]",
      "text/plain": [
       "<matplotlib.figure.Figure at 0x7fe11d50e160>"
      ]
     },
     "metadata": {},
     "output_type": "display_data"
    },
    {
     "name": "stdout",
     "output_type": "stream",
     "text": [
      "auc\n",
      "0.349960691824\n"
     ]
    }
   ],
   "source": [
    "import importlib\n",
    "#importlib.reload(roc_auc)\n",
    "import roc_auc\n",
    "import datasets\n",
    "\n",
    "def eval01():\n",
    "    column=['rssi.a','rssi.b', ['linear_accel[0]','linear_accel[1]','linear_accel[2]']]\n",
    "    before = 10\n",
    "    \n",
    "    data_2d_base, data_2d_n = datasets.get_normalized_data(ds,\n",
    "                                                           title_base='01_01_02.*',\n",
    "                                                           title ='01_', # all anomaly data from iPhone\n",
    "                                                           before=before, after=0,\n",
    "                                                           column=column)\n",
    "    \n",
    "    data_2d_base, data_2d_o = datasets.get_normalized_data(ds,\n",
    "                                                           title_base='01_01_02.*',\n",
    "                                                           title ='.*4F.*Xperia.*胸ポケット.*_', # all anomaly data from iPhone\n",
    "                                                           before=before, after=0,\n",
    "                                                           column=column)\n",
    "\n",
    "    model = EstimatorKNN()\n",
    "    \n",
    "    data_n = [d.ravel() for d in data_2d_n]\n",
    "    data_o = [d.ravel() for d in data_2d_o]\n",
    "\n",
    "    model.fit(data_n)\n",
    "    score_n = model.decision_function(data_n)\n",
    "    score_o = model.decision_function(data_o)\n",
    "    auc = roc_auc.get_auc_from_normal_outlier(score_n, score_o)\n",
    "    print('auc')\n",
    "    print(auc)\n",
    "    \n",
    "eval01()"
   ]
  },
  {
   "cell_type": "code",
   "execution_count": null,
   "metadata": {
    "collapsed": true
   },
   "outputs": [],
   "source": []
  }
 ],
 "metadata": {
  "kernelspec": {
   "display_name": "Python 3",
   "language": "python",
   "name": "python3"
  },
  "language_info": {
   "codemirror_mode": {
    "name": "ipython",
    "version": 3
   },
   "file_extension": ".py",
   "mimetype": "text/x-python",
   "name": "python",
   "nbconvert_exporter": "python",
   "pygments_lexer": "ipython3",
   "version": "3.5.2"
  }
 },
 "nbformat": 4,
 "nbformat_minor": 2
}
