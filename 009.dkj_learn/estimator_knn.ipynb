{
 "cells": [
  {
   "cell_type": "code",
   "execution_count": 1,
   "metadata": {
    "collapsed": true,
    "deletable": true,
    "editable": true
   },
   "outputs": [],
   "source": [
    "from sklearn.neighbors import NearestNeighbors\n",
    "from sklearn.base import BaseEstimator"
   ]
  },
  {
   "cell_type": "code",
   "execution_count": 39,
   "metadata": {
    "collapsed": false,
    "deletable": true,
    "editable": true
   },
   "outputs": [
    {
     "name": "stdout",
     "output_type": "stream",
     "text": [
      "this is knn\n"
     ]
    }
   ],
   "source": [
    "class EstimatorKNN(BaseEstimator):\n",
    "    print('this is knn')\n",
    "    def __init__(self, n_neighbors=3):\n",
    "        self.estimator = NearestNeighbors(n_neighbors=n_neighbors, algorithm='ball_tree')\n",
    "\n",
    "    def fit(self, x):\n",
    "        self.estimator.fit(x)\n",
    "        return self \n",
    "\n",
    "    def predict(self, x):\n",
    "        return [1.0]*len(x) \n",
    "    \n",
    "    def decision_function(self, x, y=None):\n",
    "        distances, indices = self.estimator.kneighbors(x)\n",
    "        outlier_level = distances[:,-1]\n",
    "        return outlier_level\n",
    "\n",
    "    def score(self, x, y=None):\n",
    "        scores = self.decision_function(x)\n",
    "        return sum(scores)/len(scores)\n",
    "\n",
    "    def get_params(self, deep=True):\n",
    "        return self.estimator.get_params(deep)\n",
    "\n",
    "    def set_params(self, **parameters):\n",
    "        for parameter, value in parameters.items():\n",
    "            setattr(self,parameter, value)\n",
    "        return self"
   ]
  },
  {
   "cell_type": "code",
   "execution_count": 40,
   "metadata": {
    "collapsed": false,
    "deletable": true,
    "editable": true
   },
   "outputs": [
    {
     "data": {
      "text/plain": [
       "[1, 2, 6]"
      ]
     },
     "execution_count": 40,
     "metadata": {},
     "output_type": "execute_result"
    }
   ],
   "source": [
    "a = [[1,1],[2,1],[3,0],[4,0],[5,0],[6,1]]\n",
    "[_a[0] for _a in a if _a[1] == 1]"
   ]
  },
  {
   "cell_type": "code",
   "execution_count": 41,
   "metadata": {
    "collapsed": false,
    "scrolled": false
   },
   "outputs": [
    {
     "name": "stdout",
     "output_type": "stream",
     "text": [
      "path = data/raw/01_0[12]_01_*\n",
      "data/raw/01_02_01_4F実験室_XperiaZ3_胸ポケット_裏上_異常_まっすぐ外出\n",
      "...\n",
      "data/raw/01_01_01_4F実験室_XperiaZ3_胸ポケット_裏上_正常_まっすぐ帰宅\n",
      "...\n",
      "extracted 3 dataframes\n",
      "extracted 3 dataframes\n",
      "7.33426069735\n",
      "196.530315749\n",
      "{'n_jobs': 1, 'radius': 1.0, 'algorithm': 'ball_tree', 'n_neighbors': 2, 'leaf_size': 30, 'p': 2, 'metric': 'minkowski', 'metric_params': None}\n"
     ]
    }
   ],
   "source": [
    "#import estimator_knn as knn\n",
    "import sys\n",
    "import notebookutil as nbu\n",
    "sys.meta_path.append(nbu.NotebookFinder())\n",
    "import datasets\n",
    "import pandas as pd\n",
    "import numpy as np\n",
    "\n",
    "def eval01():\n",
    "    ds = datasets.load('data/raw/01_0[12]_01_*')\n",
    "    column = ['rssi.a','rssi.b',['linear_accel[0]','linear_accel[1]','linear_accel[2]']]\n",
    "    data_n, data_o = datasets.get_normalized_data(ds,\n",
    "                                                  title_n='01_01_01_4F実験室_XperiaZ3_胸ポケット_裏上_正常_まっすぐ帰宅',\n",
    "                                                  title_o ='01_02_01_4F実験室_XperiaZ3_胸ポケット_裏上_異常_まっすぐ外出',\n",
    "                                                  before=6, after=0, column=column)\n",
    "    \n",
    "    knnModel = EstimatorKNN(n_neighbors=2)\n",
    "\n",
    "    data_n = [d.flatten() for d in data_n]\n",
    "    data_o = [d.flatten() for d in data_o]\n",
    "    \n",
    "    knnModel.fit(data_n)\n",
    "    score = knnModel.score(data_n)\n",
    "    print(score)\n",
    "    score = knnModel.score(data_o)\n",
    "    print(score)\n",
    "    \n",
    "    print(knnModel.get_params())\n",
    "\n",
    "eval01()"
   ]
  },
  {
   "cell_type": "code",
   "execution_count": null,
   "metadata": {
    "collapsed": true
   },
   "outputs": [],
   "source": []
  }
 ],
 "metadata": {
  "kernelspec": {
   "display_name": "Python 3",
   "language": "python",
   "name": "python3"
  },
  "language_info": {
   "codemirror_mode": {
    "name": "ipython",
    "version": 3
   },
   "file_extension": ".py",
   "mimetype": "text/x-python",
   "name": "python",
   "nbconvert_exporter": "python",
   "pygments_lexer": "ipython3",
   "version": "3.5.2"
  }
 },
 "nbformat": 4,
 "nbformat_minor": 2
}
