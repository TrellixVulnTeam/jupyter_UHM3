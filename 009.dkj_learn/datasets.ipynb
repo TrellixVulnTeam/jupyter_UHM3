{
 "cells": [
  {
   "cell_type": "code",
   "execution_count": 2,
   "metadata": {
    "collapsed": true,
    "deletable": true,
    "editable": true
   },
   "outputs": [],
   "source": [
    "import glob\n",
    "import numpy as np\n",
    "import pandas as pd\n",
    "import os\n",
    "from matplotlib import pyplot as plt\n",
    "%matplotlib inline"
   ]
  },
  {
   "cell_type": "code",
   "execution_count": 192,
   "metadata": {
    "collapsed": false,
    "deletable": true,
    "editable": true,
    "scrolled": false
   },
   "outputs": [],
   "source": [
    "class dataset:\n",
    "\n",
    "    def _get_dir_list(self, path):\n",
    "        return glob.glob(path)\n",
    "\n",
    "    def _get_file_list_in_dir(self, d):\n",
    "        f = glob.glob(d + '/*.csv')\n",
    "        f.sort()\n",
    "        return f\n",
    "\n",
    "    def _get_df_from_csv(self, f):\n",
    "        is_iOS = \"iphone\" in f\n",
    "        df = pd.read_csv(f)\n",
    "\n",
    "        if is_iOS:\n",
    "            # rename column name to integrate\n",
    "            df.rename(columns={'rssi': 'remote_rssi'}, inplace=True)\n",
    "            # remove unsaved parameters\n",
    "            del df['magneticField.accuracy']\n",
    "            del df['magneticField.field.x']\n",
    "            del df['magneticField.field.y']\n",
    "            del df['magneticField.field.z']\n",
    "        else:\n",
    "            # rename column name to integrate\n",
    "            df.rename(columns={'rssi(A)': 'rssi.a'}, inplace=True)\n",
    "            df.rename(columns={'rssi(B)': 'rssi.b'}, inplace=True)\n",
    "            # remove unsaved parameters\n",
    "            del df['temperature']\n",
    "            del df['humidity']\n",
    "            del df['proximity']\n",
    "\n",
    "        # remove data while rssi is not recorded\n",
    "        buf = np.where(df['rssi.a'].as_matrix() != -1)[0]\n",
    "        if len(buf) == 0:\n",
    "            print('x', end='')\n",
    "            return None\n",
    "        first_rssi_idx = buf[0]\n",
    "        df = df.ix[first_rssi_idx:, :]\n",
    "\n",
    "        # adjust the value of button pushed data \n",
    "        df.loc[df['btn_push'] == -1, 'btn_push'] = 0\n",
    "\n",
    "        # convert -1 to NaN\n",
    "        df[df == -1] = np.nan\n",
    "\n",
    "        # interpolate NaN\n",
    "        df = df.apply(pd.Series.interpolate)\n",
    "\n",
    "        print('.', end='')\n",
    "\n",
    "        return df\n",
    "\n",
    "    def __init__(self, path='data/raw/*_*_0[1-4]*'):\n",
    "        self.path = path\n",
    "        d = self._get_dir_list(path)\n",
    "        title = [os.path.basename(_d) for _d in d]\n",
    "\n",
    "        r = []\n",
    "        for _d in d[:2]:\n",
    "            print(_d)\n",
    "            title = os.path.basename(_d)\n",
    "            file_list = self._get_file_list_in_dir(_d)\n",
    "            fname_list = [os.path.basename(_f) for _f in file_list]\n",
    "            df_list = [self._get_df_from_csv(f) for f in file_list]\n",
    "            print('')\n",
    "            r.extend([[title, fn, df] for (fn, df) in zip(fname_list, df_list)])\n",
    "\n",
    "        self.df_master = pd.DataFrame(r, columns=('title', 'fname', 'dataframe'))\n",
    "    \n",
    "    def _time_range_around_button_push(self, df, before=0, after=0):\n",
    "        t = df[df['btn_push'] == 1].index\n",
    "        point = t[0] if len(t) > 0 else df.index[-1] - 150\n",
    "        return df.loc[(point - before):(point + after)]\n",
    "\n",
    "    def get_data(self, title='.*', fname='.*', before=None, after=0, column=None):\n",
    "        # extract the [title, fname, dataframe]\n",
    "        dfm = self.df_master[self.df_master['title'].str.contains(title)]\n",
    "        dfm = dfm[dfm['fname'].str.contains(fname)]\n",
    "        # to list of dataframe\n",
    "        dfml = [d for d in dfm['dataframe'].tolist() if d is not None]\n",
    "        # limit the time range\n",
    "        dfml = [self._time_range_around_button_push(d, before, after) for d in dfml]\n",
    "        # limit the column\n",
    "        if column != None: dfml = [d[column] for d in dfml]\n",
    "        print(\"extracted %d dataframes\" % (len(dfml)))\n",
    "        return dfml"
   ]
  },
  {
   "cell_type": "code",
   "execution_count": 233,
   "metadata": {
    "collapsed": false,
    "deletable": true,
    "editable": true,
    "scrolled": false
   },
   "outputs": [
    {
     "name": "stdout",
     "output_type": "stream",
     "text": [
      "data/raw/01_01_02_4F実験室_XperiaZ3_カバン_裏上_正常_まっすぐ帰宅\n",
      "...x..........................\n",
      "data/raw/02_03_03_4F実験室_iphone_カバン_裏上_異常_まっすぐ帰宅\n",
      "..............................\n"
     ]
    },
    {
     "data": {
      "text/html": [
       "<div>\n",
       "<table border=\"1\" class=\"dataframe\">\n",
       "  <thead>\n",
       "    <tr style=\"text-align: right;\">\n",
       "      <th></th>\n",
       "      <th>date</th>\n",
       "      <th>rssi.a</th>\n",
       "      <th>rssi.b</th>\n",
       "      <th>remote_rssi</th>\n",
       "      <th>linear_accel[0]</th>\n",
       "      <th>linear_accel[1]</th>\n",
       "      <th>linear_accel[2]</th>\n",
       "      <th>accelerometer[0]</th>\n",
       "      <th>accelerometer[1]</th>\n",
       "      <th>accelerometer[2]</th>\n",
       "      <th>...</th>\n",
       "      <th>game_rotation[0]</th>\n",
       "      <th>game_rotation[1]</th>\n",
       "      <th>game_rotation[2]</th>\n",
       "      <th>game_rotation[3]</th>\n",
       "      <th>magnetic[0]</th>\n",
       "      <th>magnetic[1]</th>\n",
       "      <th>magnetic[2]</th>\n",
       "      <th>pressure</th>\n",
       "      <th>light</th>\n",
       "      <th>btn_push</th>\n",
       "    </tr>\n",
       "  </thead>\n",
       "  <tbody>\n",
       "    <tr>\n",
       "      <th>91</th>\n",
       "      <td>2017/04/06 14:22:23.334</td>\n",
       "      <td>-62.000000</td>\n",
       "      <td>-62.000000</td>\n",
       "      <td>-81.0</td>\n",
       "      <td>0.107452</td>\n",
       "      <td>0.013687</td>\n",
       "      <td>-0.266391</td>\n",
       "      <td>0.587601</td>\n",
       "      <td>2.197723</td>\n",
       "      <td>9.080734</td>\n",
       "      <td>...</td>\n",
       "      <td>0.096745</td>\n",
       "      <td>0.062251</td>\n",
       "      <td>0.681178</td>\n",
       "      <td>0.723023</td>\n",
       "      <td>18.890984</td>\n",
       "      <td>3.055763</td>\n",
       "      <td>-18.236160</td>\n",
       "      <td>NaN</td>\n",
       "      <td>NaN</td>\n",
       "      <td>0.0</td>\n",
       "    </tr>\n",
       "    <tr>\n",
       "      <th>92</th>\n",
       "      <td>2017/04/06 14:22:23.354</td>\n",
       "      <td>-66.333333</td>\n",
       "      <td>-63.428571</td>\n",
       "      <td>-81.0</td>\n",
       "      <td>0.149785</td>\n",
       "      <td>0.028881</td>\n",
       "      <td>-0.196661</td>\n",
       "      <td>0.700928</td>\n",
       "      <td>2.234436</td>\n",
       "      <td>9.088989</td>\n",
       "      <td>...</td>\n",
       "      <td>0.096946</td>\n",
       "      <td>0.062199</td>\n",
       "      <td>0.681327</td>\n",
       "      <td>0.722859</td>\n",
       "      <td>18.890984</td>\n",
       "      <td>3.055763</td>\n",
       "      <td>-18.324090</td>\n",
       "      <td>1017.940550</td>\n",
       "      <td>NaN</td>\n",
       "      <td>0.0</td>\n",
       "    </tr>\n",
       "    <tr>\n",
       "      <th>93</th>\n",
       "      <td>2017/04/06 14:22:23.376</td>\n",
       "      <td>-70.666667</td>\n",
       "      <td>-64.857143</td>\n",
       "      <td>-81.0</td>\n",
       "      <td>0.192119</td>\n",
       "      <td>0.044076</td>\n",
       "      <td>-0.126932</td>\n",
       "      <td>0.554733</td>\n",
       "      <td>2.217590</td>\n",
       "      <td>9.249832</td>\n",
       "      <td>...</td>\n",
       "      <td>0.097190</td>\n",
       "      <td>0.061880</td>\n",
       "      <td>0.681452</td>\n",
       "      <td>0.722737</td>\n",
       "      <td>18.709404</td>\n",
       "      <td>3.328323</td>\n",
       "      <td>-18.412018</td>\n",
       "      <td>1017.945525</td>\n",
       "      <td>NaN</td>\n",
       "      <td>0.0</td>\n",
       "    </tr>\n",
       "    <tr>\n",
       "      <th>94</th>\n",
       "      <td>2017/04/06 14:22:23.395</td>\n",
       "      <td>-75.000000</td>\n",
       "      <td>-66.285714</td>\n",
       "      <td>-72.0</td>\n",
       "      <td>-0.086707</td>\n",
       "      <td>0.132139</td>\n",
       "      <td>0.141152</td>\n",
       "      <td>0.397614</td>\n",
       "      <td>2.316269</td>\n",
       "      <td>9.463730</td>\n",
       "      <td>...</td>\n",
       "      <td>0.097190</td>\n",
       "      <td>0.061788</td>\n",
       "      <td>0.681132</td>\n",
       "      <td>0.723046</td>\n",
       "      <td>18.709404</td>\n",
       "      <td>3.419304</td>\n",
       "      <td>-18.587875</td>\n",
       "      <td>1017.950500</td>\n",
       "      <td>110.0</td>\n",
       "      <td>0.0</td>\n",
       "    </tr>\n",
       "    <tr>\n",
       "      <th>95</th>\n",
       "      <td>2017/04/06 14:22:23.415</td>\n",
       "      <td>-70.500000</td>\n",
       "      <td>-67.714286</td>\n",
       "      <td>-72.0</td>\n",
       "      <td>-0.023780</td>\n",
       "      <td>0.118709</td>\n",
       "      <td>0.021171</td>\n",
       "      <td>0.336319</td>\n",
       "      <td>2.278671</td>\n",
       "      <td>9.353012</td>\n",
       "      <td>...</td>\n",
       "      <td>0.097196</td>\n",
       "      <td>0.062068</td>\n",
       "      <td>0.681002</td>\n",
       "      <td>0.723144</td>\n",
       "      <td>18.709404</td>\n",
       "      <td>3.328514</td>\n",
       "      <td>-18.412018</td>\n",
       "      <td>1017.950500</td>\n",
       "      <td>109.5</td>\n",
       "      <td>0.0</td>\n",
       "    </tr>\n",
       "  </tbody>\n",
       "</table>\n",
       "<p>5 rows × 31 columns</p>\n",
       "</div>"
      ],
      "text/plain": [
       "                       date     rssi.a     rssi.b  remote_rssi  \\\n",
       "91  2017/04/06 14:22:23.334 -62.000000 -62.000000        -81.0   \n",
       "92  2017/04/06 14:22:23.354 -66.333333 -63.428571        -81.0   \n",
       "93  2017/04/06 14:22:23.376 -70.666667 -64.857143        -81.0   \n",
       "94  2017/04/06 14:22:23.395 -75.000000 -66.285714        -72.0   \n",
       "95  2017/04/06 14:22:23.415 -70.500000 -67.714286        -72.0   \n",
       "\n",
       "    linear_accel[0]  linear_accel[1]  linear_accel[2]  accelerometer[0]  \\\n",
       "91         0.107452         0.013687        -0.266391          0.587601   \n",
       "92         0.149785         0.028881        -0.196661          0.700928   \n",
       "93         0.192119         0.044076        -0.126932          0.554733   \n",
       "94        -0.086707         0.132139         0.141152          0.397614   \n",
       "95        -0.023780         0.118709         0.021171          0.336319   \n",
       "\n",
       "    accelerometer[1]  accelerometer[2]    ...     game_rotation[0]  \\\n",
       "91          2.197723          9.080734    ...             0.096745   \n",
       "92          2.234436          9.088989    ...             0.096946   \n",
       "93          2.217590          9.249832    ...             0.097190   \n",
       "94          2.316269          9.463730    ...             0.097190   \n",
       "95          2.278671          9.353012    ...             0.097196   \n",
       "\n",
       "    game_rotation[1]  game_rotation[2]  game_rotation[3]  magnetic[0]  \\\n",
       "91          0.062251          0.681178          0.723023    18.890984   \n",
       "92          0.062199          0.681327          0.722859    18.890984   \n",
       "93          0.061880          0.681452          0.722737    18.709404   \n",
       "94          0.061788          0.681132          0.723046    18.709404   \n",
       "95          0.062068          0.681002          0.723144    18.709404   \n",
       "\n",
       "    magnetic[1]  magnetic[2]     pressure  light  btn_push  \n",
       "91     3.055763   -18.236160          NaN    NaN       0.0  \n",
       "92     3.055763   -18.324090  1017.940550    NaN       0.0  \n",
       "93     3.328323   -18.412018  1017.945525    NaN       0.0  \n",
       "94     3.419304   -18.587875  1017.950500  110.0       0.0  \n",
       "95     3.328514   -18.412018  1017.950500  109.5       0.0  \n",
       "\n",
       "[5 rows x 31 columns]"
      ]
     },
     "execution_count": 233,
     "metadata": {},
     "output_type": "execute_result"
    }
   ],
   "source": [
    "ds = dataset()\n",
    "ds.df_master[ds.df_master['title'] == '01_01_02_4F実験室_XperiaZ3_カバン_裏上_正常_まっすぐ帰宅']['dataframe'][0].head()"
   ]
  },
  {
   "cell_type": "code",
   "execution_count": 231,
   "metadata": {
    "collapsed": false
   },
   "outputs": [
    {
     "name": "stdout",
     "output_type": "stream",
     "text": [
      "<class 'pandas.core.frame.DataFrame'>\n",
      "RangeIndex: 572 entries, 175 to 746\n",
      "Data columns (total 31 columns):\n",
      "date                572 non-null object\n",
      "rssi.a              572 non-null float64\n",
      "rssi.b              572 non-null float64\n",
      "remote_rssi         572 non-null float64\n",
      "linear_accel[0]     572 non-null float64\n",
      "linear_accel[1]     572 non-null float64\n",
      "linear_accel[2]     572 non-null float64\n",
      "accelerometer[0]    572 non-null float64\n",
      "accelerometer[1]    572 non-null float64\n",
      "accelerometer[2]    572 non-null float64\n",
      "gravity[0]          572 non-null float64\n",
      "gravity[1]          572 non-null float64\n",
      "gravity[2]          572 non-null float64\n",
      "gyro[0]             572 non-null float64\n",
      "gyro[1]             572 non-null float64\n",
      "gyro[2]             572 non-null float64\n",
      "rotation[0]         572 non-null float64\n",
      "rotation[1]         572 non-null float64\n",
      "rotation[2]         572 non-null float64\n",
      "rotation[3]         572 non-null float64\n",
      "rotation[4]         572 non-null float64\n",
      "game_rotation[0]    572 non-null float64\n",
      "game_rotation[1]    572 non-null float64\n",
      "game_rotation[2]    572 non-null float64\n",
      "game_rotation[3]    572 non-null float64\n",
      "magnetic[0]         572 non-null float64\n",
      "magnetic[1]         572 non-null float64\n",
      "magnetic[2]         572 non-null float64\n",
      "pressure            572 non-null float64\n",
      "light               572 non-null float64\n",
      "btn_push            572 non-null float64\n",
      "dtypes: float64(30), object(1)\n",
      "memory usage: 138.6+ KB\n"
     ]
    }
   ],
   "source": [
    "ds.df_master.iloc[0]['dataframe'].info()"
   ]
  },
  {
   "cell_type": "code",
   "execution_count": 240,
   "metadata": {
    "collapsed": false,
    "deletable": true,
    "editable": true,
    "scrolled": false
   },
   "outputs": [
    {
     "name": "stdout",
     "output_type": "stream",
     "text": [
      "extracted 29 dataframes\n"
     ]
    },
    {
     "data": {
      "text/plain": [
       "array([[ -4.50000000e+01,  -3.80000000e+01,   2.31796260e-01,\n",
       "          0.00000000e+00],\n",
       "       [ -4.50000000e+01,  -3.90000000e+01,   4.49132920e-02,\n",
       "          0.00000000e+00],\n",
       "       [ -4.50000000e+01,  -3.95000000e+01,  -5.70392600e-02,\n",
       "          0.00000000e+00],\n",
       "       [ -4.55000000e+01,  -4.00000000e+01,  -1.44490240e-01,\n",
       "          0.00000000e+00],\n",
       "       [ -4.60000000e+01,  -4.10000000e+01,  -4.98676300e-02,\n",
       "          0.00000000e+00],\n",
       "       [ -4.80000000e+01,  -4.20000000e+01,   1.06868744e-01,\n",
       "          0.00000000e+00],\n",
       "       [ -5.00000000e+01,  -4.05000000e+01,   2.66572000e-01,\n",
       "          1.00000000e+00],\n",
       "       [ -5.00000000e+01,  -3.90000000e+01,   2.57425300e-01,\n",
       "          0.00000000e+00],\n",
       "       [ -5.00000000e+01,  -4.05000000e+01,   3.09682850e-01,\n",
       "          0.00000000e+00]])"
      ]
     },
     "execution_count": 240,
     "metadata": {},
     "output_type": "execute_result"
    }
   ],
   "source": [
    "d = ds.get_data('01_01_02_4F実験室_XperiaZ3_カバン_裏上_正常_まっすぐ帰宅', before=6, after=2, column=['rssi.b','rssi.a','linear_accel[0]','btn_push'])[0]\n",
    "d.values"
   ]
  },
  {
   "cell_type": "code",
   "execution_count": 241,
   "metadata": {
    "collapsed": false,
    "deletable": true,
    "editable": true
   },
   "outputs": [
    {
     "name": "stdout",
     "output_type": "stream",
     "text": [
      "extracted 29 dataframes\n"
     ]
    },
    {
     "data": {
      "text/plain": [
       "<matplotlib.axes._subplots.AxesSubplot at 0x7fef5f8b5a90>"
      ]
     },
     "execution_count": 241,
     "metadata": {},
     "output_type": "execute_result"
    },
    {
     "data": {
      "image/png": "[encoded data removed]",
      "text/plain": [
       "<matplotlib.figure.Figure at 0x7fef5f898908>"
      ]
     },
     "metadata": {},
     "output_type": "display_data"
    }
   ],
   "source": [
    "df = ds.get_data(title='01_01_02_4F実験室_XperiaZ3_カバン_裏上_正常_まっすぐ帰宅', before=400, after=0, column=['linear_accel[0]','linear_accel[1]','linear_accel[2]'])[3]\n",
    "df.plot()"
   ]
  },
  {
   "cell_type": "code",
   "execution_count": null,
   "metadata": {
    "collapsed": true,
    "deletable": true,
    "editable": true
   },
   "outputs": [],
   "source": []
  },
  {
   "cell_type": "code",
   "execution_count": 199,
   "metadata": {
    "collapsed": false,
    "deletable": true,
    "editable": true
   },
   "outputs": [
    {
     "name": "stdout",
     "output_type": "stream",
     "text": [
      "data/raw/01_01_01_4F実験室_XperiaZ3_胸ポケット_裏上_正常_まっすぐ帰宅\n",
      "..............................\n"
     ]
    }
   ],
   "source": [
    "# sample for data ananlysis\n",
    "ds = dataset('data/raw/01_01_02_4F実験室_XperiaZ3_カバン_裏上_正常_まっすぐ帰宅')"
   ]
  },
  {
   "cell_type": "code",
   "execution_count": 247,
   "metadata": {
    "collapsed": false,
    "deletable": true,
    "editable": true,
    "scrolled": true
   },
   "outputs": [
    {
     "name": "stdout",
     "output_type": "stream",
     "text": [
      "extracted 29 dataframes\n"
     ]
    },
    {
     "data": {
      "text/html": [
       "<div>\n",
       "<table border=\"1\" class=\"dataframe\">\n",
       "  <thead>\n",
       "    <tr style=\"text-align: right;\">\n",
       "      <th></th>\n",
       "      <th>linear_accel[0]</th>\n",
       "      <th>linear_accel[1]</th>\n",
       "      <th>linear_accel[2]</th>\n",
       "    </tr>\n",
       "  </thead>\n",
       "  <tbody>\n",
       "    <tr>\n",
       "      <th>693</th>\n",
       "      <td>0.044913</td>\n",
       "      <td>-1.579473</td>\n",
       "      <td>0.463062</td>\n",
       "    </tr>\n",
       "    <tr>\n",
       "      <th>694</th>\n",
       "      <td>-0.057039</td>\n",
       "      <td>-1.348034</td>\n",
       "      <td>0.487368</td>\n",
       "    </tr>\n",
       "    <tr>\n",
       "      <th>695</th>\n",
       "      <td>-0.144490</td>\n",
       "      <td>-1.167390</td>\n",
       "      <td>0.478381</td>\n",
       "    </tr>\n",
       "    <tr>\n",
       "      <th>696</th>\n",
       "      <td>-0.049868</td>\n",
       "      <td>-0.897218</td>\n",
       "      <td>0.383633</td>\n",
       "    </tr>\n",
       "    <tr>\n",
       "      <th>697</th>\n",
       "      <td>0.106869</td>\n",
       "      <td>-0.743984</td>\n",
       "      <td>0.294303</td>\n",
       "    </tr>\n",
       "    <tr>\n",
       "      <th>698</th>\n",
       "      <td>0.266572</td>\n",
       "      <td>-0.615294</td>\n",
       "      <td>0.187120</td>\n",
       "    </tr>\n",
       "  </tbody>\n",
       "</table>\n",
       "</div>"
      ],
      "text/plain": [
       "     linear_accel[0]  linear_accel[1]  linear_accel[2]\n",
       "693         0.044913        -1.579473         0.463062\n",
       "694        -0.057039        -1.348034         0.487368\n",
       "695        -0.144490        -1.167390         0.478381\n",
       "696        -0.049868        -0.897218         0.383633\n",
       "697         0.106869        -0.743984         0.294303\n",
       "698         0.266572        -0.615294         0.187120"
      ]
     },
     "execution_count": 247,
     "metadata": {},
     "output_type": "execute_result"
    }
   ],
   "source": [
    "dfl = ds.get_data(title='01_01_02_4F実験室_XperiaZ3_カバン_裏上_正常_まっすぐ帰宅',\n",
    "                 before=5, after=0, column=['linear_accel[0]','linear_accel[1]','linear_accel[2]'])[:4]\n",
    "#normal = [df.as_matrix().reshape(-1) for df in dfl]\n",
    "#normal\n",
    "\n",
    "def _get_data(dfm, title='.*', fname='.*', before=0, after=0, column=None):\n",
    "    # extract the [title, fname, dataframe]\n",
    "    dfm = self.df_master[self.df_master['title'].str.contains(title)]\n",
    "    dfm = dfm[dfm['fname'].str.contains(fname)]\n",
    "    # to list of dataframe\n",
    "    dfml = [d for d in dfm['dataframe'].tolist() if d is not None]\n",
    "    # limit the time range\n",
    "    dfml = [self._time_range_around_button_push(d, before, after) for d in dfml]\n",
    "    # limit the column\n",
    "    if column != None: dfml = [d[column] for d in dfml]\n",
    "    print(\"extracted %d dataframes\" % (len(dfml)))\n",
    "    return dfml\n",
    "df = dfl[0]\n",
    "df"
   ]
  },
  {
   "cell_type": "code",
   "execution_count": 256,
   "metadata": {
    "collapsed": false
   },
   "outputs": [
    {
     "data": {
      "text/plain": [
       "0.58730733561568127"
      ]
     },
     "execution_count": 256,
     "metadata": {},
     "output_type": "execute_result"
    }
   ],
   "source": [
    "(2*df['linear_accel[0]'] + df['linear_accel[1]']).std()"
   ]
  },
  {
   "cell_type": "code",
   "execution_count": 223,
   "metadata": {
    "collapsed": false
   },
   "outputs": [
    {
     "data": {
      "text/plain": [
       "NearestNeighbors(algorithm='ball_tree', leaf_size=30, metric='minkowski',\n",
       "         metric_params=None, n_jobs=1, n_neighbors=3, p=2, radius=1.0)"
      ]
     },
     "execution_count": 223,
     "metadata": {},
     "output_type": "execute_result"
    }
   ],
   "source": [
    "########################## k-NN \n",
    "from sklearn.neighbors import NearestNeighbors\n",
    "#X = np.array([[-1, -1], [-2, -1], [-3, -2], [1, 1], [2, 1], [3, 2]])\n",
    "X = normal\n",
    "nbrs = NearestNeighbors(n_neighbors=3, algorithm='ball_tree')\n",
    "nbrs.fit(X)"
   ]
  },
  {
   "cell_type": "code",
   "execution_count": 224,
   "metadata": {
    "collapsed": false
   },
   "outputs": [
    {
     "name": "stdout",
     "output_type": "stream",
     "text": [
      "[[ 0.          0.96900979  1.18613318]\n",
      " [ 0.          0.47547992  0.56683676]\n",
      " [ 0.          0.95248595  0.97963222]\n",
      " [ 0.          0.70762178  0.87519611]\n",
      " [ 0.          0.62291934  0.73165756]\n",
      " [ 0.          0.62291934  0.96900979]\n",
      " [ 0.          0.99479435  1.00146631]\n",
      " [ 0.          0.56683676  0.6744973 ]\n",
      " [ 0.          0.7166177   0.80090115]\n",
      " [ 0.          0.47547992  0.6744973 ]]\n",
      "[[0 5 4]\n",
      " [1 9 7]\n",
      " [2 9 8]\n",
      " [3 7 1]\n",
      " [4 5 1]\n",
      " [5 4 0]\n",
      " [6 5 4]\n",
      " [7 1 9]\n",
      " [8 7 1]\n",
      " [9 1 7]]\n"
     ]
    }
   ],
   "source": [
    "distances, indices = nbrs.kneighbors(X)\n",
    "print(distances)\n",
    "print(indices)"
   ]
  }
 ],
 "metadata": {
  "kernelspec": {
   "display_name": "Python 3",
   "language": "python",
   "name": "python3"
  },
  "language_info": {
   "codemirror_mode": {
    "name": "ipython",
    "version": 3
   },
   "file_extension": ".py",
   "mimetype": "text/x-python",
   "name": "python",
   "nbconvert_exporter": "python",
   "pygments_lexer": "ipython3",
   "version": "3.5.2"
  }
 },
 "nbformat": 4,
 "nbformat_minor": 2
}
