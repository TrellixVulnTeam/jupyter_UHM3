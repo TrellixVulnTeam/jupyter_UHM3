{
 "cells": [
  {
   "cell_type": "code",
   "execution_count": 25,
   "metadata": {
    "collapsed": false,
    "deletable": true,
    "editable": true
   },
   "outputs": [
    {
     "data": {
      "text/plain": [
       "[['data/raw_data/02_iphone/01_4F_iphone_正常',\n",
       "  'data/raw_data/02_iphone/13_エネマネ_iphone_異常帰宅',\n",
       "  'data/raw_data/02_iphone/11_エネマネ_iphone_正常',\n",
       "  'data/raw_data/02_iphone/03_4F_iphone_異常帰宅',\n",
       "  'data/raw_data/02_iphone/12_エネマネ_iphone_異常外出',\n",
       "  'data/raw_data/02_iphone/02_4F_iphone_異常外出'],\n",
       " ['data/raw_data/01_XperiaZ3/13_エネマネ_XperiaZ3_異常帰宅',\n",
       "  'data/raw_data/01_XperiaZ3/01_4F_XperiaZ3_正常',\n",
       "  'data/raw_data/01_XperiaZ3/02_4F_XperiaZ3_異常外出',\n",
       "  'data/raw_data/01_XperiaZ3/12_エネマネ_XperiaZ3_異常外出',\n",
       "  'data/raw_data/01_XperiaZ3/03_4F_XperiaZ3_異常帰宅',\n",
       "  'data/raw_data/01_XperiaZ3/11_エネマネ_XperiaZ3_正常',\n",
       "  'data/raw_data/01_XperiaZ3/99_4F_XperiaZ3_取得ミス']]"
      ]
     },
     "execution_count": 25,
     "metadata": {},
     "output_type": "execute_result"
    }
   ],
   "source": [
    "import glob\n",
    "dir1 = glob.glob('data/raw_data/*')\n",
    "dir2 = [glob.glob(d2 + '/*') for d2 in dir1]\n",
    "dir2"
   ]
  }
 ],
 "metadata": {
  "kernelspec": {
   "display_name": "Python 3",
   "language": "python",
   "name": "python3"
  },
  "language_info": {
   "codemirror_mode": {
    "name": "ipython",
    "version": 3
   },
   "file_extension": ".py",
   "mimetype": "text/x-python",
   "name": "python",
   "nbconvert_exporter": "python",
   "pygments_lexer": "ipython3",
   "version": "3.5.2"
  }
 },
 "nbformat": 4,
 "nbformat_minor": 2
}
