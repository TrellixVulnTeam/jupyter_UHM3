{
 "cells": [
  {
   "cell_type": "code",
   "execution_count": 3,
   "metadata": {
    "collapsed": true,
    "deletable": true,
    "editable": true
   },
   "outputs": [],
   "source": [
    "import glob\n",
    "import numpy as np\n",
    "import pandas as pd\n",
    "import os\n",
    "from matplotlib import pyplot as plt\n",
    "%matplotlib inline"
   ]
  },
  {
   "cell_type": "code",
   "execution_count": 102,
   "metadata": {
    "collapsed": false
   },
   "outputs": [
    {
     "data": {
      "text/plain": [
       "['data/raw/01_01_01_4F実験室_XperiaZ3_胸ポケット_裏上_正常_まっすぐ帰宅',\n",
       " 'data/raw/01_01_02_4F実験室_XperiaZ3_カバン_裏上_正常_まっすぐ帰宅',\n",
       " 'data/raw/01_01_03_4F実験室_XperiaZ3_胸ポケット_裏上_正常_5秒後まっすぐ帰宅',\n",
       " 'data/raw/01_01_04_4F実験室_XperiaZ3_カバン_裏上_正常_5秒後まっすぐ帰宅',\n",
       " 'data/raw/01_02_01_4F実験室_XperiaZ3_胸ポケット_裏上_異常_まっすぐ外出',\n",
       " 'data/raw/01_02_02_4F実験室_XperiaZ3_ズボン_裏上_異常_まっすぐ外出',\n",
       " 'data/raw/01_02_03_4F実験室_XperiaZ3_カバン_裏上_異常_まっすぐ外出',\n",
       " 'data/raw/01_03_01_4F実験室_XperiaZ3_胸ポケット_裏上_異常_まっすぐ帰宅',\n",
       " 'data/raw/01_03_02_4F実験室_XperiaZ3_ズボン_裏上_異常_まっすぐ帰宅',\n",
       " 'data/raw/01_03_03_4F実験室_XperiaZ3_カバン_裏上_異常_まっすぐ帰宅',\n",
       " 'data/raw/01_11_01_エネマネハウス_XperiaZ3_胸ポケット_裏上_正常_まっすぐ帰宅',\n",
       " 'data/raw/01_11_02_エネマネハウス_XperiaZ3_カバン_裏上_正常_まっすぐ帰宅',\n",
       " 'data/raw/01_11_03_エネマネハウス_XperiaZ3_胸ポケット_裏上_正常_5秒後まっすぐ帰宅',\n",
       " 'data/raw/01_11_04_エネマネハウス_XperiaZ3_カバン_裏上_正常_5秒後まっすぐ帰宅',\n",
       " 'data/raw/01_12_01_エネマネハウス_XperiaZ3_胸ポケット_裏上_異常_まっすぐ外出',\n",
       " 'data/raw/01_12_02_エネマネハウス_XperiaZ3_ズボン_裏上_異常_まっすぐ外出',\n",
       " 'data/raw/01_12_03_エネマネハウス_XperiaZ3_カバン_裏上_異常_まっすぐ外出',\n",
       " 'data/raw/01_13_01_エネマネハウス_XperiaZ3_胸ポケット_裏上_異常_まっすぐ帰宅',\n",
       " 'data/raw/01_13_02_エネマネハウス_XperiaZ3_ズボン_裏上_異常_まっすぐ帰宅',\n",
       " 'data/raw/01_13_03_エネマネハウス_XperiaZ3_カバン_裏上_異常_まっすぐ帰宅',\n",
       " 'data/raw/02_01_01_4F実験室_iphone_胸ポケット_裏上_正常_まっすぐ帰宅',\n",
       " 'data/raw/02_01_02_4F実験室_iphone_カバン_裏上_正常_まっすぐ帰宅',\n",
       " 'data/raw/02_01_03_4F実験室_iphone_胸ポケット_裏上_正常_5秒後まっすぐ帰宅',\n",
       " 'data/raw/02_01_04_4F実験室_iphone_カバン_裏上_正常_5秒後まっすぐ帰宅',\n",
       " 'data/raw/02_02_01_4F実験室_iphone_胸ポケット_裏上_異常_まっすぐ外出',\n",
       " 'data/raw/02_02_02_4F実験室_iphone_ズボン_裏上_異常_まっすぐ外出',\n",
       " 'data/raw/02_02_03_4F実験室_iphone_カバン_裏上_異常_まっすぐ外出',\n",
       " 'data/raw/02_03_01_4F実験室_iphone_胸ポケット_裏上_異常_まっすぐ帰宅',\n",
       " 'data/raw/02_03_02_4F実験室_iphone_ズボン_裏上_異常_まっすぐ帰宅',\n",
       " 'data/raw/02_03_03_4F実験室_iphone_カバン_裏上_異常_まっすぐ帰宅',\n",
       " 'data/raw/02_11_01_エネマネハウス_iphone_胸ポケット_裏上_正常_まっすぐ帰宅',\n",
       " 'data/raw/02_11_02_エネマネハウス_iphone_カバン_裏上_正常_まっすぐ帰宅',\n",
       " 'data/raw/02_11_03_エネマネハウス_iphone_胸ポケット_裏上_正常_5秒後まっすぐ帰宅',\n",
       " 'data/raw/02_11_04_エネマネハウス_iphone_カバン_裏上_正常_5秒後まっすぐ帰宅',\n",
       " 'data/raw/02_12_01_エネマネハウス_iphone_胸ポケット_裏上_異常_まっすぐ外出',\n",
       " 'data/raw/02_12_02_エネマネハウス_iphone_ズボン_裏上_異常_まっすぐ外出',\n",
       " 'data/raw/02_12_03_エネマネハウス_iphone_カバン_裏上_異常_まっすぐ外出',\n",
       " 'data/raw/02_13_01_エネマネハウス_iphone_胸ポケット_裏上_異常_まっすぐ帰宅',\n",
       " 'data/raw/02_13_02_エネマネハウス_iphone_ズボン_裏上_異常_まっすぐ帰宅',\n",
       " 'data/raw/02_13_03_エネマネハウス_iphone_カバン_裏上_異常_まっすぐ帰宅']"
      ]
     },
     "execution_count": 102,
     "metadata": {},
     "output_type": "execute_result"
    }
   ],
   "source": [
    "sorted(glob.glob('data/raw/*_*_0[1-4]*'))"
   ]
  },
  {
   "cell_type": "code",
   "execution_count": 151,
   "metadata": {
    "collapsed": false,
    "deletable": true,
    "editable": true,
    "scrolled": false
   },
   "outputs": [],
   "source": [
    "class dataset:\n",
    "\n",
    "    def _get_dir_list(self, path):\n",
    "        return glob.glob(path)\n",
    "\n",
    "    def _get_file_list_in_dir(self, d):\n",
    "        f = glob.glob(d + '/*.csv')\n",
    "        f.sort()\n",
    "        return f[:1]\n",
    "\n",
    "    def _get_df_from_csv(self, f):\n",
    "        is_iOS = \"iphone\" in f\n",
    "        df = pd.read_csv(f)\n",
    "\n",
    "        if is_iOS:\n",
    "            # rename column name to integrate\n",
    "            df.rename(columns={'rssi': 'remote_rssi'}, inplace=True)\n",
    "            # remove unsaved parameters\n",
    "            del df['magneticField.accuracy']\n",
    "            del df['magneticField.field.x']\n",
    "            del df['magneticField.field.y']\n",
    "            del df['magneticField.field.z']\n",
    "        else:\n",
    "            # rename column name to integrate\n",
    "            df.rename(columns={'rssi(A)': 'rssi.a'}, inplace=True)\n",
    "            df.rename(columns={'rssi(B)': 'rssi.b'}, inplace=True)\n",
    "            # remove unsaved parameters\n",
    "            del df['temperature']\n",
    "            del df['humidity']\n",
    "            del df['proximity']\n",
    "\n",
    "        # remove data while rssi is not recorded\n",
    "        buf = np.where(df['rssi.a'].as_matrix() != -1)[0]\n",
    "        if len(buf) == 0:\n",
    "            print('x', end='')\n",
    "            return None\n",
    "        first_rssi_idx = buf[0]\n",
    "        df = df.ix[first_rssi_idx:, :]\n",
    "        \n",
    "        # type specify\n",
    "        for c in df.columns[1:]:\n",
    "            df[c] = df[c].astype(float)\n",
    "\n",
    "        # adjust the value of button pushed data \n",
    "        df.loc[df['btn_push'] == -1, 'btn_push'] = 0\n",
    "\n",
    "        # convert -1 to NaN\n",
    "        df[df == -1] = np.nan\n",
    "\n",
    "        # interpolate NaN\n",
    "        df = df.apply(pd.Series.interpolate)\n",
    "\n",
    "        print('.', end='')\n",
    "\n",
    "        return df\n",
    "\n",
    "    def __init__(self, path='data/raw/*_*_0[1-4]*'):\n",
    "        self.path = path\n",
    "        print(\"path = \" + path)\n",
    "        d = self._get_dir_list(path)\n",
    "        title = [os.path.basename(_d) for _d in d]\n",
    "\n",
    "        r = []\n",
    "        for _d in d[:2]:\n",
    "            print(_d)\n",
    "            title = os.path.basename(_d)\n",
    "            file_list = self._get_file_list_in_dir(_d)\n",
    "            fname_list = [os.path.basename(_f) for _f in file_list]\n",
    "            df_list = [self._get_df_from_csv(f) for f in file_list]\n",
    "            print('')\n",
    "            r.extend([[title, fn, df] for (fn, df) in zip(fname_list, df_list)])\n",
    "\n",
    "        self.df_master = pd.DataFrame(r, columns=('title', 'fname', 'dataframe'))\n",
    "    \n",
    "    def _time_range_around_button_push(self, df, before=0, after=0):\n",
    "        t = df[df['btn_push'] == 1].index\n",
    "        point = t[0] if len(t) > 0 else df.index[-1] - 150\n",
    "        return df.loc[(point - before):(point + after)]\n",
    "\n",
    "    def get_data(self, title='.*', fname='.*', before=None, after=0, column=None):\n",
    "        # extract the [title, fname, dataframe]\n",
    "        dfm = self.df_master[self.df_master['title'].str.contains(title)]\n",
    "        dfm = dfm[dfm['fname'].str.contains(fname)]\n",
    "        # to list of dataframe\n",
    "        dfml = [d for d in dfm['dataframe'].tolist() if d is not None]\n",
    "        # limit the time range\n",
    "        dfml = [self._time_range_around_button_push(d, before, after) for d in dfml]\n",
    "        # limit the column\n",
    "        if column != None: dfml = [d[column] for d in dfml]\n",
    "        print(\"extracted %d dataframes\" % (len(dfml)))\n",
    "        return dfml"
   ]
  },
  {
   "cell_type": "code",
   "execution_count": 11,
   "metadata": {
    "collapsed": false,
    "deletable": true,
    "editable": true
   },
   "outputs": [
    {
     "name": "stdout",
     "output_type": "stream",
     "text": [
      "<class 'pandas.core.frame.DataFrame'>\n",
      "RangeIndex: 704 entries, 91 to 794\n",
      "Data columns (total 31 columns):\n",
      "date                704 non-null object\n",
      "rssi.a              704 non-null float64\n",
      "rssi.b              704 non-null float64\n",
      "remote_rssi         704 non-null float64\n",
      "linear_accel[0]     704 non-null float64\n",
      "linear_accel[1]     704 non-null float64\n",
      "linear_accel[2]     704 non-null float64\n",
      "accelerometer[0]    704 non-null float64\n",
      "accelerometer[1]    704 non-null float64\n",
      "accelerometer[2]    704 non-null float64\n",
      "gravity[0]          704 non-null float64\n",
      "gravity[1]          704 non-null float64\n",
      "gravity[2]          704 non-null float64\n",
      "gyro[0]             704 non-null float64\n",
      "gyro[1]             704 non-null float64\n",
      "gyro[2]             704 non-null float64\n",
      "rotation[0]         704 non-null float64\n",
      "rotation[1]         704 non-null float64\n",
      "rotation[2]         704 non-null float64\n",
      "rotation[3]         704 non-null float64\n",
      "rotation[4]         704 non-null float64\n",
      "game_rotation[0]    704 non-null float64\n",
      "game_rotation[1]    704 non-null float64\n",
      "game_rotation[2]    704 non-null float64\n",
      "game_rotation[3]    704 non-null float64\n",
      "magnetic[0]         704 non-null float64\n",
      "magnetic[1]         704 non-null float64\n",
      "magnetic[2]         704 non-null float64\n",
      "pressure            703 non-null float64\n",
      "light               701 non-null float64\n",
      "btn_push            704 non-null float64\n",
      "dtypes: float64(30), object(1)\n",
      "memory usage: 170.6+ KB\n",
      "<class 'pandas.core.frame.DataFrame'>\n",
      "RangeIndex: 30 entries, 0 to 29\n",
      "Data columns (total 3 columns):\n",
      "title        30 non-null object\n",
      "fname        30 non-null object\n",
      "dataframe    29 non-null object\n",
      "dtypes: object(3)\n",
      "memory usage: 800.0+ bytes\n"
     ]
    }
   ],
   "source": [
    "ds.df_master.iloc[0]['dataframe'].info()\n",
    "ds.df_master.info()"
   ]
  },
  {
   "cell_type": "code",
   "execution_count": 36,
   "metadata": {
    "collapsed": false,
    "deletable": true,
    "editable": true,
    "scrolled": true
   },
   "outputs": [
    {
     "name": "stdout",
     "output_type": "stream",
     "text": [
      "extracted 29 dataframes\n"
     ]
    },
    {
     "data": {
      "text/html": [
       "<div>\n",
       "<table border=\"1\" class=\"dataframe\">\n",
       "  <thead>\n",
       "    <tr style=\"text-align: right;\">\n",
       "      <th></th>\n",
       "      <th>rssi.b</th>\n",
       "      <th>rssi.a</th>\n",
       "      <th>linear_accel[0]</th>\n",
       "      <th>linear_accel[1]</th>\n",
       "      <th>linear_accel[2]</th>\n",
       "      <th>btn_push</th>\n",
       "    </tr>\n",
       "  </thead>\n",
       "  <tbody>\n",
       "    <tr>\n",
       "      <th>692</th>\n",
       "      <td>-45.0</td>\n",
       "      <td>-38.0</td>\n",
       "      <td>0.231796</td>\n",
       "      <td>-1.859742</td>\n",
       "      <td>0.484468</td>\n",
       "      <td>0.0</td>\n",
       "    </tr>\n",
       "    <tr>\n",
       "      <th>693</th>\n",
       "      <td>-45.0</td>\n",
       "      <td>-39.0</td>\n",
       "      <td>0.044913</td>\n",
       "      <td>-1.579473</td>\n",
       "      <td>0.463062</td>\n",
       "      <td>0.0</td>\n",
       "    </tr>\n",
       "    <tr>\n",
       "      <th>694</th>\n",
       "      <td>-45.0</td>\n",
       "      <td>-39.5</td>\n",
       "      <td>-0.057039</td>\n",
       "      <td>-1.348034</td>\n",
       "      <td>0.487368</td>\n",
       "      <td>0.0</td>\n",
       "    </tr>\n",
       "    <tr>\n",
       "      <th>695</th>\n",
       "      <td>-45.5</td>\n",
       "      <td>-40.0</td>\n",
       "      <td>-0.144490</td>\n",
       "      <td>-1.167390</td>\n",
       "      <td>0.478381</td>\n",
       "      <td>0.0</td>\n",
       "    </tr>\n",
       "    <tr>\n",
       "      <th>696</th>\n",
       "      <td>-46.0</td>\n",
       "      <td>-41.0</td>\n",
       "      <td>-0.049868</td>\n",
       "      <td>-0.897218</td>\n",
       "      <td>0.383633</td>\n",
       "      <td>0.0</td>\n",
       "    </tr>\n",
       "    <tr>\n",
       "      <th>697</th>\n",
       "      <td>-48.0</td>\n",
       "      <td>-42.0</td>\n",
       "      <td>0.106869</td>\n",
       "      <td>-0.743984</td>\n",
       "      <td>0.294303</td>\n",
       "      <td>0.0</td>\n",
       "    </tr>\n",
       "    <tr>\n",
       "      <th>698</th>\n",
       "      <td>-50.0</td>\n",
       "      <td>-40.5</td>\n",
       "      <td>0.266572</td>\n",
       "      <td>-0.615294</td>\n",
       "      <td>0.187120</td>\n",
       "      <td>1.0</td>\n",
       "    </tr>\n",
       "  </tbody>\n",
       "</table>\n",
       "</div>"
      ],
      "text/plain": [
       "     rssi.b  rssi.a  linear_accel[0]  linear_accel[1]  linear_accel[2]  \\\n",
       "692   -45.0   -38.0         0.231796        -1.859742         0.484468   \n",
       "693   -45.0   -39.0         0.044913        -1.579473         0.463062   \n",
       "694   -45.0   -39.5        -0.057039        -1.348034         0.487368   \n",
       "695   -45.5   -40.0        -0.144490        -1.167390         0.478381   \n",
       "696   -46.0   -41.0        -0.049868        -0.897218         0.383633   \n",
       "697   -48.0   -42.0         0.106869        -0.743984         0.294303   \n",
       "698   -50.0   -40.5         0.266572        -0.615294         0.187120   \n",
       "\n",
       "     btn_push  \n",
       "692       0.0  \n",
       "693       0.0  \n",
       "694       0.0  \n",
       "695       0.0  \n",
       "696       0.0  \n",
       "697       0.0  \n",
       "698       1.0  "
      ]
     },
     "execution_count": 36,
     "metadata": {},
     "output_type": "execute_result"
    }
   ],
   "source": [
    "dfl = ds.get_data(before=6, after=0, column=['rssi.b','rssi.a','linear_accel[0]','linear_accel[1]','linear_accel[2]','btn_push'])\n",
    "dfl[0]"
   ]
  },
  {
   "cell_type": "code",
   "execution_count": 163,
   "metadata": {
    "collapsed": false,
    "deletable": true,
    "editable": true,
    "scrolled": false
   },
   "outputs": [
    {
     "name": "stdout",
     "output_type": "stream",
     "text": [
      "extracted 29 dataframes\n",
      "[-46.046798029556648, -36.85960591133005, 0.23793321042536947, -0.84359392167980296, 0.44955430489113296, 0.14285714285714285]\n",
      "[1.960381629242971, 1.9584151610256646, 0.70463816644163735, 0.70463816644163735, 0.70463816644163735, 0.35079219298485409]\n"
     ]
    }
   ],
   "source": [
    "import math\n",
    "\n",
    "def _get_mean_std_3d(dfl, x, y, z):\n",
    "    merged_df = pd.concat([df for df in dfl])\n",
    "    x = merged_df[x]\n",
    "    y = merged_df[y]\n",
    "    z = merged_df[z]\n",
    "    std = (x*x + y*y + z*z).apply(lambda x: math.sqrt(x)).std()\n",
    "    x_mean = x.mean()\n",
    "    y_mean = y.mean()\n",
    "    z_mean = z.mean()\n",
    "    return (x_mean, y_mean, z_mean, std)\n",
    "\n",
    "def _get_mean_std(dfl, x):\n",
    "    merged_df = pd.concat([df for df in dfl])\n",
    "    x = merged_df[x]\n",
    "    std = x.std()\n",
    "    mean = x.mean()\n",
    "    return (mean, std)\n",
    "\n",
    "def get_mean_std(dfl, column):\n",
    "    mean = []\n",
    "    std = []\n",
    "    for c in column:\n",
    "        if type(c) == list:\n",
    "            (mx, my, mz, _s) = _get_mean_std_3d(dfl, c[0], c[1], c[2])\n",
    "            mean.extend([mx, my, mz])\n",
    "            std.extend([_s]*3)\n",
    "        else:\n",
    "            (_mean, _s) = _get_mean_std(dfl, c)\n",
    "            mean.append(_mean)\n",
    "            std.append(_s)\n",
    "    return (mean, std)\n",
    "\n",
    "def list_flatten(l):\n",
    "    _l = []\n",
    "    for l in l:\n",
    "        if type(l) == list: _l.extend(l)\n",
    "        else:               _l.append(l)\n",
    "    return _l\n",
    "\n",
    "#_df = dfl[0]\n",
    "def normalize(dfl, mean_std):\n",
    "    dfl_new = []\n",
    "    for df in dfl:\n",
    "        df_new = pd.DataFrame()\n",
    "        for (c, m, s) in zip(list_flatten(column), mean_std[0], mean_std[1]):\n",
    "            #print(c, m, s)\n",
    "            df_new[c] = (df[c] - m)/s\n",
    "            #print(df_new[c])\n",
    "            #print(df_new[c])\n",
    "        dfl_new.append(df_new)\n",
    "    return dfl_new\n",
    "\n",
    "column = ['rssi.b','rssi.a',['linear_accel[0]','linear_accel[1]','linear_accel[2]'],'btn_push']\n",
    "dfl = ds.get_data(before=6, after=0, column=list_flatten(column))\n",
    "mean_std = get_mean_std(dfl, column)\n",
    "print(mean_std[0])\n",
    "print(mean_std[1])\n",
    "#n_dfl = normalize(dfl, mean_std)\n",
    "#n_dfl[0]"
   ]
  },
  {
   "cell_type": "code",
   "execution_count": null,
   "metadata": {
    "collapsed": true
   },
   "outputs": [],
   "source": []
  },
  {
   "cell_type": "code",
   "execution_count": 164,
   "metadata": {
    "collapsed": false,
    "deletable": true,
    "editable": true,
    "scrolled": false
   },
   "outputs": [
    {
     "name": "stdout",
     "output_type": "stream",
     "text": [
      "path = data/raw/01_01_01_4F実験室_XperiaZ3_胸ポケット_裏上_正常_まっすぐ帰宅\n",
      "data/raw/01_01_01_4F実験室_XperiaZ3_胸ポケット_裏上_正常_まっすぐ帰宅\n",
      ".\n",
      "path = data/raw/01_02_01_4F実験室_XperiaZ3_胸ポケット_裏上_異常_まっすぐ外出\n",
      "data/raw/01_02_01_4F実験室_XperiaZ3_胸ポケット_裏上_異常_まっすぐ外出\n",
      ".\n",
      "extracted 1 dataframes\n",
      "extracted 1 dataframes\n",
      "[-33.214285714285715, -24.714285714285715, -0.32308466000000002, 0.2317627507142857, 0.53854975000000005, 0.14285714285714285]\n",
      "[1.6293440105643451, 0.56694670951384085, 0.17664970477407582, 0.17664970477407582, 0.17664970477407582, 0.37796447300922725]\n"
     ]
    },
    {
     "data": {
      "image/png": "[encoded data removed]",
      "text/plain": [
       "<matplotlib.figure.Figure at 0x7f59248e3eb8>"
      ]
     },
     "metadata": {},
     "output_type": "display_data"
    },
    {
     "data": {
      "image/png": "[encoded data removed]",
      "text/plain": [
       "<matplotlib.figure.Figure at 0x7f59243236d8>"
      ]
     },
     "metadata": {},
     "output_type": "display_data"
    }
   ],
   "source": [
    "# load dataset\n",
    "ds_nml = dataset('data/raw/01_01_01_4F実験室_XperiaZ3_胸ポケット_裏上_正常_まっすぐ帰宅')\n",
    "ds_out = dataset('data/raw/01_02_01_4F実験室_XperiaZ3_胸ポケット_裏上_異常_まっすぐ外出')\n",
    "\n",
    "# set column\n",
    "column = ['rssi.b','rssi.a',['linear_accel[0]','linear_accel[1]','linear_accel[2]'],'btn_push']\n",
    "\n",
    "# get around button pushed time\n",
    "dfl_nml = ds_nml.get_data(before=6, after=0, column=list_flatten(column))\n",
    "dfl_out = ds_out.get_data(before=6, after=0, column=list_flatten(column))\n",
    "mean_std = get_mean_std(dfl_nml, column)\n",
    "dfl_nml[0].plot()\n",
    "dfl_out[0].plot()\n",
    "print(mean_std[0])\n",
    "print(mean_std[1])\n",
    "dfl_nml_n = normalize(dfl_nml, mean_std)\n",
    "dfl_out_n = normalize(dfl_out, mean_std)\n",
    "dfl_nml_n[0].plot()\n",
    "dfl_out_n[0].plot()\n",
    "dfl_nml_n[0]"
   ]
  },
  {
   "cell_type": "code",
   "execution_count": 166,
   "metadata": {
    "collapsed": false,
    "scrolled": false
   },
   "outputs": [
    {
     "data": {
      "text/html": [
       "<div>\n",
       "<table border=\"1\" class=\"dataframe\">\n",
       "  <thead>\n",
       "    <tr style=\"text-align: right;\">\n",
       "      <th></th>\n",
       "      <th>rssi.b</th>\n",
       "      <th>rssi.a</th>\n",
       "      <th>linear_accel[0]</th>\n",
       "      <th>linear_accel[1]</th>\n",
       "      <th>linear_accel[2]</th>\n",
       "      <th>btn_push</th>\n",
       "    </tr>\n",
       "  </thead>\n",
       "  <tbody>\n",
       "    <tr>\n",
       "      <th>643</th>\n",
       "      <td>-1.709715</td>\n",
       "      <td>-1.385870</td>\n",
       "      <td>1.173609</td>\n",
       "      <td>-1.300502</td>\n",
       "      <td>-0.066918</td>\n",
       "      <td>-0.377964</td>\n",
       "    </tr>\n",
       "    <tr>\n",
       "      <th>644</th>\n",
       "      <td>-0.482227</td>\n",
       "      <td>-0.503953</td>\n",
       "      <td>2.513529</td>\n",
       "      <td>-1.142321</td>\n",
       "      <td>0.397424</td>\n",
       "      <td>-0.377964</td>\n",
       "    </tr>\n",
       "    <tr>\n",
       "      <th>645</th>\n",
       "      <td>0.745260</td>\n",
       "      <td>-0.503953</td>\n",
       "      <td>0.458778</td>\n",
       "      <td>-1.014416</td>\n",
       "      <td>-0.256304</td>\n",
       "      <td>-0.377964</td>\n",
       "    </tr>\n",
       "    <tr>\n",
       "      <th>646</th>\n",
       "      <td>0.131517</td>\n",
       "      <td>-0.503953</td>\n",
       "      <td>-0.951527</td>\n",
       "      <td>0.127091</td>\n",
       "      <td>-0.599934</td>\n",
       "      <td>-0.377964</td>\n",
       "    </tr>\n",
       "    <tr>\n",
       "      <th>647</th>\n",
       "      <td>-0.482227</td>\n",
       "      <td>0.377964</td>\n",
       "      <td>-2.137491</td>\n",
       "      <td>0.581627</td>\n",
       "      <td>0.426221</td>\n",
       "      <td>-0.377964</td>\n",
       "    </tr>\n",
       "    <tr>\n",
       "      <th>648</th>\n",
       "      <td>0.438389</td>\n",
       "      <td>1.259882</td>\n",
       "      <td>-0.262498</td>\n",
       "      <td>1.548125</td>\n",
       "      <td>-0.631272</td>\n",
       "      <td>-0.377964</td>\n",
       "    </tr>\n",
       "    <tr>\n",
       "      <th>649</th>\n",
       "      <td>1.359004</td>\n",
       "      <td>1.259882</td>\n",
       "      <td>-0.794400</td>\n",
       "      <td>1.200396</td>\n",
       "      <td>0.730784</td>\n",
       "      <td>2.267787</td>\n",
       "    </tr>\n",
       "  </tbody>\n",
       "</table>\n",
       "</div>"
      ],
      "text/plain": [
       "       rssi.b    rssi.a  linear_accel[0]  linear_accel[1]  linear_accel[2]  \\\n",
       "643 -1.709715 -1.385870         1.173609        -1.300502        -0.066918   \n",
       "644 -0.482227 -0.503953         2.513529        -1.142321         0.397424   \n",
       "645  0.745260 -0.503953         0.458778        -1.014416        -0.256304   \n",
       "646  0.131517 -0.503953        -0.951527         0.127091        -0.599934   \n",
       "647 -0.482227  0.377964        -2.137491         0.581627         0.426221   \n",
       "648  0.438389  1.259882        -0.262498         1.548125        -0.631272   \n",
       "649  1.359004  1.259882        -0.794400         1.200396         0.730784   \n",
       "\n",
       "     btn_push  \n",
       "643 -0.377964  \n",
       "644 -0.377964  \n",
       "645 -0.377964  \n",
       "646 -0.377964  \n",
       "647 -0.377964  \n",
       "648 -0.377964  \n",
       "649  2.267787  "
      ]
     },
     "execution_count": 166,
     "metadata": {},
     "output_type": "execute_result"
    },
    {
     "data": {
      "image/png": "[encoded data removed]",
      "text/plain": [
       "<matplotlib.figure.Figure at 0x7f5922115470>"
      ]
     },
     "metadata": {},
     "output_type": "display_data"
    },
    {
     "data": {
      "image/png": "[encoded data removed]",
      "text/plain": [
       "<matplotlib.figure.Figure at 0x7f59220f91d0>"
      ]
     },
     "metadata": {},
     "output_type": "display_data"
    }
   ],
   "source": []
  },
  {
   "cell_type": "code",
   "execution_count": null,
   "metadata": {
    "collapsed": true
   },
   "outputs": [],
   "source": []
  },
  {
   "cell_type": "code",
   "execution_count": null,
   "metadata": {
    "collapsed": true
   },
   "outputs": [],
   "source": []
  },
  {
   "cell_type": "code",
   "execution_count": 223,
   "metadata": {
    "collapsed": false,
    "deletable": true,
    "editable": true
   },
   "outputs": [
    {
     "data": {
      "text/plain": [
       "NearestNeighbors(algorithm='ball_tree', leaf_size=30, metric='minkowski',\n",
       "         metric_params=None, n_jobs=1, n_neighbors=3, p=2, radius=1.0)"
      ]
     },
     "execution_count": 223,
     "metadata": {},
     "output_type": "execute_result"
    }
   ],
   "source": [
    "########################## k-NN \n",
    "from sklearn.neighbors import NearestNeighbors\n",
    "#X = np.array([[-1, -1], [-2, -1], [-3, -2], [1, 1], [2, 1], [3, 2]])\n",
    "X = normal\n",
    "nbrs = NearestNeighbors(n_neighbors=3, algorithm='ball_tree')\n",
    "nbrs.fit(X)"
   ]
  },
  {
   "cell_type": "code",
   "execution_count": 224,
   "metadata": {
    "collapsed": false,
    "deletable": true,
    "editable": true,
    "scrolled": true
   },
   "outputs": [
    {
     "name": "stdout",
     "output_type": "stream",
     "text": [
      "[[ 0.          0.96900979  1.18613318]\n",
      " [ 0.          0.47547992  0.56683676]\n",
      " [ 0.          0.95248595  0.97963222]\n",
      " [ 0.          0.70762178  0.87519611]\n",
      " [ 0.          0.62291934  0.73165756]\n",
      " [ 0.          0.62291934  0.96900979]\n",
      " [ 0.          0.99479435  1.00146631]\n",
      " [ 0.          0.56683676  0.6744973 ]\n",
      " [ 0.          0.7166177   0.80090115]\n",
      " [ 0.          0.47547992  0.6744973 ]]\n",
      "[[0 5 4]\n",
      " [1 9 7]\n",
      " [2 9 8]\n",
      " [3 7 1]\n",
      " [4 5 1]\n",
      " [5 4 0]\n",
      " [6 5 4]\n",
      " [7 1 9]\n",
      " [8 7 1]\n",
      " [9 1 7]]\n"
     ]
    }
   ],
   "source": [
    "distances, indices = nbrs.kneighbors(X)\n",
    "print(distances)\n",
    "print(indices)"
   ]
  }
 ],
 "metadata": {
  "kernelspec": {
   "display_name": "Python 3",
   "language": "python",
   "name": "python3"
  },
  "language_info": {
   "codemirror_mode": {
    "name": "ipython",
    "version": 3
   },
   "file_extension": ".py",
   "mimetype": "text/x-python",
   "name": "python",
   "nbconvert_exporter": "python",
   "pygments_lexer": "ipython3",
   "version": "3.5.2"
  }
 },
 "nbformat": 4,
 "nbformat_minor": 2
}
