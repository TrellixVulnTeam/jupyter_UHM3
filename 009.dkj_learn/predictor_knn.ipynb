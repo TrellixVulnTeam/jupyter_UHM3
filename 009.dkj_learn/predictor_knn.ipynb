{
 "cells": [
  {
   "cell_type": "code",
   "execution_count": 1,
   "metadata": {
    "collapsed": true
   },
   "outputs": [],
   "source": [
    "# calc k-NN distance\n",
    "from sklearn.neighbors import NearestNeighbors\n",
    "import pandas as pd\n",
    "import numpy as np"
   ]
  },
  {
   "cell_type": "code",
   "execution_count": 34,
   "metadata": {
    "collapsed": false
   },
   "outputs": [],
   "source": [
    "def learn(dfl_normal, dfl_outlier):\n",
    "    X_nml = [d.values.flatten() for d in dfl_normal]\n",
    "    X_out = [d.values.flatten() for d in dfl_outlier]\n",
    "    nbrs = NearestNeighbors(n_neighbors=2, algorithm='ball_tree')\n",
    "    print(nbrs.fit(X_nml))\n",
    "    \n",
    "    print(X_nml + X_out)\n",
    "    distances, indices = nbrs.kneighbors(X_nml + X_out)\n",
    "    return distances[:,-1]"
   ]
  },
  {
   "cell_type": "code",
   "execution_count": 35,
   "metadata": {
    "collapsed": false,
    "scrolled": true
   },
   "outputs": [
    {
     "name": "stdout",
     "output_type": "stream",
     "text": [
      "NearestNeighbors(algorithm='ball_tree', leaf_size=30, metric='minkowski',\n",
      "         metric_params=None, n_jobs=1, n_neighbors=2, p=2, radius=1.0)\n",
      "[array([1, 2]), array([2, 1]), array([3, 2])]\n",
      "[ 1.41421356  1.41421356  2.        ]\n"
     ]
    }
   ],
   "source": [
    "def sample():\n",
    "    a = [pd.DataFrame([[1,2]]),pd.DataFrame([[2,1]])]\n",
    "    b = [pd.DataFrame([[3,2]])]\n",
    "    d = learn(a, b)\n",
    "    print(d)\n",
    "    \n",
    "sample()"
   ]
  }
 ],
 "metadata": {
  "kernelspec": {
   "display_name": "Python 3",
   "language": "python",
   "name": "python3"
  },
  "language_info": {
   "codemirror_mode": {
    "name": "ipython",
    "version": 3
   },
   "file_extension": ".py",
   "mimetype": "text/x-python",
   "name": "python",
   "nbconvert_exporter": "python",
   "pygments_lexer": "ipython3",
   "version": "3.5.2"
  }
 },
 "nbformat": 4,
 "nbformat_minor": 2
}
