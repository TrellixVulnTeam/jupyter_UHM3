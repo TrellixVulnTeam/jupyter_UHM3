{
 "cells": [
  {
   "cell_type": "markdown",
   "metadata": {
    "deletable": true,
    "editable": true
   },
   "source": [
    "<a href=\"http://scikit-learn.org/dev/modules/generated/sklearn.neighbors.LocalOutlierFactor.html\">scikit api spec</a>"
   ]
  },
  {
   "cell_type": "code",
   "execution_count": 2,
   "metadata": {
    "collapsed": false,
    "deletable": true,
    "editable": true
   },
   "outputs": [],
   "source": [
    "import sys\n",
    "import notebookutil as nbu\n",
    "sys.meta_path.append(nbu.NotebookFinder())\n",
    "import datasets\n",
    "import roc_auc\n",
    "import numpy as np\n",
    "from sklearn.neighbors import LocalOutlierFactor\n",
    "from sklearn.base import BaseEstimator\n",
    "from sklearn.metrics.pairwise import paired_distances"
   ]
  },
  {
   "cell_type": "code",
   "execution_count": 3,
   "metadata": {
    "collapsed": false,
    "deletable": true,
    "editable": true
   },
   "outputs": [],
   "source": [
    "class EstimatorLOF(BaseEstimator):\n",
    "    def __init__(self, n_neighbors=20, algorithm='ball_tree', metric='minkowski'):\n",
    "        self.param = {}\n",
    "        self.param['n_neighbors'] = n_neighbors\n",
    "        self.param['algorithm'] = algorithm\n",
    "        self.param['metric'] = metric\n",
    "        self.estimator = LocalOutlierFactor(n_neighbors, algorithm=algorithm, metric=metric)\n",
    "        \n",
    "    def fit(self, x):\n",
    "        self.train_data = x\n",
    "        return self \n",
    "\n",
    "    def predict(self, x):\n",
    "        return [1.0]*len(x) \n",
    "    \n",
    "    def decision_function(self, x, y=None):\n",
    "        X = self.train_data\n",
    "        X.append(np.nan)  # allocate the index for test\n",
    "        test_idx = len(X) - 1\n",
    "        \n",
    "        lof_score = []\n",
    "        for _x in x:\n",
    "            X[test_idx] = _x\n",
    "            self.estimator.fit(X)\n",
    "            lof_score.append(-self.estimator._decision_function(X)[test_idx])\n",
    "        \n",
    "        X.pop() # deallocate the index for test\n",
    "        return lof_score\n",
    "    \n",
    "    def score(self, x, y=None):\n",
    "        scores = self.decision_function(x)\n",
    "        return sum(scores)/len(scores)\n",
    "\n",
    "    def get_params(self, deep=True):\n",
    "        return self.param\n",
    "\n",
    "    def set_params(self, **parameters):\n",
    "        for parameter, value in parameters.items():\n",
    "            setattr(self,parameter, value)\n",
    "        return self\n",
    "    \n",
    "    def get_type(self):\n",
    "        return 'LOF'"
   ]
  },
  {
   "cell_type": "code",
   "execution_count": 4,
   "metadata": {
    "collapsed": false,
    "deletable": true,
    "editable": true
   },
   "outputs": [],
   "source": [
    "def small_test():\n",
    "    lof = EstimatorLOF(n_neighbors=2)\n",
    "    lof.fit([[1,1],[2,1],[3,1]])\n",
    "    print(lof.decision_function([[4,0], [5,0]]))\n",
    "    return lof\n",
    "    \n",
    "#small_test()"
   ]
  },
  {
   "cell_type": "code",
   "execution_count": 5,
   "metadata": {
    "collapsed": false,
    "deletable": true,
    "editable": true
   },
   "outputs": [
    {
     "name": "stdout",
     "output_type": "stream",
     "text": [
      "path = data/raw/02_1[1234]_0*\n",
      "data/raw/02_11_01_エネマネハウス_iphone_胸ポケット_裏上_正常_まっすぐ帰宅\n",
      "..............................\n",
      "data/raw/02_11_02_エネマネハウス_iphone_カバン_裏上_正常_まっすぐ帰宅\n",
      "..............................\n",
      "data/raw/02_11_03_エネマネハウス_iphone_胸ポケット_裏上_正常_5秒後まっすぐ帰宅\n",
      "..............................\n",
      "data/raw/02_11_04_エネマネハウス_iphone_カバン_裏上_正常_5秒後まっすぐ帰宅\n",
      "..............................\n",
      "data/raw/02_12_01_エネマネハウス_iphone_胸ポケット_裏上_異常_まっすぐ外出\n",
      "..............................\n",
      "data/raw/02_12_02_エネマネハウス_iphone_ズボン_裏上_異常_まっすぐ外出\n",
      "..............................\n",
      "data/raw/02_12_03_エネマネハウス_iphone_カバン_裏上_異常_まっすぐ外出\n",
      "..............................\n",
      "data/raw/02_13_01_エネマネハウス_iphone_胸ポケット_裏上_異常_まっすぐ帰宅\n",
      "..............................\n",
      "data/raw/02_13_02_エネマネハウス_iphone_ズボン_裏上_異常_まっすぐ帰宅\n",
      "..............................\n",
      "data/raw/02_13_03_エネマネハウス_iphone_カバン_裏上_異常_まっすぐ帰宅\n",
      "..............................\n",
      "data/raw/02_14_01_エネマネハウス_iphone_胸ポケット_裏上_異常_エリア境界で静止\n",
      "..............................\n",
      "data/raw/02_14_02_エネマネハウス_iphone_カバン_裏上_異常_エリア境界で静止\n",
      "..............................\n"
     ]
    }
   ],
   "source": [
    "#ds = datasets.load('data/raw/02_1[1234]_0*')"
   ]
  },
  {
   "cell_type": "code",
   "execution_count": 7,
   "metadata": {
    "collapsed": false,
    "deletable": true,
    "editable": true
   },
   "outputs": [
    {
     "name": "stdout",
     "output_type": "stream",
     "text": [
      "--normal score\n",
      "[1.0, 0.98750155234475334, 0.97667066660284807, 0.94572690062844522, 0.9321127785895581, 1.0, 0.95478537991966117, 0.94929943052638688, 0.968453131041905, 0.92974084571673865, 1.1990064154220537, 1.0229735052125932, 0.92552773947489808, 0.9564511173488679, 1.0668213012125378, 0.95542286227681705, 0.95331542202066066, 0.9369418803643571, 0.95009487654285196, 0.94096384358537799, 1.0900296121538535, 1.0026312981170806, 1.0273309870397143, 0.96808203005809679, 0.97759032167478788, 0.98256009245763076, 0.94176980399124666, 0.99362700058892728, 0.99331907314851753, 0.93957878466632705, 0.98357452613134766, 1.0532479671148545, 1.0194339264462127, 1.230508136148458, 0.98293745788185083, 1.0155934887037603, 0.9803989375362856, 1.0079388052365987, 0.98500988277257573, 1.0226348971292463, 1.1000296580503086, 1.0965610200050258, 1.2538762445368017, 1.1850050251818882, 1.0420716109125625, 1.0208519419034059, 1.0920317615567914, 1.0182214094547366, 1.0326788294304929, 0.98352343094627503, 1.0332939290152392, 0.96171813032940401, 1.1267838746775118, 1.0162770410324982, 1.1503696277566731, 1.0588448988619608, 1.0153335853525129, 1.017566956270233, 0.99272482133474282, 0.98732279229562314, 0.9298928686794955, 0.93153622643741019, 1.112128067770414, 1.0628226419321125, 0.98557616970768125, 0.94432884049127497, 0.93008879567252623, 1.0535701647588285, 0.92595836466189008, 0.91719550188076804, 0.95469428788030875, 0.94841675354824673, 1.0, 0.95467372495011482, 0.95939911786796161, 0.95650378527309299, 1.0, 0.92775290806692701, 0.98172198112845355, 0.92577973460635044, 1.162511957108421, 1.0906048515213542, 0.95439733619553258, 0.95500293552548154, 1.0512976806675631, 0.95566247120273218, 0.93630960679951036, 0.95737354141094677, 0.94910717662415378, 0.94914278082248271, 0.98580421991613776, 1.1539482394640459, 1.0955267779033122, 0.92053924467691817, 1.0333195346895441, 1.3247811254119204, 1.0593988450594758, 0.98570180375902394, 1.0272753167755193, 1.0224201201168468, 1.0281039459510424, 1.1807957131809301, 0.97785591068122157, 0.9999868205656578, 1.0002792581180568, 1.0340190703510441, 1.0062550519923479, 1.0438280403561417, 1.1207445128452989, 1.0948554149054333, 1.0163078498027303, 1.0543215940263313, 1.0042487387149348, 1.1915998338297618, 1.3116052185954261, 1.0422939890585503, 1.0724163208712429, 1.0231139023888123, 1.0334714421101892, 1.2855105619697953]\n",
      "--anomaly score\n",
      "[1.2004942966211134, 1.1653289797794113, 1.2633364289787261, 1.4202595094157247, 1.5776409307152821, 1.2219900226124765, 1.2694276494778245, 1.0322287469135365, 1.2127024636446737, 1.0945214347989491, 1.1286381006303232, 1.1999871719287309, 1.1566769470474705, 1.2903803521055437, 1.3500209209133631, 1.0157986333461206, 1.2626841110595188, 1.6341171266700834, 1.4957237730037016, 1.2896401953371355, 1.1843475171637816, 1.2081584025353467, 1.253883957210129, 1.2840721863727678, 1.4202295552201498, 1.2816850171705692, 1.0888970242491955, 1.0872634183406031, 1.4076162362728002, 1.2066082314906601, 1.0217207108855655, 1.0008994813982368, 1.0182515961841583, 1.0127258611658145, 0.98100122952951507, 1.0888800471830653, 1.0327398168720527, 0.99607796292202522, 1.0313702682762169, 0.99503318580096922, 1.0020437800199151, 0.97789243055809172, 0.99150010329192606, 1.0, 0.99437432741095433, 1.3871048590062796, 0.98641994920879716, 0.92319653882687902, 1.5022243714790322, 0.99669958117056501, 0.98076482763693351, 1.0156544045341123, 1.0, 0.97687575001802529, 0.98142288086488794, 1.0142374762666737, 1.0155804773489099, 0.99595932876115245, 0.9904771445514271, 0.9992024695376992]\n"
     ]
    },
    {
     "data": {
      "image/png": "[encoded data removed]",
      "text/plain": [
       "<matplotlib.figure.Figure at 0x7f75ccb9d780>"
      ]
     },
     "metadata": {},
     "output_type": "display_data"
    },
    {
     "name": "stdout",
     "output_type": "stream",
     "text": [
      "auc 0.72389\n"
     ]
    }
   ],
   "source": [
    "def eval01(title_t, title_n, title_o, sensor_type, n_record=0, n_record_after=0, drop_interval=1,\n",
    "          ma_window=1, n_train=5, normalize=True, ms_interval=20):\n",
    "    \n",
    "    drop_interval = int(ms_interval / 20)\n",
    "\n",
    "    # get data\n",
    "    dfl_b = datasets.get_data(ds, title=title_t, before=n_record, after=n_record_after,\n",
    "                              column=sensor_type, drop_interval=drop_interval)[:(n_train + 1)]\n",
    "    dfl_n = datasets.get_data(ds, title=title_n, before=n_record, after=n_record_after,\n",
    "                              column=sensor_type, drop_interval=drop_interval)\n",
    "    dfl_o = datasets.get_data(ds, title=title_o, before=n_record, after=n_record_after,\n",
    "                              column=sensor_type, drop_interval=drop_interval)\n",
    "    \n",
    "    #dfl_o = dfl_o[:1]\n",
    "    \n",
    "    #print(dfl_o)\n",
    "    #print(dfl_n)\n",
    "\n",
    "    # moving average\n",
    "    dfl_b = datasets.moving_average(dfl_b, window=ma_window, min_periods=ma_window)\n",
    "    dfl_n = datasets.moving_average(dfl_n, window=ma_window, min_periods=ma_window)\n",
    "    dfl_o = datasets.moving_average(dfl_o, window=ma_window, min_periods=ma_window)\n",
    "    \n",
    "    # normalize\n",
    "    if normalize == True:\n",
    "        dfl_b_n = datasets.normalize_by_base_data(dfl_b, dfl_b, sensor_type)\n",
    "        dfl_n_n = datasets.normalize_by_base_data(dfl_b, dfl_n, sensor_type)\n",
    "        dfl_o_n = datasets.normalize_by_base_data(dfl_b, dfl_o, sensor_type)\n",
    "\n",
    "    # get numpy array\n",
    "    data_2d_b = [df.as_matrix() for df in dfl_b_n]\n",
    "    data_2d_n = [df.as_matrix() for df in dfl_n_n]\n",
    "    data_2d_o = [df.as_matrix() for df in dfl_o_n]\n",
    "\n",
    "    # to list of numpy.array\n",
    "    data_b = [d.ravel() for d in data_2d_b]\n",
    "    data_n = [d.ravel() for d in data_2d_n]\n",
    "    data_o = [d.ravel() for d in data_2d_o]\n",
    "\n",
    "    model = EstimatorLOF(n_neighbors=3)\n",
    "    model.fit(data_b)\n",
    "    score_n = model.decision_function(data_n)\n",
    "    score_o = model.decision_function(data_o)\n",
    "    \n",
    "    print('--normal score')\n",
    "    print(score_n)\n",
    "    print('--anomaly score')\n",
    "    print(score_o)\n",
    "    \n",
    "    auc = roc_auc.get_auc_from_normal_outlier(score_n, score_o, graph=True)\n",
    "\n",
    "    print('auc %.05f' % (auc))\n",
    "\n",
    "title_t = '02_11_01'\n",
    "title_n = '02_11'\n",
    "title_o = '02_14'\n",
    "sensor  = ['rssi.a','rssi.b']\n",
    "n_record_after = 5\n",
    "ms_interval = 100\n",
    "\n",
    "#eval01(title_t, title_n, title_o, sensor, n_record_after=n_record_after, ms_interval=ms_interval)"
   ]
  }
 ],
 "metadata": {
  "kernelspec": {
   "display_name": "Python 3",
   "language": "python",
   "name": "python3"
  },
  "language_info": {
   "codemirror_mode": {
    "name": "ipython",
    "version": 3
   },
   "file_extension": ".py",
   "mimetype": "text/x-python",
   "name": "python",
   "nbconvert_exporter": "python",
   "pygments_lexer": "ipython3",
   "version": "3.5.2"
  }
 },
 "nbformat": 4,
 "nbformat_minor": 2
}
