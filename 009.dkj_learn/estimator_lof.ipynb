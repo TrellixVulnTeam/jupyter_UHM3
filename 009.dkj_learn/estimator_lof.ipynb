{
 "cells": [
  {
   "cell_type": "code",
   "execution_count": 11,
   "metadata": {
    "collapsed": false,
    "deletable": true,
    "editable": true
   },
   "outputs": [],
   "source": [
    "import sys\n",
    "import notebookutil as nbu\n",
    "sys.meta_path.append(nbu.NotebookFinder())\n",
    "import datasets\n",
    "import roc_auc\n",
    "import numpy as np\n",
    "from sklearn.cluster import KMeans\n",
    "from sklearn.base import BaseEstimator\n",
    "from sklearn.metrics.pairwise import paired_distances"
   ]
  },
  {
   "cell_type": "code",
   "execution_count": 65,
   "metadata": {
    "collapsed": false,
    "deletable": true,
    "editable": true
   },
   "outputs": [],
   "source": [
    "class EstimatorKmeans(BaseEstimator):\n",
    "    def __init__(self, n_clusters=2, max_iter=3):\n",
    "        self.param = {}\n",
    "        self.param['n_clusters'] = n_clusters\n",
    "        self.param['max_iter'] = max_iter\n",
    "        self.estimator = KMeans(n_clusters=n_clusters, max_iter=max_iter, random_state=0)\n",
    "\n",
    "    def fit(self, x):\n",
    "        self.train_data = x\n",
    "        return self \n",
    "\n",
    "    def predict(self, x):\n",
    "        return [1.0]*len(x) \n",
    "    \n",
    "    def decision_function(self, x, y=None):\n",
    "        X = self.train_data\n",
    "        X.append(np.nan)  # allocate the index for test\n",
    "        test_idx = len(X) - 1\n",
    "        \n",
    "        centers = []\n",
    "        for _x in x:\n",
    "            X[test_idx] = _x\n",
    "            self.estimator.fit_predict(X)\n",
    "            centers.append(self.estimator.cluster_centers_[self.estimator.labels_[test_idx]])\n",
    "        \n",
    "        X.pop() # deallocate the index for test\n",
    "        return paired_distances(x, centers)\n",
    "    \n",
    "    def score(self, x, y=None):\n",
    "        scores = self.decision_function(x)\n",
    "        return sum(scores)/len(scores)\n",
    "\n",
    "    def get_params(self, deep=True):\n",
    "        return self.param\n",
    "\n",
    "    def set_params(self, **parameters):\n",
    "        for parameter, value in parameters.items():\n",
    "            setattr(self,parameter, value)\n",
    "        return self\n",
    "    \n",
    "    def get_type(self):\n",
    "        return 'k-means'"
   ]
  },
  {
   "cell_type": "code",
   "execution_count": 66,
   "metadata": {
    "collapsed": false,
    "deletable": true,
    "editable": true
   },
   "outputs": [
    {
     "name": "stdout",
     "output_type": "stream",
     "text": [
      "[ 0.70710678  0.        ]\n"
     ]
    },
    {
     "data": {
      "text/plain": [
       "EstimatorKmeans(max_iter=3, n_cluster=2)"
      ]
     },
     "execution_count": 66,
     "metadata": {},
     "output_type": "execute_result"
    }
   ],
   "source": [
    "def small_test():\n",
    "    kmeans = EstimatorKmeans(n_clusters=2)\n",
    "    kmeans.fit([[1,1],[2,1],[3,1]])\n",
    "    print(kmeans.decision_function([[4,0], [5,0]]))\n",
    "    return kmeans\n",
    "    \n",
    "small_test()"
   ]
  },
  {
   "cell_type": "code",
   "execution_count": 81,
   "metadata": {
    "collapsed": false,
    "deletable": true,
    "editable": true
   },
   "outputs": [
    {
     "name": "stdout",
     "output_type": "stream",
     "text": [
      "path = data/raw/01_0[12]_01*\n",
      "data/raw/01_01_01_4F実験室_XperiaZ3_胸ポケット_裏上_正常_まっすぐ帰宅\n",
      "..............................\n",
      "data/raw/01_02_01_4F実験室_XperiaZ3_胸ポケット_裏上_異常_まっすぐ外出\n",
      "..............................\n"
     ]
    }
   ],
   "source": [
    "#ds = datasets.load('data/raw/01_0[12]_01*')"
   ]
  },
  {
   "cell_type": "code",
   "execution_count": 85,
   "metadata": {
    "collapsed": false,
    "deletable": true,
    "editable": true,
    "scrolled": false
   },
   "outputs": [
    {
     "data": {
      "image/png": "[encoded data removed]",
      "text/plain": [
       "<matplotlib.figure.Figure at 0x7f3adb9a4e10>"
      ]
     },
     "metadata": {},
     "output_type": "display_data"
    },
    {
     "name": "stdout",
     "output_type": "stream",
     "text": [
      "auc 1.00000\n"
     ]
    }
   ],
   "source": [
    "import importlib\n",
    "#importlib.reload(roc_auc)\n",
    "import roc_auc\n",
    "import datasets\n",
    "\n",
    "def test():\n",
    "    sensor_type = ['rssi.a','rssi.b', ['linear_accel[0]','linear_accel[1]','linear_accel[2]']]\n",
    "    n_record = 10\n",
    "    drop_interval = 2\n",
    "    ma_window = 2\n",
    "    normalize = True\n",
    "    \n",
    "    # get data\n",
    "    dfl_b = datasets.get_data(ds, title='01_01_01', before=n_record,\n",
    "                              column=sensor_type, drop_interval=drop_interval)[:3]\n",
    "    dfl_n = datasets.get_data(ds, title='01_01_01', before=n_record,\n",
    "                              column=sensor_type, drop_interval=drop_interval)\n",
    "    dfl_o = datasets.get_data(ds, title='01_02_01', before=n_record,\n",
    "                              column=sensor_type, drop_interval=drop_interval)\n",
    "\n",
    "    # moving average\n",
    "    dfl_b = datasets.moving_average(dfl_b, window=ma_window, min_periods=ma_window)\n",
    "    dfl_n = datasets.moving_average(dfl_n, window=ma_window, min_periods=ma_window)\n",
    "    dfl_o = datasets.moving_average(dfl_o, window=ma_window, min_periods=ma_window)\n",
    "    \n",
    "    # normalize\n",
    "    if normalize == True:\n",
    "        dfl_b_n = datasets.normalize_by_base_data(dfl_b, dfl_b, sensor_type)\n",
    "        dfl_n_n = datasets.normalize_by_base_data(dfl_b, dfl_n, sensor_type)\n",
    "        dfl_o_n = datasets.normalize_by_base_data(dfl_b, dfl_o, sensor_type)\n",
    "\n",
    "    # get numpy array\n",
    "    data_2d_b = [df.as_matrix() for df in dfl_b_n]\n",
    "    data_2d_n = [df.as_matrix() for df in dfl_n_n]\n",
    "    data_2d_o = [df.as_matrix() for df in dfl_o_n]\n",
    "\n",
    "    # to list of numpy.array\n",
    "    data_b = [d.ravel() for d in data_2d_b]\n",
    "    data_n = [d.ravel() for d in data_2d_n]\n",
    "    data_o = [d.ravel() for d in data_2d_o]\n",
    "\n",
    "    model = EstimatorKmeans(n_clusters=1)\n",
    "    model.fit(data_b)\n",
    "    score_n = model.decision_function(data_n)\n",
    "    score_o = model.decision_function(data_o)\n",
    "    \n",
    "    auc = roc_auc.get_auc_from_normal_outlier(score_n, score_o, graph=True)\n",
    "\n",
    "    print('auc %.05f' % (auc))\n",
    "    \n",
    "#test()"
   ]
  }
 ],
 "metadata": {
  "kernelspec": {
   "display_name": "Python 3",
   "language": "python",
   "name": "python3"
  },
  "language_info": {
   "codemirror_mode": {
    "name": "ipython",
    "version": 3
   },
   "file_extension": ".py",
   "mimetype": "text/x-python",
   "name": "python",
   "nbconvert_exporter": "python",
   "pygments_lexer": "ipython3",
   "version": "3.5.2"
  }
 },
 "nbformat": 4,
 "nbformat_minor": 2
}
