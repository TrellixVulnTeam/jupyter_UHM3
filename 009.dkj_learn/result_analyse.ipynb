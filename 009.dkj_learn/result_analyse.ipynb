{
 "cells": [
  {
   "cell_type": "code",
   "execution_count": 1,
   "metadata": {
    "collapsed": true,
    "deletable": true,
    "editable": true
   },
   "outputs": [],
   "source": [
    "import pandas as pd\n",
    "import json\n",
    "import matplotlib\n",
    "import matplotlib.pyplot as plt\n",
    "#%matplotlib inline"
   ]
  },
  {
   "cell_type": "code",
   "execution_count": 2,
   "metadata": {
    "collapsed": true,
    "deletable": true,
    "editable": true
   },
   "outputs": [],
   "source": [
    "def read_csv(fname):\n",
    "    f = lambda x : json.loads(x.replace(\"'\",\"\\\"\"))\n",
    "    df = pd.read_csv(fname, converters={'sensor_type': f}, index_col=0)\n",
    "    return df"
   ]
  },
  {
   "cell_type": "code",
   "execution_count": 3,
   "metadata": {
    "collapsed": true
   },
   "outputs": [],
   "source": [
    "def save_graph(plot, fname='saved.png'):\n",
    "    fig = plot.get_figure()\n",
    "    fig.savefig(fname)"
   ]
  },
  {
   "cell_type": "code",
   "execution_count": 4,
   "metadata": {
    "collapsed": false,
    "deletable": true,
    "editable": true,
    "scrolled": false
   },
   "outputs": [],
   "source": [
    "df = read_csv('test_record-20170425.csv')\n",
    "df = df[df['type'] == 'kNN']\n",
    "df.sort_values(by=['auc'], ascending=False).head()\n",
    "\n",
    "fig = plt.figure()\n",
    "\n",
    "plot = df[\n",
    "#    (df['ma_window'] == 1) &\n",
    "    (df['model_idx'] == 1) &\n",
    "#    (df['ms_interval'] == 20) & \n",
    "    (df['n_record'] == 1) & \n",
    "    (df['sensor_type'].apply(lambda x: len(x) == 2))\n",
    "].plot.scatter(x='n_train', y='auc')\n",
    "\n",
    "save_graph(plot, fname='saved.png')"
   ]
  }
 ],
 "metadata": {
  "kernelspec": {
   "display_name": "Python 3",
   "language": "python",
   "name": "python3"
  },
  "language_info": {
   "codemirror_mode": {
    "name": "ipython",
    "version": 3
   },
   "file_extension": ".py",
   "mimetype": "text/x-python",
   "name": "python",
   "nbconvert_exporter": "python",
   "pygments_lexer": "ipython3",
   "version": "3.5.2"
  }
 },
 "nbformat": 4,
 "nbformat_minor": 2
}
