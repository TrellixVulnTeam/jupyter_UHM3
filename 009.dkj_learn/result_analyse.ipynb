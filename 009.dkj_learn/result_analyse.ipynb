{
 "cells": [
  {
   "cell_type": "code",
   "execution_count": 2,
   "metadata": {
    "collapsed": true,
    "deletable": true,
    "editable": true
   },
   "outputs": [],
   "source": [
    "import pandas as pd\n",
    "import json\n",
    "import matplotlib\n",
    "import matplotlib.pyplot as plt\n",
    "from IPython.display import display, HTML\n",
    "import json\n",
    "import numpy as np\n",
    "%matplotlib inline"
   ]
  },
  {
   "cell_type": "code",
   "execution_count": 16,
   "metadata": {
    "collapsed": true,
    "deletable": true,
    "editable": true
   },
   "outputs": [],
   "source": [
    "def read_csv(fname):\n",
    "    #f = lambda x : json.loads(x.replace(\"'\",\"\\\"\"))\n",
    "    #df = pd.read_csv(fname, converters={'sensor_type': f}, index_col=0)\n",
    "    df = pd.read_csv(fname, index_col=0)\n",
    "    return df"
   ]
  },
  {
   "cell_type": "code",
   "execution_count": 7,
   "metadata": {
    "collapsed": true,
    "deletable": true,
    "editable": true
   },
   "outputs": [],
   "source": [
    "def save_graph(plot, fname='saved.png'):\n",
    "    fig = plot.get_figure()\n",
    "    fig.savefig(fname)"
   ]
  },
  {
   "cell_type": "code",
   "execution_count": 56,
   "metadata": {
    "collapsed": true,
    "deletable": true,
    "editable": true
   },
   "outputs": [],
   "source": [
    "keys = {'all': ['ma_window', 'sensor_type', 'n_record', 'n_train', 'ms_interval'],\n",
    "        'kNN': ['n_neighbors', 'algorithm'],\n",
    "        'k-means': ['n_clusters', 'max_iter'],\n",
    "        'NN': ['num_of_hidden_nodes', 'num_of_training_epochs', 'size_of_mini_batch', 'learning_rate'],\n",
    "       }\n",
    "\n",
    "def df_values(_df):\n",
    "    for c in keys['all']:\n",
    "        if c == 'auc': continue\n",
    "        print(\"%-40s%s\" % (c, _df[c].unique()))\n",
    "\n",
    "    print('--- kNN')\n",
    "    for c in keys['kNN']:\n",
    "        if c == 'auc': continue\n",
    "        print(\"%-40s%s\" % (c, _df[_df['type']=='kNN'][c].unique()))\n",
    "    \n",
    "    print('--- k-means')\n",
    "    for c in keys['k-means']:\n",
    "        if c == 'auc': continue\n",
    "        print(\"%-40s%s\" % (c, _df[_df['type']=='k-means'][c].unique()))\n",
    "    \n",
    "    print('--- NN')\n",
    "    for c in keys['NN']:\n",
    "        if c == 'auc': continue\n",
    "        print(\"%-40s%s\" % (c, _df[_df['type']=='NN'][c].unique()))"
   ]
  },
  {
   "cell_type": "code",
   "execution_count": 44,
   "metadata": {
    "collapsed": false,
    "deletable": true,
    "editable": true,
    "scrolled": false
   },
   "outputs": [
    {
     "data": {
      "text/html": [
       "<div>\n",
       "<table border=\"1\" class=\"dataframe\">\n",
       "  <thead>\n",
       "    <tr style=\"text-align: right;\">\n",
       "      <th></th>\n",
       "      <th>algorithm</th>\n",
       "      <th>auc</th>\n",
       "      <th>ma_window</th>\n",
       "      <th>max_iter</th>\n",
       "      <th>model_idx</th>\n",
       "      <th>ms_interval</th>\n",
       "      <th>n_clusters</th>\n",
       "      <th>n_neighbors</th>\n",
       "      <th>n_record</th>\n",
       "      <th>n_train</th>\n",
       "      <th>sensor_type</th>\n",
       "      <th>type</th>\n",
       "    </tr>\n",
       "  </thead>\n",
       "  <tbody>\n",
       "  </tbody>\n",
       "</table>\n",
       "</div>"
      ],
      "text/plain": [
       "Empty DataFrame\n",
       "Columns: [algorithm, auc, ma_window, max_iter, model_idx, ms_interval, n_clusters, n_neighbors, n_record, n_train, sensor_type, type]\n",
       "Index: []"
      ]
     },
     "metadata": {},
     "output_type": "display_data"
    }
   ],
   "source": [
    "csv_file = 'test_record-20170425.csv'\n",
    "df = read_csv(csv_file)\n",
    "df.sort_values(by=['auc'], ascending=False).head()\n",
    "\n",
    "df1 = df[\n",
    "    (df['n_record'] == 1) & \n",
    "    (df['ms_interval'] == 20) &\n",
    "    (df['sensor_type'].apply(lambda x: len(x) == 2))\n",
    "]\n",
    "display(df1)\n",
    "\n",
    "def show_graph(df, x_title, y_title):\n",
    "    x_title = 'n_train'\n",
    "    y_title = 'auc'\n",
    "    \n",
    "    df1 = df[df['type'] == 'k-means']\n",
    "    df2 = df[df['type'] == 'kNN']\n",
    "    df3 = df[df['type'] == 'rssi_based']\n",
    "\n",
    "    x = df1[x_title].values\n",
    "    y1 = df1[y_title].values\n",
    "    y2 = df2[y_title].values\n",
    "    y3 = df3[y_title].values\n",
    "    print(y3)\n",
    "\n",
    "    df = pd.DataFrame(np.array([x, y1, y2, y3]).T, columns=['n_train', 'k-means', 'kNN', 'rssi_based'])\n",
    "    display(df)\n",
    "    df.plot.bar(x='n_train', y=['k-means', 'kNN', 'rssi_based'], ylim=[.0, 1.2])\n",
    "\n",
    "#show_graph(df1, 'n_train', 'auc')"
   ]
  },
  {
   "cell_type": "code",
   "execution_count": 57,
   "metadata": {
    "collapsed": false,
    "deletable": true,
    "editable": true,
    "scrolled": false
   },
   "outputs": [
    {
     "name": "stdout",
     "output_type": "stream",
     "text": [
      "ma_window                               [1]\n",
      "sensor_type                             [ '[\"rssi.a\", \"rssi.b\", [\"gyro.rotationRate.x\", \"gyro.rotationRate.y\", \"gyro.rotationRate.z\"]]']\n",
      "n_record                                [1]\n",
      "n_train                                 [  1   5  10  20 100]\n",
      "ms_interval                             [20]\n",
      "--- kNN\n",
      "n_neighbors                             [ 1.  3.  5.  7.  9.]\n",
      "algorithm                               ['ball_tree']\n",
      "--- k-means\n",
      "n_clusters                              [ 1.  3.  5.  7.  9.]\n",
      "max_iter                                [ 3.]\n",
      "--- NN\n",
      "num_of_hidden_nodes                     [  4.   8.  16.  32.]\n",
      "num_of_training_epochs                  [ 100.]\n",
      "size_of_mini_batch                      [ 10.]\n",
      "learning_rate                           [ 0.02]\n"
     ]
    }
   ],
   "source": [
    "#csv_file = 'test_record-20170425.csv'\n",
    "csv_file = 'test_record_02_11_01__^02_11__^02_1[23].csv.bak_20170428_0916'\n",
    "df = read_csv(csv_file)\n",
    "\n",
    "_d = df[\n",
    "    (df['n_record'] == 1) & \n",
    "    (df['ms_interval'] == 20) &\n",
    "    (df['sensor_type'].apply(lambda x: 'gyro.rotationRate' in x))\n",
    "]\n",
    "_dknn = _d[_d['type'] == 'kNN']\n",
    "\n",
    "#display(_dknn)\n",
    "\n",
    "df_values(_d)\n",
    "\n",
    "def show_graph(df, x_title, y_title):\n",
    "    x_title = 'n_train'\n",
    "    y_title = 'auc'\n",
    "    \n",
    "    df1 = df[df['type'] == 'k-means']\n",
    "    df2 = df[df['type'] == 'kNN']\n",
    "    df3 = df[df['type'] == 'rssi_based']\n",
    "\n",
    "    x = df1[x_title].values\n",
    "    y1 = df1[y_title].values\n",
    "    y2 = df2[y_title].values\n",
    "    y3 = df3[y_title].values\n",
    "    print(y3)\n",
    "\n",
    "    df = pd.DataFrame(np.array([x, y1, y2, y3]).T, columns=['n_train', 'k-means', 'kNN', 'rssi_based'])\n",
    "    display(df)\n",
    "    df.plot.bar(x='n_train', y=['k-means', 'kNN', 'rssi_based'], ylim=[.0, 1.2])\n",
    "\n",
    "#show_graph(df1, 'n_train', 'auc')"
   ]
  },
  {
   "cell_type": "code",
   "execution_count": null,
   "metadata": {
    "collapsed": true,
    "deletable": true,
    "editable": true
   },
   "outputs": [],
   "source": []
  }
 ],
 "metadata": {
  "kernelspec": {
   "display_name": "Python 3",
   "language": "python",
   "name": "python3"
  },
  "language_info": {
   "codemirror_mode": {
    "name": "ipython",
    "version": 3
   },
   "file_extension": ".py",
   "mimetype": "text/x-python",
   "name": "python",
   "nbconvert_exporter": "python",
   "pygments_lexer": "ipython3",
   "version": "3.5.2"
  }
 },
 "nbformat": 4,
 "nbformat_minor": 2
}
