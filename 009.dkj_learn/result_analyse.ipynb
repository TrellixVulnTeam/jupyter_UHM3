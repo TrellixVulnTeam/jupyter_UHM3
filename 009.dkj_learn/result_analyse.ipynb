{
 "cells": [
  {
   "cell_type": "code",
   "execution_count": 2,
   "metadata": {
    "collapsed": true,
    "deletable": true,
    "editable": true
   },
   "outputs": [],
   "source": [
    "import pandas as pd\n",
    "import json\n",
    "import matplotlib\n",
    "import matplotlib.pyplot as plt\n",
    "from IPython.display import display, HTML\n",
    "import json\n",
    "import numpy as np\n",
    "%matplotlib inline"
   ]
  },
  {
   "cell_type": "code",
   "execution_count": 3,
   "metadata": {
    "collapsed": true,
    "deletable": true,
    "editable": true
   },
   "outputs": [],
   "source": [
    "def read_csv(fname):\n",
    "    #f = lambda x : json.loads(x.replace(\"'\",\"\\\"\"))\n",
    "    #df = pd.read_csv(fname, converters={'sensor_type': f}, index_col=0)\n",
    "    df = pd.read_csv(fname, index_col=0)\n",
    "    return df"
   ]
  },
  {
   "cell_type": "code",
   "execution_count": 4,
   "metadata": {
    "collapsed": true,
    "deletable": true,
    "editable": true
   },
   "outputs": [],
   "source": [
    "def save_graph(plot, fname='saved.png'):\n",
    "    fig = plot.get_figure()\n",
    "    fig.savefig(fname)"
   ]
  },
  {
   "cell_type": "code",
   "execution_count": 51,
   "metadata": {
    "collapsed": true,
    "deletable": true,
    "editable": true
   },
   "outputs": [],
   "source": [
    "keys = {'all': ['ma_window', 'sensor_type', 'n_record', 'n_train', 'ms_interval'],\n",
    "        'kNN': ['n_neighbors', 'algorithm'],\n",
    "        'LOF': ['n_neighbors', 'algorithm'],\n",
    "        'k-means': ['n_clusters', 'max_iter'],\n",
    "        'NN': ['num_of_hidden_nodes', 'num_of_training_epochs', 'size_of_mini_batch', 'learning_rate'],\n",
    "       }\n",
    "\n",
    "def df_values(_df):\n",
    "    print('--- common')\n",
    "    for c in keys['all']:\n",
    "        if c == 'auc': continue\n",
    "        print(\"%-40s%s\" % (c, _df[c].unique()))\n",
    "\n",
    "    print('--- kNN')\n",
    "    for c in keys['kNN']:\n",
    "        if c == 'auc': continue\n",
    "        print(\"%-40s%s\" % (c, _df[_df['type']=='kNN'][c].unique()))\n",
    "    \n",
    "    print('--- LOF')\n",
    "    for c in keys['LOF']:\n",
    "        if c == 'auc': continue\n",
    "        print(\"%-40s%s\" % (c, _df[_df['type']=='LOF'][c].unique()))\n",
    "    \n",
    "    print('--- k-means')\n",
    "    for c in keys['k-means']:\n",
    "        if c == 'auc': continue\n",
    "        print(\"%-40s%s\" % (c, _df[_df['type']=='k-means'][c].unique()))\n",
    "    \n",
    "    print('--- NN')\n",
    "    for c in keys['NN']:\n",
    "        if c == 'auc': continue\n",
    "        print(\"%-40s%s\" % (c, _df[_df['type']=='NN'][c].unique()))"
   ]
  },
  {
   "cell_type": "code",
   "execution_count": 66,
   "metadata": {
    "collapsed": false,
    "deletable": true,
    "editable": true
   },
   "outputs": [],
   "source": [
    "def show_graph(df_list, columns, x_title, y_title):\n",
    "    df_list = [df[[x_title, y_title]] for df in df_list]\n",
    "    \n",
    "    df_list = [df.rename(index=str, columns={y_title: c}) for df, c in zip(df_list, columns)]\n",
    "    \n",
    "    merge_df = df_list[0]\n",
    "    for df in df_list[1:]:\n",
    "        merge_df = merge_df.merge(df, on=[x_title], how='outer')\n",
    "    \n",
    "    v = merge_df[columns].values\n",
    "    v_max, v_min = np.nanmax(v), np.nanmin(v)\n",
    "    v_range = v_max - v_min\n",
    "    \n",
    "    display(merge_df)\n",
    "    merge_df.plot.bar(x=x_title, ylim=[v_min - v_range*0.1, v_max + v_range*0.2])"
   ]
  },
  {
   "cell_type": "code",
   "execution_count": 114,
   "metadata": {
    "collapsed": false,
    "deletable": true,
    "editable": true,
    "scrolled": false
   },
   "outputs": [
    {
     "data": {
      "text/html": [
       "<div>\n",
       "<table border=\"1\" class=\"dataframe\">\n",
       "  <thead>\n",
       "    <tr style=\"text-align: right;\">\n",
       "      <th></th>\n",
       "      <th>n_train</th>\n",
       "      <th>kNN</th>\n",
       "      <th>LOF</th>\n",
       "      <th>k-menas</th>\n",
       "      <th>NN</th>\n",
       "    </tr>\n",
       "  </thead>\n",
       "  <tbody>\n",
       "    <tr>\n",
       "      <th>0</th>\n",
       "      <td>5</td>\n",
       "      <td>0.934722</td>\n",
       "      <td>0.904306</td>\n",
       "      <td>0.944074</td>\n",
       "      <td>0.945046</td>\n",
       "    </tr>\n",
       "    <tr>\n",
       "      <th>1</th>\n",
       "      <td>10</td>\n",
       "      <td>0.947546</td>\n",
       "      <td>0.943102</td>\n",
       "      <td>0.944259</td>\n",
       "      <td>0.947685</td>\n",
       "    </tr>\n",
       "    <tr>\n",
       "      <th>2</th>\n",
       "      <td>20</td>\n",
       "      <td>0.962176</td>\n",
       "      <td>0.909583</td>\n",
       "      <td>0.957176</td>\n",
       "      <td>0.961389</td>\n",
       "    </tr>\n",
       "    <tr>\n",
       "      <th>3</th>\n",
       "      <td>100</td>\n",
       "      <td>0.953565</td>\n",
       "      <td>0.902639</td>\n",
       "      <td>0.952407</td>\n",
       "      <td>0.955648</td>\n",
       "    </tr>\n",
       "    <tr>\n",
       "      <th>4</th>\n",
       "      <td>1</td>\n",
       "      <td>NaN</td>\n",
       "      <td>NaN</td>\n",
       "      <td>0.906111</td>\n",
       "      <td>0.898519</td>\n",
       "    </tr>\n",
       "  </tbody>\n",
       "</table>\n",
       "</div>"
      ],
      "text/plain": [
       "   n_train       kNN       LOF   k-menas        NN\n",
       "0        5  0.934722  0.904306  0.944074  0.945046\n",
       "1       10  0.947546  0.943102  0.944259  0.947685\n",
       "2       20  0.962176  0.909583  0.957176  0.961389\n",
       "3      100  0.953565  0.902639  0.952407  0.955648\n",
       "4        1       NaN       NaN  0.906111  0.898519"
      ]
     },
     "metadata": {},
     "output_type": "display_data"
    },
    {
     "data": {
      "image/png": "[encoded data removed]",
      "text/plain": [
       "<matplotlib.figure.Figure at 0x7fde018d2da0>"
      ]
     },
     "metadata": {},
     "output_type": "display_data"
    }
   ],
   "source": [
    "#csv_file = 'test_record_02_11_01__^02_11__^02_1[23].csv'\n",
    "csv_file = 'test_record_02_01_01__^02_01__^02_0[23].csv'\n",
    "df = read_csv(csv_file)\n",
    "\n",
    "_d = df[\n",
    "    (df['n_record'] == 1) & \n",
    "    (df['ms_interval'] == 20) &\n",
    "    (df['sensor_type'].apply(lambda x: 'gyro.rotationRate' in x))\n",
    "]\n",
    "#df_values(_d)\n",
    "\n",
    "_d_knn = _d[(_d['type']=='kNN') & (_d['n_neighbors'] == 5)]\n",
    "_d_nn  = _d[(_d['type']=='NN') & (_d['num_of_hidden_nodes'] == 32)]\n",
    "_d_lof = _d[(_d['type']=='LOF') & (_d['n_neighbors'] == 5)]\n",
    "_d_kms = _d[(_d['type']=='k-means') & (_d['n_clusters'] == 1)]\n",
    "\n",
    "show_graph([_d_knn, _d_lof, _d_kms, _d_nn], ['kNN',  'LOF', 'k-menas', 'NN'], 'n_train', 'auc')"
   ]
  },
  {
   "cell_type": "code",
   "execution_count": 104,
   "metadata": {
    "collapsed": false,
    "deletable": true,
    "editable": true,
    "scrolled": false
   },
   "outputs": [
    {
     "name": "stdout",
     "output_type": "stream",
     "text": [
      "total 16146 results\n",
      "--- common\n",
      "ma_window                               [1]\n",
      "sensor_type                             [ '[\"rssi.a\", \"rssi.b\", [\"gyro.rotationRate.x\", \"gyro.rotationRate.y\", \"gyro.rotationRate.z\"]]']\n",
      "n_record                                [-20  -5  -1   1   5  20]\n",
      "n_train                                 [5]\n",
      "ms_interval                             [20]\n",
      "--- kNN\n",
      "n_neighbors                             []\n",
      "algorithm                               []\n",
      "--- LOF\n",
      "n_neighbors                             []\n",
      "algorithm                               []\n",
      "--- k-means\n",
      "n_clusters                              []\n",
      "max_iter                                []\n",
      "--- NN\n",
      "num_of_hidden_nodes                     [  4.   8.  16.  32.]\n",
      "num_of_training_epochs                  [ 100.]\n",
      "size_of_mini_batch                      [ 10.]\n",
      "learning_rate                           [ 0.02]\n"
     ]
    },
    {
     "data": {
      "text/html": [
       "<div>\n",
       "<table border=\"1\" class=\"dataframe\">\n",
       "  <thead>\n",
       "    <tr style=\"text-align: right;\">\n",
       "      <th></th>\n",
       "      <th>num_of_hidden_nodes</th>\n",
       "      <th>nn-20</th>\n",
       "      <th>nn-5</th>\n",
       "      <th>nn-1</th>\n",
       "      <th>nn0</th>\n",
       "      <th>nn1</th>\n",
       "      <th>nn5</th>\n",
       "      <th>nn20</th>\n",
       "    </tr>\n",
       "  </thead>\n",
       "  <tbody>\n",
       "    <tr>\n",
       "      <th>0</th>\n",
       "      <td>4.0</td>\n",
       "      <td>0.991574</td>\n",
       "      <td>0.974074</td>\n",
       "      <td>0.948611</td>\n",
       "      <td>NaN</td>\n",
       "      <td>0.945694</td>\n",
       "      <td>0.956481</td>\n",
       "      <td>0.987361</td>\n",
       "    </tr>\n",
       "    <tr>\n",
       "      <th>1</th>\n",
       "      <td>8.0</td>\n",
       "      <td>0.991574</td>\n",
       "      <td>0.973704</td>\n",
       "      <td>0.948565</td>\n",
       "      <td>NaN</td>\n",
       "      <td>0.944907</td>\n",
       "      <td>0.956343</td>\n",
       "      <td>0.987222</td>\n",
       "    </tr>\n",
       "    <tr>\n",
       "      <th>2</th>\n",
       "      <td>16.0</td>\n",
       "      <td>0.991019</td>\n",
       "      <td>0.973287</td>\n",
       "      <td>0.947963</td>\n",
       "      <td>NaN</td>\n",
       "      <td>0.944954</td>\n",
       "      <td>0.956435</td>\n",
       "      <td>0.986852</td>\n",
       "    </tr>\n",
       "    <tr>\n",
       "      <th>3</th>\n",
       "      <td>32.0</td>\n",
       "      <td>0.990972</td>\n",
       "      <td>0.973935</td>\n",
       "      <td>0.948426</td>\n",
       "      <td>NaN</td>\n",
       "      <td>0.945046</td>\n",
       "      <td>0.956204</td>\n",
       "      <td>0.987037</td>\n",
       "    </tr>\n",
       "  </tbody>\n",
       "</table>\n",
       "</div>"
      ],
      "text/plain": [
       "   num_of_hidden_nodes     nn-20      nn-5      nn-1  nn0       nn1       nn5  \\\n",
       "0                  4.0  0.991574  0.974074  0.948611  NaN  0.945694  0.956481   \n",
       "1                  8.0  0.991574  0.973704  0.948565  NaN  0.944907  0.956343   \n",
       "2                 16.0  0.991019  0.973287  0.947963  NaN  0.944954  0.956435   \n",
       "3                 32.0  0.990972  0.973935  0.948426  NaN  0.945046  0.956204   \n",
       "\n",
       "       nn20  \n",
       "0  0.987361  \n",
       "1  0.987222  \n",
       "2  0.986852  \n",
       "3  0.987037  "
      ]
     },
     "metadata": {},
     "output_type": "display_data"
    },
    {
     "data": {
      "image/png": "[encoded data removed]",
      "text/plain": [
       "<matplotlib.figure.Figure at 0x7fde01bf5080>"
      ]
     },
     "metadata": {},
     "output_type": "display_data"
    }
   ],
   "source": [
    "#csv_file = 'test_record_02_11_01__^02_11__^02_1[23].csv'\n",
    "csv_file = 'test_record_02_01_01__^02_01__^02_0[23].csv'\n",
    "#csv_file = 'test_record_01_01_01__^01_01__^01_0[23].csv'\n",
    "df = read_csv(csv_file)\n",
    "print('total %d results'%(len(df)))\n",
    "\n",
    "_d = df[\n",
    "    (df['n_train'] == 5) & \n",
    "    (df['ma_window'] == 1) &\n",
    "    (df['ms_interval'] == 20) &\n",
    "    (df['sensor_type'].apply(lambda x: 'gyro.rotationRate' in x))\n",
    "]\n",
    "\n",
    "_d  = _d[_d['type']=='NN']\n",
    "df_values(_d)\n",
    "\n",
    "_d_m20 = _d[_d['n_record'] == -20]\n",
    "_d_m5 = _d[_d['n_record'] == -5]\n",
    "_d_m1 = _d[_d['n_record'] == -1]\n",
    "_d_0 = _d[_d['n_record'] == 0]\n",
    "_d_1 = _d[_d['n_record'] == 1]\n",
    "_d_5 = _d[_d['n_record'] == 5]\n",
    "_d_20 = _d[_d['n_record'] == 20]\n",
    "\n",
    "#display(_d_nn)\n",
    "\n",
    "show_graph([_d_m20, _d_m5, _d_m1, _d_0, _d_1, _d_5, _d_20], ['nn-20', 'nn-5', 'nn-1', 'nn0', 'nn1', 'nn5', 'nn20'], 'num_of_hidden_nodes', 'auc')"
   ]
  }
 ],
 "metadata": {
  "kernelspec": {
   "display_name": "Python 3",
   "language": "python",
   "name": "python3"
  },
  "language_info": {
   "codemirror_mode": {
    "name": "ipython",
    "version": 3
   },
   "file_extension": ".py",
   "mimetype": "text/x-python",
   "name": "python",
   "nbconvert_exporter": "python",
   "pygments_lexer": "ipython3",
   "version": "3.5.2"
  }
 },
 "nbformat": 4,
 "nbformat_minor": 2
}
