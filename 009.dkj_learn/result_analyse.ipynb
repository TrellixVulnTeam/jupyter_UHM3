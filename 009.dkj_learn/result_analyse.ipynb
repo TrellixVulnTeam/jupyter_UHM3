{
 "cells": [
  {
   "cell_type": "code",
   "execution_count": 2,
   "metadata": {
    "collapsed": true,
    "deletable": true,
    "editable": true
   },
   "outputs": [],
   "source": [
    "import pandas as pd\n",
    "import json\n",
    "import matplotlib\n",
    "import matplotlib.pyplot as plt\n",
    "from IPython.display import display, HTML\n",
    "import json\n",
    "import numpy as np\n",
    "%matplotlib inline"
   ]
  },
  {
   "cell_type": "code",
   "execution_count": 3,
   "metadata": {
    "collapsed": true,
    "deletable": true,
    "editable": true
   },
   "outputs": [],
   "source": [
    "def read_csv(fname):\n",
    "    #f = lambda x : json.loads(x.replace(\"'\",\"\\\"\"))\n",
    "    #df = pd.read_csv(fname, converters={'sensor_type': f}, index_col=0)\n",
    "    df = pd.read_csv(fname, index_col=0)\n",
    "    return df"
   ]
  },
  {
   "cell_type": "code",
   "execution_count": 4,
   "metadata": {
    "collapsed": true,
    "deletable": true,
    "editable": true
   },
   "outputs": [],
   "source": [
    "def save_graph(plot, fname='saved.png'):\n",
    "    fig = plot.get_figure()\n",
    "    fig.savefig(fname)"
   ]
  },
  {
   "cell_type": "code",
   "execution_count": 5,
   "metadata": {
    "collapsed": true,
    "deletable": true,
    "editable": true
   },
   "outputs": [],
   "source": [
    "keys = {'all': ['ma_window', 'sensor_type', 'n_record', 'n_train', 'ms_interval'],\n",
    "        'kNN': ['n_neighbors', 'algorithm'],\n",
    "        'LOF': ['n_neighbors', 'algorithm'],\n",
    "        'k-means': ['n_clusters', 'max_iter'],\n",
    "        'NN': ['num_of_hidden_nodes', 'num_of_training_epochs', 'size_of_mini_batch', 'learning_rate'],\n",
    "       }\n",
    "\n",
    "def df_values(_df):\n",
    "    print('--- common')\n",
    "    for c in keys['all']:\n",
    "        if c == 'auc': continue\n",
    "        print(\"%-40s%s\" % (c, _df[c].unique()))\n",
    "\n",
    "    print('--- kNN')\n",
    "    for c in keys['kNN']:\n",
    "        if c == 'auc': continue\n",
    "        print(\"%-40s%s\" % (c, _df[_df['type']=='kNN'][c].unique()))\n",
    "    \n",
    "    print('--- LOF')\n",
    "    for c in keys['LOF']:\n",
    "        if c == 'auc': continue\n",
    "        print(\"%-40s%s\" % (c, _df[_df['type']=='LOF'][c].unique()))\n",
    "    \n",
    "    print('--- k-means')\n",
    "    for c in keys['k-means']:\n",
    "        if c == 'auc': continue\n",
    "        print(\"%-40s%s\" % (c, _df[_df['type']=='k-means'][c].unique()))\n",
    "    \n",
    "    print('--- NN')\n",
    "    for c in keys['NN']:\n",
    "        if c == 'auc': continue\n",
    "        print(\"%-40s%s\" % (c, _df[_df['type']=='NN'][c].unique()))"
   ]
  },
  {
   "cell_type": "code",
   "execution_count": 6,
   "metadata": {
    "collapsed": false,
    "deletable": true,
    "editable": true
   },
   "outputs": [],
   "source": [
    "def show_graph(df_list, columns, x_title, y_title):\n",
    "    df_list = [df[[x_title, y_title]] for df in df_list]\n",
    "    \n",
    "    df_list = [df.rename(index=str, columns={y_title: c}) for df, c in zip(df_list, columns)]\n",
    "    \n",
    "    merge_df = df_list[0]\n",
    "    for df in df_list[1:]:\n",
    "        merge_df = merge_df.merge(df, on=[x_title], how='outer')\n",
    "    \n",
    "    v = merge_df[columns].values\n",
    "    v_max, v_min = np.nanmax(v), np.nanmin(v)\n",
    "    v_range = v_max - v_min\n",
    "    \n",
    "    display(merge_df)\n",
    "    merge_df.plot.bar(x=x_title, ylim=[v_min - v_range*0.1, v_max + v_range*0.2])"
   ]
  },
  {
   "cell_type": "code",
   "execution_count": null,
   "metadata": {
    "collapsed": true
   },
   "outputs": [],
   "source": []
  },
  {
   "cell_type": "code",
   "execution_count": 6,
   "metadata": {
    "collapsed": false,
    "deletable": true,
    "editable": true,
    "scrolled": false
   },
   "outputs": [
    {
     "name": "stdout",
     "output_type": "stream",
     "text": [
      "--- common\n",
      "ma_window                               [1]\n",
      "sensor_type                             [ '[\"rssi.a\", \"rssi.b\", [\"gyro.rotationRate.x\", \"gyro.rotationRate.y\", \"gyro.rotationRate.z\"]]']\n",
      "n_record                                [1]\n",
      "n_train                                 [  1   5  10  20 100]\n",
      "ms_interval                             [20]\n",
      "--- kNN\n",
      "n_neighbors                             [ 1.  3.  5.  7.  9.]\n",
      "algorithm                               ['ball_tree']\n",
      "--- LOF\n",
      "n_neighbors                             [ 1.  3.  5.  7.  9.]\n",
      "algorithm                               ['ball_tree']\n",
      "--- k-means\n",
      "n_clusters                              [ 1.  3.  5.  7.  9.]\n",
      "max_iter                                [ 3.]\n",
      "--- NN\n",
      "num_of_hidden_nodes                     [  4.   8.  16.  32.]\n",
      "num_of_training_epochs                  [ 100.  400.]\n",
      "size_of_mini_batch                      [ 10.]\n",
      "learning_rate                           [ 0.02]\n"
     ]
    },
    {
     "data": {
      "text/html": [
       "<div>\n",
       "<table border=\"1\" class=\"dataframe\">\n",
       "  <thead>\n",
       "    <tr style=\"text-align: right;\">\n",
       "      <th></th>\n",
       "      <th>n_train</th>\n",
       "      <th>kNN</th>\n",
       "      <th>LOF</th>\n",
       "      <th>k-menas</th>\n",
       "      <th>NN</th>\n",
       "    </tr>\n",
       "  </thead>\n",
       "  <tbody>\n",
       "    <tr>\n",
       "      <th>0</th>\n",
       "      <td>5</td>\n",
       "      <td>0.934722</td>\n",
       "      <td>0.904306</td>\n",
       "      <td>0.944074</td>\n",
       "      <td>0.945046</td>\n",
       "    </tr>\n",
       "    <tr>\n",
       "      <th>1</th>\n",
       "      <td>10</td>\n",
       "      <td>0.947546</td>\n",
       "      <td>0.943102</td>\n",
       "      <td>0.944259</td>\n",
       "      <td>0.947685</td>\n",
       "    </tr>\n",
       "    <tr>\n",
       "      <th>2</th>\n",
       "      <td>20</td>\n",
       "      <td>0.962176</td>\n",
       "      <td>0.909583</td>\n",
       "      <td>0.957176</td>\n",
       "      <td>0.961389</td>\n",
       "    </tr>\n",
       "    <tr>\n",
       "      <th>3</th>\n",
       "      <td>100</td>\n",
       "      <td>0.953565</td>\n",
       "      <td>0.902639</td>\n",
       "      <td>0.952407</td>\n",
       "      <td>0.955648</td>\n",
       "    </tr>\n",
       "    <tr>\n",
       "      <th>4</th>\n",
       "      <td>1</td>\n",
       "      <td>NaN</td>\n",
       "      <td>NaN</td>\n",
       "      <td>0.906111</td>\n",
       "      <td>0.898519</td>\n",
       "    </tr>\n",
       "  </tbody>\n",
       "</table>\n",
       "</div>"
      ],
      "text/plain": [
       "   n_train       kNN       LOF   k-menas        NN\n",
       "0        5  0.934722  0.904306  0.944074  0.945046\n",
       "1       10  0.947546  0.943102  0.944259  0.947685\n",
       "2       20  0.962176  0.909583  0.957176  0.961389\n",
       "3      100  0.953565  0.902639  0.952407  0.955648\n",
       "4        1       NaN       NaN  0.906111  0.898519"
      ]
     },
     "metadata": {},
     "output_type": "display_data"
    },
    {
     "data": {
      "image/png": "[encoded data removed]",
      "text/plain": [
       "<matplotlib.figure.Figure at 0x7fbb666f5ef0>"
      ]
     },
     "metadata": {},
     "output_type": "display_data"
    }
   ],
   "source": [
    "#csv_file = 'test_record_01_01_01__^01_01__^01_0[23].csv'\n",
    "#csv_file = 'test_record_01_11_01__^01_11__^01_1[23].csv'\n",
    "#csv_file = 'test_record_02_11_01__^02_11__^02_1[23].csv'\n",
    "csv_file = 'test_record_02_01_01__^02_01__^02_0[23].csv'\n",
    "df = read_csv(csv_file)\n",
    "\n",
    "_d = df[\n",
    "    (df['n_record'] == 1) & \n",
    "    (df['ms_interval'] == 20) &\n",
    "    (df['sensor_type'].apply(lambda x: 'gyro.rotationRate' in x))\n",
    "]\n",
    "df_values(_d)\n",
    "\n",
    "_d_knn = _d[(_d['type']=='kNN') & (_d['n_neighbors'] == 5)]\n",
    "_d_nn  = _d[(_d['type']=='NN') & (_d['num_of_hidden_nodes'] == 32) & (_d['num_of_training_epochs'] == 100)]\n",
    "_d_lof = _d[(_d['type']=='LOF') & (_d['n_neighbors'] == 5)]\n",
    "_d_kms = _d[(_d['type']=='k-means') & (_d['n_clusters'] == 1)]\n",
    "\n",
    "show_graph([_d_knn, _d_lof, _d_kms, _d_nn], ['kNN',  'LOF', 'k-menas', 'NN'], 'n_train', 'auc')"
   ]
  },
  {
   "cell_type": "code",
   "execution_count": 7,
   "metadata": {
    "collapsed": false,
    "deletable": true,
    "editable": true,
    "scrolled": false
   },
   "outputs": [
    {
     "name": "stdout",
     "output_type": "stream",
     "text": [
      "total 35998 results\n",
      "--- common\n",
      "ma_window                               [1]\n",
      "sensor_type                             [ '[\"rssi.a\", \"rssi.b\", [\"userAcceleration.x\", \"userAcceleration.y\", \"userAcceleration.z\"]]']\n",
      "n_record                                [-20  -5  -2  -1   0   1   2   5  20]\n",
      "n_train                                 [5]\n",
      "ms_interval                             [20]\n",
      "--- kNN\n",
      "n_neighbors                             [ 1.  3.  5.]\n",
      "algorithm                               ['ball_tree']\n",
      "--- LOF\n",
      "n_neighbors                             []\n",
      "algorithm                               []\n",
      "--- k-means\n",
      "n_clusters                              []\n",
      "max_iter                                []\n",
      "--- NN\n",
      "num_of_hidden_nodes                     []\n",
      "num_of_training_epochs                  []\n",
      "size_of_mini_batch                      []\n",
      "learning_rate                           []\n"
     ]
    },
    {
     "data": {
      "text/html": [
       "<div>\n",
       "<table border=\"1\" class=\"dataframe\">\n",
       "  <thead>\n",
       "    <tr style=\"text-align: right;\">\n",
       "      <th></th>\n",
       "      <th>n_neighbors</th>\n",
       "      <th>-20</th>\n",
       "      <th>-5</th>\n",
       "      <th>-2</th>\n",
       "      <th>-1</th>\n",
       "      <th>0</th>\n",
       "      <th>1</th>\n",
       "      <th>2</th>\n",
       "      <th>5</th>\n",
       "      <th>20</th>\n",
       "    </tr>\n",
       "  </thead>\n",
       "  <tbody>\n",
       "    <tr>\n",
       "      <th>0</th>\n",
       "      <td>1.0</td>\n",
       "      <td>0.998657</td>\n",
       "      <td>0.992917</td>\n",
       "      <td>0.980694</td>\n",
       "      <td>0.974907</td>\n",
       "      <td>0.961157</td>\n",
       "      <td>0.966620</td>\n",
       "      <td>0.969722</td>\n",
       "      <td>0.974537</td>\n",
       "      <td>0.984398</td>\n",
       "    </tr>\n",
       "    <tr>\n",
       "      <th>1</th>\n",
       "      <td>3.0</td>\n",
       "      <td>0.999120</td>\n",
       "      <td>0.993148</td>\n",
       "      <td>0.983704</td>\n",
       "      <td>0.976157</td>\n",
       "      <td>0.962639</td>\n",
       "      <td>0.968380</td>\n",
       "      <td>0.968935</td>\n",
       "      <td>0.974630</td>\n",
       "      <td>0.986389</td>\n",
       "    </tr>\n",
       "    <tr>\n",
       "      <th>2</th>\n",
       "      <td>5.0</td>\n",
       "      <td>0.998843</td>\n",
       "      <td>0.990417</td>\n",
       "      <td>0.982130</td>\n",
       "      <td>0.975093</td>\n",
       "      <td>0.962361</td>\n",
       "      <td>0.972824</td>\n",
       "      <td>0.973843</td>\n",
       "      <td>0.970972</td>\n",
       "      <td>0.986667</td>\n",
       "    </tr>\n",
       "  </tbody>\n",
       "</table>\n",
       "</div>"
      ],
      "text/plain": [
       "   n_neighbors       -20        -5        -2        -1         0         1  \\\n",
       "0          1.0  0.998657  0.992917  0.980694  0.974907  0.961157  0.966620   \n",
       "1          3.0  0.999120  0.993148  0.983704  0.976157  0.962639  0.968380   \n",
       "2          5.0  0.998843  0.990417  0.982130  0.975093  0.962361  0.972824   \n",
       "\n",
       "          2         5        20  \n",
       "0  0.969722  0.974537  0.984398  \n",
       "1  0.968935  0.974630  0.986389  \n",
       "2  0.973843  0.970972  0.986667  "
      ]
     },
     "metadata": {},
     "output_type": "display_data"
    },
    {
     "data": {
      "image/png": "[encoded data removed]",
      "text/plain": [
       "<matplotlib.figure.Figure at 0x7fbb643385c0>"
      ]
     },
     "metadata": {},
     "output_type": "display_data"
    }
   ],
   "source": [
    "#csv_file = 'test_record_02_11_01__^02_11__^02_1[23].csv'\n",
    "csv_file = 'test_record_02_01_01__^02_01__^02_0[23].csv'\n",
    "#csv_file = 'test_record_01_01_01__^01_01__^01_0[23].csv'\n",
    "#csv_file = 'test_record_01_11_01__^01_11__^01_1[23].csv'\n",
    "df = read_csv(csv_file)\n",
    "print('total %d results'%(len(df)))\n",
    "\n",
    "_d = df[\n",
    "    (df['n_train'] == 5) &\n",
    "    (df['ma_window'] == 1) &\n",
    "    (df['ms_interval'] == 20) &\n",
    "#    (df['num_of_hidden_nodes'] == 4) &\n",
    "    (df['sensor_type'].apply(lambda x: 'user' in x and len(json.loads(x)) == 3))\n",
    "]\n",
    "\n",
    "_d  = _d[(_d['type']=='kNN')]\n",
    "df_values(_d)\n",
    "\n",
    "_d_n_record = [_d[_d['n_record'] == x] for x in _d['n_record'].unique()]\n",
    "\n",
    "show_graph(_d_n_record, list(_d['n_record'].unique()), 'n_neighbors', 'auc')"
   ]
  },
  {
   "cell_type": "code",
   "execution_count": 15,
   "metadata": {
    "collapsed": false,
    "deletable": true,
    "editable": true
   },
   "outputs": [
    {
     "name": "stdout",
     "output_type": "stream",
     "text": [
      "total 37754 results\n",
      "--- common\n",
      "ma_window                               [1]\n",
      "sensor_type                             [ '[\"rssi.a\", \"rssi.b\", [\"userAcceleration.x\", \"userAcceleration.y\", \"userAcceleration.z\"]]']\n",
      "n_record                                [-40 -20  -5  -2  -1   0   1   2   5  20]\n",
      "n_train                                 [10]\n",
      "ms_interval                             [20]\n",
      "--- kNN\n",
      "n_neighbors                             []\n",
      "algorithm                               []\n",
      "--- LOF\n",
      "n_neighbors                             []\n",
      "algorithm                               []\n",
      "--- k-means\n",
      "n_clusters                              []\n",
      "max_iter                                []\n",
      "--- NN\n",
      "num_of_hidden_nodes                     [ 32.]\n",
      "num_of_training_epochs                  [ 100.  400.]\n",
      "size_of_mini_batch                      [ 10.]\n",
      "learning_rate                           [ 0.02]\n"
     ]
    },
    {
     "data": {
      "text/html": [
       "<div>\n",
       "<table border=\"1\" class=\"dataframe\">\n",
       "  <thead>\n",
       "    <tr style=\"text-align: right;\">\n",
       "      <th></th>\n",
       "      <th>n_record</th>\n",
       "      <th>100.0</th>\n",
       "      <th>400.0</th>\n",
       "    </tr>\n",
       "  </thead>\n",
       "  <tbody>\n",
       "    <tr>\n",
       "      <th>0</th>\n",
       "      <td>-40</td>\n",
       "      <td>0.999444</td>\n",
       "      <td>0.999444</td>\n",
       "    </tr>\n",
       "    <tr>\n",
       "      <th>1</th>\n",
       "      <td>-20</td>\n",
       "      <td>0.998194</td>\n",
       "      <td>0.998194</td>\n",
       "    </tr>\n",
       "    <tr>\n",
       "      <th>2</th>\n",
       "      <td>-5</td>\n",
       "      <td>0.995324</td>\n",
       "      <td>0.994167</td>\n",
       "    </tr>\n",
       "    <tr>\n",
       "      <th>3</th>\n",
       "      <td>-2</td>\n",
       "      <td>0.989259</td>\n",
       "      <td>0.988380</td>\n",
       "    </tr>\n",
       "    <tr>\n",
       "      <th>4</th>\n",
       "      <td>-1</td>\n",
       "      <td>0.982037</td>\n",
       "      <td>0.981204</td>\n",
       "    </tr>\n",
       "    <tr>\n",
       "      <th>5</th>\n",
       "      <td>0</td>\n",
       "      <td>0.971435</td>\n",
       "      <td>0.965880</td>\n",
       "    </tr>\n",
       "    <tr>\n",
       "      <th>6</th>\n",
       "      <td>1</td>\n",
       "      <td>0.980833</td>\n",
       "      <td>0.977130</td>\n",
       "    </tr>\n",
       "    <tr>\n",
       "      <th>7</th>\n",
       "      <td>2</td>\n",
       "      <td>0.990185</td>\n",
       "      <td>0.990370</td>\n",
       "    </tr>\n",
       "    <tr>\n",
       "      <th>8</th>\n",
       "      <td>5</td>\n",
       "      <td>0.992778</td>\n",
       "      <td>0.992731</td>\n",
       "    </tr>\n",
       "    <tr>\n",
       "      <th>9</th>\n",
       "      <td>20</td>\n",
       "      <td>0.994954</td>\n",
       "      <td>0.995139</td>\n",
       "    </tr>\n",
       "  </tbody>\n",
       "</table>\n",
       "</div>"
      ],
      "text/plain": [
       "   n_record     100.0     400.0\n",
       "0       -40  0.999444  0.999444\n",
       "1       -20  0.998194  0.998194\n",
       "2        -5  0.995324  0.994167\n",
       "3        -2  0.989259  0.988380\n",
       "4        -1  0.982037  0.981204\n",
       "5         0  0.971435  0.965880\n",
       "6         1  0.980833  0.977130\n",
       "7         2  0.990185  0.990370\n",
       "8         5  0.992778  0.992731\n",
       "9        20  0.994954  0.995139"
      ]
     },
     "metadata": {},
     "output_type": "display_data"
    },
    {
     "data": {
      "image/png": "[encoded data removed]",
      "text/plain": [
       "<matplotlib.figure.Figure at 0x7f074dea9ef0>"
      ]
     },
     "metadata": {},
     "output_type": "display_data"
    }
   ],
   "source": [
    "csv_file = 'test_record_02_11_01__^02_11__^02_1[23].csv'\n",
    "#csv_file = 'test_record_02_01_01__^02_01__^02_0[23].csv'\n",
    "#csv_file = 'test_record_01_01_01__^01_01__^01_0[23].csv'\n",
    "#csv_file = 'test_record_01_11_01__^01_11__^01_1[23].csv'\n",
    "df = read_csv(csv_file)\n",
    "print('total %d results'%(len(df)))\n",
    "\n",
    "_d = df[\n",
    "#    (df['n_train'] == 5) &\n",
    "    (df['ma_window'] == 1) &\n",
    "    (df['ms_interval'] == 20) &\n",
    "    (df['num_of_hidden_nodes'] == 32) &\n",
    "#    (df['num_of_training_epochs'] == 400) &\n",
    "    (df['n_train'] == 10) &\n",
    "#    (df['n_neighbors'] == 3)\n",
    "    (df['sensor_type'].apply(lambda x: 'user' in x and len(json.loads(x)) == 3))\n",
    "]\n",
    "\n",
    "_d  = _d[(_d['type']=='NN')]\n",
    "df_values(_d)\n",
    "\n",
    "x2_label = 'num_of_training_epochs'\n",
    "x_label = 'n_record'\n",
    "\n",
    "_d_n_record = [_d[_d[x2_label] == x] for x in _d[x2_label].unique()]\n",
    "\n",
    "show_graph(_d_n_record, list(_d[x2_label].unique()), x_label, 'auc')"
   ]
  },
  {
   "cell_type": "code",
   "execution_count": null,
   "metadata": {
    "collapsed": true,
    "deletable": true,
    "editable": true
   },
   "outputs": [],
   "source": []
  },
  {
   "cell_type": "code",
   "execution_count": null,
   "metadata": {
    "collapsed": true,
    "deletable": true,
    "editable": true
   },
   "outputs": [],
   "source": []
  },
  {
   "cell_type": "code",
   "execution_count": 52,
   "metadata": {
    "collapsed": false,
    "deletable": true,
    "editable": true,
    "scrolled": false
   },
   "outputs": [
    {
     "name": "stdout",
     "output_type": "stream",
     "text": [
      "28618\n",
      "--- common\n",
      "ma_window                               [1 3]\n",
      "sensor_type                             ['[\"rssi.a\", \"rssi.b\"]'\n",
      " '[\"rssi.a\", \"rssi.b\", [\"linear_accel[0]\", \"linear_accel[1]\", \"linear_accel[2]\"]]'\n",
      " '[\"rssi.a\", \"rssi.b\", [\"accelerometer[0]\", \"accelerometer[1]\", \"accelerometer[2]\"]]'\n",
      " '[\"rssi.a\", \"rssi.b\", [\"gravity[0]\", \"gravity[1]\", \"gravity[2]\"]]'\n",
      " '[\"rssi.a\", \"rssi.b\", [\"gyro[0]\", \"gyro[1]\", \"gyro[2]\"]]'\n",
      " '[\"rssi.a\", \"rssi.b\", [\"rotation[0]\", \"rotation[1]\", \"rotation[2]\"]]'\n",
      " '[\"rssi.a\", \"rssi.b\", [\"game_rotation[0]\", \"game_rotation[1]\", \"game_rotation[2]\"]]'\n",
      " '[\"rssi.a\", \"rssi.b\", [\"magnetic[0]\", \"magnetic[1]\", \"magnetic[2]\"]]'\n",
      " '[\"rssi.a\", \"rssi.b\", \"pressure\"]']\n",
      "n_record                                [-20  -5  -2  -1   0   1   2   5  20]\n",
      "n_train                                 [  1   5  10  20 100]\n",
      "ms_interval                             [ 20  60 100]\n",
      "--- kNN\n",
      "n_neighbors                             [ 1.  3.  5.  7.  9.]\n",
      "algorithm                               ['ball_tree']\n",
      "--- LOF\n",
      "n_neighbors                             [ 1.  3.  5.  7.  9.]\n",
      "algorithm                               ['ball_tree']\n",
      "--- k-means\n",
      "n_clusters                              [ 1.  3.  5.  7.  9.]\n",
      "max_iter                                [ 3.]\n",
      "--- NN\n",
      "num_of_hidden_nodes                     [  4.   8.  16.  32.]\n",
      "num_of_training_epochs                  [ 100.]\n",
      "size_of_mini_batch                      [ 10.]\n",
      "learning_rate                           [ 0.02]\n"
     ]
    }
   ],
   "source": [
    "# remove sensor_type for iOS\n",
    "csv_file = 'test_record_01_01_01__^01_01__^01_0[23].csv'\n",
    "#csv_file = 'test_record_01_11_01__^01_11__^01_1[23].csv'\n",
    "#csv_file = 'test_record_02_01_01__^02_01__^02_0[23].csv'\n",
    "#csv_file = 'test_record_02_11_01__^02_11__^02_1[23].csv'\n",
    "df = read_csv(csv_file)\n",
    "df = df[~df['sensor_type'].apply(lambda x: 'acceleration' in x)]\n",
    "df = df[~df['sensor_type'].apply(lambda x: 'gyro.rotationRate' in x)]\n",
    "df = df[~df['sensor_type'].apply(lambda x: 'magneticField.x' in x)]\n",
    "df = df[~df['sensor_type'].apply(lambda x: 'attitude.roll' in x)]\n",
    "df = df[~df['sensor_type'].apply(lambda x: 'rotationRate.x' in x)]\n",
    "df = df[~df['sensor_type'].apply(lambda x: 'gravity.x' in x)]\n",
    "df = df[~df['sensor_type'].apply(lambda x: 'userAcceleration.x' in x)]\n",
    "print(len(df))\n",
    "df_values(df)\n",
    "df.to_csv(csv_file)"
   ]
  },
  {
   "cell_type": "code",
   "execution_count": 46,
   "metadata": {
    "collapsed": false,
    "deletable": true,
    "editable": true
   },
   "outputs": [
    {
     "name": "stdout",
     "output_type": "stream",
     "text": [
      "total 50717 results\n",
      "--- common\n",
      "ma_window                               [1 3]\n",
      "sensor_type                             ['[\"rssi.a\", \"rssi.b\"]'\n",
      " '[\"rssi.a\", \"rssi.b\", [\"linear_accel[0]\", \"linear_accel[1]\", \"linear_accel[2]\"]]'\n",
      " '[\"rssi.a\", \"rssi.b\", [\"accelerometer[0]\", \"accelerometer[1]\", \"accelerometer[2]\"]]'\n",
      " '[\"rssi.a\", \"rssi.b\", [\"gravity[0]\", \"gravity[1]\", \"gravity[2]\"]]'\n",
      " '[\"rssi.a\", \"rssi.b\", [\"gyro[0]\", \"gyro[1]\", \"gyro[2]\"]]'\n",
      " '[\"rssi.a\", \"rssi.b\", [\"rotation[0]\", \"rotation[1]\", \"rotation[2]\"]]'\n",
      " '[\"rssi.a\", \"rssi.b\", [\"game_rotation[0]\", \"game_rotation[1]\", \"game_rotation[2]\"]]'\n",
      " '[\"rssi.a\", \"rssi.b\", [\"magnetic[0]\", \"magnetic[1]\", \"magnetic[2]\"]]'\n",
      " '[\"rssi.a\", \"rssi.b\", \"pressure\"]'\n",
      " '[\"rssi.a\", \"rssi.b\", [\"acceleration.x\", \"acceleration.y\", \"acceleration.z\"]]'\n",
      " '[\"rssi.a\", \"rssi.b\", [\"gyro.rotationRate.x\", \"gyro.rotationRate.y\", \"gyro.rotationRate.z\"]]'\n",
      " '[\"rssi.a\", \"rssi.b\", [\"magneticField.x\", \"magneticField.y\", \"magneticField.z\"]]'\n",
      " '[\"rssi.a\", \"rssi.b\", [\"attitude.roll\", \"attitude.pitch\", \"attitude.yaw\"]]'\n",
      " '[\"rssi.a\", \"rssi.b\", [\"rotationRate.x\", \"rotationRate.y\", \"rotationRate.z\"]]'\n",
      " '[\"rssi.a\", \"rssi.b\", [\"gravity.x\", \"gravity.y\", \"gravity.z\"]]'\n",
      " '[\"rssi.a\", \"rssi.b\", [\"userAcceleration.x\", \"userAcceleration.y\", \"userAcceleration.z\"]]']\n",
      "n_record                                [-20  -5  -2  -1   0   1   2   5  20]\n",
      "n_train                                 [  1   5  10  20 100]\n",
      "ms_interval                             [ 20  60 100]\n",
      "--- kNN\n",
      "n_neighbors                             [ 1.  3.  5.  7.  9.]\n",
      "algorithm                               ['ball_tree']\n",
      "--- LOF\n",
      "n_neighbors                             [ 1.  3.  5.  7.  9.]\n",
      "algorithm                               ['ball_tree']\n",
      "--- k-means\n",
      "n_clusters                              [ 1.  3.  5.  7.  9.]\n",
      "max_iter                                [ 3.]\n",
      "--- NN\n",
      "num_of_hidden_nodes                     [  4.   8.  16.  32.]\n",
      "num_of_training_epochs                  [ 100.]\n",
      "size_of_mini_batch                      [ 10.]\n",
      "learning_rate                           [ 0.02]\n"
     ]
    }
   ],
   "source": [
    "#### print parameters evaluated in csv\n",
    "#csv_file = 'test_record_01_01_01__^01_01__^01_0[23].csv'\n",
    "csv_file = 'test_record_01_11_01__^01_11__^01_1[23].csv'\n",
    "#csv_file = 'test_record_02_01_01__^02_01__^02_0[23].csv'\n",
    "#csv_file = 'test_record_02_11_01__^02_11__^02_1[23].csv'\n",
    "df = read_csv(csv_file)\n",
    "print('total %d results'%(len(df)))\n",
    "df_values(df)"
   ]
  },
  {
   "cell_type": "code",
   "execution_count": 16,
   "metadata": {
    "collapsed": false
   },
   "outputs": [
    {
     "data": {
      "text/plain": [
       "[1, 2, 3]"
      ]
     },
     "execution_count": 16,
     "metadata": {},
     "output_type": "execute_result"
    }
   ],
   "source": []
  }
 ],
 "metadata": {
  "kernelspec": {
   "display_name": "Python 3",
   "language": "python",
   "name": "python3"
  },
  "language_info": {
   "codemirror_mode": {
    "name": "ipython",
    "version": 3
   },
   "file_extension": ".py",
   "mimetype": "text/x-python",
   "name": "python",
   "nbconvert_exporter": "python",
   "pygments_lexer": "ipython3",
   "version": "3.5.2"
  }
 },
 "nbformat": 4,
 "nbformat_minor": 2
}
