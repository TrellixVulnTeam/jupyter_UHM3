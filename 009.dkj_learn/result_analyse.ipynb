{
 "cells": [
  {
   "cell_type": "code",
   "execution_count": 2,
   "metadata": {
    "collapsed": true,
    "deletable": true,
    "editable": true
   },
   "outputs": [],
   "source": [
    "import pandas as pd\n",
    "import json\n",
    "import matplotlib\n",
    "import matplotlib.pyplot as plt\n",
    "from IPython.display import display, HTML\n",
    "import json\n",
    "import numpy as np\n",
    "%matplotlib inline"
   ]
  },
  {
   "cell_type": "code",
   "execution_count": 3,
   "metadata": {
    "collapsed": true,
    "deletable": true,
    "editable": true
   },
   "outputs": [],
   "source": [
    "def read_csv(fname):\n",
    "    #f = lambda x : json.loads(x.replace(\"'\",\"\\\"\"))\n",
    "    #df = pd.read_csv(fname, converters={'sensor_type': f}, index_col=0)\n",
    "    df = pd.read_csv(fname, index_col=0)\n",
    "    return df"
   ]
  },
  {
   "cell_type": "code",
   "execution_count": 4,
   "metadata": {
    "collapsed": true,
    "deletable": true,
    "editable": true
   },
   "outputs": [],
   "source": [
    "def save_graph(plot, fname='saved.png'):\n",
    "    fig = plot.get_figure()\n",
    "    fig.savefig(fname)"
   ]
  },
  {
   "cell_type": "code",
   "execution_count": 51,
   "metadata": {
    "collapsed": true,
    "deletable": true,
    "editable": true
   },
   "outputs": [],
   "source": [
    "keys = {'all': ['ma_window', 'sensor_type', 'n_record', 'n_train', 'ms_interval'],\n",
    "        'kNN': ['n_neighbors', 'algorithm'],\n",
    "        'LOF': ['n_neighbors', 'algorithm'],\n",
    "        'k-means': ['n_clusters', 'max_iter'],\n",
    "        'NN': ['num_of_hidden_nodes', 'num_of_training_epochs', 'size_of_mini_batch', 'learning_rate'],\n",
    "       }\n",
    "\n",
    "def df_values(_df):\n",
    "    print('--- common')\n",
    "    for c in keys['all']:\n",
    "        if c == 'auc': continue\n",
    "        print(\"%-40s%s\" % (c, _df[c].unique()))\n",
    "\n",
    "    print('--- kNN')\n",
    "    for c in keys['kNN']:\n",
    "        if c == 'auc': continue\n",
    "        print(\"%-40s%s\" % (c, _df[_df['type']=='kNN'][c].unique()))\n",
    "    \n",
    "    print('--- LOF')\n",
    "    for c in keys['LOF']:\n",
    "        if c == 'auc': continue\n",
    "        print(\"%-40s%s\" % (c, _df[_df['type']=='LOF'][c].unique()))\n",
    "    \n",
    "    print('--- k-means')\n",
    "    for c in keys['k-means']:\n",
    "        if c == 'auc': continue\n",
    "        print(\"%-40s%s\" % (c, _df[_df['type']=='k-means'][c].unique()))\n",
    "    \n",
    "    print('--- NN')\n",
    "    for c in keys['NN']:\n",
    "        if c == 'auc': continue\n",
    "        print(\"%-40s%s\" % (c, _df[_df['type']=='NN'][c].unique()))"
   ]
  },
  {
   "cell_type": "code",
   "execution_count": 59,
   "metadata": {
    "collapsed": false,
    "deletable": true,
    "editable": true
   },
   "outputs": [],
   "source": [
    "def show_graph(df_list, columns, x_title, y_title):\n",
    "    df_list = [df[[x_title, y_title]] for df in df_list]\n",
    "    \n",
    "    df_list = [df.rename(index=str, columns={y_title: c}) for df, c in zip(df_list, columns)]\n",
    "    \n",
    "    merge_df = df_list[0]\n",
    "    for df in df_list[1:]:\n",
    "        merge_df = merge_df.merge(df, on=[x_title], how='outer')\n",
    "    \n",
    "    v = merge_df[columns].values\n",
    "    v_max, v_min = np.nanmax(v), np.nanmin(v)\n",
    "    v_range = v_max - v_min\n",
    "    \n",
    "    display(merge_df)\n",
    "    merge_df.plot.bar(x='n_train', ylim=[v_min - v_range*0.1, v_max + v_range*0.2])"
   ]
  },
  {
   "cell_type": "code",
   "execution_count": 60,
   "metadata": {
    "collapsed": false,
    "deletable": true,
    "editable": true,
    "scrolled": false
   },
   "outputs": [
    {
     "name": "stdout",
     "output_type": "stream",
     "text": [
      "--- common\n",
      "ma_window                               [1]\n",
      "sensor_type                             [ '[\"rssi.a\", \"rssi.b\", [\"gyro.rotationRate.x\", \"gyro.rotationRate.y\", \"gyro.rotationRate.z\"]]']\n",
      "n_record                                [1]\n",
      "n_train                                 [  1   5  10  20 100]\n",
      "ms_interval                             [20]\n",
      "--- kNN\n",
      "n_neighbors                             [ 1.  3.  5.  7.  9.]\n",
      "algorithm                               ['ball_tree']\n",
      "--- LOF\n",
      "n_neighbors                             [ 1.  3.  5.  7.  9.]\n",
      "algorithm                               ['ball_tree']\n",
      "--- k-means\n",
      "n_clusters                              [ 1.  3.  5.  7.  9.]\n",
      "max_iter                                [ 3.]\n",
      "--- NN\n",
      "num_of_hidden_nodes                     [  4.   8.  16.  32.]\n",
      "num_of_training_epochs                  [ 100.]\n",
      "size_of_mini_batch                      [ 10.]\n",
      "learning_rate                           [ 0.02]\n"
     ]
    },
    {
     "data": {
      "text/html": [
       "<div>\n",
       "<table border=\"1\" class=\"dataframe\">\n",
       "  <thead>\n",
       "    <tr style=\"text-align: right;\">\n",
       "      <th></th>\n",
       "      <th>n_train</th>\n",
       "      <th>kNN</th>\n",
       "      <th>LOF</th>\n",
       "      <th>k-menas</th>\n",
       "      <th>NN</th>\n",
       "    </tr>\n",
       "  </thead>\n",
       "  <tbody>\n",
       "    <tr>\n",
       "      <th>0</th>\n",
       "      <td>5</td>\n",
       "      <td>0.896713</td>\n",
       "      <td>0.900556</td>\n",
       "      <td>0.900509</td>\n",
       "      <td>0.900880</td>\n",
       "    </tr>\n",
       "    <tr>\n",
       "      <th>1</th>\n",
       "      <td>10</td>\n",
       "      <td>0.901852</td>\n",
       "      <td>0.892731</td>\n",
       "      <td>0.902731</td>\n",
       "      <td>0.901806</td>\n",
       "    </tr>\n",
       "    <tr>\n",
       "      <th>2</th>\n",
       "      <td>20</td>\n",
       "      <td>0.909444</td>\n",
       "      <td>0.886759</td>\n",
       "      <td>0.907731</td>\n",
       "      <td>0.905231</td>\n",
       "    </tr>\n",
       "    <tr>\n",
       "      <th>3</th>\n",
       "      <td>100</td>\n",
       "      <td>0.905324</td>\n",
       "      <td>0.883704</td>\n",
       "      <td>0.903519</td>\n",
       "      <td>0.900972</td>\n",
       "    </tr>\n",
       "    <tr>\n",
       "      <th>4</th>\n",
       "      <td>1</td>\n",
       "      <td>NaN</td>\n",
       "      <td>NaN</td>\n",
       "      <td>0.880787</td>\n",
       "      <td>0.882222</td>\n",
       "    </tr>\n",
       "  </tbody>\n",
       "</table>\n",
       "</div>"
      ],
      "text/plain": [
       "   n_train       kNN       LOF   k-menas        NN\n",
       "0        5  0.896713  0.900556  0.900509  0.900880\n",
       "1       10  0.901852  0.892731  0.902731  0.901806\n",
       "2       20  0.909444  0.886759  0.907731  0.905231\n",
       "3      100  0.905324  0.883704  0.903519  0.900972\n",
       "4        1       NaN       NaN  0.880787  0.882222"
      ]
     },
     "metadata": {},
     "output_type": "display_data"
    },
    {
     "data": {
      "image/png": "[encoded data removed]",
      "text/plain": [
       "<matplotlib.figure.Figure at 0x7fde01952320>"
      ]
     },
     "metadata": {},
     "output_type": "display_data"
    }
   ],
   "source": [
    "csv_file = 'test_record_02_11_01__^02_11__^02_1[23].csv'\n",
    "#csv_file = 'test_record_02_01_01__^02_01__^02_1[23].csv'\n",
    "df = read_csv(csv_file)\n",
    "\n",
    "_d = df[\n",
    "    (df['n_record'] == 1) & \n",
    "    (df['ms_interval'] == 20) &\n",
    "    (df['sensor_type'].apply(lambda x: 'gyro.rotationRate' in x))\n",
    "]\n",
    "df_values(_d)\n",
    "\n",
    "_d_knn = _d[(_d['type']=='kNN') & (_d['n_neighbors'] == 5)]\n",
    "_d_nn  = _d[(_d['type']=='NN') & (_d['num_of_hidden_nodes'] == 8)]\n",
    "_d_lof = _d[(_d['type']=='LOF') & (_d['n_neighbors'] == 5)]\n",
    "_d_kms = _d[(_d['type']=='k-means') & (_d['n_clusters'] == 1)]\n",
    "\n",
    "show_graph([_d_knn, _d_lof, _d_kms, _d_nn], ['kNN',  'LOF', 'k-menas', 'NN'], 'n_train', 'auc')"
   ]
  },
  {
   "cell_type": "code",
   "execution_count": null,
   "metadata": {
    "collapsed": true
   },
   "outputs": [],
   "source": []
  }
 ],
 "metadata": {
  "kernelspec": {
   "display_name": "Python 3",
   "language": "python",
   "name": "python3"
  },
  "language_info": {
   "codemirror_mode": {
    "name": "ipython",
    "version": 3
   },
   "file_extension": ".py",
   "mimetype": "text/x-python",
   "name": "python",
   "nbconvert_exporter": "python",
   "pygments_lexer": "ipython3",
   "version": "3.5.2"
  }
 },
 "nbformat": 4,
 "nbformat_minor": 2
}
