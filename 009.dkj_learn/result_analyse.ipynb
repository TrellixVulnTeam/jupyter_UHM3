{
 "cells": [
  {
   "cell_type": "code",
   "execution_count": 2,
   "metadata": {
    "collapsed": true,
    "deletable": true,
    "editable": true
   },
   "outputs": [],
   "source": [
    "import pandas as pd\n",
    "import json\n",
    "import matplotlib\n",
    "import matplotlib.pyplot as plt\n",
    "from IPython.display import display, HTML\n",
    "import json\n",
    "import numpy as np\n",
    "%matplotlib inline"
   ]
  },
  {
   "cell_type": "code",
   "execution_count": 3,
   "metadata": {
    "collapsed": true,
    "deletable": true,
    "editable": true
   },
   "outputs": [],
   "source": [
    "def read_csv(fname):\n",
    "    #f = lambda x : json.loads(x.replace(\"'\",\"\\\"\"))\n",
    "    #df = pd.read_csv(fname, converters={'sensor_type': f}, index_col=0)\n",
    "    df = pd.read_csv(fname, index_col=0)\n",
    "    return df"
   ]
  },
  {
   "cell_type": "code",
   "execution_count": 4,
   "metadata": {
    "collapsed": true,
    "deletable": true,
    "editable": true
   },
   "outputs": [],
   "source": [
    "def save_graph(plot, fname='saved.png'):\n",
    "    fig = plot.get_figure()\n",
    "    fig.savefig(fname)"
   ]
  },
  {
   "cell_type": "code",
   "execution_count": 51,
   "metadata": {
    "collapsed": true,
    "deletable": true,
    "editable": true
   },
   "outputs": [],
   "source": [
    "keys = {'all': ['ma_window', 'sensor_type', 'n_record', 'n_train', 'ms_interval'],\n",
    "        'kNN': ['n_neighbors', 'algorithm'],\n",
    "        'LOF': ['n_neighbors', 'algorithm'],\n",
    "        'k-means': ['n_clusters', 'max_iter'],\n",
    "        'NN': ['num_of_hidden_nodes', 'num_of_training_epochs', 'size_of_mini_batch', 'learning_rate'],\n",
    "       }\n",
    "\n",
    "def df_values(_df):\n",
    "    print('--- common')\n",
    "    for c in keys['all']:\n",
    "        if c == 'auc': continue\n",
    "        print(\"%-40s%s\" % (c, _df[c].unique()))\n",
    "\n",
    "    print('--- kNN')\n",
    "    for c in keys['kNN']:\n",
    "        if c == 'auc': continue\n",
    "        print(\"%-40s%s\" % (c, _df[_df['type']=='kNN'][c].unique()))\n",
    "    \n",
    "    print('--- LOF')\n",
    "    for c in keys['LOF']:\n",
    "        if c == 'auc': continue\n",
    "        print(\"%-40s%s\" % (c, _df[_df['type']=='LOF'][c].unique()))\n",
    "    \n",
    "    print('--- k-means')\n",
    "    for c in keys['k-means']:\n",
    "        if c == 'auc': continue\n",
    "        print(\"%-40s%s\" % (c, _df[_df['type']=='k-means'][c].unique()))\n",
    "    \n",
    "    print('--- NN')\n",
    "    for c in keys['NN']:\n",
    "        if c == 'auc': continue\n",
    "        print(\"%-40s%s\" % (c, _df[_df['type']=='NN'][c].unique()))"
   ]
  },
  {
   "cell_type": "code",
   "execution_count": 66,
   "metadata": {
    "collapsed": false,
    "deletable": true,
    "editable": true
   },
   "outputs": [],
   "source": [
    "def show_graph(df_list, columns, x_title, y_title):\n",
    "    df_list = [df[[x_title, y_title]] for df in df_list]\n",
    "    \n",
    "    df_list = [df.rename(index=str, columns={y_title: c}) for df, c in zip(df_list, columns)]\n",
    "    \n",
    "    merge_df = df_list[0]\n",
    "    for df in df_list[1:]:\n",
    "        merge_df = merge_df.merge(df, on=[x_title], how='outer')\n",
    "    \n",
    "    v = merge_df[columns].values\n",
    "    v_max, v_min = np.nanmax(v), np.nanmin(v)\n",
    "    v_range = v_max - v_min\n",
    "    \n",
    "    display(merge_df)\n",
    "    merge_df.plot.bar(x=x_title, ylim=[v_min - v_range*0.1, v_max + v_range*0.2])"
   ]
  },
  {
   "cell_type": "code",
   "execution_count": 114,
   "metadata": {
    "collapsed": false,
    "deletable": true,
    "editable": true,
    "scrolled": false
   },
   "outputs": [
    {
     "data": {
      "text/html": [
       "<div>\n",
       "<table border=\"1\" class=\"dataframe\">\n",
       "  <thead>\n",
       "    <tr style=\"text-align: right;\">\n",
       "      <th></th>\n",
       "      <th>n_train</th>\n",
       "      <th>kNN</th>\n",
       "      <th>LOF</th>\n",
       "      <th>k-menas</th>\n",
       "      <th>NN</th>\n",
       "    </tr>\n",
       "  </thead>\n",
       "  <tbody>\n",
       "    <tr>\n",
       "      <th>0</th>\n",
       "      <td>5</td>\n",
       "      <td>0.934722</td>\n",
       "      <td>0.904306</td>\n",
       "      <td>0.944074</td>\n",
       "      <td>0.945046</td>\n",
       "    </tr>\n",
       "    <tr>\n",
       "      <th>1</th>\n",
       "      <td>10</td>\n",
       "      <td>0.947546</td>\n",
       "      <td>0.943102</td>\n",
       "      <td>0.944259</td>\n",
       "      <td>0.947685</td>\n",
       "    </tr>\n",
       "    <tr>\n",
       "      <th>2</th>\n",
       "      <td>20</td>\n",
       "      <td>0.962176</td>\n",
       "      <td>0.909583</td>\n",
       "      <td>0.957176</td>\n",
       "      <td>0.961389</td>\n",
       "    </tr>\n",
       "    <tr>\n",
       "      <th>3</th>\n",
       "      <td>100</td>\n",
       "      <td>0.953565</td>\n",
       "      <td>0.902639</td>\n",
       "      <td>0.952407</td>\n",
       "      <td>0.955648</td>\n",
       "    </tr>\n",
       "    <tr>\n",
       "      <th>4</th>\n",
       "      <td>1</td>\n",
       "      <td>NaN</td>\n",
       "      <td>NaN</td>\n",
       "      <td>0.906111</td>\n",
       "      <td>0.898519</td>\n",
       "    </tr>\n",
       "  </tbody>\n",
       "</table>\n",
       "</div>"
      ],
      "text/plain": [
       "   n_train       kNN       LOF   k-menas        NN\n",
       "0        5  0.934722  0.904306  0.944074  0.945046\n",
       "1       10  0.947546  0.943102  0.944259  0.947685\n",
       "2       20  0.962176  0.909583  0.957176  0.961389\n",
       "3      100  0.953565  0.902639  0.952407  0.955648\n",
       "4        1       NaN       NaN  0.906111  0.898519"
      ]
     },
     "metadata": {},
     "output_type": "display_data"
    },
    {
     "data": {
      "image/png": "[encoded data removed]",
      "text/plain": [
       "<matplotlib.figure.Figure at 0x7fde018d2da0>"
      ]
     },
     "metadata": {},
     "output_type": "display_data"
    }
   ],
   "source": [
    "#csv_file = 'test_record_02_11_01__^02_11__^02_1[23].csv'\n",
    "csv_file = 'test_record_02_01_01__^02_01__^02_0[23].csv'\n",
    "df = read_csv(csv_file)\n",
    "\n",
    "_d = df[\n",
    "    (df['n_record'] == 1) & \n",
    "    (df['ms_interval'] == 20) &\n",
    "    (df['sensor_type'].apply(lambda x: 'gyro.rotationRate' in x))\n",
    "]\n",
    "#df_values(_d)\n",
    "\n",
    "_d_knn = _d[(_d['type']=='kNN') & (_d['n_neighbors'] == 5)]\n",
    "_d_nn  = _d[(_d['type']=='NN') & (_d['num_of_hidden_nodes'] == 32)]\n",
    "_d_lof = _d[(_d['type']=='LOF') & (_d['n_neighbors'] == 5)]\n",
    "_d_kms = _d[(_d['type']=='k-means') & (_d['n_clusters'] == 1)]\n",
    "\n",
    "show_graph([_d_knn, _d_lof, _d_kms, _d_nn], ['kNN',  'LOF', 'k-menas', 'NN'], 'n_train', 'auc')"
   ]
  },
  {
   "cell_type": "code",
   "execution_count": 143,
   "metadata": {
    "collapsed": false,
    "deletable": true,
    "editable": true,
    "scrolled": false
   },
   "outputs": [
    {
     "name": "stdout",
     "output_type": "stream",
     "text": [
      "total 20242 results\n",
      "--- common\n",
      "ma_window                               [1]\n",
      "sensor_type                             [ '[\"rssi.a\", \"rssi.b\", [\"linear_accel[0]\", \"linear_accel[1]\", \"linear_accel[2]\"]]']\n",
      "n_record                                [-5 -1  0  1  5 20]\n",
      "n_train                                 [5]\n",
      "ms_interval                             [100]\n",
      "--- kNN\n",
      "n_neighbors                             []\n",
      "algorithm                               []\n",
      "--- LOF\n",
      "n_neighbors                             []\n",
      "algorithm                               []\n",
      "--- k-means\n",
      "n_clusters                              []\n",
      "max_iter                                []\n",
      "--- NN\n",
      "num_of_hidden_nodes                     [  4.   8.  16.  32.]\n",
      "num_of_training_epochs                  [ 100.]\n",
      "size_of_mini_batch                      [ 10.]\n",
      "learning_rate                           [ 0.02]\n"
     ]
    },
    {
     "data": {
      "text/html": [
       "<div>\n",
       "<table border=\"1\" class=\"dataframe\">\n",
       "  <thead>\n",
       "    <tr style=\"text-align: right;\">\n",
       "      <th></th>\n",
       "      <th>num_of_hidden_nodes</th>\n",
       "      <th>-5</th>\n",
       "      <th>-1</th>\n",
       "      <th>0</th>\n",
       "      <th>1</th>\n",
       "      <th>5</th>\n",
       "      <th>20</th>\n",
       "    </tr>\n",
       "  </thead>\n",
       "  <tbody>\n",
       "    <tr>\n",
       "      <th>0</th>\n",
       "      <td>4.0</td>\n",
       "      <td>0.994815</td>\n",
       "      <td>0.987083</td>\n",
       "      <td>0.982222</td>\n",
       "      <td>0.982731</td>\n",
       "      <td>0.994120</td>\n",
       "      <td>0.989676</td>\n",
       "    </tr>\n",
       "    <tr>\n",
       "      <th>1</th>\n",
       "      <td>8.0</td>\n",
       "      <td>0.994769</td>\n",
       "      <td>0.987083</td>\n",
       "      <td>0.982269</td>\n",
       "      <td>0.982361</td>\n",
       "      <td>0.994167</td>\n",
       "      <td>0.990046</td>\n",
       "    </tr>\n",
       "    <tr>\n",
       "      <th>2</th>\n",
       "      <td>16.0</td>\n",
       "      <td>0.994861</td>\n",
       "      <td>0.986667</td>\n",
       "      <td>0.982269</td>\n",
       "      <td>0.982685</td>\n",
       "      <td>0.994167</td>\n",
       "      <td>0.989815</td>\n",
       "    </tr>\n",
       "    <tr>\n",
       "      <th>3</th>\n",
       "      <td>32.0</td>\n",
       "      <td>0.994722</td>\n",
       "      <td>0.986713</td>\n",
       "      <td>0.982083</td>\n",
       "      <td>0.982083</td>\n",
       "      <td>0.994167</td>\n",
       "      <td>0.989954</td>\n",
       "    </tr>\n",
       "  </tbody>\n",
       "</table>\n",
       "</div>"
      ],
      "text/plain": [
       "   num_of_hidden_nodes        -5        -1         0         1         5  \\\n",
       "0                  4.0  0.994815  0.987083  0.982222  0.982731  0.994120   \n",
       "1                  8.0  0.994769  0.987083  0.982269  0.982361  0.994167   \n",
       "2                 16.0  0.994861  0.986667  0.982269  0.982685  0.994167   \n",
       "3                 32.0  0.994722  0.986713  0.982083  0.982083  0.994167   \n",
       "\n",
       "         20  \n",
       "0  0.989676  \n",
       "1  0.990046  \n",
       "2  0.989815  \n",
       "3  0.989954  "
      ]
     },
     "metadata": {},
     "output_type": "display_data"
    },
    {
     "data": {
      "image/png": "[encoded data removed]",
      "text/plain": [
       "<matplotlib.figure.Figure at 0x7fde01b42630>"
      ]
     },
     "metadata": {},
     "output_type": "display_data"
    }
   ],
   "source": [
    "#csv_file = 'test_record_02_11_01__^02_11__^02_1[23].csv'\n",
    "#csv_file = 'test_record_02_01_01__^02_01__^02_0[23].csv'\n",
    "#csv_file = 'test_record_01_01_01__^01_01__^01_0[23].csv'\n",
    "csv_file = 'test_record_01_11_01__^01_11__^01_1[23].csv'\n",
    "df = read_csv(csv_file)\n",
    "print('total %d results'%(len(df)))\n",
    "\n",
    "_d = df[\n",
    "    (df['n_train'] == 5) & \n",
    "    (df['ma_window'] == 1) &\n",
    "    (df['ms_interval'] == 100) &\n",
    "    (df['sensor_type'].apply(lambda x: 'linear_accel' in x))\n",
    "]\n",
    "\n",
    "_d  = _d[_d['type']=='NN']\n",
    "df_values(_d)\n",
    "\n",
    "_d_n_record = [_d[_d['n_record'] == x] for x in _d['n_record'].unique()]\n",
    "\n",
    "show_graph(_d_n_record, list(_d['n_record'].unique()), 'num_of_hidden_nodes', 'auc')"
   ]
  },
  {
   "cell_type": "code",
   "execution_count": 123,
   "metadata": {
    "collapsed": false
   },
   "outputs": [
    {
     "name": "stdout",
     "output_type": "stream",
     "text": [
      "total 20150 results\n"
     ]
    }
   ],
   "source": [
    "#csv_file = 'test_record_02_11_01__^02_11__^02_1[23].csv'\n",
    "#csv_file = 'test_record_02_01_01__^02_01__^02_0[23].csv'\n",
    "csv_file = 'test_record_01_01_01__^01_01__^01_0[23].csv'\n",
    "df = read_csv(csv_file)\n",
    "print('total %d results'%(len(df)))\n",
    "\n",
    "df = df[~(df['sensor_type'].apply(lambda x: 'acceleration' in x))]\n",
    "df = df[~(df['sensor_type'].apply(lambda x: 'gyro.rotationRate' in x))]\n",
    "df = df[~(df['sensor_type'].apply(lambda x: 'magneticField' in x))]\n",
    "df = df[~(df['sensor_type'].apply(lambda x: 'attitude' in x))]\n",
    "df = df[~(df['sensor_type'].apply(lambda x: 'rotationRate' in x))]\n",
    "df = df[~(df['sensor_type'].apply(lambda x: 'gravity.x' in x))]\n",
    "df = df[~(df['sensor_type'].apply(lambda x: 'userAcceleration' in x))]\n",
    "\n",
    "df.to_csv(csv_file)"
   ]
  }
 ],
 "metadata": {
  "kernelspec": {
   "display_name": "Python 3",
   "language": "python",
   "name": "python3"
  },
  "language_info": {
   "codemirror_mode": {
    "name": "ipython",
    "version": 3
   },
   "file_extension": ".py",
   "mimetype": "text/x-python",
   "name": "python",
   "nbconvert_exporter": "python",
   "pygments_lexer": "ipython3",
   "version": "3.5.2"
  }
 },
 "nbformat": 4,
 "nbformat_minor": 2
}
