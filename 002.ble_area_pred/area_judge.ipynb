{
 "cells": [
  {
   "cell_type": "code",
   "execution_count": 1,
   "metadata": {
    "collapsed": true
   },
   "outputs": [],
   "source": [
    "# predict the next rssi value from current time value\n",
    "import tensorflow as tf\n",
    "import numpy as np\n",
    "import random\n",
    "import pandas as pd\n",
    "%matplotlib inline"
   ]
  },
  {
   "cell_type": "code",
   "execution_count": 2,
   "metadata": {
    "collapsed": true
   },
   "outputs": [],
   "source": [
    "def make_mini_batch(train_data, size_of_mini_batch, length_of_sequences):\n",
    "    inputs  = np.empty(0)\n",
    "    outputs = np.empty(0)\n",
    "    for _ in range(size_of_mini_batch):\n",
    "        index   = random.randint(0, len(train_data) - length_of_sequences)\n",
    "        part    = train_data[index:index + length_of_sequences]\n",
    "        inputs  = np.append(inputs, part[:, 0])\n",
    "        outputs = np.append(outputs, part[-1, 2])\n",
    "    inputs  = inputs.reshape(-1, length_of_sequences, 1)\n",
    "    outputs = outputs.reshape(-1, 1)\n",
    "    return (inputs, outputs)"
   ]
  },
  {
   "cell_type": "code",
   "execution_count": 3,
   "metadata": {
    "collapsed": true
   },
   "outputs": [],
   "source": [
    "def make_prediction_initial(train_data, index, length_of_sequences):\n",
    "    return train_data[index:index + length_of_sequences, 0]"
   ]
  },
  {
   "cell_type": "code",
   "execution_count": 12,
   "metadata": {
    "collapsed": false
   },
   "outputs": [],
   "source": [
    "#''' pred area judgement from rssi\n",
    "train_data_path             = \"./data.npy\"\n",
    "num_of_input_nodes          = 1\n",
    "num_of_hidden_nodes         = 20\n",
    "num_of_output_nodes         = 1\n",
    "length_of_sequences         = 40\n",
    "num_of_training_epochs      = 1000\n",
    "\n",
    "length_of_initial_sequences = 40\n",
    "num_of_prediction_epochs    = 0\n",
    "\n",
    "size_of_mini_batch          = 10\n",
    "size_of_test_batch          = 100\n",
    "learning_rate               = 0.01\n",
    "forget_bias                 = 1.0"
   ]
  },
  {
   "cell_type": "code",
   "execution_count": 5,
   "metadata": {
    "collapsed": false
   },
   "outputs": [
    {
     "data": {
      "text/plain": [
       "array([[-0.7, 30.0, 0.0],\n",
       "       [-0.7, 29.83333333, 0.0],\n",
       "       [-0.6666666666666666, 29.66666667, 0.0],\n",
       "       [-0.6, 29.5, 0.0],\n",
       "       [-0.5, 29.33333333, 0.0],\n",
       "       [-0.43333333333333335, 29.16666667, 0.0],\n",
       "       [-0.36666666666666664, 29.0, 0.0],\n",
       "       [-0.3333333333333333, 28.83333333, 0.0],\n",
       "       [-0.3, 28.66666667, 0.0],\n",
       "       [-0.23333333333333334, 28.5, 0.0]], dtype=object)"
      ]
     },
     "execution_count": 5,
     "metadata": {},
     "output_type": "execute_result"
    }
   ],
   "source": [
    "train_data = np.load(train_data_path)\n",
    "# normalize\n",
    "train_data[:,0] = (train_data[:,0] + 60.0)/30\n",
    "train_data[:,2] = [1.0 if x == True else 0.0 for x in train_data[:,2]]\n",
    "train_data[:10]"
   ]
  },
  {
   "cell_type": "code",
   "execution_count": 6,
   "metadata": {
    "collapsed": false
   },
   "outputs": [],
   "source": [
    "# random seed fix\n",
    "random.seed(0)\n",
    "np.random.seed(0)\n",
    "tf.set_random_seed(0)"
   ]
  },
  {
   "cell_type": "code",
   "execution_count": 14,
   "metadata": {
    "collapsed": false,
    "scrolled": false
   },
   "outputs": [
    {
     "name": "stdout",
     "output_type": "stream",
     "text": [
      "train#10, train loss: 5.005668e-01, accuracy: 0.830000\n",
      "train#20, train loss: 5.053466e-01, accuracy: 0.770000\n",
      "train#30, train loss: 2.273381e-01, accuracy: 0.810000\n",
      "train#40, train loss: 5.009541e-01, accuracy: 0.790000\n",
      "train#50, train loss: 2.113542e-01, accuracy: 0.790000\n",
      "train#60, train loss: 3.423701e-01, accuracy: 0.790000\n",
      "train#70, train loss: 3.545994e-01, accuracy: 0.930000\n",
      "train#80, train loss: 3.700719e-01, accuracy: 0.940000\n",
      "train#90, train loss: 5.023274e-02, accuracy: 0.880000\n",
      "train#100, train loss: 1.313662e-01, accuracy: 0.950000\n",
      "train#110, train loss: 3.952820e-02, accuracy: 0.910000\n",
      "train#120, train loss: 1.939017e-01, accuracy: 0.910000\n",
      "train#130, train loss: 2.364132e-01, accuracy: 0.920000\n",
      "train#140, train loss: 1.019806e+00, accuracy: 0.730000\n",
      "train#150, train loss: 5.415584e-01, accuracy: 0.820000\n",
      "train#160, train loss: 6.126927e-01, accuracy: 0.780000\n",
      "train#170, train loss: 7.377098e-01, accuracy: 0.780000\n",
      "train#180, train loss: 4.324535e-01, accuracy: 0.870000\n",
      "train#190, train loss: 1.784728e-01, accuracy: 0.930000\n",
      "train#200, train loss: 1.533787e-01, accuracy: 0.890000\n",
      "train#210, train loss: 1.467389e-01, accuracy: 0.920000\n",
      "train#220, train loss: 1.543648e-01, accuracy: 0.910000\n",
      "train#230, train loss: 3.257341e-01, accuracy: 0.860000\n",
      "train#240, train loss: 1.935229e-01, accuracy: 0.840000\n",
      "train#250, train loss: 1.923625e-01, accuracy: 0.910000\n",
      "train#260, train loss: 2.449772e-01, accuracy: 0.820000\n",
      "train#270, train loss: 1.223295e-01, accuracy: 0.920000\n",
      "train#280, train loss: 3.349202e-02, accuracy: 0.980000\n",
      "train#290, train loss: 5.756782e-02, accuracy: 0.850000\n",
      "train#300, train loss: 2.337899e-01, accuracy: 0.910000\n",
      "train#310, train loss: 1.762004e-01, accuracy: 0.930000\n",
      "train#320, train loss: 5.107951e-02, accuracy: 0.950000\n",
      "train#330, train loss: 2.197789e-01, accuracy: 0.950000\n",
      "train#340, train loss: 1.074764e-01, accuracy: 1.000000\n",
      "train#350, train loss: 5.545318e-02, accuracy: 1.000000\n",
      "train#360, train loss: 5.321190e-02, accuracy: 0.990000\n",
      "train#370, train loss: 1.427175e-02, accuracy: 1.000000\n",
      "train#380, train loss: 1.498534e-02, accuracy: 0.990000\n",
      "train#390, train loss: 6.343821e-02, accuracy: 1.000000\n",
      "train#400, train loss: 4.534021e-03, accuracy: 1.000000\n",
      "train#410, train loss: 1.061842e-02, accuracy: 0.990000\n",
      "train#420, train loss: 2.065603e-02, accuracy: 1.000000\n",
      "train#430, train loss: 1.183583e-01, accuracy: 0.970000\n",
      "train#440, train loss: 1.188053e-02, accuracy: 1.000000\n",
      "train#450, train loss: 9.559131e-02, accuracy: 1.000000\n",
      "train#460, train loss: 7.333497e-03, accuracy: 0.990000\n",
      "train#470, train loss: 4.061165e-03, accuracy: 0.990000\n",
      "train#480, train loss: 1.973750e-02, accuracy: 0.980000\n",
      "train#490, train loss: 5.688905e-03, accuracy: 1.000000\n",
      "train#500, train loss: 2.792269e-03, accuracy: 0.990000\n",
      "train#510, train loss: 3.232802e-03, accuracy: 1.000000\n",
      "train#520, train loss: 4.757999e-03, accuracy: 1.000000\n",
      "train#530, train loss: 1.322731e-03, accuracy: 1.000000\n",
      "train#540, train loss: 1.297379e-03, accuracy: 0.950000\n",
      "train#550, train loss: 1.145642e+00, accuracy: 0.810000\n",
      "train#560, train loss: 6.265167e-01, accuracy: 0.900000\n",
      "train#570, train loss: 3.457332e-01, accuracy: 0.890000\n",
      "train#580, train loss: 2.680330e-01, accuracy: 0.940000\n",
      "train#590, train loss: 3.465100e-02, accuracy: 0.890000\n",
      "train#600, train loss: 1.078504e-01, accuracy: 0.920000\n",
      "train#610, train loss: 1.179269e-01, accuracy: 0.910000\n",
      "train#620, train loss: 8.897088e-02, accuracy: 0.960000\n",
      "train#630, train loss: 4.271734e-02, accuracy: 1.000000\n",
      "train#640, train loss: 6.338669e-03, accuracy: 1.000000\n",
      "train#650, train loss: 8.859554e-03, accuracy: 0.970000\n",
      "train#660, train loss: 1.558979e-02, accuracy: 1.000000\n",
      "train#670, train loss: 7.675003e-03, accuracy: 0.990000\n",
      "train#680, train loss: 1.703477e-02, accuracy: 1.000000\n",
      "train#690, train loss: 3.468873e-03, accuracy: 0.990000\n",
      "train#700, train loss: 4.615905e-03, accuracy: 0.990000\n",
      "train#710, train loss: 1.591717e-03, accuracy: 1.000000\n",
      "train#720, train loss: 7.369149e-02, accuracy: 1.000000\n",
      "train#730, train loss: 5.282378e-03, accuracy: 1.000000\n",
      "train#740, train loss: 5.332807e-03, accuracy: 0.970000\n",
      "train#750, train loss: 4.136565e-03, accuracy: 0.990000\n",
      "train#760, train loss: 3.846054e-03, accuracy: 1.000000\n",
      "train#770, train loss: 2.229165e-03, accuracy: 1.000000\n",
      "train#780, train loss: 2.663008e-03, accuracy: 1.000000\n",
      "train#790, train loss: 1.707049e-03, accuracy: 1.000000\n",
      "train#800, train loss: 1.847433e-03, accuracy: 0.980000\n",
      "train#810, train loss: 1.039615e-03, accuracy: 1.000000\n",
      "train#820, train loss: 1.425072e-03, accuracy: 0.990000\n",
      "train#830, train loss: 2.200866e-01, accuracy: 1.000000\n",
      "train#840, train loss: 1.505007e-03, accuracy: 1.000000\n",
      "train#850, train loss: 1.842628e-03, accuracy: 1.000000\n",
      "train#860, train loss: 9.628389e-04, accuracy: 1.000000\n",
      "train#870, train loss: 1.120247e-03, accuracy: 1.000000\n",
      "train#880, train loss: 1.076565e-03, accuracy: 1.000000\n",
      "train#890, train loss: 1.457897e-03, accuracy: 1.000000\n",
      "train#900, train loss: 2.330047e-02, accuracy: 1.000000\n",
      "train#910, train loss: 2.319138e-03, accuracy: 1.000000\n",
      "train#920, train loss: 2.487883e-03, accuracy: 1.000000\n",
      "train#930, train loss: 6.931950e-04, accuracy: 1.000000\n",
      "train#940, train loss: 2.996564e-03, accuracy: 1.000000\n",
      "train#950, train loss: 1.018929e-02, accuracy: 1.000000\n",
      "train#960, train loss: 1.368389e-03, accuracy: 1.000000\n",
      "train#970, train loss: 6.809564e-04, accuracy: 1.000000\n",
      "train#980, train loss: 9.211866e-04, accuracy: 1.000000\n",
      "train#990, train loss: 5.148019e-04, accuracy: 1.000000\n",
      "train#1000, train loss: 2.491138e-03, accuracy: 1.000000\n"
     ]
    }
   ],
   "source": [
    "#optimizer = tf.train.GradientDescentOptimizer(learning_rate=learning_rate)\n",
    "#optimizer = tf.train.AdagradOptimizer(learning_rate=learning_rate)\n",
    "optimizer = tf.train.AdamOptimizer(learning_rate=learning_rate)\n",
    "\n",
    "with tf.Graph().as_default():\n",
    "    input_ph      = tf.placeholder(tf.float32, [None, length_of_sequences, num_of_input_nodes], name=\"input\")\n",
    "    supervisor_ph = tf.placeholder(tf.float32, [None, num_of_output_nodes], name=\"supervisor\")\n",
    "    istate_ph     = tf.placeholder(tf.float32, [None, num_of_hidden_nodes * 2], name=\"istate\")\n",
    "    batch_size_ph = tf.placeholder(tf.int32, name=\"istate\")\n",
    "\n",
    "    with tf.name_scope(\"inference\") as scope:\n",
    "        weight1_var = tf.Variable(tf.truncated_normal([num_of_input_nodes, num_of_hidden_nodes], stddev=0.1), name=\"weight1\")\n",
    "        weight2_var = tf.Variable(tf.truncated_normal([num_of_hidden_nodes, num_of_output_nodes], stddev=0.1), name=\"weight2\")\n",
    "        bias1_var   = tf.Variable(tf.truncated_normal([num_of_hidden_nodes], stddev=0.1), name=\"bias1\")\n",
    "        bias2_var   = tf.Variable(tf.truncated_normal([num_of_output_nodes], stddev=0.1), name=\"bias2\")\n",
    "\n",
    "        weight1_hist = tf.histogram_summary(\"layer1/weights\", weight1_var)\n",
    "        weight2_hist = tf.histogram_summary(\"layer2/weights\", weight2_var)\n",
    "        bias1_hist = tf.histogram_summary(\"layer1/biases\", bias1_var)\n",
    "        bias2_hist = tf.histogram_summary(\"layer2/biases\", bias2_var)\n",
    "\n",
    "        in1 = tf.transpose(input_ph, [1, 0, 2])         # (batch, sequence, data) -> (sequence, batch, data)\n",
    "        in2 = tf.reshape(in1, [-1, num_of_input_nodes]) # (sequence, batch, data) -> (sequence * batch, data)\n",
    "        in3 = tf.matmul(in2, weight1_var) + bias1_var\n",
    "        in4 = tf.split(0, length_of_sequences, in3)     # sequence * (batch, data)\n",
    "\n",
    "        _cell = tf.nn.rnn_cell.BasicLSTMCell(num_of_hidden_nodes, forget_bias=forget_bias, state_is_tuple=True)\n",
    "        cell = tf.nn.rnn_cell.MultiRNNCell([_cell]*3, state_is_tuple=True)\n",
    "        zero_state = cell.zero_state(batch_size_ph, tf.float32)\n",
    "        rnn_output, states_op = tf.nn.rnn(cell, in4, initial_state=zero_state)\n",
    "        out1 = tf.matmul(rnn_output[-1], weight2_var) + bias2_var\n",
    "        output_op = tf.nn.sigmoid(out1)\n",
    "\n",
    "    with tf.name_scope(\"loss\") as scope:\n",
    "        log_likelihood = tf.reduce_mean(tf.reduce_sum(supervisor_ph * tf.log(output_op) + (1 - supervisor_ph) * tf.log(1 - output_op), reduction_indices=[1]))\n",
    "        loss_op = -log_likelihood\n",
    "        tf.scalar_summary(\"loss\", loss_op)\n",
    "\n",
    "    with tf.name_scope(\"training\") as scope:\n",
    "        training_op = optimizer.minimize(loss_op)\n",
    "\n",
    "    with tf.name_scope(\"test\") as scope:\n",
    "        judge = tf.select(tf.greater(output_op, 0.5), tf.zeros_like(output_op, dtype=tf.float32), tf.ones_like(output_op, dtype=tf.float32))\n",
    "        valid = tf.select(tf.equal(judge, supervisor_ph), tf.zeros_like(judge, dtype=tf.float32), tf.ones_like(judge, dtype=tf.float32))\n",
    "        accuracy_op = tf.reduce_mean(valid)\n",
    "\n",
    "    summary_op = tf.merge_all_summaries()\n",
    "    init = tf.initialize_all_variables()\n",
    "\n",
    "    with tf.Session() as sess:\n",
    "        saver = tf.train.Saver()\n",
    "        summary_writer = tf.train.SummaryWriter(\"data\", graph=sess.graph)\n",
    "        sess.run(init)\n",
    "\n",
    "        for epoch in range(num_of_training_epochs):\n",
    "            inputs, supervisors = make_mini_batch(train_data, size_of_mini_batch, length_of_sequences)\n",
    "\n",
    "            train_dict = {\n",
    "                input_ph:      inputs,\n",
    "                supervisor_ph: supervisors,\n",
    "                istate_ph:     np.zeros((size_of_mini_batch, num_of_hidden_nodes * 2)),\n",
    "                batch_size_ph: size_of_mini_batch,\n",
    "            }\n",
    "            sess.run(training_op, feed_dict=train_dict)\n",
    "\n",
    "            if (epoch + 1) % 10 == 0:\n",
    "                summary_str, train_loss = sess.run([summary_op, loss_op], feed_dict=train_dict)\n",
    "                summary_writer.add_summary(summary_str, epoch)\n",
    "                \n",
    "                # eval accuracy\n",
    "                inputs, supervisors = make_mini_batch(train_data, size_of_test_batch, length_of_sequences)\n",
    "                pred_dict = {\n",
    "                    input_ph:      inputs,\n",
    "                    supervisor_ph: supervisors,\n",
    "                    istate_ph:     np.zeros((size_of_test_batch, num_of_hidden_nodes * 2)),\n",
    "                    batch_size_ph: size_of_test_batch,\n",
    "                }\n",
    "                pred = (sess.run(output_op, feed_dict=pred_dict))\n",
    "                pred_bool = [v > 0.5 for v in pred]\n",
    "                accuracy = sess.run(accuracy_op, feed_dict=pred_dict)\n",
    "\n",
    "                print(\"train#%d, train loss: %e, accuracy: %4f\" % (epoch + 1, train_loss, accuracy))\n",
    "                \n",
    "#        saver.save(sess, \"data/model\")"
   ]
  },
  {
   "cell_type": "code",
   "execution_count": null,
   "metadata": {
    "collapsed": true
   },
   "outputs": [],
   "source": []
  }
 ],
 "metadata": {
  "kernelspec": {
   "display_name": "Python 2",
   "language": "python",
   "name": "python2"
  },
  "language_info": {
   "codemirror_mode": {
    "name": "ipython",
    "version": 2
   },
   "file_extension": ".py",
   "mimetype": "text/x-python",
   "name": "python",
   "nbconvert_exporter": "python",
   "pygments_lexer": "ipython2",
   "version": "2.7.12"
  }
 },
 "nbformat": 4,
 "nbformat_minor": 1
}
