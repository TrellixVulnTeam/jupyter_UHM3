{
 "cells": [
  {
   "cell_type": "code",
   "execution_count": 3,
   "metadata": {
    "collapsed": false
   },
   "outputs": [],
   "source": [
    "# predict the next rssi value from current time value\n",
    "import tensorflow as tf\n",
    "import numpy as np\n",
    "import random\n",
    "import glob\n",
    "%matplotlib inline"
   ]
  },
  {
   "cell_type": "code",
   "execution_count": 8,
   "metadata": {
    "collapsed": true
   },
   "outputs": [],
   "source": [
    "def make_mini_batch(train_data, size_of_mini_batch, length_of_sequences):\n",
    "    inputs  = np.empty(0)\n",
    "    outputs = np.empty(0)\n",
    "    for _ in range(size_of_mini_batch):\n",
    "        d = train_data[train_data.keys()[0]]\n",
    "        index   = random.randint(0, len(d) - length_of_sequences)\n",
    "        part    = d[index:index + length_of_sequences]\n",
    "        inputs  = np.append(inputs, part[:, 0])\n",
    "        outputs = np.append(outputs, part[-1, 1])\n",
    "    inputs  = inputs.reshape(-1, length_of_sequences, 1)\n",
    "    outputs = outputs.reshape(-1, 1)\n",
    "    return (inputs, outputs)"
   ]
  },
  {
   "cell_type": "code",
   "execution_count": 9,
   "metadata": {
    "collapsed": true
   },
   "outputs": [],
   "source": [
    "def make_prediction_initial(train_data, index, length_of_sequences):\n",
    "    return train_data[index:index + length_of_sequences, 0]"
   ]
  },
  {
   "cell_type": "code",
   "execution_count": 15,
   "metadata": {
    "collapsed": false
   },
   "outputs": [],
   "source": [
    "#''' pred area judgement from rssi\n",
    "train_data_path             = \"./*.csv\"\n",
    "num_of_input_nodes          = 1\n",
    "num_of_hidden_nodes         = 20\n",
    "num_of_output_nodes         = 1\n",
    "length_of_sequences         = 40\n",
    "num_of_training_epochs      = 1000\n",
    "\n",
    "length_of_initial_sequences = 40\n",
    "num_of_prediction_epochs    = 0\n",
    "\n",
    "size_of_mini_batch          = 10\n",
    "size_of_test_batch          = 100\n",
    "learning_rate               = 0.01\n",
    "forget_bias                 = 1.0"
   ]
  },
  {
   "cell_type": "code",
   "execution_count": 16,
   "metadata": {
    "collapsed": false,
    "scrolled": false
   },
   "outputs": [
    {
     "name": "stdout",
     "output_type": "stream",
     "text": [
      "[[-81.          30.        ]\n",
      " [-81.          29.83333397]\n",
      " [-80.          29.66666603]\n",
      " [-78.          29.5       ]]\n",
      "[[ -0.69999999  30.        ]\n",
      " [ -0.69999999  29.83333397]\n",
      " [ -0.66666669  29.66666603]\n",
      " [ -0.60000002  29.5       ]]\n",
      "[[-0.69999999  0.        ]\n",
      " [-0.69999999  0.        ]\n",
      " [-0.66666669  0.        ]\n",
      " [-0.60000002  0.        ]]\n"
     ]
    }
   ],
   "source": [
    "#print(glob.glob(train_data_path))\n",
    "\"\"\"\n",
    "train_data = {path: np.loadtxt(path, delimiter=\",\", usecols=(1,), dtype=np.float32) for path in glob.glob(train_data_path)}\n",
    "print(train_data)\n",
    "for (k, v) in train_data.items():\n",
    "    n = len(v)\n",
    "    distance = np.linspace(30, 0, n, endpoint=True)\n",
    "    valid = [1.0 if d <= 3.0 else 0.0 for d in distance]\n",
    "    print(valid)\n",
    "    data = np.append(v, [distance, valid]).reshape((3, n)).T\n",
    "    print(\"------\")\n",
    "    print(data[:10])\n",
    "    train_data[k] = data\n",
    "print(\"====\")\n",
    "print(train_data)\n",
    "\"\"\"\n",
    "\n",
    "train_data = {path: np.loadtxt(path, delimiter=\",\", usecols=(1, 2), dtype=np.float32) for path in glob.glob(train_data_path)}\n",
    "d = train_data[train_data.keys()[0]]\n",
    "print(d[:4])\n",
    "d[:,0] = (d[:,0] + 60.0)/30.0\n",
    "print(d[:4])\n",
    "d[:,1] = [1.0 if x == True else 0.0 for x in d[:,1]]\n",
    "print(d[:4])"
   ]
  },
  {
   "cell_type": "code",
   "execution_count": 17,
   "metadata": {
    "collapsed": false
   },
   "outputs": [],
   "source": [
    "# random seed fix\n",
    "random.seed(0)\n",
    "np.random.seed(0)\n",
    "tf.set_random_seed(0)"
   ]
  },
  {
   "cell_type": "code",
   "execution_count": 20,
   "metadata": {
    "collapsed": false,
    "scrolled": false
   },
   "outputs": [
    {
     "name": "stdout",
     "output_type": "stream",
     "text": [
      "train#10, train loss: 2.059540e-01, accuracy: 0.980000\n",
      "train#20, train loss: 2.282399e-02, accuracy: 0.990000\n",
      "train#30, train loss: 6.341886e-03, accuracy: 0.980000\n",
      "train#40, train loss: 3.373705e-03, accuracy: 0.990000\n",
      "train#50, train loss: 2.398922e-03, accuracy: 0.980000\n",
      "train#60, train loss: 1.934401e-03, accuracy: 0.990000\n",
      "train#70, train loss: 1.665817e-03, accuracy: 1.000000\n",
      "train#80, train loss: 1.485377e-03, accuracy: 1.000000\n",
      "train#90, train loss: 1.328397e-03, accuracy: 1.000000\n",
      "train#100, train loss: 1.208857e-03, accuracy: 0.980000\n",
      "train#110, train loss: 1.099177e-03, accuracy: 0.980000\n",
      "train#120, train loss: 1.008721e-03, accuracy: 0.990000\n",
      "train#130, train loss: 9.297580e-04, accuracy: 1.000000\n",
      "train#140, train loss: 8.560208e-04, accuracy: 0.990000\n",
      "train#150, train loss: 7.956212e-04, accuracy: 0.990000\n",
      "train#160, train loss: 7.396393e-04, accuracy: 1.000000\n",
      "train#170, train loss: 6.906987e-04, accuracy: 1.000000\n",
      "train#180, train loss: 6.463530e-04, accuracy: 0.990000\n",
      "train#190, train loss: 6.049913e-04, accuracy: 0.990000\n",
      "train#200, train loss: 5.737997e-04, accuracy: 0.990000\n",
      "train#210, train loss: 5.361384e-04, accuracy: 1.000000\n",
      "train#220, train loss: 5.041439e-04, accuracy: 1.000000\n",
      "train#230, train loss: 4.767720e-04, accuracy: 1.000000\n",
      "train#240, train loss: 7.161081e-04, accuracy: 0.980000\n",
      "train#250, train loss: 2.478450e-03, accuracy: 1.000000\n",
      "train#260, train loss: 3.535703e-03, accuracy: 1.000000\n",
      "train#270, train loss: 3.574135e-03, accuracy: 1.000000\n",
      "train#280, train loss: 2.771003e+00, accuracy: 1.000000\n",
      "train#290, train loss: 1.088830e-02, accuracy: 1.000000\n",
      "train#300, train loss: 1.161111e-02, accuracy: 0.990000\n",
      "train#310, train loss: 8.812316e-03, accuracy: 0.990000\n",
      "train#320, train loss: 6.248525e-03, accuracy: 1.000000\n",
      "train#330, train loss: 4.724290e-03, accuracy: 1.000000\n",
      "train#340, train loss: 3.680826e-03, accuracy: 1.000000\n",
      "train#350, train loss: 3.030596e-03, accuracy: 0.990000\n",
      "train#360, train loss: 2.602355e-03, accuracy: 1.000000\n",
      "train#370, train loss: 2.940634e+00, accuracy: 1.000000\n",
      "train#380, train loss: 7.663364e-03, accuracy: 0.990000\n",
      "train#390, train loss: 9.139158e-03, accuracy: 0.990000\n",
      "train#400, train loss: 7.581110e-03, accuracy: 0.980000\n"
     ]
    }
   ],
   "source": [
    "#optimizer = tf.train.GradientDescentOptimizer(learning_rate=learning_rate)\n",
    "#optimizer = tf.train.AdagradOptimizer(learning_rate=learning_rate)\n",
    "optimizer = tf.train.AdamOptimizer(learning_rate=learning_rate)\n",
    "\n",
    "with tf.Graph().as_default():\n",
    "    input_ph      = tf.placeholder(tf.float32, [None, length_of_sequences, num_of_input_nodes], name=\"input\")\n",
    "    supervisor_ph = tf.placeholder(tf.float32, [None, num_of_output_nodes], name=\"supervisor\")\n",
    "    batch_size_ph = tf.placeholder(tf.int32, name=\"batch_size\")\n",
    "\n",
    "    with tf.name_scope(\"inference\") as scope:\n",
    "        weight1_var = tf.Variable(tf.truncated_normal([num_of_input_nodes, num_of_hidden_nodes], stddev=0.1), name=\"weight1\")\n",
    "        weight2_var = tf.Variable(tf.truncated_normal([num_of_hidden_nodes, num_of_output_nodes], stddev=0.1), name=\"weight2\")\n",
    "        bias1_var   = tf.Variable(tf.truncated_normal([num_of_hidden_nodes], stddev=0.1), name=\"bias1\")\n",
    "        bias2_var   = tf.Variable(tf.truncated_normal([num_of_output_nodes], stddev=0.1), name=\"bias2\")\n",
    "\n",
    "        weight1_hist = tf.histogram_summary(\"layer1/weights\", weight1_var)\n",
    "        weight2_hist = tf.histogram_summary(\"layer2/weights\", weight2_var)\n",
    "        bias1_hist = tf.histogram_summary(\"layer1/biases\", bias1_var)\n",
    "        bias2_hist = tf.histogram_summary(\"layer2/biases\", bias2_var)\n",
    "\n",
    "        in1 = tf.transpose(input_ph, [1, 0, 2])         # (batch, sequence, data) -> (sequence, batch, data)\n",
    "        in2 = tf.reshape(in1, [-1, num_of_input_nodes]) # (sequence, batch, data) -> (sequence * batch, data)\n",
    "        in3 = tf.matmul(in2, weight1_var) + bias1_var\n",
    "        in4 = tf.split(0, length_of_sequences, in3)     # sequence * (batch, data)\n",
    "\n",
    "        _cell = tf.nn.rnn_cell.BasicLSTMCell(num_of_hidden_nodes, forget_bias=forget_bias, state_is_tuple=True)\n",
    "        cell = tf.nn.rnn_cell.MultiRNNCell([_cell]*3, state_is_tuple=True)\n",
    "        zero_state = cell.zero_state(batch_size_ph, tf.float32)\n",
    "        rnn_output, states_op = tf.nn.rnn(cell, in4, initial_state=zero_state)\n",
    "        out1 = tf.matmul(rnn_output[-1], weight2_var) + bias2_var\n",
    "        output_op = tf.nn.sigmoid(out1)\n",
    "\n",
    "    with tf.name_scope(\"loss\") as scope:\n",
    "        log_likelihood = tf.reduce_mean(tf.reduce_sum(supervisor_ph * tf.log(output_op) + (1 - supervisor_ph) * tf.log(1 - output_op), reduction_indices=[1]))\n",
    "        loss_op = -log_likelihood\n",
    "        tf.scalar_summary(\"loss\", loss_op)\n",
    "\n",
    "    with tf.name_scope(\"training\") as scope:\n",
    "        training_op = optimizer.minimize(loss_op)\n",
    "\n",
    "    with tf.name_scope(\"test\") as scope:\n",
    "        judge = tf.select(tf.greater(output_op, 0.5), tf.zeros_like(output_op, dtype=tf.float32), tf.ones_like(output_op, dtype=tf.float32))\n",
    "        valid = tf.select(tf.equal(judge, supervisor_ph), tf.zeros_like(judge, dtype=tf.float32), tf.ones_like(judge, dtype=tf.float32))\n",
    "        accuracy_op = tf.reduce_mean(valid)\n",
    "\n",
    "    summary_op = tf.merge_all_summaries()\n",
    "    init = tf.initialize_all_variables()\n",
    "\n",
    "    with tf.Session() as sess:\n",
    "        saver = tf.train.Saver()\n",
    "        summary_writer = tf.train.SummaryWriter(\"data\", graph=sess.graph)\n",
    "        sess.run(init)\n",
    "\n",
    "        for epoch in range(num_of_training_epochs):\n",
    "            inputs, supervisors = make_mini_batch(train_data, size_of_mini_batch, length_of_sequences)\n",
    "\n",
    "            train_dict = {\n",
    "                input_ph:      inputs,\n",
    "                supervisor_ph: supervisors,\n",
    "                batch_size_ph: size_of_mini_batch,\n",
    "            }\n",
    "            sess.run(training_op, feed_dict=train_dict)\n",
    "\n",
    "            if (epoch + 1) % 10 == 0:\n",
    "                summary_str, train_loss = sess.run([summary_op, loss_op], feed_dict=train_dict)\n",
    "                summary_writer.add_summary(summary_str, epoch)\n",
    "                \n",
    "                # eval accuracy\n",
    "                inputs, supervisors = make_mini_batch(train_data, size_of_test_batch, length_of_sequences)\n",
    "                pred_dict = {\n",
    "                    input_ph:      inputs,\n",
    "                    supervisor_ph: supervisors,\n",
    "                    batch_size_ph: size_of_test_batch,\n",
    "                }\n",
    "                pred = (sess.run(output_op, feed_dict=pred_dict))\n",
    "                pred_bool = [v > 0.5 for v in pred]\n",
    "                accuracy = sess.run(accuracy_op, feed_dict=pred_dict)\n",
    "\n",
    "                print(\"train#%d, train loss: %e, accuracy: %4f\" % (epoch + 1, train_loss, accuracy))\n",
    "                \n",
    "#        saver.save(sess, \"data/model\")"
   ]
  },
  {
   "cell_type": "code",
   "execution_count": null,
   "metadata": {
    "collapsed": true
   },
   "outputs": [],
   "source": []
  }
 ],
 "metadata": {
  "kernelspec": {
   "display_name": "Python 2",
   "language": "python",
   "name": "python2"
  },
  "language_info": {
   "codemirror_mode": {
    "name": "ipython",
    "version": 2
   },
   "file_extension": ".py",
   "mimetype": "text/x-python",
   "name": "python",
   "nbconvert_exporter": "python",
   "pygments_lexer": "ipython2",
   "version": "2.7.12"
  }
 },
 "nbformat": 4,
 "nbformat_minor": 1
}
