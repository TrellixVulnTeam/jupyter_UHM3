{
 "cells": [
  {
   "cell_type": "code",
   "execution_count": 1,
   "metadata": {
    "collapsed": true
   },
   "outputs": [],
   "source": [
    "# predict the next rssi value from current time value\n",
    "import tensorflow as tf\n",
    "import numpy as np\n",
    "import random\n",
    "import pandas as pd\n",
    "%matplotlib inline"
   ]
  },
  {
   "cell_type": "code",
   "execution_count": 2,
   "metadata": {
    "collapsed": true
   },
   "outputs": [],
   "source": [
    "def make_mini_batch(train_data, size_of_mini_batch, length_of_sequences):\n",
    "    inputs  = np.empty(0)\n",
    "    outputs = np.empty(0)\n",
    "    for _ in range(size_of_mini_batch):\n",
    "        index   = random.randint(0, len(train_data) - length_of_sequences)\n",
    "        part    = train_data[index:index + length_of_sequences]\n",
    "        inputs  = np.append(inputs, part[:, 0])\n",
    "        outputs = np.append(outputs, part[-1, 2])\n",
    "    inputs  = inputs.reshape(-1, length_of_sequences, 1)\n",
    "    outputs = outputs.reshape(-1, 1)\n",
    "    return (inputs, outputs)"
   ]
  },
  {
   "cell_type": "code",
   "execution_count": 3,
   "metadata": {
    "collapsed": true
   },
   "outputs": [],
   "source": [
    "def make_prediction_initial(train_data, index, length_of_sequences):\n",
    "    return train_data[index:index + length_of_sequences, 0]"
   ]
  },
  {
   "cell_type": "code",
   "execution_count": 4,
   "metadata": {
    "collapsed": false
   },
   "outputs": [],
   "source": [
    "#''' pred area judgement from rssi\n",
    "train_data_path             = \"./data.npy\"\n",
    "num_of_input_nodes          = 1\n",
    "num_of_hidden_nodes         = 20\n",
    "num_of_output_nodes         = 1\n",
    "length_of_sequences         = 40\n",
    "num_of_training_epochs      = 400\n",
    "\n",
    "length_of_initial_sequences = 40\n",
    "num_of_prediction_epochs    = 0\n",
    "\n",
    "size_of_mini_batch          = 10\n",
    "size_of_test_batch          = 100\n",
    "learning_rate               = 0.01\n",
    "forget_bias                 = 1.0"
   ]
  },
  {
   "cell_type": "code",
   "execution_count": 5,
   "metadata": {
    "collapsed": false
   },
   "outputs": [
    {
     "data": {
      "text/plain": [
       "array([[-0.7, 30.0, 0.0],\n",
       "       [-0.7, 29.83333333, 0.0],\n",
       "       [-0.6666666666666666, 29.66666667, 0.0],\n",
       "       [-0.6, 29.5, 0.0],\n",
       "       [-0.5, 29.33333333, 0.0],\n",
       "       [-0.43333333333333335, 29.16666667, 0.0],\n",
       "       [-0.36666666666666664, 29.0, 0.0],\n",
       "       [-0.3333333333333333, 28.83333333, 0.0],\n",
       "       [-0.3, 28.66666667, 0.0],\n",
       "       [-0.23333333333333334, 28.5, 0.0]], dtype=object)"
      ]
     },
     "execution_count": 5,
     "metadata": {},
     "output_type": "execute_result"
    }
   ],
   "source": [
    "train_data = np.load(train_data_path)\n",
    "#print(\"train_data:\", train_data[:10])\n",
    "# normalize\n",
    "train_data[:,0] = (train_data[:,0] + 60.0)/30\n",
    "#train_data[:,2] = (train_data[:,2] == True)? 1.0: 0.0\n",
    "train_data[:,2] = [1.0 if x == True else 0.0 for x in train_data[:,2]]\n",
    "train_data[:10]"
   ]
  },
  {
   "cell_type": "code",
   "execution_count": 6,
   "metadata": {
    "collapsed": false
   },
   "outputs": [],
   "source": [
    "# random seed fix\n",
    "random.seed(0)\n",
    "np.random.seed(0)\n",
    "tf.set_random_seed(0)"
   ]
  },
  {
   "cell_type": "code",
   "execution_count": 10,
   "metadata": {
    "collapsed": false,
    "scrolled": false
   },
   "outputs": [
    {
     "name": "stderr",
     "output_type": "stream",
     "text": [
      "WARNING:tensorflow:<tensorflow.python.ops.rnn_cell.BasicLSTMCell object at 0x7f5aa5ab6a50>: Using a concatenated state is slower and will soon be deprecated.  Use state_is_tuple=True.\n"
     ]
    },
    {
     "name": "stdout",
     "output_type": "stream",
     "text": [
      "train#10, train loss: 8.919386e-01, accuracy: 0.720000\n",
      "train#20, train loss: 3.709278e-01, accuracy: 0.710000\n",
      "train#30, train loss: 4.786020e-01, accuracy: 0.830000\n",
      "train#40, train loss: 2.595841e-01, accuracy: 0.930000\n",
      "train#50, train loss: 2.414557e-01, accuracy: 0.920000\n",
      "train#60, train loss: 2.048147e-01, accuracy: 0.920000\n",
      "train#70, train loss: 9.487240e-02, accuracy: 0.990000\n",
      "train#80, train loss: 2.454836e-02, accuracy: 0.920000\n",
      "train#90, train loss: 4.556905e-02, accuracy: 0.900000\n",
      "train#100, train loss: 8.474478e-02, accuracy: 0.960000\n",
      "train#110, train loss: 1.151207e-01, accuracy: 0.940000\n",
      "train#120, train loss: 9.851741e-02, accuracy: 0.880000\n",
      "train#130, train loss: 2.255627e-01, accuracy: 0.910000\n",
      "train#140, train loss: 2.860067e-02, accuracy: 0.910000\n",
      "train#150, train loss: 1.725898e-01, accuracy: 0.850000\n",
      "train#160, train loss: 3.006863e-01, accuracy: 0.940000\n",
      "train#170, train loss: 8.734272e-02, accuracy: 0.930000\n",
      "train#180, train loss: 6.852647e-02, accuracy: 0.980000\n",
      "train#190, train loss: 1.947809e-02, accuracy: 0.940000\n",
      "train#200, train loss: 1.199840e-01, accuracy: 0.990000\n",
      "train#210, train loss: 1.639470e-01, accuracy: 0.980000\n",
      "train#220, train loss: 1.345975e-01, accuracy: 0.980000\n",
      "train#230, train loss: 6.671364e-03, accuracy: 1.000000\n",
      "train#240, train loss: 1.054201e-01, accuracy: 0.990000\n",
      "train#250, train loss: 8.289068e-03, accuracy: 1.000000\n",
      "train#260, train loss: 5.023754e-03, accuracy: 0.980000\n",
      "train#270, train loss: 3.636177e-03, accuracy: 1.000000\n",
      "train#280, train loss: 2.638809e-03, accuracy: 1.000000\n",
      "train#290, train loss: 3.473828e-03, accuracy: 0.990000\n",
      "train#300, train loss: 4.673911e-03, accuracy: 0.980000\n",
      "train#310, train loss: 5.903318e-02, accuracy: 0.990000\n",
      "train#320, train loss: 1.125524e-03, accuracy: 1.000000\n",
      "train#330, train loss: 3.826696e-03, accuracy: 0.990000\n",
      "train#340, train loss: 1.884281e-02, accuracy: 1.000000\n",
      "train#350, train loss: 3.650226e-03, accuracy: 1.000000\n",
      "train#360, train loss: 1.679384e-03, accuracy: 0.990000\n",
      "train#370, train loss: 6.749409e-03, accuracy: 0.990000\n",
      "train#380, train loss: 1.754301e-02, accuracy: 0.980000\n",
      "train#390, train loss: 1.044989e-01, accuracy: 0.980000\n",
      "train#400, train loss: 1.713716e-02, accuracy: 1.000000\n"
     ]
    }
   ],
   "source": [
    "#optimizer = tf.train.GradientDescentOptimizer(learning_rate=learning_rate)\n",
    "#optimizer = tf.train.AdagradOptimizer(learning_rate=learning_rate)\n",
    "optimizer = tf.train.AdamOptimizer(learning_rate=learning_rate)\n",
    "\n",
    "with tf.Graph().as_default():\n",
    "    input_ph      = tf.placeholder(tf.float32, [None, length_of_sequences, num_of_input_nodes], name=\"input\")\n",
    "    supervisor_ph = tf.placeholder(tf.float32, [None, num_of_output_nodes], name=\"supervisor\")\n",
    "    istate_ph     = tf.placeholder(tf.float32, [None, num_of_hidden_nodes * 2], name=\"istate\")\n",
    "    batch_size_ph = tf.placeholder(tf.int32, name=\"istate\")\n",
    "\n",
    "    with tf.name_scope(\"inference\") as scope:\n",
    "        weight1_var = tf.Variable(tf.truncated_normal([num_of_input_nodes, num_of_hidden_nodes], stddev=0.1), name=\"weight1\")\n",
    "        weight2_var = tf.Variable(tf.truncated_normal([num_of_hidden_nodes, num_of_output_nodes], stddev=0.1), name=\"weight2\")\n",
    "        bias1_var   = tf.Variable(tf.truncated_normal([num_of_hidden_nodes], stddev=0.1), name=\"bias1\")\n",
    "        bias2_var   = tf.Variable(tf.truncated_normal([num_of_output_nodes], stddev=0.1), name=\"bias2\")\n",
    "\n",
    "        weight1_hist = tf.histogram_summary(\"layer1/weights\", weight1_var)\n",
    "        weight2_hist = tf.histogram_summary(\"layer2/weights\", weight2_var)\n",
    "        bias1_hist = tf.histogram_summary(\"layer1/biases\", bias1_var)\n",
    "        bias2_hist = tf.histogram_summary(\"layer2/biases\", bias2_var)\n",
    "\n",
    "        in1 = tf.transpose(input_ph, [1, 0, 2])         # (batch, sequence, data) -> (sequence, batch, data)\n",
    "        in2 = tf.reshape(in1, [-1, num_of_input_nodes]) # (sequence, batch, data) -> (sequence * batch, data)\n",
    "        in3 = tf.matmul(in2, weight1_var) + bias1_var\n",
    "        in4 = tf.split(0, length_of_sequences, in3)     # sequence * (batch, data)\n",
    "\n",
    "        cell = tf.nn.rnn_cell.BasicLSTMCell(num_of_hidden_nodes, forget_bias=forget_bias)\n",
    "        zero_state = cell.zero_state(batch_size_ph, tf.float32)\n",
    "        rnn_output, states_op = tf.nn.rnn(cell, in4, initial_state=zero_state)\n",
    "        out1 = tf.matmul(rnn_output[-1], weight2_var) + bias2_var\n",
    "        output_op = tf.nn.sigmoid(out1)\n",
    "\n",
    "    with tf.name_scope(\"loss\") as scope:\n",
    "        #square_error = tf.reduce_mean(tf.square(output_op - supervisor_ph))\n",
    "        #loss_op      = square_error\n",
    "        log_likelihood = tf.reduce_mean(tf.reduce_sum(supervisor_ph * tf.log(output_op) + (1 - supervisor_ph) * tf.log(1 - output_op), reduction_indices=[1]))\n",
    "        loss_op = -log_likelihood\n",
    "        tf.scalar_summary(\"loss\", loss_op)\n",
    "\n",
    "    with tf.name_scope(\"training\") as scope:\n",
    "        training_op = optimizer.minimize(loss_op)\n",
    "\n",
    "    with tf.name_scope(\"test\") as scope:\n",
    "        judge = tf.select(tf.greater(output_op, 0.5), tf.zeros_like(output_op, dtype=tf.float32), tf.ones_like(output_op, dtype=tf.float32))\n",
    "        valid = tf.select(tf.equal(judge, supervisor_ph), tf.zeros_like(judge, dtype=tf.float32), tf.ones_like(judge, dtype=tf.float32))\n",
    "        accuracy_op = tf.reduce_mean(valid)\n",
    "\n",
    "    summary_op = tf.merge_all_summaries()\n",
    "    init = tf.initialize_all_variables()\n",
    "\n",
    "    with tf.Session() as sess:\n",
    "        saver = tf.train.Saver()\n",
    "        summary_writer = tf.train.SummaryWriter(\"data\", graph=sess.graph)\n",
    "        sess.run(init)\n",
    "\n",
    "        for epoch in range(num_of_training_epochs):\n",
    "            inputs, supervisors = make_mini_batch(train_data, size_of_mini_batch, length_of_sequences)\n",
    "\n",
    "            train_dict = {\n",
    "                input_ph:      inputs,\n",
    "                supervisor_ph: supervisors,\n",
    "                istate_ph:     np.zeros((size_of_mini_batch, num_of_hidden_nodes * 2)),\n",
    "                batch_size_ph: size_of_mini_batch,\n",
    "            }\n",
    "            sess.run(training_op, feed_dict=train_dict)\n",
    "\n",
    "            if (epoch + 1) % 10 == 0:\n",
    "                summary_str, train_loss = sess.run([summary_op, loss_op], feed_dict=train_dict)\n",
    "                summary_writer.add_summary(summary_str, epoch)\n",
    "                \n",
    "                # eval accuracy\n",
    "                inputs, supervisors = make_mini_batch(train_data, size_of_test_batch, length_of_sequences)\n",
    "                pred_dict = {\n",
    "                    input_ph:      inputs,\n",
    "                    supervisor_ph: supervisors,\n",
    "                    istate_ph:     np.zeros((size_of_test_batch, num_of_hidden_nodes * 2)),\n",
    "                    batch_size_ph: size_of_test_batch,\n",
    "                }\n",
    "                pred = (sess.run(output_op, feed_dict=pred_dict))\n",
    "                pred_bool = [v > 0.5 for v in pred]\n",
    "                accuracy = sess.run(accuracy_op, feed_dict=pred_dict)\n",
    "\n",
    "                print(\"train#%d, train loss: %e, accuracy: %4f\" % (epoch + 1, train_loss, accuracy))\n",
    "                \n",
    "#        saver.save(sess, \"data/model\")"
   ]
  },
  {
   "cell_type": "code",
   "execution_count": null,
   "metadata": {
    "collapsed": true
   },
   "outputs": [],
   "source": []
  }
 ],
 "metadata": {
  "kernelspec": {
   "display_name": "Python 2",
   "language": "python",
   "name": "python2"
  },
  "language_info": {
   "codemirror_mode": {
    "name": "ipython",
    "version": 2
   },
   "file_extension": ".py",
   "mimetype": "text/x-python",
   "name": "python",
   "nbconvert_exporter": "python",
   "pygments_lexer": "ipython2",
   "version": "2.7.12"
  }
 },
 "nbformat": 4,
 "nbformat_minor": 1
}
