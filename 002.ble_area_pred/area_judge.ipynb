{
 "cells": [
  {
   "cell_type": "code",
   "execution_count": 40,
   "metadata": {
    "collapsed": true
   },
   "outputs": [],
   "source": [
    "# predict the next rssi value from current time value\n",
    "import tensorflow as tf\n",
    "import numpy as np\n",
    "import random\n",
    "import pandas as pd\n",
    "%matplotlib inline"
   ]
  },
  {
   "cell_type": "code",
   "execution_count": 58,
   "metadata": {
    "collapsed": true
   },
   "outputs": [],
   "source": [
    "def make_mini_batch(train_data, size_of_mini_batch, length_of_sequences):\n",
    "    inputs  = np.empty(0)\n",
    "    outputs = np.empty(0)\n",
    "    for _ in range(size_of_mini_batch):\n",
    "        index   = random.randint(0, len(train_data) - length_of_sequences)\n",
    "        part    = train_data[index:index + length_of_sequences]\n",
    "        inputs  = np.append(inputs, part[:, 0])\n",
    "        outputs = np.append(outputs, part[-1, 2])\n",
    "    inputs  = inputs.reshape(-1, length_of_sequences, 1)\n",
    "    outputs = outputs.reshape(-1, 1)\n",
    "    return (inputs, outputs)"
   ]
  },
  {
   "cell_type": "code",
   "execution_count": 59,
   "metadata": {
    "collapsed": true
   },
   "outputs": [],
   "source": [
    "def make_prediction_initial(train_data, index, length_of_sequences):\n",
    "    return train_data[index:index + length_of_sequences, 0]"
   ]
  },
  {
   "cell_type": "code",
   "execution_count": 68,
   "metadata": {
    "collapsed": false
   },
   "outputs": [],
   "source": [
    "#''' pred distance from rssi\n",
    "train_data_path             = \"./data.npy\"\n",
    "num_of_input_nodes          = 1\n",
    "num_of_hidden_nodes         = 20\n",
    "num_of_output_nodes         = 1\n",
    "length_of_sequences         = 40\n",
    "num_of_training_epochs      = 100\n",
    "length_of_initial_sequences = 40\n",
    "num_of_prediction_epochs    = 0\n",
    "size_of_mini_batch          = 100\n",
    "learning_rate               = 0.001\n",
    "forget_bias                 = 1.0"
   ]
  },
  {
   "cell_type": "code",
   "execution_count": 69,
   "metadata": {
    "collapsed": false
   },
   "outputs": [
    {
     "data": {
      "text/plain": [
       "array([[-0.7, 30.0, False],\n",
       "       [-0.7, 29.83333333, False],\n",
       "       [-0.6666666666666666, 29.66666667, False],\n",
       "       [-0.6, 29.5, False],\n",
       "       [-0.5, 29.33333333, False],\n",
       "       [-0.43333333333333335, 29.16666667, False],\n",
       "       [-0.36666666666666664, 29.0, False],\n",
       "       [-0.3333333333333333, 28.83333333, False],\n",
       "       [-0.3, 28.66666667, False],\n",
       "       [-0.23333333333333334, 28.5, False]], dtype=object)"
      ]
     },
     "execution_count": 69,
     "metadata": {},
     "output_type": "execute_result"
    }
   ],
   "source": [
    "train_data = np.load(train_data_path)\n",
    "#print(\"train_data:\", train_data[:10])\n",
    "# normalize\n",
    "train_data[:,0] = (train_data[:,0] + 60.0)/30\n",
    "train_data[:10]"
   ]
  },
  {
   "cell_type": "code",
   "execution_count": 70,
   "metadata": {
    "collapsed": true
   },
   "outputs": [],
   "source": [
    "# random seed fix\n",
    "random.seed(0)\n",
    "np.random.seed(0)\n",
    "tf.set_random_seed(0)"
   ]
  },
  {
   "cell_type": "code",
   "execution_count": 72,
   "metadata": {
    "collapsed": false,
    "scrolled": true
   },
   "outputs": [
    {
     "name": "stderr",
     "output_type": "stream",
     "text": [
      "WARNING:tensorflow:<tensorflow.python.ops.rnn_cell.BasicLSTMCell object at 0x7fd8ecd5d150>: Using a concatenated state is slower and will soon be deprecated.  Use state_is_tuple=True.\n"
     ]
    },
    {
     "name": "stdout",
     "output_type": "stream",
     "text": [
      "train#10, train loss: 6.127455e-01\n",
      "train#20, train loss: 5.519924e-01\n",
      "train#30, train loss: 4.980440e-01\n",
      "train#40, train loss: 6.309806e-01\n",
      "train#50, train loss: 5.181528e-01\n",
      "train#60, train loss: 5.626025e-01\n",
      "train#70, train loss: 4.552788e-01\n",
      "train#80, train loss: 4.125640e-01\n",
      "train#90, train loss: 2.754251e-01\n",
      "train#100, train loss: 2.406106e-01\n"
     ]
    }
   ],
   "source": [
    "#optimizer = tf.train.GradientDescentOptimizer(learning_rate=learning_rate)\n",
    "#optimizer = tf.train.AdagradOptimizer(learning_rate=learning_rate)\n",
    "optimizer = tf.train.AdamOptimizer(learning_rate=learning_rate)\n",
    "\n",
    "with tf.Graph().as_default():\n",
    "    input_ph      = tf.placeholder(tf.float32, [None, length_of_sequences, num_of_input_nodes], name=\"input\")\n",
    "    supervisor_ph = tf.placeholder(tf.float32, [None, num_of_output_nodes], name=\"supervisor\")\n",
    "    istate_ph     = tf.placeholder(tf.float32, [None, num_of_hidden_nodes * 2], name=\"istate\")\n",
    "\n",
    "    with tf.name_scope(\"inference\") as scope:\n",
    "        weight1_var = tf.Variable(tf.truncated_normal([num_of_input_nodes, num_of_hidden_nodes], stddev=0.1), name=\"weight1\")\n",
    "        weight2_var = tf.Variable(tf.truncated_normal([num_of_hidden_nodes, num_of_output_nodes], stddev=0.1), name=\"weight2\")\n",
    "        bias1_var   = tf.Variable(tf.truncated_normal([num_of_hidden_nodes], stddev=0.1), name=\"bias1\")\n",
    "        bias2_var   = tf.Variable(tf.truncated_normal([num_of_output_nodes], stddev=0.1), name=\"bias2\")\n",
    "\n",
    "        weight1_hist = tf.histogram_summary(\"layer1/weights\", weight1_var)\n",
    "        weight2_hist = tf.histogram_summary(\"layer2/weights\", weight2_var)\n",
    "        bias1_hist = tf.histogram_summary(\"layer1/biases\", bias1_var)\n",
    "        bias2_hist = tf.histogram_summary(\"layer2/biases\", bias2_var)\n",
    "\n",
    "        in1 = tf.transpose(input_ph, [1, 0, 2])         # (batch, sequence, data) -> (sequence, batch, data)\n",
    "        in2 = tf.reshape(in1, [-1, num_of_input_nodes]) # (sequence, batch, data) -> (sequence * batch, data)\n",
    "        in3 = tf.matmul(in2, weight1_var) + bias1_var\n",
    "        in4 = tf.split(0, length_of_sequences, in3)     # sequence * (batch, data)\n",
    "\n",
    "        cell = tf.nn.rnn_cell.BasicLSTMCell(num_of_hidden_nodes, forget_bias=forget_bias)\n",
    "        rnn_output, states_op = tf.nn.rnn(cell, in4, initial_state=istate_ph)\n",
    "        out1 = tf.matmul(rnn_output[-1], weight2_var) + bias2_var\n",
    "        output_op = tf.nn.sigmoid(out1)\n",
    "\n",
    "    with tf.name_scope(\"loss\") as scope:\n",
    "        #square_error = tf.reduce_mean(tf.square(output_op - supervisor_ph))\n",
    "        #loss_op      = square_error\n",
    "        log_likelihood = tf.reduce_mean(tf.reduce_sum(supervisor_ph * tf.log(output_op) + (1 - supervisor_ph) * tf.log(1 - output_op), reduction_indices=[1]))\n",
    "        loss_op = -log_likelihood\n",
    "        tf.scalar_summary(\"loss\", loss_op)\n",
    "\n",
    "    with tf.name_scope(\"training\") as scope:\n",
    "        training_op = optimizer.minimize(loss_op)\n",
    "\n",
    "    summary_op = tf.merge_all_summaries()\n",
    "    init = tf.initialize_all_variables()\n",
    "\n",
    "    with tf.Session() as sess:\n",
    "        saver = tf.train.Saver()\n",
    "        summary_writer = tf.train.SummaryWriter(\"data\", graph=sess.graph)\n",
    "        sess.run(init)\n",
    "\n",
    "        for epoch in range(num_of_training_epochs):\n",
    "            inputs, supervisors = make_mini_batch(train_data, size_of_mini_batch, length_of_sequences)\n",
    "\n",
    "            train_dict = {\n",
    "                input_ph:      inputs,\n",
    "                supervisor_ph: supervisors,\n",
    "                istate_ph:     np.zeros((size_of_mini_batch, num_of_hidden_nodes * 2)),\n",
    "            }\n",
    "            sess.run(training_op, feed_dict=train_dict)\n",
    "\n",
    "            if (epoch + 1) % 10 == 0:\n",
    "                summary_str, train_loss = sess.run([summary_op, loss_op], feed_dict=train_dict)\n",
    "                summary_writer.add_summary(summary_str, epoch)\n",
    "                print(\"train#%d, train loss: %e\" % (epoch + 1, train_loss))\n",
    "\n",
    "        outputs = np.empty(0)\n",
    "        states  = np.zeros((num_of_hidden_nodes * 2)),\n",
    "\n",
    "        for epoch in range(num_of_prediction_epochs):\n",
    "            inputs  = make_prediction_initial(train_data, epoch, length_of_initial_sequences)\n",
    "            pred_dict = {\n",
    "                input_ph:  inputs.reshape((1, length_of_sequences, 1)),\n",
    "                istate_ph: states,\n",
    "            }\n",
    "            output, states = sess.run([output_op, states_op], feed_dict=pred_dict)\n",
    "            print(\"prediction#%d, output: %f\" % (epoch + 1, output))\n",
    "\n",
    "            #inputs  = np.delete(inputs, 0)\n",
    "            #inputs  = np.append(inputs, output)\n",
    "            outputs = np.append(outputs, output)\n",
    "\n",
    "#        print(\"outputs:\", outputs)\n",
    "#        np.save(\"output.npy\", outputs)\n",
    "#        saver.save(sess, \"data/model\")"
   ]
  },
  {
   "cell_type": "code",
   "execution_count": null,
   "metadata": {
    "collapsed": true
   },
   "outputs": [],
   "source": []
  }
 ],
 "metadata": {
  "kernelspec": {
   "display_name": "Python 2",
   "language": "python",
   "name": "python2"
  },
  "language_info": {
   "codemirror_mode": {
    "name": "ipython",
    "version": 2
   },
   "file_extension": ".py",
   "mimetype": "text/x-python",
   "name": "python",
   "nbconvert_exporter": "python",
   "pygments_lexer": "ipython2",
   "version": "2.7.12"
  }
 },
 "nbformat": 4,
 "nbformat_minor": 1
}
