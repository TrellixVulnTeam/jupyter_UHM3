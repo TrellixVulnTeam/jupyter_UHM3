{
 "cells": [
  {
   "cell_type": "code",
   "execution_count": 20,
   "metadata": {
    "collapsed": true
   },
   "outputs": [],
   "source": [
    "# predict rssi value for [num_of_prediction_epochs] time step from current time value\n",
    "import tensorflow as tf\n",
    "import numpy as np\n",
    "import random\n",
    "import pandas as pd\n",
    "%matplotlib inline"
   ]
  },
  {
   "cell_type": "code",
   "execution_count": 21,
   "metadata": {
    "collapsed": true
   },
   "outputs": [],
   "source": [
    "def make_mini_batch(train_data, size_of_mini_batch, length_of_sequences):\n",
    "    inputs  = np.empty(0)\n",
    "    outputs = np.empty(0)\n",
    "    for _ in range(size_of_mini_batch):\n",
    "        index   = random.randint(0, len(train_data) - length_of_sequences)\n",
    "        part    = train_data[index:index + length_of_sequences]\n",
    "        inputs  = np.append(inputs, part[:, 0])\n",
    "        outputs = np.append(outputs, part[-1, 1])\n",
    "    inputs  = inputs.reshape(-1, length_of_sequences, 1)\n",
    "    outputs = outputs.reshape(-1, 1)\n",
    "    return (inputs, outputs)"
   ]
  },
  {
   "cell_type": "code",
   "execution_count": 22,
   "metadata": {
    "collapsed": true
   },
   "outputs": [],
   "source": [
    "def make_prediction_initial(train_data, index, length_of_sequences):\n",
    "    return train_data[index:index + length_of_sequences, 0]"
   ]
  },
  {
   "cell_type": "code",
   "execution_count": 23,
   "metadata": {
    "collapsed": true
   },
   "outputs": [],
   "source": [
    "\n",
    "train_data_path             = \"./rssi_next.npy\"\n",
    "num_of_input_nodes          = 1\n",
    "num_of_hidden_nodes         = 10\n",
    "num_of_output_nodes         = 1\n",
    "length_of_sequences         = 30\n",
    "num_of_training_epochs      = 800\n",
    "length_of_initial_sequences = 30\n",
    "num_of_prediction_epochs    = 100\n",
    "size_of_mini_batch          = 100\n",
    "learning_rate               = 0.1\n",
    "forget_bias                 = 1.0"
   ]
  },
  {
   "cell_type": "code",
   "execution_count": 24,
   "metadata": {
    "collapsed": false
   },
   "outputs": [
    {
     "name": "stdout",
     "output_type": "stream",
     "text": [
      "('train_data:', array([[-0.84, -0.84],\n",
      "       [-0.84, -0.8 ],\n",
      "       [-0.8 , -0.72],\n",
      "       [-0.72, -0.6 ],\n",
      "       [-0.6 , -0.52],\n",
      "       [-0.52, -0.44],\n",
      "       [-0.44, -0.4 ],\n",
      "       [-0.4 , -0.36],\n",
      "       [-0.36, -0.28],\n",
      "       [-0.28, -0.32]]))\n"
     ]
    }
   ],
   "source": [
    "train_data = np.load(train_data_path)\n",
    "print(\"train_data:\", train_data[:10])"
   ]
  },
  {
   "cell_type": "code",
   "execution_count": 25,
   "metadata": {
    "collapsed": true
   },
   "outputs": [],
   "source": [
    "# random seed fix\n",
    "random.seed(0)\n",
    "np.random.seed(0)\n",
    "tf.set_random_seed(0)"
   ]
  },
  {
   "cell_type": "code",
   "execution_count": null,
   "metadata": {
    "collapsed": true
   },
   "outputs": [],
   "source": []
  },
  {
   "cell_type": "code",
   "execution_count": 26,
   "metadata": {
    "collapsed": false,
    "scrolled": true
   },
   "outputs": [
    {
     "name": "stderr",
     "output_type": "stream",
     "text": [
      "WARNING:tensorflow:<tensorflow.python.ops.rnn_cell.BasicLSTMCell object at 0x7fe7145fb250>: Using a concatenated state is slower and will soon be deprecated.  Use state_is_tuple=True.\n"
     ]
    },
    {
     "name": "stdout",
     "output_type": "stream",
     "text": [
      "train#10, train loss: 2.493389e-02\n",
      "train#20, train loss: 6.392173e-03\n",
      "train#30, train loss: 3.366781e-03\n",
      "train#40, train loss: 2.367054e-03\n",
      "train#50, train loss: 2.586516e-03\n",
      "train#60, train loss: 2.022075e-03\n",
      "train#70, train loss: 2.202033e-03\n",
      "train#80, train loss: 1.663528e-03\n",
      "train#90, train loss: 1.965565e-03\n",
      "train#100, train loss: 1.633046e-03\n",
      "train#110, train loss: 1.742970e-03\n",
      "train#120, train loss: 2.035382e-03\n",
      "train#130, train loss: 1.640968e-03\n",
      "train#140, train loss: 1.476809e-03\n",
      "train#150, train loss: 1.641162e-03\n",
      "train#160, train loss: 1.461618e-03\n",
      "train#170, train loss: 2.053695e-03\n",
      "train#180, train loss: 1.840170e-03\n",
      "train#190, train loss: 2.008139e-03\n",
      "train#200, train loss: 1.826400e-03\n",
      "train#210, train loss: 1.664294e-03\n",
      "train#220, train loss: 1.565079e-03\n",
      "train#230, train loss: 1.487107e-03\n",
      "train#240, train loss: 1.498129e-03\n",
      "train#250, train loss: 1.634706e-03\n",
      "train#260, train loss: 2.224514e-03\n",
      "train#270, train loss: 1.614047e-03\n",
      "train#280, train loss: 1.578588e-03\n",
      "train#290, train loss: 2.064524e-03\n",
      "train#300, train loss: 1.876213e-03\n",
      "train#310, train loss: 1.708622e-03\n",
      "train#320, train loss: 1.725160e-03\n",
      "train#330, train loss: 1.651693e-03\n",
      "train#340, train loss: 1.485210e-03\n",
      "train#350, train loss: 1.374273e-03\n",
      "train#360, train loss: 1.935176e-03\n",
      "train#370, train loss: 1.673953e-03\n",
      "train#380, train loss: 1.516904e-03\n",
      "train#390, train loss: 1.428650e-03\n",
      "train#400, train loss: 1.347135e-03\n",
      "train#410, train loss: 1.613015e-03\n",
      "train#420, train loss: 1.759271e-03\n",
      "train#430, train loss: 1.416264e-03\n",
      "train#440, train loss: 1.410516e-03\n",
      "train#450, train loss: 1.286031e-03\n",
      "train#460, train loss: 1.521616e-03\n",
      "train#470, train loss: 1.387527e-03\n",
      "train#480, train loss: 1.161112e-03\n",
      "train#490, train loss: 1.202064e-03\n",
      "train#500, train loss: 1.841336e-03\n",
      "train#510, train loss: 1.809447e-03\n",
      "train#520, train loss: 1.441182e-03\n",
      "train#530, train loss: 1.302017e-03\n",
      "train#540, train loss: 1.312985e-03\n",
      "train#550, train loss: 1.350522e-03\n",
      "train#560, train loss: 9.877286e-04\n",
      "train#570, train loss: 9.204735e-04\n",
      "train#580, train loss: 1.247846e-03\n",
      "train#590, train loss: 1.519217e-03\n",
      "train#600, train loss: 1.961285e-03\n",
      "train#610, train loss: 2.781987e-03\n",
      "train#620, train loss: 1.556186e-03\n",
      "train#630, train loss: 1.821935e-03\n",
      "train#640, train loss: 1.798903e-03\n",
      "train#650, train loss: 1.752813e-03\n",
      "train#660, train loss: 1.101613e-03\n",
      "train#670, train loss: 1.311100e-03\n",
      "train#680, train loss: 1.579375e-03\n",
      "train#690, train loss: 1.745137e-03\n",
      "train#700, train loss: 1.467290e-03\n",
      "train#710, train loss: 1.307733e-03\n",
      "train#720, train loss: 1.978326e-03\n",
      "train#730, train loss: 1.856930e-03\n",
      "train#740, train loss: 1.742599e-03\n",
      "train#750, train loss: 1.665248e-03\n",
      "train#760, train loss: 1.733741e-03\n",
      "train#770, train loss: 1.538672e-03\n",
      "train#780, train loss: 1.638321e-03\n",
      "train#790, train loss: 1.091574e-03\n",
      "train#800, train loss: 1.634533e-03\n",
      "('initial:', array([-0.84, -0.84, -0.8 , -0.72, -0.6 , -0.52, -0.44, -0.4 , -0.36,\n",
      "       -0.28, -0.32, -0.36, -0.36, -0.36, -0.36, -0.4 , -0.44, -0.4 ,\n",
      "       -0.44, -0.48, -0.48, -0.48, -0.44, -0.44, -0.44, -0.4 , -0.36,\n",
      "       -0.36, -0.36, -0.36]))\n",
      "prediction#1, output: -0.354522\n",
      "prediction#2, output: -0.345698\n",
      "prediction#3, output: -0.338427\n",
      "prediction#4, output: -0.332386\n",
      "prediction#5, output: -0.326966\n",
      "prediction#6, output: -0.321792\n",
      "prediction#7, output: -0.316716\n",
      "prediction#8, output: -0.311679\n",
      "prediction#9, output: -0.306640\n",
      "prediction#10, output: -0.301558\n",
      "prediction#11, output: -0.296384\n",
      "prediction#12, output: -0.291073\n",
      "prediction#13, output: -0.285580\n",
      "prediction#14, output: -0.279862\n",
      "prediction#15, output: -0.273875\n",
      "prediction#16, output: -0.267579\n",
      "prediction#17, output: -0.260937\n",
      "prediction#18, output: -0.253922\n",
      "prediction#19, output: -0.246516\n",
      "prediction#20, output: -0.238721\n",
      "prediction#21, output: -0.230568\n",
      "prediction#22, output: -0.222118\n",
      "prediction#23, output: -0.213456\n",
      "prediction#24, output: -0.204634\n",
      "prediction#25, output: -0.195434\n",
      "prediction#26, output: -0.184630\n",
      "prediction#27, output: -0.168238\n",
      "prediction#28, output: -0.138124\n",
      "prediction#29, output: -0.093598\n",
      "prediction#30, output: -0.058649\n",
      "prediction#31, output: -0.031303\n",
      "prediction#32, output: -0.008054\n",
      "prediction#33, output: 0.005727\n",
      "prediction#34, output: 0.004617\n",
      "prediction#35, output: -0.009362\n",
      "prediction#36, output: -0.026890\n",
      "prediction#37, output: -0.037803\n",
      "prediction#38, output: -0.040083\n",
      "prediction#39, output: -0.037937\n",
      "prediction#40, output: -0.035763\n",
      "prediction#41, output: -0.036250\n",
      "prediction#42, output: -0.040332\n",
      "prediction#43, output: -0.047388\n",
      "prediction#44, output: -0.055974\n",
      "prediction#45, output: -0.064930\n",
      "prediction#46, output: -0.074080\n",
      "prediction#47, output: -0.084055\n",
      "prediction#48, output: -0.095653\n",
      "prediction#49, output: -0.109334\n",
      "prediction#50, output: -0.125094\n",
      "prediction#51, output: -0.142650\n",
      "prediction#52, output: -0.161735\n",
      "prediction#53, output: -0.182338\n",
      "prediction#54, output: -0.205199\n",
      "prediction#55, output: -0.232887\n",
      "prediction#56, output: -0.268602\n",
      "prediction#57, output: -0.307066\n",
      "prediction#58, output: -0.332630\n",
      "prediction#59, output: -0.339850\n",
      "prediction#60, output: -0.335384\n",
      "prediction#61, output: -0.327170\n",
      "prediction#62, output: -0.319702\n",
      "prediction#63, output: -0.313726\n",
      "prediction#64, output: -0.308551\n",
      "prediction#65, output: -0.303564\n",
      "prediction#66, output: -0.298495\n",
      "prediction#67, output: -0.293268\n",
      "prediction#68, output: -0.287856\n",
      "prediction#69, output: -0.282231\n",
      "prediction#70, output: -0.276356\n",
      "prediction#71, output: -0.270190\n",
      "prediction#72, output: -0.263692\n",
      "prediction#73, output: -0.256830\n",
      "prediction#74, output: -0.249580\n",
      "prediction#75, output: -0.241934\n",
      "prediction#76, output: -0.233902\n",
      "prediction#77, output: -0.225521\n",
      "prediction#78, output: -0.216833\n",
      "prediction#79, output: -0.207832\n",
      "prediction#80, output: -0.198267\n",
      "prediction#81, output: -0.187096\n",
      "prediction#82, output: -0.171204\n",
      "prediction#83, output: -0.143821\n",
      "prediction#84, output: -0.101173\n",
      "prediction#85, output: -0.063364\n",
      "prediction#86, output: -0.034375\n",
      "prediction#87, output: -0.008993\n",
      "prediction#88, output: 0.008809\n",
      "prediction#89, output: 0.012498\n",
      "prediction#90, output: 0.002187\n",
      "prediction#91, output: -0.014249\n",
      "prediction#92, output: -0.025931\n",
      "prediction#93, output: -0.028564\n",
      "prediction#94, output: -0.025211\n",
      "prediction#95, output: -0.020368\n",
      "prediction#96, output: -0.017112\n",
      "prediction#97, output: -0.016685\n",
      "prediction#98, output: -0.018605\n",
      "prediction#99, output: -0.021343\n",
      "prediction#100, output: -0.023425\n",
      "('outputs:', array([-0.35452232, -0.34569797, -0.33842677, -0.33238563, -0.3269656 ,\n",
      "       -0.32179213, -0.31671572, -0.31167865, -0.30664042, -0.30155754,\n",
      "       -0.29638386, -0.29107317, -0.28558046, -0.27986187, -0.27387479,\n",
      "       -0.26757875, -0.26093742, -0.2539219 , -0.24651569, -0.23872134,\n",
      "       -0.23056811, -0.22211772, -0.21345598, -0.2046338 , -0.19543436,\n",
      "       -0.18463001, -0.16823843, -0.13812441, -0.09359791, -0.05864885,\n",
      "       -0.03130332, -0.00805422,  0.00572679,  0.0046172 , -0.00936231,\n",
      "       -0.02689046, -0.03780307, -0.04008304, -0.03793719, -0.03576254,\n",
      "       -0.03625016, -0.04033177, -0.04738777, -0.05597422, -0.06493048,\n",
      "       -0.07408027, -0.0840553 , -0.09565273, -0.10933422, -0.12509438,\n",
      "       -0.14264955, -0.16173524, -0.18233806, -0.20519859, -0.23288691,\n",
      "       -0.26860213, -0.30706623, -0.33262956, -0.33985013, -0.33538374,\n",
      "       -0.32716969, -0.31970212, -0.31372601, -0.30855137, -0.30356401,\n",
      "       -0.29849499, -0.29326752, -0.28785568, -0.28223121, -0.27635634,\n",
      "       -0.27018976, -0.26369217, -0.25683016, -0.24958017, -0.24193361,\n",
      "       -0.23390234, -0.22552064, -0.21683255, -0.20783189, -0.19826716,\n",
      "       -0.18709576, -0.17120355, -0.14382112, -0.10117328, -0.063364  ,\n",
      "       -0.03437502, -0.00899269,  0.008809  ,  0.01249819,  0.00218664,\n",
      "       -0.01424892, -0.02593148, -0.02856356, -0.02521105, -0.02036791,\n",
      "       -0.01711243, -0.01668464, -0.0186051 , -0.02134305, -0.0234246 ]))\n"
     ]
    }
   ],
   "source": [
    "#optimizer = tf.train.GradientDescentOptimizer(learning_rate=learning_rate)\n",
    "#optimizer = tf.train.AdagradOptimizer(learning_rate=learning_rate)\n",
    "optimizer = tf.train.AdamOptimizer(learning_rate=learning_rate)\n",
    "\n",
    "with tf.Graph().as_default():\n",
    "    input_ph      = tf.placeholder(tf.float32, [None, length_of_sequences, num_of_input_nodes], name=\"input\")\n",
    "    supervisor_ph = tf.placeholder(tf.float32, [None, num_of_output_nodes], name=\"supervisor\")\n",
    "    istate_ph     = tf.placeholder(tf.float32, [None, num_of_hidden_nodes * 2], name=\"istate\")\n",
    "\n",
    "    with tf.name_scope(\"inference\") as scope:\n",
    "        weight1_var = tf.Variable(tf.truncated_normal([num_of_input_nodes, num_of_hidden_nodes], stddev=0.1), name=\"weight1\")\n",
    "        weight2_var = tf.Variable(tf.truncated_normal([num_of_hidden_nodes, num_of_output_nodes], stddev=0.1), name=\"weight2\")\n",
    "        bias1_var   = tf.Variable(tf.truncated_normal([num_of_hidden_nodes], stddev=0.1), name=\"bias1\")\n",
    "        bias2_var   = tf.Variable(tf.truncated_normal([num_of_output_nodes], stddev=0.1), name=\"bias2\")\n",
    "\n",
    "        weight1_hist = tf.histogram_summary(\"layer1/weights\", weight1_var)\n",
    "        weight2_hist = tf.histogram_summary(\"layer2/weights\", weight2_var)\n",
    "        bias1_hist = tf.histogram_summary(\"layer1/biases\", bias1_var)\n",
    "        bias2_hist = tf.histogram_summary(\"layer2/biases\", bias2_var)\n",
    "\n",
    "        in1 = tf.transpose(input_ph, [1, 0, 2])         # (batch, sequence, data) -> (sequence, batch, data)\n",
    "        in2 = tf.reshape(in1, [-1, num_of_input_nodes]) # (sequence, batch, data) -> (sequence * batch, data)\n",
    "        in3 = tf.matmul(in2, weight1_var) + bias1_var\n",
    "        in4 = tf.split(0, length_of_sequences, in3)     # sequence * (batch, data)\n",
    "\n",
    "        cell = tf.nn.rnn_cell.BasicLSTMCell(num_of_hidden_nodes, forget_bias=forget_bias)\n",
    "        rnn_output, states_op = tf.nn.rnn(cell, in4, initial_state=istate_ph)\n",
    "        output_op = tf.matmul(rnn_output[-1], weight2_var) + bias2_var\n",
    "\n",
    "    with tf.name_scope(\"loss\") as scope:\n",
    "        square_error = tf.reduce_mean(tf.square(output_op - supervisor_ph))\n",
    "        loss_op      = square_error\n",
    "        tf.scalar_summary(\"loss\", loss_op)\n",
    "\n",
    "    with tf.name_scope(\"training\") as scope:\n",
    "        training_op = optimizer.minimize(loss_op)\n",
    "\n",
    "    summary_op = tf.merge_all_summaries()\n",
    "    init = tf.initialize_all_variables()\n",
    "\n",
    "    with tf.Session() as sess:\n",
    "        saver = tf.train.Saver()\n",
    "        summary_writer = tf.train.SummaryWriter(\"data\", graph=sess.graph)\n",
    "        sess.run(init)\n",
    "\n",
    "        for epoch in range(num_of_training_epochs):\n",
    "            inputs, supervisors = make_mini_batch(train_data, size_of_mini_batch, length_of_sequences)\n",
    "\n",
    "            train_dict = {\n",
    "                input_ph:      inputs,\n",
    "                supervisor_ph: supervisors,\n",
    "                istate_ph:     np.zeros((size_of_mini_batch, num_of_hidden_nodes * 2)),\n",
    "            }\n",
    "            sess.run(training_op, feed_dict=train_dict)\n",
    "\n",
    "            if (epoch + 1) % 10 == 0:\n",
    "                summary_str, train_loss = sess.run([summary_op, loss_op], feed_dict=train_dict)\n",
    "                summary_writer.add_summary(summary_str, epoch)\n",
    "                print(\"train#%d, train loss: %e\" % (epoch + 1, train_loss))\n",
    "\n",
    "        inputs  = make_prediction_initial(train_data, 0, length_of_initial_sequences)\n",
    "        outputs = np.empty(0)\n",
    "        states  = np.zeros((num_of_hidden_nodes * 2)),\n",
    "\n",
    "        print(\"initial:\", inputs)\n",
    "        np.save(\"initial.npy\", inputs)\n",
    "\n",
    "        for epoch in range(num_of_prediction_epochs):\n",
    "            pred_dict = {\n",
    "                input_ph:  inputs.reshape((1, length_of_sequences, 1)),\n",
    "                istate_ph: states,\n",
    "            }\n",
    "            output, states = sess.run([output_op, states_op], feed_dict=pred_dict)\n",
    "            print(\"prediction#%d, output: %f\" % (epoch + 1, output))\n",
    "\n",
    "            inputs  = np.delete(inputs, 0)\n",
    "            inputs  = np.append(inputs, output)\n",
    "            outputs = np.append(outputs, output)\n",
    "\n",
    "        print(\"outputs:\", outputs)\n",
    "        np.save(\"output.npy\", outputs)\n",
    "\n",
    "        saver.save(sess, \"data/model\")"
   ]
  },
  {
   "cell_type": "code",
   "execution_count": 9,
   "metadata": {
    "collapsed": false
   },
   "outputs": [],
   "source": []
  },
  {
   "cell_type": "code",
   "execution_count": 10,
   "metadata": {
    "collapsed": false
   },
   "outputs": [],
   "source": []
  },
  {
   "cell_type": "code",
   "execution_count": 27,
   "metadata": {
    "collapsed": false
   },
   "outputs": [
    {
     "data": {
      "text/plain": [
       "<matplotlib.axes._subplots.AxesSubplot at 0x7fe6f3626f90>"
      ]
     },
     "execution_count": 27,
     "metadata": {},
     "output_type": "execute_result"
    },
    {
     "data": {
      "image/png": "[encoded data removed]",
      "text/plain": [
       "<matplotlib.figure.Figure at 0x7fe6fa8b3790>"
      ]
     },
     "metadata": {},
     "output_type": "display_data"
    }
   ],
   "source": [
    "output = np.load('output.npy')\n",
    "df = pd.DataFrame({'supervisor': train_data[30:130,1], 'prediction': output})\n",
    "df.plot()"
   ]
  },
  {
   "cell_type": "code",
   "execution_count": null,
   "metadata": {
    "collapsed": true
   },
   "outputs": [],
   "source": []
  }
 ],
 "metadata": {
  "kernelspec": {
   "display_name": "Python 2",
   "language": "python",
   "name": "python2"
  },
  "language_info": {
   "codemirror_mode": {
    "name": "ipython",
    "version": 2
   },
   "file_extension": ".py",
   "mimetype": "text/x-python",
   "name": "python",
   "nbconvert_exporter": "python",
   "pygments_lexer": "ipython2",
   "version": "2.7.12"
  }
 },
 "nbformat": 4,
 "nbformat_minor": 1
}
