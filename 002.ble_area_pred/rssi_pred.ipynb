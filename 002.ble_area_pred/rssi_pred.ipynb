{
 "cells": [
  {
   "cell_type": "code",
   "execution_count": 1,
   "metadata": {
    "collapsed": true
   },
   "outputs": [],
   "source": [
    "import tensorflow as tf\n",
    "import numpy as np\n",
    "import random"
   ]
  },
  {
   "cell_type": "code",
   "execution_count": 2,
   "metadata": {
    "collapsed": true
   },
   "outputs": [],
   "source": [
    "def make_mini_batch(train_data, size_of_mini_batch, length_of_sequences):\n",
    "    inputs  = np.empty(0)\n",
    "    outputs = np.empty(0)\n",
    "    for _ in range(size_of_mini_batch):\n",
    "        index   = random.randint(0, len(train_data) - length_of_sequences)\n",
    "        part    = train_data[index:index + length_of_sequences]\n",
    "        inputs  = np.append(inputs, part[:, 0])\n",
    "        outputs = np.append(outputs, part[-1, 1])\n",
    "    inputs  = inputs.reshape(-1, length_of_sequences, 1)\n",
    "    outputs = outputs.reshape(-1, 1)\n",
    "    return (inputs, outputs)"
   ]
  },
  {
   "cell_type": "code",
   "execution_count": 3,
   "metadata": {
    "collapsed": true
   },
   "outputs": [],
   "source": [
    "def make_prediction_initial(train_data, index, length_of_sequences):\n",
    "    return train_data[index:index + length_of_sequences, 0]"
   ]
  },
  {
   "cell_type": "code",
   "execution_count": 4,
   "metadata": {
    "collapsed": true
   },
   "outputs": [],
   "source": [
    "train_data_path             = \"./rssi_next.npy\"\n",
    "num_of_input_nodes          = 1\n",
    "num_of_hidden_nodes         = 2\n",
    "num_of_output_nodes         = 1\n",
    "length_of_sequences         = 30\n",
    "num_of_training_epochs      = 800\n",
    "length_of_initial_sequences = 30\n",
    "num_of_prediction_epochs    = 100\n",
    "size_of_mini_batch          = 1\n",
    "learning_rate               = 0.5\n",
    "forget_bias                 = 1.0"
   ]
  },
  {
   "cell_type": "code",
   "execution_count": 5,
   "metadata": {
    "collapsed": false
   },
   "outputs": [],
   "source": [
    "train_data = np.load(train_data_path)"
   ]
  },
  {
   "cell_type": "code",
   "execution_count": 6,
   "metadata": {
    "collapsed": true
   },
   "outputs": [],
   "source": [
    "# random seed fix\n",
    "random.seed(0)\n",
    "np.random.seed(0)\n",
    "tf.set_random_seed(0)"
   ]
  },
  {
   "cell_type": "code",
   "execution_count": 7,
   "metadata": {
    "collapsed": true
   },
   "outputs": [],
   "source": [
    "#optimizer = tf.train.GradientDescentOptimizer(learning_rate=learning_rate)\n",
    "#optimizer = tf.train.AdagradOptimizer(learning_rate=learning_rate)\n",
    "optimizer = tf.train.AdamOptimizer(learning_rate=learning_rate)"
   ]
  },
  {
   "cell_type": "code",
   "execution_count": 8,
   "metadata": {
    "collapsed": false,
    "scrolled": false
   },
   "outputs": [
    {
     "name": "stderr",
     "output_type": "stream",
     "text": [
      "WARNING:tensorflow:<tensorflow.python.ops.rnn_cell.BasicLSTMCell object at 0x7fefed2fcf50>: Using a concatenated state is slower and will soon be deprecated.  Use state_is_tuple=True.\n"
     ]
    },
    {
     "name": "stdout",
     "output_type": "stream",
     "text": [
      "train#10, train loss: 3.126777e+03\n",
      "train#20, train loss: 1.611774e+03\n",
      "train#30, train loss: 1.262950e+03\n",
      "train#40, train loss: 1.605016e+03\n",
      "train#50, train loss: 5.621238e+02\n",
      "train#60, train loss: 8.766038e+02\n",
      "train#70, train loss: 1.149096e+03\n",
      "train#80, train loss: 6.427677e+02\n",
      "train#90, train loss: 5.436740e+02\n",
      "train#100, train loss: 5.605089e+02\n",
      "train#110, train loss: 5.803996e+02\n",
      "train#120, train loss: 1.116529e+02\n",
      "train#130, train loss: 2.059021e+02\n",
      "train#140, train loss: 2.331832e+02\n",
      "train#150, train loss: 1.539180e+02\n",
      "train#160, train loss: 1.186516e+02\n",
      "train#170, train loss: 1.509787e+02\n",
      "train#180, train loss: 1.776706e+01\n",
      "train#190, train loss: 3.310529e+01\n",
      "train#200, train loss: 1.170597e+02\n",
      "train#210, train loss: 6.333232e+01\n",
      "train#220, train loss: 3.691992e+02\n",
      "train#230, train loss: 4.518790e+01\n",
      "train#240, train loss: 3.076833e+01\n",
      "train#250, train loss: 8.463012e+01\n",
      "train#260, train loss: 3.431421e+00\n",
      "train#270, train loss: 3.220909e+00\n",
      "train#280, train loss: 2.477764e+01\n",
      "train#290, train loss: 4.040289e+01\n",
      "train#300, train loss: 1.713404e-03\n",
      "train#310, train loss: 8.318663e+01\n",
      "train#320, train loss: 4.481296e+02\n",
      "train#330, train loss: 1.036315e+01\n",
      "train#340, train loss: 1.917114e+01\n",
      "train#350, train loss: 4.912360e+01\n",
      "train#360, train loss: 4.328558e+01\n",
      "train#370, train loss: 7.356976e+01\n",
      "train#380, train loss: 1.487970e+01\n",
      "train#390, train loss: 1.538422e-01\n",
      "train#400, train loss: 2.015918e-04\n",
      "train#410, train loss: 4.886455e+01\n",
      "train#420, train loss: 4.256733e+01\n",
      "train#430, train loss: 6.691659e+01\n",
      "train#440, train loss: 1.744410e+01\n",
      "train#450, train loss: 9.612970e+00\n",
      "train#460, train loss: 1.303147e+01\n",
      "train#470, train loss: 1.030759e+02\n",
      "train#480, train loss: 5.161098e+01\n",
      "train#490, train loss: 1.124776e+00\n",
      "train#500, train loss: 3.307531e+01\n",
      "train#510, train loss: 7.235189e+00\n",
      "train#520, train loss: 2.565232e+01\n",
      "train#530, train loss: 1.669202e+01\n",
      "train#540, train loss: 8.188072e-02\n",
      "train#550, train loss: 1.362752e+00\n",
      "train#560, train loss: 2.780150e+01\n",
      "train#570, train loss: 1.845245e+01\n",
      "train#580, train loss: 4.941917e-01\n",
      "train#590, train loss: 6.716421e+01\n",
      "train#600, train loss: 3.909023e+02\n",
      "train#610, train loss: 1.311337e+01\n",
      "train#620, train loss: 1.517050e+02\n",
      "train#630, train loss: 3.305127e+01\n",
      "train#640, train loss: 3.356795e+01\n",
      "train#650, train loss: 2.796171e+01\n",
      "train#660, train loss: 3.843750e+01\n",
      "train#670, train loss: 7.865407e-01\n",
      "train#680, train loss: 2.862693e+01\n",
      "train#690, train loss: 4.114220e+01\n",
      "train#700, train loss: 6.889315e+01\n",
      "train#710, train loss: 1.756466e+00\n",
      "train#720, train loss: 1.884839e+00\n",
      "train#730, train loss: 4.395246e+01\n",
      "train#740, train loss: 7.425454e+01\n",
      "train#750, train loss: 1.029868e+01\n",
      "train#760, train loss: 6.047189e+01\n",
      "train#770, train loss: 6.650929e+01\n",
      "train#780, train loss: 3.437382e+01\n",
      "train#790, train loss: 3.443642e+00\n",
      "train#800, train loss: 1.277558e+00\n",
      "('initial:', array([-81., -81., -80., -78., -75., -73., -71., -70., -69., -67., -68.,\n",
      "       -69., -69., -69., -69., -70., -71., -70., -71., -72., -72., -72.,\n",
      "       -71., -71., -71., -70., -69., -69., -69., -69.]))\n",
      "prediction#1, output: -62.130291\n",
      "prediction#2, output: -62.130291\n",
      "prediction#3, output: -62.130291\n",
      "prediction#4, output: -62.130291\n",
      "prediction#5, output: -62.130291\n",
      "prediction#6, output: -62.130291\n",
      "prediction#7, output: -62.130291\n",
      "prediction#8, output: -62.130291\n",
      "prediction#9, output: -62.130291\n",
      "prediction#10, output: -62.130291\n",
      "prediction#11, output: -62.130291\n",
      "prediction#12, output: -62.130291\n",
      "prediction#13, output: -62.130291\n",
      "prediction#14, output: -62.130291\n",
      "prediction#15, output: -62.130291\n",
      "prediction#16, output: -62.130291\n",
      "prediction#17, output: -62.130291\n",
      "prediction#18, output: -62.130291\n",
      "prediction#19, output: -62.130291\n",
      "prediction#20, output: -62.130291\n",
      "prediction#21, output: -62.130291\n",
      "prediction#22, output: -62.130291\n",
      "prediction#23, output: -62.130291\n",
      "prediction#24, output: -62.130291\n",
      "prediction#25, output: -62.130291\n",
      "prediction#26, output: -62.130291\n",
      "prediction#27, output: -62.130291\n",
      "prediction#28, output: -62.130291\n",
      "prediction#29, output: -62.130291\n",
      "prediction#30, output: -62.130291\n",
      "prediction#31, output: -62.130291\n",
      "prediction#32, output: -62.130291\n",
      "prediction#33, output: -62.130291\n",
      "prediction#34, output: -62.130291\n",
      "prediction#35, output: -62.130291\n",
      "prediction#36, output: -62.130291\n",
      "prediction#37, output: -62.130291\n",
      "prediction#38, output: -62.130291\n",
      "prediction#39, output: -62.130291\n",
      "prediction#40, output: -62.130291\n",
      "prediction#41, output: -62.130291\n",
      "prediction#42, output: -62.130291\n",
      "prediction#43, output: -62.130291\n",
      "prediction#44, output: -62.130291\n",
      "prediction#45, output: -62.130291\n",
      "prediction#46, output: -62.130291\n",
      "prediction#47, output: -62.130291\n",
      "prediction#48, output: -62.130291\n",
      "prediction#49, output: -62.130291\n",
      "prediction#50, output: -62.130291\n",
      "prediction#51, output: -62.130291\n",
      "prediction#52, output: -62.130291\n",
      "prediction#53, output: -62.130291\n",
      "prediction#54, output: -62.130291\n",
      "prediction#55, output: -62.130291\n",
      "prediction#56, output: -62.130291\n",
      "prediction#57, output: -62.130291\n",
      "prediction#58, output: -62.130291\n",
      "prediction#59, output: -62.130291\n",
      "prediction#60, output: -62.130291\n",
      "prediction#61, output: -62.130291\n",
      "prediction#62, output: -62.130291\n",
      "prediction#63, output: -62.130291\n",
      "prediction#64, output: -62.130291\n",
      "prediction#65, output: -62.130291\n",
      "prediction#66, output: -62.130291\n",
      "prediction#67, output: -62.130291\n",
      "prediction#68, output: -62.130291\n",
      "prediction#69, output: -62.130291\n",
      "prediction#70, output: -62.130291\n",
      "prediction#71, output: -62.130291\n",
      "prediction#72, output: -62.130291\n",
      "prediction#73, output: -62.130291\n",
      "prediction#74, output: -62.130291\n",
      "prediction#75, output: -62.130291\n",
      "prediction#76, output: -62.130291\n",
      "prediction#77, output: -62.130291\n",
      "prediction#78, output: -62.130291\n",
      "prediction#79, output: -62.130291\n",
      "prediction#80, output: -62.130291\n",
      "prediction#81, output: -62.130291\n",
      "prediction#82, output: -62.130291\n",
      "prediction#83, output: -62.130291\n",
      "prediction#84, output: -62.130291\n",
      "prediction#85, output: -62.130291\n",
      "prediction#86, output: -62.130291\n",
      "prediction#87, output: -62.130291\n",
      "prediction#88, output: -62.130291\n",
      "prediction#89, output: -62.130291\n",
      "prediction#90, output: -62.130291\n",
      "prediction#91, output: -62.130291\n",
      "prediction#92, output: -62.130291\n",
      "prediction#93, output: -62.130291\n",
      "prediction#94, output: -62.130291\n",
      "prediction#95, output: -62.130291\n",
      "prediction#96, output: -62.130291\n",
      "prediction#97, output: -62.130291\n",
      "prediction#98, output: -62.130291\n",
      "prediction#99, output: -62.130291\n",
      "prediction#100, output: -62.130291\n",
      "('outputs:', array([-62.13029099, -62.13029099, -62.13029099, -62.13029099,\n",
      "       -62.13029099, -62.13029099, -62.13029099, -62.13029099,\n",
      "       -62.13029099, -62.13029099, -62.13029099, -62.13029099,\n",
      "       -62.13029099, -62.13029099, -62.13029099, -62.13029099,\n",
      "       -62.13029099, -62.13029099, -62.13029099, -62.13029099,\n",
      "       -62.13029099, -62.13029099, -62.13029099, -62.13029099,\n",
      "       -62.13029099, -62.13029099, -62.13029099, -62.13029099,\n",
      "       -62.13029099, -62.13029099, -62.13029099, -62.13029099,\n",
      "       -62.13029099, -62.13029099, -62.13029099, -62.13029099,\n",
      "       -62.13029099, -62.13029099, -62.13029099, -62.13029099,\n",
      "       -62.13029099, -62.13029099, -62.13029099, -62.13029099,\n",
      "       -62.13029099, -62.13029099, -62.13029099, -62.13029099,\n",
      "       -62.13029099, -62.13029099, -62.13029099, -62.13029099,\n",
      "       -62.13029099, -62.13029099, -62.13029099, -62.13029099,\n",
      "       -62.13029099, -62.13029099, -62.13029099, -62.13029099,\n",
      "       -62.13029099, -62.13029099, -62.13029099, -62.13029099,\n",
      "       -62.13029099, -62.13029099, -62.13029099, -62.13029099,\n",
      "       -62.13029099, -62.13029099, -62.13029099, -62.13029099,\n",
      "       -62.13029099, -62.13029099, -62.13029099, -62.13029099,\n",
      "       -62.13029099, -62.13029099, -62.13029099, -62.13029099,\n",
      "       -62.13029099, -62.13029099, -62.13029099, -62.13029099,\n",
      "       -62.13029099, -62.13029099, -62.13029099, -62.13029099,\n",
      "       -62.13029099, -62.13029099, -62.13029099, -62.13029099,\n",
      "       -62.13029099, -62.13029099, -62.13029099, -62.13029099,\n",
      "       -62.13029099, -62.13029099, -62.13029099, -62.13029099]))\n"
     ]
    }
   ],
   "source": [
    "with tf.Graph().as_default():\n",
    "    input_ph      = tf.placeholder(tf.float32, [None, length_of_sequences, num_of_input_nodes], name=\"input\")\n",
    "    supervisor_ph = tf.placeholder(tf.float32, [None, num_of_output_nodes], name=\"supervisor\")\n",
    "    istate_ph     = tf.placeholder(tf.float32, [None, num_of_hidden_nodes * 2], name=\"istate\")\n",
    "\n",
    "    with tf.name_scope(\"inference\") as scope:\n",
    "        weight1_var = tf.Variable(tf.truncated_normal([num_of_input_nodes, num_of_hidden_nodes], stddev=0.1), name=\"weight1\")\n",
    "        weight2_var = tf.Variable(tf.truncated_normal([num_of_hidden_nodes, num_of_output_nodes], stddev=0.1), name=\"weight2\")\n",
    "        bias1_var   = tf.Variable(tf.truncated_normal([num_of_hidden_nodes], stddev=0.1), name=\"bias1\")\n",
    "        bias2_var   = tf.Variable(tf.truncated_normal([num_of_output_nodes], stddev=0.1), name=\"bias2\")\n",
    "\n",
    "        weight1_hist = tf.histogram_summary(\"layer1/weights\", weight1_var)\n",
    "        weight2_hist = tf.histogram_summary(\"layer2/weights\", weight2_var)\n",
    "        bias1_hist = tf.histogram_summary(\"layer1/biases\", bias1_var)\n",
    "        bias2_hist = tf.histogram_summary(\"layer2/biases\", bias2_var)\n",
    "\n",
    "        in1 = tf.transpose(input_ph, [1, 0, 2])         # (batch, sequence, data) -> (sequence, batch, data)\n",
    "        in2 = tf.reshape(in1, [-1, num_of_input_nodes]) # (sequence, batch, data) -> (sequence * batch, data)\n",
    "        in3 = tf.matmul(in2, weight1_var) + bias1_var\n",
    "        in4 = tf.split(0, length_of_sequences, in3)     # sequence * (batch, data)\n",
    "\n",
    "        cell = tf.nn.rnn_cell.BasicLSTMCell(num_of_hidden_nodes, forget_bias=forget_bias)\n",
    "        rnn_output, states_op = tf.nn.rnn(cell, in4, initial_state=istate_ph)\n",
    "        output_op = tf.matmul(rnn_output[-1], weight2_var) + bias2_var\n",
    "\n",
    "    with tf.name_scope(\"loss\") as scope:\n",
    "        square_error = tf.reduce_mean(tf.square(output_op - supervisor_ph))\n",
    "        loss_op      = square_error\n",
    "        tf.scalar_summary(\"loss\", loss_op)\n",
    "\n",
    "    with tf.name_scope(\"training\") as scope:\n",
    "        training_op = optimizer.minimize(loss_op)\n",
    "\n",
    "    summary_op = tf.merge_all_summaries()\n",
    "    init = tf.initialize_all_variables()\n",
    "\n",
    "    with tf.Session() as sess:\n",
    "        saver = tf.train.Saver()\n",
    "        summary_writer = tf.train.SummaryWriter(\"data\", graph=sess.graph)\n",
    "        sess.run(init)\n",
    "\n",
    "        for epoch in range(num_of_training_epochs):\n",
    "            inputs, supervisors = make_mini_batch(train_data, size_of_mini_batch, length_of_sequences)\n",
    "\n",
    "            train_dict = {\n",
    "                input_ph:      inputs,\n",
    "                supervisor_ph: supervisors,\n",
    "                istate_ph:     np.zeros((size_of_mini_batch, num_of_hidden_nodes * 2)),\n",
    "            }\n",
    "            sess.run(training_op, feed_dict=train_dict)\n",
    "\n",
    "            if (epoch + 1) % 10 == 0:\n",
    "                summary_str, train_loss = sess.run([summary_op, loss_op], feed_dict=train_dict)\n",
    "                summary_writer.add_summary(summary_str, epoch)\n",
    "                print(\"train#%d, train loss: %e\" % (epoch + 1, train_loss))\n",
    "\n",
    "        inputs  = make_prediction_initial(train_data, 0, length_of_initial_sequences)\n",
    "        outputs = np.empty(0)\n",
    "        states  = np.zeros((num_of_hidden_nodes * 2)),\n",
    "\n",
    "        print(\"initial:\", inputs)\n",
    "        np.save(\"initial.npy\", inputs)\n",
    "\n",
    "        for epoch in range(num_of_prediction_epochs):\n",
    "            pred_dict = {\n",
    "                input_ph:  inputs.reshape((1, length_of_sequences, 1)),\n",
    "                istate_ph: states,\n",
    "            }\n",
    "            output, states = sess.run([output_op, states_op], feed_dict=pred_dict)\n",
    "            print(\"prediction#%d, output: %f\" % (epoch + 1, output))\n",
    "\n",
    "            inputs  = np.delete(inputs, 0)\n",
    "            inputs  = np.append(inputs, output)\n",
    "            outputs = np.append(outputs, output)\n",
    "\n",
    "        print(\"outputs:\", outputs)\n",
    "        np.save(\"output.npy\", outputs)\n",
    "\n",
    "        saver.save(sess, \"data/model\")"
   ]
  },
  {
   "cell_type": "code",
   "execution_count": 9,
   "metadata": {
    "collapsed": false
   },
   "outputs": [],
   "source": [
    "import pandas as pd\n",
    "%matplotlib inline"
   ]
  },
  {
   "cell_type": "code",
   "execution_count": 10,
   "metadata": {
    "collapsed": false
   },
   "outputs": [],
   "source": [
    "output = np.load('output.npy')"
   ]
  },
  {
   "cell_type": "code",
   "execution_count": 11,
   "metadata": {
    "collapsed": false
   },
   "outputs": [
    {
     "data": {
      "text/plain": [
       "<matplotlib.axes._subplots.AxesSubplot at 0x7fefd9afb1d0>"
      ]
     },
     "execution_count": 11,
     "metadata": {},
     "output_type": "execute_result"
    },
    {
     "data": {
      "image/png": "[encoded data removed]",
      "text/plain": [
       "<matplotlib.figure.Figure at 0x7fefd9ac6990>"
      ]
     },
     "metadata": {},
     "output_type": "display_data"
    }
   ],
   "source": [
    "df = pd.DataFrame({'supervisor': train_data[30:130,1], 'prediction': output})\n",
    "df.plot()"
   ]
  }
 ],
 "metadata": {
  "kernelspec": {
   "display_name": "Python 2",
   "language": "python",
   "name": "python2"
  },
  "language_info": {
   "codemirror_mode": {
    "name": "ipython",
    "version": 2
   },
   "file_extension": ".py",
   "mimetype": "text/x-python",
   "name": "python",
   "nbconvert_exporter": "python",
   "pygments_lexer": "ipython2",
   "version": "2.7.9"
  }
 },
 "nbformat": 4,
 "nbformat_minor": 1
}
