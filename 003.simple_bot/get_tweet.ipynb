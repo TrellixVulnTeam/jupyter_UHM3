{
 "cells": [
  {
   "cell_type": "code",
   "execution_count": 1,
   "metadata": {
    "collapsed": true
   },
   "outputs": [],
   "source": [
    "import tweepy\n",
    "\n",
    "CONSUMER_KEY = 'cWEcC09h69NnvTNXIJd9pMcuz'\n",
    "CONSUMER_SECRET = 'SXLosdyWTSJ0Ewq4qDg1Z1y3TNvxpn8NlWiRRcqk0O0djmAJYT'\n",
    "auth = tweepy.OAuthHandler(CONSUMER_KEY, CONSUMER_SECRET)\n",
    "ACCESS_TOKEN = '3037395457-vBC32TGdFzSqHhQNwX8j2tBOZLqXHcBav9jMbNt'\n",
    "ACCESS_SECRET = 'Df02EVj1V9HB010TopRfVOVwGeQsbDvp2y5uQV8jggEEU'\n",
    "auth.set_access_token(ACCESS_TOKEN, ACCESS_SECRET)\n",
    "\n",
    "api = tweepy.API(auth)"
   ]
  },
  {
   "cell_type": "code",
   "execution_count": 3,
   "metadata": {
    "collapsed": false
   },
   "outputs": [
    {
     "name": "stdout",
     "output_type": "stream",
     "text": [
      "ツイッター創業者復帰から1年、それでも不振続く理由 https://t.co/Fhfnou2Q45 ドーシー氏のCEO復帰から1年。同氏のこれまでの取り組みはユーザー数や売上高の伸び悩みを覆せず、買収の格好の標的となっている https://t.co/aFATyQkK2k\n"
     ]
    }
   ],
   "source": [
    "print api.home_timeline()[0].text"
   ]
  },
  {
   "cell_type": "code",
   "execution_count": null,
   "metadata": {
    "collapsed": true
   },
   "outputs": [],
   "source": []
  }
 ],
 "metadata": {
  "kernelspec": {
   "display_name": "Python 2",
   "language": "python",
   "name": "python2"
  },
  "language_info": {
   "codemirror_mode": {
    "name": "ipython",
    "version": 2
   },
   "file_extension": ".py",
   "mimetype": "text/x-python",
   "name": "python",
   "nbconvert_exporter": "python",
   "pygments_lexer": "ipython2",
   "version": "2.7.9"
  }
 },
 "nbformat": 4,
 "nbformat_minor": 1
}
