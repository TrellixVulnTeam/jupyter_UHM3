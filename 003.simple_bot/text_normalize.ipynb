{
 "cells": [
  {
   "cell_type": "code",
   "execution_count": 1,
   "metadata": {
    "collapsed": false
   },
   "outputs": [
    {
     "data": {
      "text/plain": [
       "'ja_JP.utf8'"
      ]
     },
     "execution_count": 1,
     "metadata": {},
     "output_type": "execute_result"
    }
   ],
   "source": [
    "import re\n",
    "import locale\n",
    "locale.setlocale(locale.LC_ALL, 'ja_JP.utf8')"
   ]
  },
  {
   "cell_type": "code",
   "execution_count": 2,
   "metadata": {
    "collapsed": false
   },
   "outputs": [],
   "source": [
    "\n",
    "def text_normalize(infile, outfile):\n",
    "    tw_id = re.compile('@[^\\s]+\\s+')\n",
    "    url = re.compile('http[^\\s]+')\n",
    "    emoji = re.compile(u'[\\U0001e000-\\U0001f8ff]')\n",
    "    kutoten = re.compile(u'、|。')\n",
    "\n",
    "    def modline(str):\n",
    "        str = str.rstrip(\"\\n\")\n",
    "        str = tw_id.sub('', str)\n",
    "        str = url.sub(' ', str)\n",
    "        str = emoji.sub(' ', str)\n",
    "        str = kutoten.sub(' ', str)\n",
    "        return str + \"\\n\"\n",
    "\n",
    "    with open(infile) as fin:\n",
    "        with open(outfile, 'w') as fout:\n",
    "            for buf in fin:\n",
    "                fout.write(modline(buf))\n",
    "                \n",
    "#text_normalize('translate/data/data_in.txt', 'translate/data/data_in_normalize.txt')\n",
    "text_normalize('translate/data/data_in.txt', 'translate/data/data_in_norm.txt')\n",
    "text_normalize('translate/data/data_out.txt', 'translate/data/data_out_norm.txt')\n"
   ]
  }
 ],
 "metadata": {
  "kernelspec": {
   "display_name": "Python 3",
   "language": "python",
   "name": "python3"
  },
  "language_info": {
   "codemirror_mode": {
    "name": "ipython",
    "version": 3
   },
   "file_extension": ".py",
   "mimetype": "text/x-python",
   "name": "python",
   "nbconvert_exporter": "python",
   "pygments_lexer": "ipython3",
   "version": "3.5.2"
  }
 },
 "nbformat": 4,
 "nbformat_minor": 1
}
