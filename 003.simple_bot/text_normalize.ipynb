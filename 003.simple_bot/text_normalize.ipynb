{
 "cells": [
  {
   "cell_type": "code",
   "execution_count": 4,
   "metadata": {
    "collapsed": false
   },
   "outputs": [],
   "source": [
    "import re\n",
    "import locale\n",
    "locale.setlocale(locale.LC_ALL, 'ja_JP.utf8')\n",
    "\n",
    "def text_normalize(infile, outfile):\n",
    "    def modline(str):\n",
    "        return tw_id.sub('', str)\n",
    "    tw_id = re.compile('@[^\\s]+\\s+')\n",
    "    with open(infile) as fin:\n",
    "        with open(outfile, 'w') as fout:\n",
    "            for buf in fin:\n",
    "                fout.write(modline(buf))\n",
    "                \n",
    "#text_normalize('translate/data/data_in.txt', 'translate/data/data_in_normalize.txt')\n",
    "text_normalize('translate/data/data_in.txt', 'translate/data/data_in_norm.txt')\n",
    "text_normalize('translate/data/data_out.txt', 'translate/data/data_out_norm.txt')\n"
   ]
  }
 ],
 "metadata": {
  "kernelspec": {
   "display_name": "Python 3",
   "language": "python",
   "name": "python3"
  },
  "language_info": {
   "codemirror_mode": {
    "name": "ipython",
    "version": 3
   },
   "file_extension": ".py",
   "mimetype": "text/x-python",
   "name": "python",
   "nbconvert_exporter": "python",
   "pygments_lexer": "ipython3",
   "version": "3.4.2"
  }
 },
 "nbformat": 4,
 "nbformat_minor": 1
}
