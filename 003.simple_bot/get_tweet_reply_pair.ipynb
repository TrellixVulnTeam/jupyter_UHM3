{
 "cells": [
  {
   "cell_type": "code",
   "execution_count": 2,
   "metadata": {
    "collapsed": false,
    "scrolled": true
   },
   "outputs": [],
   "source": [
    "from twitter.twitter import *\n",
    "import os,sys,time\n",
    "import datetime\n",
    "import locale\n",
    "import auth_info as auth\n",
    "\n",
    "locale.setlocale(locale.LC_ALL, 'ja_JP.utf8')\n",
    "\n",
    "MAX_RECURSIVE_DEPTH = 20\n",
    "\n",
    "#NG words\n",
    "#ここでタプルに追加した単語（記号）を含むツイートは収集から除外される。\n",
    "#今回は、URLやHashtag、【定期】のように使われるカッコなどを除外とした。\n",
    "check_chara = ('http', '#', '\\\\', '【','】')\n",
    "\n",
    "#Retry MAX\n",
    "retry_max = 10\n",
    "#Retry time\n",
    "retry_time = 10\n",
    "\n",
    "#過去に認証したときのTokenを探す。\n",
    "TWITTER_CREDS = os.path.expanduser('.credentials')\n",
    "if not os.path.exists(TWITTER_CREDS):\n",
    "  #無ければ、OAuthで認証\n",
    "  oauth_dance(auth.CONSUMER_NAME, auth.CONSUMER_KEY, auth.CONSUMER_SECRET, TWITTER_CREDS)\n",
    "oauth_token, oauth_secret = read_token_file(TWITTER_CREDS)\n",
    "\n",
    "# token\n",
    "# Tokenを用いて、Streaming APIで新着ツイートを見つけるstreamと、普通のTwitter APIで'in_reply_to_status_id'を参照するtwitterの2つを用意する。\n",
    "stream = TwitterStream(auth=OAuth(oauth_token, oauth_secret, auth.CONSUMER_KEY, auth.CONSUMER_SECRET))\n",
    "twitter = Twitter(auth=OAuth(oauth_token, oauth_secret, auth.CONSUMER_KEY, auth.CONSUMER_SECRET))"
   ]
  },
  {
   "cell_type": "code",
   "execution_count": 3,
   "metadata": {
    "collapsed": false
   },
   "outputs": [],
   "source": [
    "def fwrite(fname, str):\n",
    "    f = open(fname, 'a')\n",
    "    f.write(str + '\\n')\n",
    "    f.close()"
   ]
  },
  {
   "cell_type": "code",
   "execution_count": 4,
   "metadata": {
    "collapsed": false
   },
   "outputs": [],
   "source": [
    "#in_reply_to_status_idから宛先となるツイートを参照する。\n",
    "def show(_status):\n",
    "  global current_recursive_depth, data_num\n",
    "  #print(current_recursive_depth)\n",
    "  #print('IN:\\n'+str(_status), file=sys.stderr)\n",
    "  #リトライを設定\n",
    "  #print (_status['text'])\n",
    "  for r in range(retry_max):\n",
    "    #言語が日本語、in_reply_to_status_idが明示されており、禁止単語を含まないツイートの場合\n",
    "    if 'lang' in _status and _status['lang'] == 'ja' and 'in_reply_to_status_id' in _status and not _status['in_reply_to_status_id'] is None and 'text' in _status and check(_status['text']):\n",
    "      try:\n",
    "        #ツイートを参照\n",
    "        status=twitter.statuses.show(id=_status['in_reply_to_status_id'])\n",
    "      except:\n",
    "        #print('! Error\\tRetry to read in_reply_tweet - '+str(r), file=sys.stderr)\n",
    "        time.sleep(retry_time)\n",
    "        continue\n",
    "      #print('OUT:\\n'+str(status), file=sys.stderr)\n",
    "      #宛先のツイートが日本語、in_reply_to_status_idが明示されており、禁止単語を含まないツイートの場合\n",
    "      if 'lang' in _status and _status['lang'] == 'ja' and 'text' in status and check(status['text']):\n",
    "        #標準出力で応答の対を出力\n",
    "        #print('--------------------------------------------------------')\n",
    "        #print('tweet:\\t'+str(_status['id'])+'\\t'+trim(_status['text']))\n",
    "        #print('reply:\\t'+str(status['id'])+'\\t'+trim(status['text']))\n",
    "        #さらに、宛先のツイートがin_reply_to_status_idを持つ場合は、さらに参照を行う。\n",
    "        fwrite('data_in.txt', trim(_status['text']))\n",
    "        fwrite('data_out.txt', trim(status['text']))\n",
    "        data_num += 1\n",
    "        if data_num % 10 == 0 :\n",
    "          d = datetime.datetime.today()\n",
    "          fwrite('data_ins_log.txt', '%s #%d' % (d.strftime(\"%x %X\"), data_num))\n",
    "          print('%s #%d' % (d.strftime(\"%x %X\"), data_num))\n",
    "        if 'in_reply_to_status_id' in status and not status['in_reply_to_status_id'] is None and current_recursive_depth <= MAX_RECURSIVE_DEPTH :\n",
    "          current_recursive_depth += 1\n",
    "          show(status)\n",
    "          current_recursive_depth -= 1\n",
    "        break\n",
    "      else:\n",
    "        #print('! Info\\tin_reply_tweet is not acceptable', file=sys.stderr)\n",
    "        break\n",
    "    else:\n",
    "      break\n",
    "\n",
    "#改行を適当に置き換える\n",
    "def trim(text):\n",
    "  return text.replace('\\r',' ').replace('\\n',' ')\n",
    "\n",
    "#禁止文字のチェックを行う\n",
    "def check(text):\n",
    "  #for char in check_chara:\n",
    "  #  if char in text:\n",
    "  #    return False\n",
    "  return True"
   ]
  },
  {
   "cell_type": "code",
   "execution_count": null,
   "metadata": {
    "collapsed": false,
    "scrolled": false
   },
   "outputs": [],
   "source": [
    "current_recursive_depth = 0\n",
    "data_num = 0\n",
    "while 1:\n",
    "  #ストリームに接続して適当にツイートを読み出す\n",
    "  statuses = stream.statuses.sample()\n",
    "  for status in statuses:\n",
    "    #参照に送る\n",
    "    show(status)"
   ]
  },
  {
   "cell_type": "code",
   "execution_count": null,
   "metadata": {
    "collapsed": true
   },
   "outputs": [],
   "source": []
  },
  {
   "cell_type": "code",
   "execution_count": 15,
   "metadata": {
    "collapsed": true
   },
   "outputs": [],
   "source": [
    "d = datetime.datetime.today()"
   ]
  },
  {
   "cell_type": "code",
   "execution_count": 17,
   "metadata": {
    "collapsed": false
   },
   "outputs": [
    {
     "name": "stdout",
     "output_type": "stream",
     "text": [
      "2016年10月12日 23時30分30秒 3\n"
     ]
    }
   ],
   "source": [
    "d = datetime.datetime.today()\n",
    "print \"%s %d\" % (d.strftime(\"%x %X\"), 3)"
   ]
  },
  {
   "cell_type": "code",
   "execution_count": 14,
   "metadata": {
    "collapsed": false
   },
   "outputs": [
    {
     "ename": "UnicodeDecodeError",
     "evalue": "'ascii' codec can't decode byte 0xe5 in position 4: ordinal not in range(128)",
     "output_type": "error",
     "traceback": [
      "\u001b[0;31m---------------------------------------------------------------------------\u001b[0m",
      "\u001b[0;31mUnicodeDecodeError\u001b[0m                        Traceback (most recent call last)",
      "\u001b[0;32m<ipython-input-14-d9c8d09d3a9a>\u001b[0m in \u001b[0;36m<module>\u001b[0;34m()\u001b[0m\n\u001b[1;32m      1\u001b[0m \u001b[0md\u001b[0m \u001b[0;34m=\u001b[0m \u001b[0mdatetime\u001b[0m\u001b[0;34m.\u001b[0m\u001b[0mdatetime\u001b[0m\u001b[0;34m.\u001b[0m\u001b[0mtoday\u001b[0m\u001b[0;34m(\u001b[0m\u001b[0;34m)\u001b[0m\u001b[0;34m\u001b[0m\u001b[0m\n\u001b[0;32m----> 2\u001b[0;31m \u001b[0mfwrite\u001b[0m\u001b[0;34m(\u001b[0m\u001b[0;34m'data_ins_log.txt'\u001b[0m\u001b[0;34m,\u001b[0m \u001b[0;34m(\u001b[0m\u001b[0;34m'%s #%d'\u001b[0m \u001b[0;34m%\u001b[0m \u001b[0;34m(\u001b[0m\u001b[0md\u001b[0m\u001b[0;34m.\u001b[0m\u001b[0mstrftime\u001b[0m\u001b[0;34m(\u001b[0m\u001b[0;34m\"%x %X\"\u001b[0m\u001b[0;34m)\u001b[0m\u001b[0;34m,\u001b[0m \u001b[0mdata_num\u001b[0m\u001b[0;34m)\u001b[0m\u001b[0;34m)\u001b[0m\u001b[0;34m.\u001b[0m\u001b[0mencode\u001b[0m\u001b[0;34m(\u001b[0m\u001b[0;34m'utf-8'\u001b[0m\u001b[0;34m)\u001b[0m\u001b[0;34m)\u001b[0m\u001b[0;34m\u001b[0m\u001b[0m\n\u001b[0m",
      "\u001b[0;31mUnicodeDecodeError\u001b[0m: 'ascii' codec can't decode byte 0xe5 in position 4: ordinal not in range(128)"
     ]
    }
   ],
   "source": []
  }
 ],
 "metadata": {
  "kernelspec": {
   "display_name": "Python 3",
   "language": "python",
   "name": "python3"
  },
  "language_info": {
   "codemirror_mode": {
    "name": "ipython",
    "version": 3
   },
   "file_extension": ".py",
   "mimetype": "text/x-python",
   "name": "python",
   "nbconvert_exporter": "python",
   "pygments_lexer": "ipython3",
   "version": "3.4.2"
  }
 },
 "nbformat": 4,
 "nbformat_minor": 1
}
